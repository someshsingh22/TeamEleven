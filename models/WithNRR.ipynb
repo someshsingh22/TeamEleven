{
 "cells": [
  {
   "cell_type": "code",
   "execution_count": 1,
   "metadata": {},
   "outputs": [],
   "source": [
    "import pandas as pd\n",
    "import matplotlib.pyplot as plt\n",
    "import numpy as np\n",
    "import sklearn\n",
    "import json\n",
    "import datetime"
   ]
  },
  {
   "cell_type": "code",
   "execution_count": 2,
   "metadata": {},
   "outputs": [],
   "source": [
    "import sklearn\n",
    "from sklearn.preprocessing import LabelEncoder,OneHotEncoder\n",
    "from sklearn.model_selection import train_test_split\n",
    "from sklearn.linear_model import LinearRegression\n",
    "from sklearn.preprocessing import PolynomialFeatures\n",
    "from sklearn.model_selection import cross_val_score\n",
    "from sklearn.tree import DecisionTreeRegressor\n",
    "from sklearn.linear_model import LassoCV\n",
    "from sklearn.ensemble import RandomForestRegressor\n",
    "from sklearn.metrics import accuracy_score\n",
    "import matplotlib.pyplot as plt\n",
    "from sklearn.preprocessing import StandardScaler"
   ]
  },
  {
   "cell_type": "code",
   "execution_count": null,
   "metadata": {},
   "outputs": [],
   "source": []
  },
  {
   "cell_type": "markdown",
   "metadata": {},
   "source": [
    "### Import Data"
   ]
  },
  {
   "cell_type": "code",
   "execution_count": 3,
   "metadata": {},
   "outputs": [
    {
     "data": {
      "text/html": [
       "<div>\n",
       "<style scoped>\n",
       "    .dataframe tbody tr th:only-of-type {\n",
       "        vertical-align: middle;\n",
       "    }\n",
       "\n",
       "    .dataframe tbody tr th {\n",
       "        vertical-align: top;\n",
       "    }\n",
       "\n",
       "    .dataframe thead th {\n",
       "        text-align: right;\n",
       "    }\n",
       "</style>\n",
       "<table border=\"1\" class=\"dataframe\">\n",
       "  <thead>\n",
       "    <tr style=\"text-align: right;\">\n",
       "      <th></th>\n",
       "      <th>Date</th>\n",
       "      <th>Team_1</th>\n",
       "      <th>Team_2</th>\n",
       "      <th>Venue</th>\n",
       "      <th>MatchCode</th>\n",
       "      <th>GroundCode</th>\n",
       "    </tr>\n",
       "  </thead>\n",
       "  <tbody>\n",
       "    <tr>\n",
       "      <th>0</th>\n",
       "      <td>2015-03-04</td>\n",
       "      <td>AFG</td>\n",
       "      <td>AUS</td>\n",
       "      <td>Away</td>\n",
       "      <td>3773</td>\n",
       "      <td>65</td>\n",
       "    </tr>\n",
       "    <tr>\n",
       "      <th>1</th>\n",
       "      <td>2012-08-25</td>\n",
       "      <td>AFG</td>\n",
       "      <td>AUS</td>\n",
       "      <td>Neutral</td>\n",
       "      <td>3437</td>\n",
       "      <td>156</td>\n",
       "    </tr>\n",
       "    <tr>\n",
       "      <th>2</th>\n",
       "      <td>2019-06-01</td>\n",
       "      <td>AFG</td>\n",
       "      <td>AUS</td>\n",
       "      <td>Neutral</td>\n",
       "      <td>4306</td>\n",
       "      <td>149</td>\n",
       "    </tr>\n",
       "    <tr>\n",
       "      <th>3</th>\n",
       "      <td>2014-03-01</td>\n",
       "      <td>AFG</td>\n",
       "      <td>BAN</td>\n",
       "      <td>Away</td>\n",
       "      <td>3623</td>\n",
       "      <td>190</td>\n",
       "    </tr>\n",
       "    <tr>\n",
       "      <th>4</th>\n",
       "      <td>2016-09-25</td>\n",
       "      <td>AFG</td>\n",
       "      <td>BAN</td>\n",
       "      <td>Away</td>\n",
       "      <td>3936</td>\n",
       "      <td>198</td>\n",
       "    </tr>\n",
       "  </tbody>\n",
       "</table>\n",
       "</div>"
      ],
      "text/plain": [
       "         Date Team_1 Team_2    Venue  MatchCode  GroundCode\n",
       "0  2015-03-04    AFG    AUS     Away       3773          65\n",
       "1  2012-08-25    AFG    AUS  Neutral       3437         156\n",
       "2  2019-06-01    AFG    AUS  Neutral       4306         149\n",
       "3  2014-03-01    AFG    BAN     Away       3623         190\n",
       "4  2016-09-25    AFG    BAN     Away       3936         198"
      ]
     },
     "execution_count": 3,
     "metadata": {},
     "output_type": "execute_result"
    }
   ],
   "source": [
    "matches = pd.read_csv(\"../Data/matches.csv\")\n",
    "matches.head()"
   ]
  },
  {
   "cell_type": "code",
   "execution_count": 4,
   "metadata": {},
   "outputs": [
    {
     "data": {
      "text/html": [
       "<div>\n",
       "<style scoped>\n",
       "    .dataframe tbody tr th:only-of-type {\n",
       "        vertical-align: middle;\n",
       "    }\n",
       "\n",
       "    .dataframe tbody tr th {\n",
       "        vertical-align: top;\n",
       "    }\n",
       "\n",
       "    .dataframe thead th {\n",
       "        text-align: right;\n",
       "    }\n",
       "</style>\n",
       "<table border=\"1\" class=\"dataframe\">\n",
       "  <thead>\n",
       "    <tr style=\"text-align: right;\">\n",
       "      <th></th>\n",
       "      <th>Full Name</th>\n",
       "      <th>Born</th>\n",
       "      <th>Bats</th>\n",
       "      <th>Bowls</th>\n",
       "      <th>Code</th>\n",
       "    </tr>\n",
       "  </thead>\n",
       "  <tbody>\n",
       "    <tr>\n",
       "      <th>0</th>\n",
       "      <td>David A Warner</td>\n",
       "      <td>1986-10-27</td>\n",
       "      <td>Left Handed</td>\n",
       "      <td>Right Arm Leg Break</td>\n",
       "      <td>3637</td>\n",
       "    </tr>\n",
       "    <tr>\n",
       "      <th>1</th>\n",
       "      <td>Aaron James Finch</td>\n",
       "      <td>1986-11-17</td>\n",
       "      <td>Right Handed</td>\n",
       "      <td>Left Arm Orthodox</td>\n",
       "      <td>3845</td>\n",
       "    </tr>\n",
       "    <tr>\n",
       "      <th>2</th>\n",
       "      <td>Steven Peter Devereux Smith</td>\n",
       "      <td>1989-02-06</td>\n",
       "      <td>Right Handed</td>\n",
       "      <td>Right Arm Leg Break</td>\n",
       "      <td>3756</td>\n",
       "    </tr>\n",
       "    <tr>\n",
       "      <th>3</th>\n",
       "      <td>Glenn James Maxwell</td>\n",
       "      <td>1988-10-14</td>\n",
       "      <td>Right Handed</td>\n",
       "      <td>Right Arm Off Break</td>\n",
       "      <td>3969</td>\n",
       "    </tr>\n",
       "    <tr>\n",
       "      <th>4</th>\n",
       "      <td>James Peter Faulkner</td>\n",
       "      <td>1990-04-29</td>\n",
       "      <td>Right Handed</td>\n",
       "      <td>Left Arm Medium</td>\n",
       "      <td>3930</td>\n",
       "    </tr>\n",
       "  </tbody>\n",
       "</table>\n",
       "</div>"
      ],
      "text/plain": [
       "                     Full Name        Born          Bats                Bowls  \\\n",
       "0               David A Warner  1986-10-27   Left Handed  Right Arm Leg Break   \n",
       "1            Aaron James Finch  1986-11-17  Right Handed    Left Arm Orthodox   \n",
       "2  Steven Peter Devereux Smith  1989-02-06  Right Handed  Right Arm Leg Break   \n",
       "3          Glenn James Maxwell  1988-10-14  Right Handed  Right Arm Off Break   \n",
       "4         James Peter Faulkner  1990-04-29  Right Handed      Left Arm Medium   \n",
       "\n",
       "   Code  \n",
       "0  3637  \n",
       "1  3845  \n",
       "2  3756  \n",
       "3  3969  \n",
       "4  3930  "
      ]
     },
     "execution_count": 4,
     "metadata": {},
     "output_type": "execute_result"
    }
   ],
   "source": [
    "attributes = pd.read_csv(\"../Data/attributes.csv\")\n",
    "attributes.head()"
   ]
  },
  {
   "cell_type": "code",
   "execution_count": 5,
   "metadata": {},
   "outputs": [],
   "source": [
    "scorecard = open('../Data/scorecard.json',) \n",
    "scorecard_data = json.load(scorecard)"
   ]
  },
  {
   "cell_type": "code",
   "execution_count": 6,
   "metadata": {},
   "outputs": [],
   "source": [
    "tmap = open('../Data/tmap.json',) \n",
    "tmap_data = json.load(tmap)"
   ]
  },
  {
   "cell_type": "code",
   "execution_count": null,
   "metadata": {},
   "outputs": [],
   "source": []
  },
  {
   "cell_type": "markdown",
   "metadata": {},
   "source": [
    "### Get NRR"
   ]
  },
  {
   "cell_type": "code",
   "execution_count": 7,
   "metadata": {},
   "outputs": [],
   "source": [
    "def get_score(matches_data, scorecard_data):\n",
    "    \n",
    "    matches_data['Toss']=''\n",
    "    matches_data['Score_team1']=''\n",
    "    matches_data['Score_team2']=''\n",
    "    \n",
    "    matches_data['Result']=''\n",
    "    \n",
    "    rem=[]\n",
    "    \n",
    "    for i in range(len(matches_data)):\n",
    "        \n",
    "        try:\n",
    "            score=scorecard_data[str(matches_data['MatchCode'].iloc[i])]['SCORES']\n",
    "            \n",
    "            if(score[0]>score[1]):\n",
    "                matches_data['Result'].iloc[i]=1\n",
    "            elif(score[1]>score[0]):\n",
    "                matches_data['Result'].iloc[i]=2\n",
    "            else:\n",
    "                matches_data['Result'].iloc[i]=3\n",
    "            \n",
    "            matches_data['Score_team1'].iloc[i]=score[0]\n",
    "            matches_data['Score_team2'].iloc[i]=score[1]\n",
    "            \n",
    "            toss = tmap_data[scorecard_data[str(matches_data['MatchCode'].iloc[i])]['TOSS']]\n",
    "            \n",
    "            if(toss==matches_data['Team_1'].iloc[i]):\n",
    "                matches_data['Toss'].iloc[i]=1\n",
    "            else:\n",
    "                matches_data['Toss'].iloc[i]=2\n",
    "            \n",
    "        except:\n",
    "            rem.append(i)\n",
    "    \n",
    "    #print(rem)\n",
    "    matches_data.drop(rem, inplace = True)    \n",
    "    return matches_data "
   ]
  },
  {
   "cell_type": "code",
   "execution_count": 8,
   "metadata": {},
   "outputs": [],
   "source": [
    "def check_allOut(scorecard_data, matchCode, team_num):\n",
    "    \n",
    "    bat = 'BATTING' + str(team_num)\n",
    "    \n",
    "    dismissal = [i[1] for i in scorecard_data[matchCode][bat]]\n",
    "    \n",
    "    if(\"not out\" in dismissal or '' in dismissal):\n",
    "        return False\n",
    "    \n",
    "    return True\n",
    "    "
   ]
  },
  {
   "cell_type": "code",
   "execution_count": 9,
   "metadata": {},
   "outputs": [],
   "source": [
    "def get_totalOvers(scorecard_data, matchCode, team_num):\n",
    "    \n",
    "    bat = 'BATTING' + str(team_num)\n",
    "    \n",
    "    balls = [i[3] for i in scorecard_data[matchCode][bat] if i[3]!=-1 ]\n",
    "    \n",
    "    overs = sum(balls)/6\n",
    "    return overs"
   ]
  },
  {
   "cell_type": "code",
   "execution_count": 10,
   "metadata": {},
   "outputs": [],
   "source": [
    "def get_NRR(match, scorecard_data):\n",
    "    match['NRR_team1']=''\n",
    "    match['NRR_team2']=''\n",
    "\n",
    "\n",
    "    for i in range(len(match)):\n",
    "        match_code = str(match['MatchCode'].iloc[i])\n",
    "        score=scorecard_data[match_code]['SCORES']\n",
    "        \n",
    "        if(match['Result'].iloc[i]==0):\n",
    "            match['NRR_team1'].iloc[i]=0\n",
    "            match['NRR_team2'].iloc[i]=0\n",
    "            \n",
    "        else:\n",
    "            runRate_team1=score[0]/50\n",
    "\n",
    "            if(check_allOut(scorecard_data,match_code,2)):\n",
    "                runRate_team2=score[1]/50\n",
    "            else:\n",
    "                if(match['Result'].iloc[i]==2):\n",
    "                    runRate_team2=score[1]/get_totalOvers(scorecard_data, match_code, 2)\n",
    "                else:\n",
    "                    runRate_team2=score[1]/50\n",
    "\n",
    "            #print(runRate_team1 - runRate_team2)\n",
    "            match['NRR_team1'].iloc[i]= runRate_team1 - runRate_team2\n",
    "            match['NRR_team2'].iloc[i]= runRate_team2 - runRate_team1\n",
    "        \n",
    "    return match\n",
    "    "
   ]
  },
  {
   "cell_type": "code",
   "execution_count": null,
   "metadata": {},
   "outputs": [],
   "source": []
  },
  {
   "cell_type": "code",
   "execution_count": 11,
   "metadata": {},
   "outputs": [
    {
     "name": "stderr",
     "output_type": "stream",
     "text": [
      "/opt/anaconda3/lib/python3.8/site-packages/pandas/core/indexing.py:670: SettingWithCopyWarning: \n",
      "A value is trying to be set on a copy of a slice from a DataFrame\n",
      "\n",
      "See the caveats in the documentation: https://pandas.pydata.org/pandas-docs/stable/user_guide/indexing.html#returning-a-view-versus-a-copy\n",
      "  iloc._setitem_with_indexer(indexer, value)\n"
     ]
    }
   ],
   "source": [
    "matches_data = get_score(matches,scorecard_data)\n",
    "matches_data = get_NRR(matches_data,scorecard_data)"
   ]
  },
  {
   "cell_type": "code",
   "execution_count": 12,
   "metadata": {},
   "outputs": [
    {
     "data": {
      "text/html": [
       "<div>\n",
       "<style scoped>\n",
       "    .dataframe tbody tr th:only-of-type {\n",
       "        vertical-align: middle;\n",
       "    }\n",
       "\n",
       "    .dataframe tbody tr th {\n",
       "        vertical-align: top;\n",
       "    }\n",
       "\n",
       "    .dataframe thead th {\n",
       "        text-align: right;\n",
       "    }\n",
       "</style>\n",
       "<table border=\"1\" class=\"dataframe\">\n",
       "  <thead>\n",
       "    <tr style=\"text-align: right;\">\n",
       "      <th></th>\n",
       "      <th>Date</th>\n",
       "      <th>Team_1</th>\n",
       "      <th>Team_2</th>\n",
       "      <th>Venue</th>\n",
       "      <th>MatchCode</th>\n",
       "      <th>GroundCode</th>\n",
       "      <th>Toss</th>\n",
       "      <th>Score_team1</th>\n",
       "      <th>Score_team2</th>\n",
       "      <th>Result</th>\n",
       "      <th>NRR_team1</th>\n",
       "      <th>NRR_team2</th>\n",
       "    </tr>\n",
       "  </thead>\n",
       "  <tbody>\n",
       "    <tr>\n",
       "      <th>0</th>\n",
       "      <td>2015-03-04</td>\n",
       "      <td>AFG</td>\n",
       "      <td>AUS</td>\n",
       "      <td>Away</td>\n",
       "      <td>3773</td>\n",
       "      <td>65</td>\n",
       "      <td>1</td>\n",
       "      <td>417</td>\n",
       "      <td>142</td>\n",
       "      <td>1</td>\n",
       "      <td>5.5</td>\n",
       "      <td>-5.5</td>\n",
       "    </tr>\n",
       "    <tr>\n",
       "      <th>1</th>\n",
       "      <td>2012-08-25</td>\n",
       "      <td>AFG</td>\n",
       "      <td>AUS</td>\n",
       "      <td>Neutral</td>\n",
       "      <td>3437</td>\n",
       "      <td>156</td>\n",
       "      <td>2</td>\n",
       "      <td>272</td>\n",
       "      <td>206</td>\n",
       "      <td>1</td>\n",
       "      <td>1.32</td>\n",
       "      <td>-1.32</td>\n",
       "    </tr>\n",
       "    <tr>\n",
       "      <th>2</th>\n",
       "      <td>2019-06-01</td>\n",
       "      <td>AFG</td>\n",
       "      <td>AUS</td>\n",
       "      <td>Neutral</td>\n",
       "      <td>4306</td>\n",
       "      <td>149</td>\n",
       "      <td>1</td>\n",
       "      <td>207</td>\n",
       "      <td>209</td>\n",
       "      <td>2</td>\n",
       "      <td>-1.80313</td>\n",
       "      <td>1.80313</td>\n",
       "    </tr>\n",
       "    <tr>\n",
       "      <th>3</th>\n",
       "      <td>2014-03-01</td>\n",
       "      <td>AFG</td>\n",
       "      <td>BAN</td>\n",
       "      <td>Away</td>\n",
       "      <td>3623</td>\n",
       "      <td>190</td>\n",
       "      <td>2</td>\n",
       "      <td>254</td>\n",
       "      <td>222</td>\n",
       "      <td>1</td>\n",
       "      <td>0.64</td>\n",
       "      <td>-0.64</td>\n",
       "    </tr>\n",
       "    <tr>\n",
       "      <th>4</th>\n",
       "      <td>2016-09-25</td>\n",
       "      <td>AFG</td>\n",
       "      <td>BAN</td>\n",
       "      <td>Away</td>\n",
       "      <td>3936</td>\n",
       "      <td>198</td>\n",
       "      <td>2</td>\n",
       "      <td>265</td>\n",
       "      <td>258</td>\n",
       "      <td>1</td>\n",
       "      <td>0.14</td>\n",
       "      <td>-0.14</td>\n",
       "    </tr>\n",
       "  </tbody>\n",
       "</table>\n",
       "</div>"
      ],
      "text/plain": [
       "         Date Team_1 Team_2    Venue  MatchCode  GroundCode Toss Score_team1  \\\n",
       "0  2015-03-04    AFG    AUS     Away       3773          65    1         417   \n",
       "1  2012-08-25    AFG    AUS  Neutral       3437         156    2         272   \n",
       "2  2019-06-01    AFG    AUS  Neutral       4306         149    1         207   \n",
       "3  2014-03-01    AFG    BAN     Away       3623         190    2         254   \n",
       "4  2016-09-25    AFG    BAN     Away       3936         198    2         265   \n",
       "\n",
       "  Score_team2 Result NRR_team1 NRR_team2  \n",
       "0         142      1       5.5      -5.5  \n",
       "1         206      1      1.32     -1.32  \n",
       "2         209      2  -1.80313   1.80313  \n",
       "3         222      1      0.64     -0.64  \n",
       "4         258      1      0.14     -0.14  "
      ]
     },
     "execution_count": 12,
     "metadata": {},
     "output_type": "execute_result"
    }
   ],
   "source": [
    "matches_data.head()"
   ]
  },
  {
   "cell_type": "code",
   "execution_count": null,
   "metadata": {},
   "outputs": [],
   "source": []
  },
  {
   "cell_type": "code",
   "execution_count": null,
   "metadata": {},
   "outputs": [],
   "source": []
  },
  {
   "cell_type": "markdown",
   "metadata": {},
   "source": [
    "### Model with NRR"
   ]
  },
  {
   "cell_type": "code",
   "execution_count": 13,
   "metadata": {},
   "outputs": [],
   "source": [
    "enc = OneHotEncoder(handle_unknown='ignore')"
   ]
  },
  {
   "cell_type": "code",
   "execution_count": 14,
   "metadata": {},
   "outputs": [],
   "source": [
    "enc_df = pd.DataFrame(enc.fit_transform(matches_data[['Result','Toss']]).toarray())"
   ]
  },
  {
   "cell_type": "code",
   "execution_count": 15,
   "metadata": {},
   "outputs": [
    {
     "data": {
      "text/html": [
       "<div>\n",
       "<style scoped>\n",
       "    .dataframe tbody tr th:only-of-type {\n",
       "        vertical-align: middle;\n",
       "    }\n",
       "\n",
       "    .dataframe tbody tr th {\n",
       "        vertical-align: top;\n",
       "    }\n",
       "\n",
       "    .dataframe thead th {\n",
       "        text-align: right;\n",
       "    }\n",
       "</style>\n",
       "<table border=\"1\" class=\"dataframe\">\n",
       "  <thead>\n",
       "    <tr style=\"text-align: right;\">\n",
       "      <th></th>\n",
       "      <th>Date</th>\n",
       "      <th>Team_1</th>\n",
       "      <th>Team_2</th>\n",
       "      <th>Venue</th>\n",
       "      <th>MatchCode</th>\n",
       "      <th>GroundCode</th>\n",
       "      <th>Toss</th>\n",
       "      <th>Score_team1</th>\n",
       "      <th>Score_team2</th>\n",
       "      <th>Result</th>\n",
       "      <th>NRR_team1</th>\n",
       "      <th>NRR_team2</th>\n",
       "      <th>0</th>\n",
       "      <th>1</th>\n",
       "      <th>2</th>\n",
       "      <th>3</th>\n",
       "      <th>4</th>\n",
       "    </tr>\n",
       "  </thead>\n",
       "  <tbody>\n",
       "    <tr>\n",
       "      <th>0</th>\n",
       "      <td>2015-03-04</td>\n",
       "      <td>AFG</td>\n",
       "      <td>AUS</td>\n",
       "      <td>Away</td>\n",
       "      <td>3773</td>\n",
       "      <td>65</td>\n",
       "      <td>1</td>\n",
       "      <td>417</td>\n",
       "      <td>142</td>\n",
       "      <td>1</td>\n",
       "      <td>5.5</td>\n",
       "      <td>-5.5</td>\n",
       "      <td>1.0</td>\n",
       "      <td>0.0</td>\n",
       "      <td>0.0</td>\n",
       "      <td>1.0</td>\n",
       "      <td>0.0</td>\n",
       "    </tr>\n",
       "    <tr>\n",
       "      <th>1</th>\n",
       "      <td>2012-08-25</td>\n",
       "      <td>AFG</td>\n",
       "      <td>AUS</td>\n",
       "      <td>Neutral</td>\n",
       "      <td>3437</td>\n",
       "      <td>156</td>\n",
       "      <td>2</td>\n",
       "      <td>272</td>\n",
       "      <td>206</td>\n",
       "      <td>1</td>\n",
       "      <td>1.32</td>\n",
       "      <td>-1.32</td>\n",
       "      <td>1.0</td>\n",
       "      <td>0.0</td>\n",
       "      <td>0.0</td>\n",
       "      <td>0.0</td>\n",
       "      <td>1.0</td>\n",
       "    </tr>\n",
       "    <tr>\n",
       "      <th>2</th>\n",
       "      <td>2019-06-01</td>\n",
       "      <td>AFG</td>\n",
       "      <td>AUS</td>\n",
       "      <td>Neutral</td>\n",
       "      <td>4306</td>\n",
       "      <td>149</td>\n",
       "      <td>1</td>\n",
       "      <td>207</td>\n",
       "      <td>209</td>\n",
       "      <td>2</td>\n",
       "      <td>-1.80313</td>\n",
       "      <td>1.80313</td>\n",
       "      <td>0.0</td>\n",
       "      <td>1.0</td>\n",
       "      <td>0.0</td>\n",
       "      <td>1.0</td>\n",
       "      <td>0.0</td>\n",
       "    </tr>\n",
       "    <tr>\n",
       "      <th>3</th>\n",
       "      <td>2014-03-01</td>\n",
       "      <td>AFG</td>\n",
       "      <td>BAN</td>\n",
       "      <td>Away</td>\n",
       "      <td>3623</td>\n",
       "      <td>190</td>\n",
       "      <td>2</td>\n",
       "      <td>254</td>\n",
       "      <td>222</td>\n",
       "      <td>1</td>\n",
       "      <td>0.64</td>\n",
       "      <td>-0.64</td>\n",
       "      <td>1.0</td>\n",
       "      <td>0.0</td>\n",
       "      <td>0.0</td>\n",
       "      <td>0.0</td>\n",
       "      <td>1.0</td>\n",
       "    </tr>\n",
       "    <tr>\n",
       "      <th>4</th>\n",
       "      <td>2016-09-25</td>\n",
       "      <td>AFG</td>\n",
       "      <td>BAN</td>\n",
       "      <td>Away</td>\n",
       "      <td>3936</td>\n",
       "      <td>198</td>\n",
       "      <td>2</td>\n",
       "      <td>265</td>\n",
       "      <td>258</td>\n",
       "      <td>1</td>\n",
       "      <td>0.14</td>\n",
       "      <td>-0.14</td>\n",
       "      <td>1.0</td>\n",
       "      <td>0.0</td>\n",
       "      <td>0.0</td>\n",
       "      <td>0.0</td>\n",
       "      <td>1.0</td>\n",
       "    </tr>\n",
       "  </tbody>\n",
       "</table>\n",
       "</div>"
      ],
      "text/plain": [
       "         Date Team_1 Team_2    Venue  MatchCode  GroundCode Toss Score_team1  \\\n",
       "0  2015-03-04    AFG    AUS     Away       3773          65    1         417   \n",
       "1  2012-08-25    AFG    AUS  Neutral       3437         156    2         272   \n",
       "2  2019-06-01    AFG    AUS  Neutral       4306         149    1         207   \n",
       "3  2014-03-01    AFG    BAN     Away       3623         190    2         254   \n",
       "4  2016-09-25    AFG    BAN     Away       3936         198    2         265   \n",
       "\n",
       "  Score_team2 Result NRR_team1 NRR_team2    0    1    2    3    4  \n",
       "0         142      1       5.5      -5.5  1.0  0.0  0.0  1.0  0.0  \n",
       "1         206      1      1.32     -1.32  1.0  0.0  0.0  0.0  1.0  \n",
       "2         209      2  -1.80313   1.80313  0.0  1.0  0.0  1.0  0.0  \n",
       "3         222      1      0.64     -0.64  1.0  0.0  0.0  0.0  1.0  \n",
       "4         258      1      0.14     -0.14  1.0  0.0  0.0  0.0  1.0  "
      ]
     },
     "execution_count": 15,
     "metadata": {},
     "output_type": "execute_result"
    }
   ],
   "source": [
    "matches_data = matches_data.join(enc_df)\n",
    "matches_data.head()"
   ]
  },
  {
   "cell_type": "code",
   "execution_count": 16,
   "metadata": {},
   "outputs": [],
   "source": [
    "matches_data.rename(columns = {0: 'Win1',1: 'Win2',2: 'Tie', 3: 'Toss1',4: 'Toss2'}, inplace = True)\n"
   ]
  },
  {
   "cell_type": "code",
   "execution_count": 17,
   "metadata": {},
   "outputs": [],
   "source": [
    "labelencoder = LabelEncoder()\n",
    "\n",
    "matches_data['Team_1Enc'] = labelencoder.fit_transform(matches_data['Team_1'])\n",
    "matches_data['Team_2Enc'] = labelencoder.fit_transform(matches_data['Team_2'])"
   ]
  },
  {
   "cell_type": "code",
   "execution_count": 18,
   "metadata": {},
   "outputs": [],
   "source": [
    "venue_encoding = {\n",
    "    \n",
    "    \"Home\" : 0,\n",
    "    \"Away\" : 1,\n",
    "    \"Neutral\" : 2\n",
    "}"
   ]
  },
  {
   "cell_type": "code",
   "execution_count": 19,
   "metadata": {},
   "outputs": [],
   "source": [
    "matches_data.replace({'Venue':venue_encoding}, inplace=True)"
   ]
  },
  {
   "cell_type": "code",
   "execution_count": 20,
   "metadata": {},
   "outputs": [
    {
     "data": {
      "text/html": [
       "<div>\n",
       "<style scoped>\n",
       "    .dataframe tbody tr th:only-of-type {\n",
       "        vertical-align: middle;\n",
       "    }\n",
       "\n",
       "    .dataframe tbody tr th {\n",
       "        vertical-align: top;\n",
       "    }\n",
       "\n",
       "    .dataframe thead th {\n",
       "        text-align: right;\n",
       "    }\n",
       "</style>\n",
       "<table border=\"1\" class=\"dataframe\">\n",
       "  <thead>\n",
       "    <tr style=\"text-align: right;\">\n",
       "      <th></th>\n",
       "      <th>Date</th>\n",
       "      <th>Team_1</th>\n",
       "      <th>Team_2</th>\n",
       "      <th>Venue</th>\n",
       "      <th>MatchCode</th>\n",
       "      <th>GroundCode</th>\n",
       "      <th>Toss</th>\n",
       "      <th>Score_team1</th>\n",
       "      <th>Score_team2</th>\n",
       "      <th>Result</th>\n",
       "      <th>NRR_team1</th>\n",
       "      <th>NRR_team2</th>\n",
       "      <th>Win1</th>\n",
       "      <th>Win2</th>\n",
       "      <th>Tie</th>\n",
       "      <th>Toss1</th>\n",
       "      <th>Toss2</th>\n",
       "      <th>Team_1Enc</th>\n",
       "      <th>Team_2Enc</th>\n",
       "    </tr>\n",
       "  </thead>\n",
       "  <tbody>\n",
       "    <tr>\n",
       "      <th>0</th>\n",
       "      <td>2015-03-04</td>\n",
       "      <td>AFG</td>\n",
       "      <td>AUS</td>\n",
       "      <td>1</td>\n",
       "      <td>3773</td>\n",
       "      <td>65</td>\n",
       "      <td>1</td>\n",
       "      <td>417</td>\n",
       "      <td>142</td>\n",
       "      <td>1</td>\n",
       "      <td>5.5</td>\n",
       "      <td>-5.5</td>\n",
       "      <td>1.0</td>\n",
       "      <td>0.0</td>\n",
       "      <td>0.0</td>\n",
       "      <td>1.0</td>\n",
       "      <td>0.0</td>\n",
       "      <td>0</td>\n",
       "      <td>0</td>\n",
       "    </tr>\n",
       "    <tr>\n",
       "      <th>1</th>\n",
       "      <td>2012-08-25</td>\n",
       "      <td>AFG</td>\n",
       "      <td>AUS</td>\n",
       "      <td>2</td>\n",
       "      <td>3437</td>\n",
       "      <td>156</td>\n",
       "      <td>2</td>\n",
       "      <td>272</td>\n",
       "      <td>206</td>\n",
       "      <td>1</td>\n",
       "      <td>1.32</td>\n",
       "      <td>-1.32</td>\n",
       "      <td>1.0</td>\n",
       "      <td>0.0</td>\n",
       "      <td>0.0</td>\n",
       "      <td>0.0</td>\n",
       "      <td>1.0</td>\n",
       "      <td>0</td>\n",
       "      <td>0</td>\n",
       "    </tr>\n",
       "    <tr>\n",
       "      <th>2</th>\n",
       "      <td>2019-06-01</td>\n",
       "      <td>AFG</td>\n",
       "      <td>AUS</td>\n",
       "      <td>2</td>\n",
       "      <td>4306</td>\n",
       "      <td>149</td>\n",
       "      <td>1</td>\n",
       "      <td>207</td>\n",
       "      <td>209</td>\n",
       "      <td>2</td>\n",
       "      <td>-1.80313</td>\n",
       "      <td>1.80313</td>\n",
       "      <td>0.0</td>\n",
       "      <td>1.0</td>\n",
       "      <td>0.0</td>\n",
       "      <td>1.0</td>\n",
       "      <td>0.0</td>\n",
       "      <td>0</td>\n",
       "      <td>0</td>\n",
       "    </tr>\n",
       "    <tr>\n",
       "      <th>3</th>\n",
       "      <td>2014-03-01</td>\n",
       "      <td>AFG</td>\n",
       "      <td>BAN</td>\n",
       "      <td>1</td>\n",
       "      <td>3623</td>\n",
       "      <td>190</td>\n",
       "      <td>2</td>\n",
       "      <td>254</td>\n",
       "      <td>222</td>\n",
       "      <td>1</td>\n",
       "      <td>0.64</td>\n",
       "      <td>-0.64</td>\n",
       "      <td>1.0</td>\n",
       "      <td>0.0</td>\n",
       "      <td>0.0</td>\n",
       "      <td>0.0</td>\n",
       "      <td>1.0</td>\n",
       "      <td>0</td>\n",
       "      <td>1</td>\n",
       "    </tr>\n",
       "    <tr>\n",
       "      <th>4</th>\n",
       "      <td>2016-09-25</td>\n",
       "      <td>AFG</td>\n",
       "      <td>BAN</td>\n",
       "      <td>1</td>\n",
       "      <td>3936</td>\n",
       "      <td>198</td>\n",
       "      <td>2</td>\n",
       "      <td>265</td>\n",
       "      <td>258</td>\n",
       "      <td>1</td>\n",
       "      <td>0.14</td>\n",
       "      <td>-0.14</td>\n",
       "      <td>1.0</td>\n",
       "      <td>0.0</td>\n",
       "      <td>0.0</td>\n",
       "      <td>0.0</td>\n",
       "      <td>1.0</td>\n",
       "      <td>0</td>\n",
       "      <td>1</td>\n",
       "    </tr>\n",
       "  </tbody>\n",
       "</table>\n",
       "</div>"
      ],
      "text/plain": [
       "         Date Team_1 Team_2  Venue  MatchCode  GroundCode Toss Score_team1  \\\n",
       "0  2015-03-04    AFG    AUS      1       3773          65    1         417   \n",
       "1  2012-08-25    AFG    AUS      2       3437         156    2         272   \n",
       "2  2019-06-01    AFG    AUS      2       4306         149    1         207   \n",
       "3  2014-03-01    AFG    BAN      1       3623         190    2         254   \n",
       "4  2016-09-25    AFG    BAN      1       3936         198    2         265   \n",
       "\n",
       "  Score_team2 Result NRR_team1 NRR_team2  Win1  Win2  Tie  Toss1  Toss2  \\\n",
       "0         142      1       5.5      -5.5   1.0   0.0  0.0    1.0    0.0   \n",
       "1         206      1      1.32     -1.32   1.0   0.0  0.0    0.0    1.0   \n",
       "2         209      2  -1.80313   1.80313   0.0   1.0  0.0    1.0    0.0   \n",
       "3         222      1      0.64     -0.64   1.0   0.0  0.0    0.0    1.0   \n",
       "4         258      1      0.14     -0.14   1.0   0.0  0.0    0.0    1.0   \n",
       "\n",
       "   Team_1Enc  Team_2Enc  \n",
       "0          0          0  \n",
       "1          0          0  \n",
       "2          0          0  \n",
       "3          0          1  \n",
       "4          0          1  "
      ]
     },
     "execution_count": 20,
     "metadata": {},
     "output_type": "execute_result"
    }
   ],
   "source": [
    "matches_data.head()"
   ]
  },
  {
   "cell_type": "code",
   "execution_count": 21,
   "metadata": {},
   "outputs": [],
   "source": [
    "X = matches_data[['Date','Team_1Enc','Team_2Enc','Venue','GroundCode','Toss','Toss1','Toss2']].copy()\n",
    "y = matches_data[['Result','Win1','Win2','Tie','NRR_team1']]"
   ]
  },
  {
   "cell_type": "code",
   "execution_count": 22,
   "metadata": {},
   "outputs": [],
   "source": [
    "# Test Train Split\n",
    "X_train, X_test, y_train, y_test = train_test_split(X, y, test_size = 1/5, random_state = 100)"
   ]
  },
  {
   "cell_type": "code",
   "execution_count": 23,
   "metadata": {},
   "outputs": [
    {
     "data": {
      "text/html": [
       "<div>\n",
       "<style scoped>\n",
       "    .dataframe tbody tr th:only-of-type {\n",
       "        vertical-align: middle;\n",
       "    }\n",
       "\n",
       "    .dataframe tbody tr th {\n",
       "        vertical-align: top;\n",
       "    }\n",
       "\n",
       "    .dataframe thead th {\n",
       "        text-align: right;\n",
       "    }\n",
       "</style>\n",
       "<table border=\"1\" class=\"dataframe\">\n",
       "  <thead>\n",
       "    <tr style=\"text-align: right;\">\n",
       "      <th></th>\n",
       "      <th>Date</th>\n",
       "      <th>Team_1Enc</th>\n",
       "      <th>Team_2Enc</th>\n",
       "      <th>Venue</th>\n",
       "      <th>GroundCode</th>\n",
       "      <th>Toss</th>\n",
       "      <th>Toss1</th>\n",
       "      <th>Toss2</th>\n",
       "    </tr>\n",
       "  </thead>\n",
       "  <tbody>\n",
       "    <tr>\n",
       "      <th>2347</th>\n",
       "      <td>1983-06-15</td>\n",
       "      <td>4</td>\n",
       "      <td>12</td>\n",
       "      <td>2</td>\n",
       "      <td>59</td>\n",
       "      <td>2</td>\n",
       "      <td>0.0</td>\n",
       "      <td>1.0</td>\n",
       "    </tr>\n",
       "    <tr>\n",
       "      <th>1398</th>\n",
       "      <td>1996-02-22</td>\n",
       "      <td>3</td>\n",
       "      <td>6</td>\n",
       "      <td>2</td>\n",
       "      <td>76</td>\n",
       "      <td>1</td>\n",
       "      <td>1.0</td>\n",
       "      <td>0.0</td>\n",
       "    </tr>\n",
       "    <tr>\n",
       "      <th>2100</th>\n",
       "      <td>1996-04-19</td>\n",
       "      <td>4</td>\n",
       "      <td>9</td>\n",
       "      <td>2</td>\n",
       "      <td>156</td>\n",
       "      <td>2</td>\n",
       "      <td>0.0</td>\n",
       "      <td>1.0</td>\n",
       "    </tr>\n",
       "    <tr>\n",
       "      <th>2563</th>\n",
       "      <td>2002-12-08</td>\n",
       "      <td>6</td>\n",
       "      <td>13</td>\n",
       "      <td>1</td>\n",
       "      <td>26</td>\n",
       "      <td>1</td>\n",
       "      <td>1.0</td>\n",
       "      <td>0.0</td>\n",
       "    </tr>\n",
       "    <tr>\n",
       "      <th>1520</th>\n",
       "      <td>2016-08-30</td>\n",
       "      <td>3</td>\n",
       "      <td>8</td>\n",
       "      <td>0</td>\n",
       "      <td>60</td>\n",
       "      <td>1</td>\n",
       "      <td>1.0</td>\n",
       "      <td>0.0</td>\n",
       "    </tr>\n",
       "  </tbody>\n",
       "</table>\n",
       "</div>"
      ],
      "text/plain": [
       "            Date  Team_1Enc  Team_2Enc  Venue  GroundCode Toss  Toss1  Toss2\n",
       "2347  1983-06-15          4         12      2          59    2    0.0    1.0\n",
       "1398  1996-02-22          3          6      2          76    1    1.0    0.0\n",
       "2100  1996-04-19          4          9      2         156    2    0.0    1.0\n",
       "2563  2002-12-08          6         13      1          26    1    1.0    0.0\n",
       "1520  2016-08-30          3          8      0          60    1    1.0    0.0"
      ]
     },
     "execution_count": 23,
     "metadata": {},
     "output_type": "execute_result"
    }
   ],
   "source": [
    "X_train.head()"
   ]
  },
  {
   "cell_type": "code",
   "execution_count": 24,
   "metadata": {},
   "outputs": [
    {
     "data": {
      "text/html": [
       "<div>\n",
       "<style scoped>\n",
       "    .dataframe tbody tr th:only-of-type {\n",
       "        vertical-align: middle;\n",
       "    }\n",
       "\n",
       "    .dataframe tbody tr th {\n",
       "        vertical-align: top;\n",
       "    }\n",
       "\n",
       "    .dataframe thead th {\n",
       "        text-align: right;\n",
       "    }\n",
       "</style>\n",
       "<table border=\"1\" class=\"dataframe\">\n",
       "  <thead>\n",
       "    <tr style=\"text-align: right;\">\n",
       "      <th></th>\n",
       "      <th>Result</th>\n",
       "      <th>Win1</th>\n",
       "      <th>Win2</th>\n",
       "      <th>Tie</th>\n",
       "      <th>NRR_team1</th>\n",
       "    </tr>\n",
       "  </thead>\n",
       "  <tbody>\n",
       "    <tr>\n",
       "      <th>2347</th>\n",
       "      <td>1</td>\n",
       "      <td>1.0</td>\n",
       "      <td>0.0</td>\n",
       "      <td>0.0</td>\n",
       "      <td>1.32</td>\n",
       "    </tr>\n",
       "    <tr>\n",
       "      <th>1398</th>\n",
       "      <td>1</td>\n",
       "      <td>1.0</td>\n",
       "      <td>0.0</td>\n",
       "      <td>0.0</td>\n",
       "      <td>0.98</td>\n",
       "    </tr>\n",
       "    <tr>\n",
       "      <th>2100</th>\n",
       "      <td>1</td>\n",
       "      <td>1.0</td>\n",
       "      <td>0.0</td>\n",
       "      <td>0.0</td>\n",
       "      <td>0.76</td>\n",
       "    </tr>\n",
       "    <tr>\n",
       "      <th>2563</th>\n",
       "      <td>1</td>\n",
       "      <td>1.0</td>\n",
       "      <td>0.0</td>\n",
       "      <td>0.0</td>\n",
       "      <td>3.88</td>\n",
       "    </tr>\n",
       "    <tr>\n",
       "      <th>1520</th>\n",
       "      <td>1</td>\n",
       "      <td>1.0</td>\n",
       "      <td>0.0</td>\n",
       "      <td>0.0</td>\n",
       "      <td>3.38</td>\n",
       "    </tr>\n",
       "  </tbody>\n",
       "</table>\n",
       "</div>"
      ],
      "text/plain": [
       "     Result  Win1  Win2  Tie NRR_team1\n",
       "2347      1   1.0   0.0  0.0      1.32\n",
       "1398      1   1.0   0.0  0.0      0.98\n",
       "2100      1   1.0   0.0  0.0      0.76\n",
       "2563      1   1.0   0.0  0.0      3.88\n",
       "1520      1   1.0   0.0  0.0      3.38"
      ]
     },
     "execution_count": 24,
     "metadata": {},
     "output_type": "execute_result"
    }
   ],
   "source": [
    "y_train.head()"
   ]
  },
  {
   "cell_type": "code",
   "execution_count": 25,
   "metadata": {},
   "outputs": [],
   "source": [
    "def print_model_scores(model, data, y, predictors, target):\n",
    "    '''\n",
    "    A generic function to generate the performance report of the\n",
    "    model in question on the data passed to it using cross-validation\n",
    "    \n",
    "    Args:\n",
    "        model: ML Model to be checked\n",
    "        data: data on which the model needs to pe trained\n",
    "        predictors: independent feature variable\n",
    "        target: target variable\n",
    "    '''\n",
    "    model.fit(data[predictors], y[target])\n",
    "    predictions = model.predict(data[predictors])\n",
    "    #scores = cross_val_score(model, data[predictors], y[target], scoring=\"neg_mean_squared_error\", cv=5)\n",
    "    #print('Cross-Validation Score :{}'.format(np.sqrt(-scores)))\n",
    "    rms = sklearn.metrics.mean_squared_error(predictions,y[target])**0.5\n",
    "    print('RMS : %s' % '{0:.2%}'.format(rms))\n",
    "    #print(f\"Average RMSE: {np.sqrt(-scores).mean()}\")\n",
    "    r2 = sklearn.metrics.r2_score(predictions,y[target])\n",
    "    print('R2 : %s' % '{0:.2%}'.format(r2))\n",
    "    return np.asarray(predictions)"
   ]
  },
  {
   "cell_type": "code",
   "execution_count": 26,
   "metadata": {},
   "outputs": [],
   "source": [
    "def winner_prediction(model, data, y, predictors,winner):\n",
    "    pred = print_model_scores(model, X_train, y_train,predictor_var, ['NRR_team1'])\n",
    "    \n",
    "    \n",
    "    for i in range(len(pred)):\n",
    "        if ((pred[i])>0):\n",
    "            pred[i] = 1\n",
    "        elif (pred[i]==0):\n",
    "            pred[i] = 0\n",
    "        else:\n",
    "            pred[i] = 2\n",
    "\n",
    "    print(\"Model Accuracy is: \")\n",
    "    print(sum(1 for x,y in zip(pred,winner) if x == y) / len(winner))"
   ]
  },
  {
   "cell_type": "code",
   "execution_count": null,
   "metadata": {},
   "outputs": [],
   "source": []
  },
  {
   "cell_type": "markdown",
   "metadata": {},
   "source": [
    "### Model1 - Toss + GroundCode"
   ]
  },
  {
   "cell_type": "code",
   "execution_count": 27,
   "metadata": {},
   "outputs": [
    {
     "name": "stderr",
     "output_type": "stream",
     "text": [
      "<ipython-input-25-4258bb1c5d5a>:12: DataConversionWarning: A column-vector y was passed when a 1d array was expected. Please change the shape of y to (n_samples,), for example using ravel().\n",
      "  model.fit(data[predictors], y[target])\n"
     ]
    },
    {
     "name": "stdout",
     "output_type": "stream",
     "text": [
      "RMS : 106.76%\n",
      "R2 : -21.95%\n",
      "Model Accuracy is: \n",
      "0.7482014388489209\n"
     ]
    }
   ],
   "source": [
    "winner = y_train['Result']\n",
    "predictor_var = ['Team_1Enc','Team_2Enc', 'GroundCode','Toss']\n",
    "model = RandomForestRegressor(n_estimators = 100, random_state = 0)\n",
    "winner_prediction(model, X_train, y_train,predictor_var, winner)"
   ]
  },
  {
   "cell_type": "code",
   "execution_count": 28,
   "metadata": {},
   "outputs": [
    {
     "name": "stdout",
     "output_type": "stream",
     "text": [
      "RMS : 161.75%\n",
      "R2 : -44369.76%\n",
      "Model Accuracy is: \n",
      "0.4830421377183967\n"
     ]
    }
   ],
   "source": [
    "winner = y_train['Result']\n",
    "predictor_var = ['Team_1Enc','Team_2Enc', 'GroundCode','Toss']\n",
    "model = LinearRegression()\n",
    "winner_prediction(model, X_train, y_train,predictor_var, winner)"
   ]
  },
  {
   "cell_type": "code",
   "execution_count": 29,
   "metadata": {},
   "outputs": [
    {
     "name": "stdout",
     "output_type": "stream",
     "text": [
      "RMS : 96.68%\n",
      "R2 : 44.61%\n",
      "Model Accuracy is: \n",
      "0.7930798218568003\n"
     ]
    }
   ],
   "source": [
    "winner = y_train['Result']\n",
    "predictor_var = ['Team_1Enc','Team_2Enc', 'GroundCode','Toss']\n",
    "model = DecisionTreeRegressor()\n",
    "winner_prediction(model, X_train, y_train,predictor_var, winner)"
   ]
  },
  {
   "cell_type": "code",
   "execution_count": 30,
   "metadata": {},
   "outputs": [
    {
     "name": "stdout",
     "output_type": "stream",
     "text": [
      "RMS : 161.77%\n",
      "R2 : -54707.61%\n",
      "Model Accuracy is: \n",
      "0.4850976361767729\n"
     ]
    },
    {
     "name": "stderr",
     "output_type": "stream",
     "text": [
      "/opt/anaconda3/lib/python3.8/site-packages/sklearn/utils/validation.py:72: DataConversionWarning: A column-vector y was passed when a 1d array was expected. Please change the shape of y to (n_samples, ), for example using ravel().\n",
      "  return f(**kwargs)\n"
     ]
    }
   ],
   "source": [
    "winner = y_train['Result']\n",
    "predictor_var = ['Team_1Enc','Team_2Enc', 'GroundCode','Toss']\n",
    "model = LassoCV()\n",
    "winner_prediction(model, X_train, y_train,predictor_var, winner)"
   ]
  },
  {
   "cell_type": "markdown",
   "metadata": {},
   "source": [
    "### Model2 - Toss + GroundCode + Venue"
   ]
  },
  {
   "cell_type": "code",
   "execution_count": 31,
   "metadata": {},
   "outputs": [
    {
     "name": "stderr",
     "output_type": "stream",
     "text": [
      "<ipython-input-25-4258bb1c5d5a>:12: DataConversionWarning: A column-vector y was passed when a 1d array was expected. Please change the shape of y to (n_samples,), for example using ravel().\n",
      "  model.fit(data[predictors], y[target])\n"
     ]
    },
    {
     "name": "stdout",
     "output_type": "stream",
     "text": [
      "RMS : 106.75%\n",
      "R2 : -22.20%\n",
      "Model Accuracy is: \n",
      "0.7519698526892772\n"
     ]
    }
   ],
   "source": [
    "winner = y_train['Result']\n",
    "predictor_var = ['Team_1Enc','Team_2Enc', 'GroundCode','Toss','Venue']\n",
    "model = RandomForestRegressor(n_estimators = 100, random_state = 0)\n",
    "winner_prediction(model, X_train, y_train,predictor_var, winner)"
   ]
  },
  {
   "cell_type": "code",
   "execution_count": 32,
   "metadata": {},
   "outputs": [
    {
     "name": "stdout",
     "output_type": "stream",
     "text": [
      "RMS : 161.75%\n",
      "R2 : -44369.61%\n",
      "Model Accuracy is: \n",
      "0.4830421377183967\n"
     ]
    }
   ],
   "source": [
    "winner = y_train['Result']\n",
    "predictor_var = ['Team_1Enc','Team_2Enc', 'GroundCode','Toss','Venue']\n",
    "model = LinearRegression()\n",
    "winner_prediction(model, X_train, y_train,predictor_var, winner)"
   ]
  },
  {
   "cell_type": "code",
   "execution_count": 33,
   "metadata": {},
   "outputs": [
    {
     "name": "stdout",
     "output_type": "stream",
     "text": [
      "RMS : 96.68%\n",
      "R2 : 44.61%\n",
      "Model Accuracy is: \n",
      "0.7930798218568003\n"
     ]
    }
   ],
   "source": [
    "winner = y_train['Result']\n",
    "predictor_var = ['Team_1Enc','Team_2Enc', 'GroundCode','Toss','Venue']\n",
    "model = DecisionTreeRegressor()\n",
    "winner_prediction(model, X_train, y_train,predictor_var, winner)"
   ]
  },
  {
   "cell_type": "code",
   "execution_count": 34,
   "metadata": {},
   "outputs": [
    {
     "name": "stdout",
     "output_type": "stream",
     "text": [
      "RMS : 161.77%\n",
      "R2 : -56506.86%\n",
      "Model Accuracy is: \n",
      "0.4850976361767729\n"
     ]
    },
    {
     "name": "stderr",
     "output_type": "stream",
     "text": [
      "/opt/anaconda3/lib/python3.8/site-packages/sklearn/utils/validation.py:72: DataConversionWarning: A column-vector y was passed when a 1d array was expected. Please change the shape of y to (n_samples, ), for example using ravel().\n",
      "  return f(**kwargs)\n"
     ]
    }
   ],
   "source": [
    "winner = y_train['Result']\n",
    "predictor_var = ['Team_1Enc','Team_2Enc', 'GroundCode','Toss','Venue']\n",
    "model = LassoCV()\n",
    "winner_prediction(model, X_train, y_train,predictor_var, winner)"
   ]
  }
 ],
 "metadata": {
  "language_info": {
   "codemirror_mode": {
    "name": "ipython",
    "version": 3
   },
   "file_extension": ".py",
   "mimetype": "text/x-python",
   "name": "python",
   "nbconvert_exporter": "python",
   "pygments_lexer": "ipython3",
   "version": "3.8.3"
  }
 },
 "nbformat": 4,
 "nbformat_minor": 4
}
