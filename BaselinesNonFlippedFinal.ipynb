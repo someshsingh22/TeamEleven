{
  "nbformat": 4,
  "nbformat_minor": 0,
  "metadata": {
    "colab": {
      "name": "BaselinesNonFlippedFinal",
      "provenance": [],
      "collapsed_sections": [],
      "toc_visible": true,
      "authorship_tag": "ABX9TyPZx1SSIE1pvbkPSqVHg6nb",
      "include_colab_link": true
    },
    "kernelspec": {
      "name": "python3",
      "display_name": "Python 3"
    }
  },
  "cells": [
    {
      "cell_type": "markdown",
      "metadata": {
        "id": "view-in-github",
        "colab_type": "text"
      },
      "source": [
        "<a href=\"https://colab.research.google.com/github/someshsingh22/TeamEleven/blob/main/BaselinesNonFlippedFinal.ipynb\" target=\"_parent\"><img src=\"https://colab.research.google.com/assets/colab-badge.svg\" alt=\"Open In Colab\"/></a>"
      ]
    },
    {
      "cell_type": "code",
      "metadata": {
        "id": "UR-Rc8NC2Qey"
      },
      "source": [
        "import json\n",
        "import numpy as np\n",
        "import pandas as pd\n",
        "import sklearn\n",
        "from sklearn.preprocessing import LabelEncoder,OneHotEncoder\n",
        "from sklearn.model_selection import train_test_split\n",
        "from sklearn.linear_model import LinearRegression\n",
        "from sklearn.preprocessing import PolynomialFeatures\n",
        "from sklearn.model_selection import cross_val_score\n",
        "from sklearn.tree import DecisionTreeRegressor\n",
        "from sklearn.linear_model import LassoCV\n",
        "from sklearn.ensemble import RandomForestRegressor\n",
        "from sklearn.metrics import accuracy_score\n",
        "import datetime\n",
        "import matplotlib.pyplot as plt\n",
        "import seaborn as sns"
      ],
      "execution_count": 1,
      "outputs": []
    },
    {
      "cell_type": "code",
      "metadata": {
        "id": "Ap9sws9m3ZeL"
      },
      "source": [
        "matches_df = pd.read_csv(\"matches.csv\")"
      ],
      "execution_count": null,
      "outputs": []
    },
    {
      "cell_type": "code",
      "metadata": {
        "id": "YPrp2Z294u10",
        "outputId": "eca9c670-4d06-449f-d80c-a4779848ccfc",
        "colab": {
          "base_uri": "https://localhost:8080/",
          "height": 202
        }
      },
      "source": [
        "matches_df.head()"
      ],
      "execution_count": null,
      "outputs": [
        {
          "output_type": "execute_result",
          "data": {
            "text/html": [
              "<div>\n",
              "<style scoped>\n",
              "    .dataframe tbody tr th:only-of-type {\n",
              "        vertical-align: middle;\n",
              "    }\n",
              "\n",
              "    .dataframe tbody tr th {\n",
              "        vertical-align: top;\n",
              "    }\n",
              "\n",
              "    .dataframe thead th {\n",
              "        text-align: right;\n",
              "    }\n",
              "</style>\n",
              "<table border=\"1\" class=\"dataframe\">\n",
              "  <thead>\n",
              "    <tr style=\"text-align: right;\">\n",
              "      <th></th>\n",
              "      <th>Date</th>\n",
              "      <th>Team_1</th>\n",
              "      <th>Team_2</th>\n",
              "      <th>Venue</th>\n",
              "      <th>MatchCode</th>\n",
              "      <th>GroundCode</th>\n",
              "    </tr>\n",
              "  </thead>\n",
              "  <tbody>\n",
              "    <tr>\n",
              "      <th>0</th>\n",
              "      <td>2015-03-04</td>\n",
              "      <td>AFG</td>\n",
              "      <td>AUS</td>\n",
              "      <td>Away</td>\n",
              "      <td>3773</td>\n",
              "      <td>65</td>\n",
              "    </tr>\n",
              "    <tr>\n",
              "      <th>1</th>\n",
              "      <td>2012-08-25</td>\n",
              "      <td>AFG</td>\n",
              "      <td>AUS</td>\n",
              "      <td>Neutral</td>\n",
              "      <td>3437</td>\n",
              "      <td>156</td>\n",
              "    </tr>\n",
              "    <tr>\n",
              "      <th>2</th>\n",
              "      <td>2019-06-01</td>\n",
              "      <td>AFG</td>\n",
              "      <td>AUS</td>\n",
              "      <td>Neutral</td>\n",
              "      <td>4306</td>\n",
              "      <td>149</td>\n",
              "    </tr>\n",
              "    <tr>\n",
              "      <th>3</th>\n",
              "      <td>2014-03-01</td>\n",
              "      <td>AFG</td>\n",
              "      <td>BAN</td>\n",
              "      <td>Away</td>\n",
              "      <td>3623</td>\n",
              "      <td>190</td>\n",
              "    </tr>\n",
              "    <tr>\n",
              "      <th>4</th>\n",
              "      <td>2016-09-25</td>\n",
              "      <td>AFG</td>\n",
              "      <td>BAN</td>\n",
              "      <td>Away</td>\n",
              "      <td>3936</td>\n",
              "      <td>198</td>\n",
              "    </tr>\n",
              "  </tbody>\n",
              "</table>\n",
              "</div>"
            ],
            "text/plain": [
              "         Date Team_1 Team_2    Venue  MatchCode  GroundCode\n",
              "0  2015-03-04    AFG    AUS     Away       3773          65\n",
              "1  2012-08-25    AFG    AUS  Neutral       3437         156\n",
              "2  2019-06-01    AFG    AUS  Neutral       4306         149\n",
              "3  2014-03-01    AFG    BAN     Away       3623         190\n",
              "4  2016-09-25    AFG    BAN     Away       3936         198"
            ]
          },
          "metadata": {
            "tags": []
          },
          "execution_count": 17
        }
      ]
    },
    {
      "cell_type": "code",
      "metadata": {
        "id": "02jKyPnq-QwF",
        "outputId": "91f14423-87d5-42a0-b59b-5134c7be1a2a",
        "colab": {
          "base_uri": "https://localhost:8080/"
        }
      },
      "source": [
        "len(matches_df)"
      ],
      "execution_count": null,
      "outputs": [
        {
          "output_type": "execute_result",
          "data": {
            "text/plain": [
              "3656"
            ]
          },
          "metadata": {
            "tags": []
          },
          "execution_count": 18
        }
      ]
    },
    {
      "cell_type": "markdown",
      "metadata": {
        "id": "j3_2GP7l5MG1"
      },
      "source": [
        "## Data Preprocessing"
      ]
    },
    {
      "cell_type": "code",
      "metadata": {
        "id": "5F4gxjMI4xKL",
        "outputId": "aad58bee-8f8f-4f92-c234-4e1f4a719aca",
        "colab": {
          "base_uri": "https://localhost:8080/"
        }
      },
      "source": [
        "matches_df[\"Team_1\"].value_counts()"
      ],
      "execution_count": null,
      "outputs": [
        {
          "output_type": "execute_result",
          "data": {
            "text/plain": [
              "AUS    876\n",
              "IND    631\n",
              "ENG    509\n",
              "PAK    396\n",
              "NZL    340\n",
              "BAN    317\n",
              "SAF    160\n",
              "SRL    106\n",
              "AFG    102\n",
              "KEN     77\n",
              "IRE     71\n",
              "WIN     42\n",
              "NED     23\n",
              "SCO      6\n",
              "Name: Team_1, dtype: int64"
            ]
          },
          "metadata": {
            "tags": []
          },
          "execution_count": 19
        }
      ]
    },
    {
      "cell_type": "code",
      "metadata": {
        "id": "qrMtCHLJ5G3G",
        "outputId": "a9a9e065-c5d6-402f-93b9-783fc5938e3a",
        "colab": {
          "base_uri": "https://localhost:8080/"
        }
      },
      "source": [
        "matches_df[\"Team_2\"].value_counts()"
      ],
      "execution_count": null,
      "outputs": [
        {
          "output_type": "execute_result",
          "data": {
            "text/plain": [
              "WIN    680\n",
              "SRL    648\n",
              "ZIM    480\n",
              "PAK    454\n",
              "SAF    398\n",
              "NZL    352\n",
              "IND    254\n",
              "ENG    167\n",
              "SCO     62\n",
              "IRE     50\n",
              "KEN     46\n",
              "NED     33\n",
              "BAN     29\n",
              "AUS      3\n",
              "Name: Team_2, dtype: int64"
            ]
          },
          "metadata": {
            "tags": []
          },
          "execution_count": 20
        }
      ]
    },
    {
      "cell_type": "code",
      "metadata": {
        "id": "TmVxdG555Xqu"
      },
      "source": [
        "f = open('scorecard.json',) \n",
        "data = json.load(f)"
      ],
      "execution_count": null,
      "outputs": []
    },
    {
      "cell_type": "code",
      "metadata": {
        "id": "-2ypdrY195IZ"
      },
      "source": [
        "df = pd.DataFrame(data)"
      ],
      "execution_count": null,
      "outputs": []
    },
    {
      "cell_type": "code",
      "metadata": {
        "id": "Mps7H5SJDSg8"
      },
      "source": [
        "df = df.transpose()"
      ],
      "execution_count": null,
      "outputs": []
    },
    {
      "cell_type": "code",
      "metadata": {
        "id": "bunPMlT498i0",
        "outputId": "05166e86-4983-4bd2-85a4-64f0e9f322fe",
        "colab": {
          "base_uri": "https://localhost:8080/",
          "height": 375
        }
      },
      "source": [
        "df.head()"
      ],
      "execution_count": null,
      "outputs": [
        {
          "output_type": "execute_result",
          "data": {
            "text/html": [
              "<div>\n",
              "<style scoped>\n",
              "    .dataframe tbody tr th:only-of-type {\n",
              "        vertical-align: middle;\n",
              "    }\n",
              "\n",
              "    .dataframe tbody tr th {\n",
              "        vertical-align: top;\n",
              "    }\n",
              "\n",
              "    .dataframe thead th {\n",
              "        text-align: right;\n",
              "    }\n",
              "</style>\n",
              "<table border=\"1\" class=\"dataframe\">\n",
              "  <thead>\n",
              "    <tr style=\"text-align: right;\">\n",
              "      <th></th>\n",
              "      <th>ORDER</th>\n",
              "      <th>TOSS</th>\n",
              "      <th>BATTING1</th>\n",
              "      <th>BOWLING1</th>\n",
              "      <th>BATTING2</th>\n",
              "      <th>BOWLING2</th>\n",
              "      <th>SCORES</th>\n",
              "    </tr>\n",
              "  </thead>\n",
              "  <tbody>\n",
              "    <tr>\n",
              "      <th>3773</th>\n",
              "      <td>[Australia, Afghanistan]</td>\n",
              "      <td>Afghanistan</td>\n",
              "      <td>[[3637, c  Mohammad Nabi b  Shapoor Zadran, 17...</td>\n",
              "      <td>[[3875, 10.0, 1.0, 101.0, 2.0, 10.1, 0.2], [37...</td>\n",
              "      <td>[[3845, c  Nawroz Mangal b  Dawlat Zadran, 4.0...</td>\n",
              "      <td>[[3830, 6.0, 0.0, 18.0, 2.0, 3.0, 0.2], [3799,...</td>\n",
              "      <td>[417, 142]</td>\n",
              "    </tr>\n",
              "    <tr>\n",
              "      <th>3437</th>\n",
              "      <td>[Australia, Afghanistan]</td>\n",
              "      <td>Australia</td>\n",
              "      <td>[[3910, c &amp; b  Mohammad Nabi, 75.0, 108.0, 2.0...</td>\n",
              "      <td>[[3729, 8.0, 0.0, 60.0, 2.0, 7.5, 0.2], [3875,...</td>\n",
              "      <td>[[3637, c †Mohammad Shahzad b  Shapoor Zadran,...</td>\n",
              "      <td>[[3854, 9.0, 1.0, 46.0, 3.0, 5.11, 0.3], [3830...</td>\n",
              "      <td>[272, 206]</td>\n",
              "    </tr>\n",
              "    <tr>\n",
              "      <th>4306</th>\n",
              "      <td>[Afghanistan, Australia]</td>\n",
              "      <td>Afghanistan</td>\n",
              "      <td>[[3728, b  Starc, 0.0, 3.0, 0.0, 0.0, 0.0, 0],...</td>\n",
              "      <td>[[3830, 7.0, 1.0, 31.0, 1.0, 4.43, 0.1], [3909...</td>\n",
              "      <td>[[4615, c †Carey b  Cummins, 0.0, 2.0, 0.0, 0....</td>\n",
              "      <td>[[4714, 4.5, 0.0, 45.0, 1.0, 9.31, 0.1], [3672...</td>\n",
              "      <td>[207, 209]</td>\n",
              "    </tr>\n",
              "    <tr>\n",
              "      <th>3623</th>\n",
              "      <td>[Afghanistan, Bangladesh]</td>\n",
              "      <td>Bangladesh</td>\n",
              "      <td>[[3728, lbw b  Rubel Hossain, 2.0, 8.0, 0.0, 0...</td>\n",
              "      <td>[[3635, 10.0, 0.0, 61.0, 1.0, 6.1, 0.1], [3180...</td>\n",
              "      <td>[[3664, c &amp; b  Arafat Sunny, 12.0, 36.0, 0.0, ...</td>\n",
              "      <td>[[3729, 8.0, 0.0, 39.0, 2.0, 4.88, 0.2], [3672...</td>\n",
              "      <td>[254, 222]</td>\n",
              "    </tr>\n",
              "    <tr>\n",
              "      <th>3936</th>\n",
              "      <td>[Bangladesh, Afghanistan]</td>\n",
              "      <td>Bangladesh</td>\n",
              "      <td>[[3461, c  Naveen -ul-Haq b  Mirwais Ashraf, 8...</td>\n",
              "      <td>[[3875, 10.0, 0.0, 73.0, 4.0, 7.3, 0.4], [4590...</td>\n",
              "      <td>[[4362, c  Shabir Noori b  Dawlat Zadran, 0.0,...</td>\n",
              "      <td>[[2995, 10.0, 0.0, 42.0, 2.0, 4.2, 0.2], [4299...</td>\n",
              "      <td>[265, 258]</td>\n",
              "    </tr>\n",
              "  </tbody>\n",
              "</table>\n",
              "</div>"
            ],
            "text/plain": [
              "                          ORDER  ...      SCORES\n",
              "3773   [Australia, Afghanistan]  ...  [417, 142]\n",
              "3437   [Australia, Afghanistan]  ...  [272, 206]\n",
              "4306   [Afghanistan, Australia]  ...  [207, 209]\n",
              "3623  [Afghanistan, Bangladesh]  ...  [254, 222]\n",
              "3936  [Bangladesh, Afghanistan]  ...  [265, 258]\n",
              "\n",
              "[5 rows x 7 columns]"
            ]
          },
          "metadata": {
            "tags": []
          },
          "execution_count": 24
        }
      ]
    },
    {
      "cell_type": "code",
      "metadata": {
        "id": "4CiAMXHT-A7z",
        "outputId": "b13114c3-6e32-436e-efb0-c1201bb97ea6",
        "colab": {
          "base_uri": "https://localhost:8080/"
        }
      },
      "source": [
        "len(df)"
      ],
      "execution_count": null,
      "outputs": [
        {
          "output_type": "execute_result",
          "data": {
            "text/plain": [
              "3656"
            ]
          },
          "metadata": {
            "tags": []
          },
          "execution_count": 25
        }
      ]
    },
    {
      "cell_type": "code",
      "metadata": {
        "id": "x0G3EY0p-Wjk"
      },
      "source": [
        "df = df.drop(['BATTING1', 'BOWLING1','BATTING2', 'BOWLING2'], axis=1)"
      ],
      "execution_count": null,
      "outputs": []
    },
    {
      "cell_type": "code",
      "metadata": {
        "id": "4ZcqYytgHhJB",
        "outputId": "365a0bae-9707-415b-b4da-eba70c8da669",
        "colab": {
          "base_uri": "https://localhost:8080/",
          "height": 202
        }
      },
      "source": [
        "df.head()"
      ],
      "execution_count": null,
      "outputs": [
        {
          "output_type": "execute_result",
          "data": {
            "text/html": [
              "<div>\n",
              "<style scoped>\n",
              "    .dataframe tbody tr th:only-of-type {\n",
              "        vertical-align: middle;\n",
              "    }\n",
              "\n",
              "    .dataframe tbody tr th {\n",
              "        vertical-align: top;\n",
              "    }\n",
              "\n",
              "    .dataframe thead th {\n",
              "        text-align: right;\n",
              "    }\n",
              "</style>\n",
              "<table border=\"1\" class=\"dataframe\">\n",
              "  <thead>\n",
              "    <tr style=\"text-align: right;\">\n",
              "      <th></th>\n",
              "      <th>ORDER</th>\n",
              "      <th>TOSS</th>\n",
              "      <th>SCORES</th>\n",
              "    </tr>\n",
              "  </thead>\n",
              "  <tbody>\n",
              "    <tr>\n",
              "      <th>3773</th>\n",
              "      <td>[Australia, Afghanistan]</td>\n",
              "      <td>Afghanistan</td>\n",
              "      <td>[417, 142]</td>\n",
              "    </tr>\n",
              "    <tr>\n",
              "      <th>3437</th>\n",
              "      <td>[Australia, Afghanistan]</td>\n",
              "      <td>Australia</td>\n",
              "      <td>[272, 206]</td>\n",
              "    </tr>\n",
              "    <tr>\n",
              "      <th>4306</th>\n",
              "      <td>[Afghanistan, Australia]</td>\n",
              "      <td>Afghanistan</td>\n",
              "      <td>[207, 209]</td>\n",
              "    </tr>\n",
              "    <tr>\n",
              "      <th>3623</th>\n",
              "      <td>[Afghanistan, Bangladesh]</td>\n",
              "      <td>Bangladesh</td>\n",
              "      <td>[254, 222]</td>\n",
              "    </tr>\n",
              "    <tr>\n",
              "      <th>3936</th>\n",
              "      <td>[Bangladesh, Afghanistan]</td>\n",
              "      <td>Bangladesh</td>\n",
              "      <td>[265, 258]</td>\n",
              "    </tr>\n",
              "  </tbody>\n",
              "</table>\n",
              "</div>"
            ],
            "text/plain": [
              "                          ORDER         TOSS      SCORES\n",
              "3773   [Australia, Afghanistan]  Afghanistan  [417, 142]\n",
              "3437   [Australia, Afghanistan]    Australia  [272, 206]\n",
              "4306   [Afghanistan, Australia]  Afghanistan  [207, 209]\n",
              "3623  [Afghanistan, Bangladesh]   Bangladesh  [254, 222]\n",
              "3936  [Bangladesh, Afghanistan]   Bangladesh  [265, 258]"
            ]
          },
          "metadata": {
            "tags": []
          },
          "execution_count": 27
        }
      ]
    },
    {
      "cell_type": "code",
      "metadata": {
        "id": "RlWbwvRAACbV"
      },
      "source": [
        "df['MatchCode'] = df.index"
      ],
      "execution_count": null,
      "outputs": []
    },
    {
      "cell_type": "code",
      "metadata": {
        "id": "zl1IHIcZHbu-",
        "outputId": "9bf4a141-11d4-44e4-c38f-3571d5ce0466",
        "colab": {
          "base_uri": "https://localhost:8080/",
          "height": 202
        }
      },
      "source": [
        "df.head()"
      ],
      "execution_count": null,
      "outputs": [
        {
          "output_type": "execute_result",
          "data": {
            "text/html": [
              "<div>\n",
              "<style scoped>\n",
              "    .dataframe tbody tr th:only-of-type {\n",
              "        vertical-align: middle;\n",
              "    }\n",
              "\n",
              "    .dataframe tbody tr th {\n",
              "        vertical-align: top;\n",
              "    }\n",
              "\n",
              "    .dataframe thead th {\n",
              "        text-align: right;\n",
              "    }\n",
              "</style>\n",
              "<table border=\"1\" class=\"dataframe\">\n",
              "  <thead>\n",
              "    <tr style=\"text-align: right;\">\n",
              "      <th></th>\n",
              "      <th>ORDER</th>\n",
              "      <th>TOSS</th>\n",
              "      <th>SCORES</th>\n",
              "      <th>MatchCode</th>\n",
              "    </tr>\n",
              "  </thead>\n",
              "  <tbody>\n",
              "    <tr>\n",
              "      <th>3773</th>\n",
              "      <td>[Australia, Afghanistan]</td>\n",
              "      <td>Afghanistan</td>\n",
              "      <td>[417, 142]</td>\n",
              "      <td>3773</td>\n",
              "    </tr>\n",
              "    <tr>\n",
              "      <th>3437</th>\n",
              "      <td>[Australia, Afghanistan]</td>\n",
              "      <td>Australia</td>\n",
              "      <td>[272, 206]</td>\n",
              "      <td>3437</td>\n",
              "    </tr>\n",
              "    <tr>\n",
              "      <th>4306</th>\n",
              "      <td>[Afghanistan, Australia]</td>\n",
              "      <td>Afghanistan</td>\n",
              "      <td>[207, 209]</td>\n",
              "      <td>4306</td>\n",
              "    </tr>\n",
              "    <tr>\n",
              "      <th>3623</th>\n",
              "      <td>[Afghanistan, Bangladesh]</td>\n",
              "      <td>Bangladesh</td>\n",
              "      <td>[254, 222]</td>\n",
              "      <td>3623</td>\n",
              "    </tr>\n",
              "    <tr>\n",
              "      <th>3936</th>\n",
              "      <td>[Bangladesh, Afghanistan]</td>\n",
              "      <td>Bangladesh</td>\n",
              "      <td>[265, 258]</td>\n",
              "      <td>3936</td>\n",
              "    </tr>\n",
              "  </tbody>\n",
              "</table>\n",
              "</div>"
            ],
            "text/plain": [
              "                          ORDER         TOSS      SCORES MatchCode\n",
              "3773   [Australia, Afghanistan]  Afghanistan  [417, 142]      3773\n",
              "3437   [Australia, Afghanistan]    Australia  [272, 206]      3437\n",
              "4306   [Afghanistan, Australia]  Afghanistan  [207, 209]      4306\n",
              "3623  [Afghanistan, Bangladesh]   Bangladesh  [254, 222]      3623\n",
              "3936  [Bangladesh, Afghanistan]   Bangladesh  [265, 258]      3936"
            ]
          },
          "metadata": {
            "tags": []
          },
          "execution_count": 29
        }
      ]
    },
    {
      "cell_type": "code",
      "metadata": {
        "id": "w97o2LAbaWRT"
      },
      "source": [
        "df = df.astype({\"MatchCode\": int})"
      ],
      "execution_count": null,
      "outputs": []
    },
    {
      "cell_type": "code",
      "metadata": {
        "id": "ZQ7SeUQPaykQ",
        "outputId": "085dc498-7dbb-48ca-ca8d-e9922b9fb681",
        "colab": {
          "base_uri": "https://localhost:8080/"
        }
      },
      "source": [
        "df.info()"
      ],
      "execution_count": null,
      "outputs": [
        {
          "output_type": "stream",
          "text": [
            "<class 'pandas.core.frame.DataFrame'>\n",
            "Index: 3656 entries, 3773 to 2528\n",
            "Data columns (total 4 columns):\n",
            " #   Column     Non-Null Count  Dtype \n",
            "---  ------     --------------  ----- \n",
            " 0   ORDER      3656 non-null   object\n",
            " 1   TOSS       3656 non-null   object\n",
            " 2   SCORES     3656 non-null   object\n",
            " 3   MatchCode  3656 non-null   int64 \n",
            "dtypes: int64(1), object(3)\n",
            "memory usage: 142.8+ KB\n"
          ],
          "name": "stdout"
        }
      ]
    },
    {
      "cell_type": "code",
      "metadata": {
        "id": "dUeTlQFCHmX1"
      },
      "source": [
        "match_df = matches_df.merge(df,on='MatchCode')"
      ],
      "execution_count": null,
      "outputs": []
    },
    {
      "cell_type": "code",
      "metadata": {
        "id": "OXM34VtkaQGk"
      },
      "source": [
        "name_to_code = {\n",
        "    \n",
        "    \"Afghanistan\" : \"AFG\",\n",
        "    \"Australia\" : \"AUS\",\n",
        "    \"Bangladesh\" : \"BAN\",\n",
        "    \"England\" : \"ENG\",\n",
        "    \"India\" : \"IND\",\n",
        "    \"Ireland\" : \"IRE\",\n",
        "    \"Kenya\" : \"KEN\",\n",
        "    \"Netherlands\" : \"NED\",\n",
        "    \"New Zealand\" : \"NZL\",\n",
        "    \"Pakistan\" : \"PAK\",\n",
        "    \"South Africa\" : \"SAF\",\n",
        "    \"Scotland\" : \"SCO\",\n",
        "    \"Sri Lanka\" : \"SRL\",\n",
        "    \"West Indies\" : \"WIN\",\n",
        "    \"Zimbabwe\" : \"ZIM\"\n",
        "\n",
        "}"
      ],
      "execution_count": null,
      "outputs": []
    },
    {
      "cell_type": "code",
      "metadata": {
        "id": "2sU7gN4WpQco",
        "outputId": "26d7b639-e592-41c8-acf9-304571b5e04b",
        "colab": {
          "base_uri": "https://localhost:8080/",
          "height": 202
        }
      },
      "source": [
        "match_df.replace({'TOSS':name_to_code}, inplace=True)\n",
        "match_df.head()"
      ],
      "execution_count": null,
      "outputs": [
        {
          "output_type": "execute_result",
          "data": {
            "text/html": [
              "<div>\n",
              "<style scoped>\n",
              "    .dataframe tbody tr th:only-of-type {\n",
              "        vertical-align: middle;\n",
              "    }\n",
              "\n",
              "    .dataframe tbody tr th {\n",
              "        vertical-align: top;\n",
              "    }\n",
              "\n",
              "    .dataframe thead th {\n",
              "        text-align: right;\n",
              "    }\n",
              "</style>\n",
              "<table border=\"1\" class=\"dataframe\">\n",
              "  <thead>\n",
              "    <tr style=\"text-align: right;\">\n",
              "      <th></th>\n",
              "      <th>Date</th>\n",
              "      <th>Team_1</th>\n",
              "      <th>Team_2</th>\n",
              "      <th>Venue</th>\n",
              "      <th>MatchCode</th>\n",
              "      <th>GroundCode</th>\n",
              "      <th>ORDER</th>\n",
              "      <th>TOSS</th>\n",
              "      <th>SCORES</th>\n",
              "    </tr>\n",
              "  </thead>\n",
              "  <tbody>\n",
              "    <tr>\n",
              "      <th>0</th>\n",
              "      <td>2015-03-04</td>\n",
              "      <td>AFG</td>\n",
              "      <td>AUS</td>\n",
              "      <td>Away</td>\n",
              "      <td>3773</td>\n",
              "      <td>65</td>\n",
              "      <td>[Australia, Afghanistan]</td>\n",
              "      <td>AFG</td>\n",
              "      <td>[417, 142]</td>\n",
              "    </tr>\n",
              "    <tr>\n",
              "      <th>1</th>\n",
              "      <td>2012-08-25</td>\n",
              "      <td>AFG</td>\n",
              "      <td>AUS</td>\n",
              "      <td>Neutral</td>\n",
              "      <td>3437</td>\n",
              "      <td>156</td>\n",
              "      <td>[Australia, Afghanistan]</td>\n",
              "      <td>AUS</td>\n",
              "      <td>[272, 206]</td>\n",
              "    </tr>\n",
              "    <tr>\n",
              "      <th>2</th>\n",
              "      <td>2019-06-01</td>\n",
              "      <td>AFG</td>\n",
              "      <td>AUS</td>\n",
              "      <td>Neutral</td>\n",
              "      <td>4306</td>\n",
              "      <td>149</td>\n",
              "      <td>[Afghanistan, Australia]</td>\n",
              "      <td>AFG</td>\n",
              "      <td>[207, 209]</td>\n",
              "    </tr>\n",
              "    <tr>\n",
              "      <th>3</th>\n",
              "      <td>2014-03-01</td>\n",
              "      <td>AFG</td>\n",
              "      <td>BAN</td>\n",
              "      <td>Away</td>\n",
              "      <td>3623</td>\n",
              "      <td>190</td>\n",
              "      <td>[Afghanistan, Bangladesh]</td>\n",
              "      <td>BAN</td>\n",
              "      <td>[254, 222]</td>\n",
              "    </tr>\n",
              "    <tr>\n",
              "      <th>4</th>\n",
              "      <td>2016-09-25</td>\n",
              "      <td>AFG</td>\n",
              "      <td>BAN</td>\n",
              "      <td>Away</td>\n",
              "      <td>3936</td>\n",
              "      <td>198</td>\n",
              "      <td>[Bangladesh, Afghanistan]</td>\n",
              "      <td>BAN</td>\n",
              "      <td>[265, 258]</td>\n",
              "    </tr>\n",
              "  </tbody>\n",
              "</table>\n",
              "</div>"
            ],
            "text/plain": [
              "         Date Team_1 Team_2  ...                      ORDER  TOSS      SCORES\n",
              "0  2015-03-04    AFG    AUS  ...   [Australia, Afghanistan]   AFG  [417, 142]\n",
              "1  2012-08-25    AFG    AUS  ...   [Australia, Afghanistan]   AUS  [272, 206]\n",
              "2  2019-06-01    AFG    AUS  ...   [Afghanistan, Australia]   AFG  [207, 209]\n",
              "3  2014-03-01    AFG    BAN  ...  [Afghanistan, Bangladesh]   BAN  [254, 222]\n",
              "4  2016-09-25    AFG    BAN  ...  [Bangladesh, Afghanistan]   BAN  [265, 258]\n",
              "\n",
              "[5 rows x 9 columns]"
            ]
          },
          "metadata": {
            "tags": []
          },
          "execution_count": 34
        }
      ]
    },
    {
      "cell_type": "code",
      "metadata": {
        "id": "vaOWUN8jprCo",
        "outputId": "2c544db3-aa16-4f9f-fd4c-b4ffcc74db17",
        "colab": {
          "base_uri": "https://localhost:8080/",
          "height": 289
        }
      },
      "source": [
        "match_df[['team1','team2']] = pd.DataFrame(match_df.ORDER.tolist(), index= match_df.index)\n",
        "match_df.head()"
      ],
      "execution_count": null,
      "outputs": [
        {
          "output_type": "execute_result",
          "data": {
            "text/html": [
              "<div>\n",
              "<style scoped>\n",
              "    .dataframe tbody tr th:only-of-type {\n",
              "        vertical-align: middle;\n",
              "    }\n",
              "\n",
              "    .dataframe tbody tr th {\n",
              "        vertical-align: top;\n",
              "    }\n",
              "\n",
              "    .dataframe thead th {\n",
              "        text-align: right;\n",
              "    }\n",
              "</style>\n",
              "<table border=\"1\" class=\"dataframe\">\n",
              "  <thead>\n",
              "    <tr style=\"text-align: right;\">\n",
              "      <th></th>\n",
              "      <th>Date</th>\n",
              "      <th>Team_1</th>\n",
              "      <th>Team_2</th>\n",
              "      <th>Venue</th>\n",
              "      <th>MatchCode</th>\n",
              "      <th>GroundCode</th>\n",
              "      <th>ORDER</th>\n",
              "      <th>TOSS</th>\n",
              "      <th>SCORES</th>\n",
              "      <th>team1</th>\n",
              "      <th>team2</th>\n",
              "    </tr>\n",
              "  </thead>\n",
              "  <tbody>\n",
              "    <tr>\n",
              "      <th>0</th>\n",
              "      <td>2015-03-04</td>\n",
              "      <td>AFG</td>\n",
              "      <td>AUS</td>\n",
              "      <td>Away</td>\n",
              "      <td>3773</td>\n",
              "      <td>65</td>\n",
              "      <td>[Australia, Afghanistan]</td>\n",
              "      <td>AFG</td>\n",
              "      <td>[417, 142]</td>\n",
              "      <td>Australia</td>\n",
              "      <td>Afghanistan</td>\n",
              "    </tr>\n",
              "    <tr>\n",
              "      <th>1</th>\n",
              "      <td>2012-08-25</td>\n",
              "      <td>AFG</td>\n",
              "      <td>AUS</td>\n",
              "      <td>Neutral</td>\n",
              "      <td>3437</td>\n",
              "      <td>156</td>\n",
              "      <td>[Australia, Afghanistan]</td>\n",
              "      <td>AUS</td>\n",
              "      <td>[272, 206]</td>\n",
              "      <td>Australia</td>\n",
              "      <td>Afghanistan</td>\n",
              "    </tr>\n",
              "    <tr>\n",
              "      <th>2</th>\n",
              "      <td>2019-06-01</td>\n",
              "      <td>AFG</td>\n",
              "      <td>AUS</td>\n",
              "      <td>Neutral</td>\n",
              "      <td>4306</td>\n",
              "      <td>149</td>\n",
              "      <td>[Afghanistan, Australia]</td>\n",
              "      <td>AFG</td>\n",
              "      <td>[207, 209]</td>\n",
              "      <td>Afghanistan</td>\n",
              "      <td>Australia</td>\n",
              "    </tr>\n",
              "    <tr>\n",
              "      <th>3</th>\n",
              "      <td>2014-03-01</td>\n",
              "      <td>AFG</td>\n",
              "      <td>BAN</td>\n",
              "      <td>Away</td>\n",
              "      <td>3623</td>\n",
              "      <td>190</td>\n",
              "      <td>[Afghanistan, Bangladesh]</td>\n",
              "      <td>BAN</td>\n",
              "      <td>[254, 222]</td>\n",
              "      <td>Afghanistan</td>\n",
              "      <td>Bangladesh</td>\n",
              "    </tr>\n",
              "    <tr>\n",
              "      <th>4</th>\n",
              "      <td>2016-09-25</td>\n",
              "      <td>AFG</td>\n",
              "      <td>BAN</td>\n",
              "      <td>Away</td>\n",
              "      <td>3936</td>\n",
              "      <td>198</td>\n",
              "      <td>[Bangladesh, Afghanistan]</td>\n",
              "      <td>BAN</td>\n",
              "      <td>[265, 258]</td>\n",
              "      <td>Bangladesh</td>\n",
              "      <td>Afghanistan</td>\n",
              "    </tr>\n",
              "  </tbody>\n",
              "</table>\n",
              "</div>"
            ],
            "text/plain": [
              "         Date Team_1 Team_2    Venue  ...  TOSS      SCORES        team1        team2\n",
              "0  2015-03-04    AFG    AUS     Away  ...   AFG  [417, 142]    Australia  Afghanistan\n",
              "1  2012-08-25    AFG    AUS  Neutral  ...   AUS  [272, 206]    Australia  Afghanistan\n",
              "2  2019-06-01    AFG    AUS  Neutral  ...   AFG  [207, 209]  Afghanistan    Australia\n",
              "3  2014-03-01    AFG    BAN     Away  ...   BAN  [254, 222]  Afghanistan   Bangladesh\n",
              "4  2016-09-25    AFG    BAN     Away  ...   BAN  [265, 258]   Bangladesh  Afghanistan\n",
              "\n",
              "[5 rows x 11 columns]"
            ]
          },
          "metadata": {
            "tags": []
          },
          "execution_count": 35
        }
      ]
    },
    {
      "cell_type": "code",
      "metadata": {
        "id": "Tn2O-9p7qaK_",
        "outputId": "7f5c5332-2e55-4deb-cef6-d721caf9a944",
        "colab": {
          "base_uri": "https://localhost:8080/",
          "height": 309
        }
      },
      "source": [
        "match_df[['score1','score2']] = pd.DataFrame(match_df.SCORES.tolist(), index= match_df.index)\n",
        "match_df.head()"
      ],
      "execution_count": null,
      "outputs": [
        {
          "output_type": "execute_result",
          "data": {
            "text/html": [
              "<div>\n",
              "<style scoped>\n",
              "    .dataframe tbody tr th:only-of-type {\n",
              "        vertical-align: middle;\n",
              "    }\n",
              "\n",
              "    .dataframe tbody tr th {\n",
              "        vertical-align: top;\n",
              "    }\n",
              "\n",
              "    .dataframe thead th {\n",
              "        text-align: right;\n",
              "    }\n",
              "</style>\n",
              "<table border=\"1\" class=\"dataframe\">\n",
              "  <thead>\n",
              "    <tr style=\"text-align: right;\">\n",
              "      <th></th>\n",
              "      <th>Date</th>\n",
              "      <th>Team_1</th>\n",
              "      <th>Team_2</th>\n",
              "      <th>Venue</th>\n",
              "      <th>MatchCode</th>\n",
              "      <th>GroundCode</th>\n",
              "      <th>ORDER</th>\n",
              "      <th>TOSS</th>\n",
              "      <th>SCORES</th>\n",
              "      <th>team1</th>\n",
              "      <th>team2</th>\n",
              "      <th>score1</th>\n",
              "      <th>score2</th>\n",
              "    </tr>\n",
              "  </thead>\n",
              "  <tbody>\n",
              "    <tr>\n",
              "      <th>0</th>\n",
              "      <td>2015-03-04</td>\n",
              "      <td>AFG</td>\n",
              "      <td>AUS</td>\n",
              "      <td>Away</td>\n",
              "      <td>3773</td>\n",
              "      <td>65</td>\n",
              "      <td>[Australia, Afghanistan]</td>\n",
              "      <td>AFG</td>\n",
              "      <td>[417, 142]</td>\n",
              "      <td>Australia</td>\n",
              "      <td>Afghanistan</td>\n",
              "      <td>417</td>\n",
              "      <td>142</td>\n",
              "    </tr>\n",
              "    <tr>\n",
              "      <th>1</th>\n",
              "      <td>2012-08-25</td>\n",
              "      <td>AFG</td>\n",
              "      <td>AUS</td>\n",
              "      <td>Neutral</td>\n",
              "      <td>3437</td>\n",
              "      <td>156</td>\n",
              "      <td>[Australia, Afghanistan]</td>\n",
              "      <td>AUS</td>\n",
              "      <td>[272, 206]</td>\n",
              "      <td>Australia</td>\n",
              "      <td>Afghanistan</td>\n",
              "      <td>272</td>\n",
              "      <td>206</td>\n",
              "    </tr>\n",
              "    <tr>\n",
              "      <th>2</th>\n",
              "      <td>2019-06-01</td>\n",
              "      <td>AFG</td>\n",
              "      <td>AUS</td>\n",
              "      <td>Neutral</td>\n",
              "      <td>4306</td>\n",
              "      <td>149</td>\n",
              "      <td>[Afghanistan, Australia]</td>\n",
              "      <td>AFG</td>\n",
              "      <td>[207, 209]</td>\n",
              "      <td>Afghanistan</td>\n",
              "      <td>Australia</td>\n",
              "      <td>207</td>\n",
              "      <td>209</td>\n",
              "    </tr>\n",
              "    <tr>\n",
              "      <th>3</th>\n",
              "      <td>2014-03-01</td>\n",
              "      <td>AFG</td>\n",
              "      <td>BAN</td>\n",
              "      <td>Away</td>\n",
              "      <td>3623</td>\n",
              "      <td>190</td>\n",
              "      <td>[Afghanistan, Bangladesh]</td>\n",
              "      <td>BAN</td>\n",
              "      <td>[254, 222]</td>\n",
              "      <td>Afghanistan</td>\n",
              "      <td>Bangladesh</td>\n",
              "      <td>254</td>\n",
              "      <td>222</td>\n",
              "    </tr>\n",
              "    <tr>\n",
              "      <th>4</th>\n",
              "      <td>2016-09-25</td>\n",
              "      <td>AFG</td>\n",
              "      <td>BAN</td>\n",
              "      <td>Away</td>\n",
              "      <td>3936</td>\n",
              "      <td>198</td>\n",
              "      <td>[Bangladesh, Afghanistan]</td>\n",
              "      <td>BAN</td>\n",
              "      <td>[265, 258]</td>\n",
              "      <td>Bangladesh</td>\n",
              "      <td>Afghanistan</td>\n",
              "      <td>265</td>\n",
              "      <td>258</td>\n",
              "    </tr>\n",
              "  </tbody>\n",
              "</table>\n",
              "</div>"
            ],
            "text/plain": [
              "         Date Team_1 Team_2    Venue  ...        team1        team2 score1 score2\n",
              "0  2015-03-04    AFG    AUS     Away  ...    Australia  Afghanistan    417    142\n",
              "1  2012-08-25    AFG    AUS  Neutral  ...    Australia  Afghanistan    272    206\n",
              "2  2019-06-01    AFG    AUS  Neutral  ...  Afghanistan    Australia    207    209\n",
              "3  2014-03-01    AFG    BAN     Away  ...  Afghanistan   Bangladesh    254    222\n",
              "4  2016-09-25    AFG    BAN     Away  ...   Bangladesh  Afghanistan    265    258\n",
              "\n",
              "[5 rows x 13 columns]"
            ]
          },
          "metadata": {
            "tags": []
          },
          "execution_count": 36
        }
      ]
    },
    {
      "cell_type": "code",
      "metadata": {
        "id": "2eBiE8XwqpIM",
        "outputId": "3d37288b-d45c-4a27-c409-df234c471357",
        "colab": {
          "base_uri": "https://localhost:8080/",
          "height": 202
        }
      },
      "source": [
        "match_df = match_df.drop(['ORDER', 'SCORES'], axis=1)\n",
        "match_df.head()"
      ],
      "execution_count": null,
      "outputs": [
        {
          "output_type": "execute_result",
          "data": {
            "text/html": [
              "<div>\n",
              "<style scoped>\n",
              "    .dataframe tbody tr th:only-of-type {\n",
              "        vertical-align: middle;\n",
              "    }\n",
              "\n",
              "    .dataframe tbody tr th {\n",
              "        vertical-align: top;\n",
              "    }\n",
              "\n",
              "    .dataframe thead th {\n",
              "        text-align: right;\n",
              "    }\n",
              "</style>\n",
              "<table border=\"1\" class=\"dataframe\">\n",
              "  <thead>\n",
              "    <tr style=\"text-align: right;\">\n",
              "      <th></th>\n",
              "      <th>Date</th>\n",
              "      <th>Team_1</th>\n",
              "      <th>Team_2</th>\n",
              "      <th>Venue</th>\n",
              "      <th>MatchCode</th>\n",
              "      <th>GroundCode</th>\n",
              "      <th>TOSS</th>\n",
              "      <th>team1</th>\n",
              "      <th>team2</th>\n",
              "      <th>score1</th>\n",
              "      <th>score2</th>\n",
              "    </tr>\n",
              "  </thead>\n",
              "  <tbody>\n",
              "    <tr>\n",
              "      <th>0</th>\n",
              "      <td>2015-03-04</td>\n",
              "      <td>AFG</td>\n",
              "      <td>AUS</td>\n",
              "      <td>Away</td>\n",
              "      <td>3773</td>\n",
              "      <td>65</td>\n",
              "      <td>AFG</td>\n",
              "      <td>Australia</td>\n",
              "      <td>Afghanistan</td>\n",
              "      <td>417</td>\n",
              "      <td>142</td>\n",
              "    </tr>\n",
              "    <tr>\n",
              "      <th>1</th>\n",
              "      <td>2012-08-25</td>\n",
              "      <td>AFG</td>\n",
              "      <td>AUS</td>\n",
              "      <td>Neutral</td>\n",
              "      <td>3437</td>\n",
              "      <td>156</td>\n",
              "      <td>AUS</td>\n",
              "      <td>Australia</td>\n",
              "      <td>Afghanistan</td>\n",
              "      <td>272</td>\n",
              "      <td>206</td>\n",
              "    </tr>\n",
              "    <tr>\n",
              "      <th>2</th>\n",
              "      <td>2019-06-01</td>\n",
              "      <td>AFG</td>\n",
              "      <td>AUS</td>\n",
              "      <td>Neutral</td>\n",
              "      <td>4306</td>\n",
              "      <td>149</td>\n",
              "      <td>AFG</td>\n",
              "      <td>Afghanistan</td>\n",
              "      <td>Australia</td>\n",
              "      <td>207</td>\n",
              "      <td>209</td>\n",
              "    </tr>\n",
              "    <tr>\n",
              "      <th>3</th>\n",
              "      <td>2014-03-01</td>\n",
              "      <td>AFG</td>\n",
              "      <td>BAN</td>\n",
              "      <td>Away</td>\n",
              "      <td>3623</td>\n",
              "      <td>190</td>\n",
              "      <td>BAN</td>\n",
              "      <td>Afghanistan</td>\n",
              "      <td>Bangladesh</td>\n",
              "      <td>254</td>\n",
              "      <td>222</td>\n",
              "    </tr>\n",
              "    <tr>\n",
              "      <th>4</th>\n",
              "      <td>2016-09-25</td>\n",
              "      <td>AFG</td>\n",
              "      <td>BAN</td>\n",
              "      <td>Away</td>\n",
              "      <td>3936</td>\n",
              "      <td>198</td>\n",
              "      <td>BAN</td>\n",
              "      <td>Bangladesh</td>\n",
              "      <td>Afghanistan</td>\n",
              "      <td>265</td>\n",
              "      <td>258</td>\n",
              "    </tr>\n",
              "  </tbody>\n",
              "</table>\n",
              "</div>"
            ],
            "text/plain": [
              "         Date Team_1 Team_2    Venue  ...        team1        team2 score1 score2\n",
              "0  2015-03-04    AFG    AUS     Away  ...    Australia  Afghanistan    417    142\n",
              "1  2012-08-25    AFG    AUS  Neutral  ...    Australia  Afghanistan    272    206\n",
              "2  2019-06-01    AFG    AUS  Neutral  ...  Afghanistan    Australia    207    209\n",
              "3  2014-03-01    AFG    BAN     Away  ...  Afghanistan   Bangladesh    254    222\n",
              "4  2016-09-25    AFG    BAN     Away  ...   Bangladesh  Afghanistan    265    258\n",
              "\n",
              "[5 rows x 11 columns]"
            ]
          },
          "metadata": {
            "tags": []
          },
          "execution_count": 37
        }
      ]
    },
    {
      "cell_type": "code",
      "metadata": {
        "id": "UuDud9h2sZdu",
        "outputId": "ac1daaeb-a42d-4a63-ce9a-43c0bd80ea38",
        "colab": {
          "base_uri": "https://localhost:8080/",
          "height": 202
        }
      },
      "source": [
        "match_df.replace({'team1':name_to_code,'team2':name_to_code}, inplace=True)\n",
        "match_df.head()"
      ],
      "execution_count": null,
      "outputs": [
        {
          "output_type": "execute_result",
          "data": {
            "text/html": [
              "<div>\n",
              "<style scoped>\n",
              "    .dataframe tbody tr th:only-of-type {\n",
              "        vertical-align: middle;\n",
              "    }\n",
              "\n",
              "    .dataframe tbody tr th {\n",
              "        vertical-align: top;\n",
              "    }\n",
              "\n",
              "    .dataframe thead th {\n",
              "        text-align: right;\n",
              "    }\n",
              "</style>\n",
              "<table border=\"1\" class=\"dataframe\">\n",
              "  <thead>\n",
              "    <tr style=\"text-align: right;\">\n",
              "      <th></th>\n",
              "      <th>Date</th>\n",
              "      <th>Team_1</th>\n",
              "      <th>Team_2</th>\n",
              "      <th>Venue</th>\n",
              "      <th>MatchCode</th>\n",
              "      <th>GroundCode</th>\n",
              "      <th>TOSS</th>\n",
              "      <th>team1</th>\n",
              "      <th>team2</th>\n",
              "      <th>score1</th>\n",
              "      <th>score2</th>\n",
              "    </tr>\n",
              "  </thead>\n",
              "  <tbody>\n",
              "    <tr>\n",
              "      <th>0</th>\n",
              "      <td>2015-03-04</td>\n",
              "      <td>AFG</td>\n",
              "      <td>AUS</td>\n",
              "      <td>Away</td>\n",
              "      <td>3773</td>\n",
              "      <td>65</td>\n",
              "      <td>AFG</td>\n",
              "      <td>AUS</td>\n",
              "      <td>AFG</td>\n",
              "      <td>417</td>\n",
              "      <td>142</td>\n",
              "    </tr>\n",
              "    <tr>\n",
              "      <th>1</th>\n",
              "      <td>2012-08-25</td>\n",
              "      <td>AFG</td>\n",
              "      <td>AUS</td>\n",
              "      <td>Neutral</td>\n",
              "      <td>3437</td>\n",
              "      <td>156</td>\n",
              "      <td>AUS</td>\n",
              "      <td>AUS</td>\n",
              "      <td>AFG</td>\n",
              "      <td>272</td>\n",
              "      <td>206</td>\n",
              "    </tr>\n",
              "    <tr>\n",
              "      <th>2</th>\n",
              "      <td>2019-06-01</td>\n",
              "      <td>AFG</td>\n",
              "      <td>AUS</td>\n",
              "      <td>Neutral</td>\n",
              "      <td>4306</td>\n",
              "      <td>149</td>\n",
              "      <td>AFG</td>\n",
              "      <td>AFG</td>\n",
              "      <td>AUS</td>\n",
              "      <td>207</td>\n",
              "      <td>209</td>\n",
              "    </tr>\n",
              "    <tr>\n",
              "      <th>3</th>\n",
              "      <td>2014-03-01</td>\n",
              "      <td>AFG</td>\n",
              "      <td>BAN</td>\n",
              "      <td>Away</td>\n",
              "      <td>3623</td>\n",
              "      <td>190</td>\n",
              "      <td>BAN</td>\n",
              "      <td>AFG</td>\n",
              "      <td>BAN</td>\n",
              "      <td>254</td>\n",
              "      <td>222</td>\n",
              "    </tr>\n",
              "    <tr>\n",
              "      <th>4</th>\n",
              "      <td>2016-09-25</td>\n",
              "      <td>AFG</td>\n",
              "      <td>BAN</td>\n",
              "      <td>Away</td>\n",
              "      <td>3936</td>\n",
              "      <td>198</td>\n",
              "      <td>BAN</td>\n",
              "      <td>BAN</td>\n",
              "      <td>AFG</td>\n",
              "      <td>265</td>\n",
              "      <td>258</td>\n",
              "    </tr>\n",
              "  </tbody>\n",
              "</table>\n",
              "</div>"
            ],
            "text/plain": [
              "         Date Team_1 Team_2    Venue  ...  team1  team2 score1 score2\n",
              "0  2015-03-04    AFG    AUS     Away  ...    AUS    AFG    417    142\n",
              "1  2012-08-25    AFG    AUS  Neutral  ...    AUS    AFG    272    206\n",
              "2  2019-06-01    AFG    AUS  Neutral  ...    AFG    AUS    207    209\n",
              "3  2014-03-01    AFG    BAN     Away  ...    AFG    BAN    254    222\n",
              "4  2016-09-25    AFG    BAN     Away  ...    BAN    AFG    265    258\n",
              "\n",
              "[5 rows x 11 columns]"
            ]
          },
          "metadata": {
            "tags": []
          },
          "execution_count": 38
        }
      ]
    },
    {
      "cell_type": "code",
      "metadata": {
        "id": "d8Uk7rY2s02Q",
        "outputId": "d581eb34-2125-4d10-c1d8-0c232fff846a",
        "colab": {
          "base_uri": "https://localhost:8080/",
          "height": 289
        }
      },
      "source": [
        "match_df['Score_1'] = match_df['score1']\n",
        "match_df['Score_2'] = match_df['score2']\n",
        "match_df.head()"
      ],
      "execution_count": null,
      "outputs": [
        {
          "output_type": "execute_result",
          "data": {
            "text/html": [
              "<div>\n",
              "<style scoped>\n",
              "    .dataframe tbody tr th:only-of-type {\n",
              "        vertical-align: middle;\n",
              "    }\n",
              "\n",
              "    .dataframe tbody tr th {\n",
              "        vertical-align: top;\n",
              "    }\n",
              "\n",
              "    .dataframe thead th {\n",
              "        text-align: right;\n",
              "    }\n",
              "</style>\n",
              "<table border=\"1\" class=\"dataframe\">\n",
              "  <thead>\n",
              "    <tr style=\"text-align: right;\">\n",
              "      <th></th>\n",
              "      <th>Date</th>\n",
              "      <th>Team_1</th>\n",
              "      <th>Team_2</th>\n",
              "      <th>Venue</th>\n",
              "      <th>MatchCode</th>\n",
              "      <th>GroundCode</th>\n",
              "      <th>TOSS</th>\n",
              "      <th>team1</th>\n",
              "      <th>team2</th>\n",
              "      <th>score1</th>\n",
              "      <th>score2</th>\n",
              "      <th>Score_1</th>\n",
              "      <th>Score_2</th>\n",
              "    </tr>\n",
              "  </thead>\n",
              "  <tbody>\n",
              "    <tr>\n",
              "      <th>0</th>\n",
              "      <td>2015-03-04</td>\n",
              "      <td>AFG</td>\n",
              "      <td>AUS</td>\n",
              "      <td>Away</td>\n",
              "      <td>3773</td>\n",
              "      <td>65</td>\n",
              "      <td>AFG</td>\n",
              "      <td>AUS</td>\n",
              "      <td>AFG</td>\n",
              "      <td>417</td>\n",
              "      <td>142</td>\n",
              "      <td>417</td>\n",
              "      <td>142</td>\n",
              "    </tr>\n",
              "    <tr>\n",
              "      <th>1</th>\n",
              "      <td>2012-08-25</td>\n",
              "      <td>AFG</td>\n",
              "      <td>AUS</td>\n",
              "      <td>Neutral</td>\n",
              "      <td>3437</td>\n",
              "      <td>156</td>\n",
              "      <td>AUS</td>\n",
              "      <td>AUS</td>\n",
              "      <td>AFG</td>\n",
              "      <td>272</td>\n",
              "      <td>206</td>\n",
              "      <td>272</td>\n",
              "      <td>206</td>\n",
              "    </tr>\n",
              "    <tr>\n",
              "      <th>2</th>\n",
              "      <td>2019-06-01</td>\n",
              "      <td>AFG</td>\n",
              "      <td>AUS</td>\n",
              "      <td>Neutral</td>\n",
              "      <td>4306</td>\n",
              "      <td>149</td>\n",
              "      <td>AFG</td>\n",
              "      <td>AFG</td>\n",
              "      <td>AUS</td>\n",
              "      <td>207</td>\n",
              "      <td>209</td>\n",
              "      <td>207</td>\n",
              "      <td>209</td>\n",
              "    </tr>\n",
              "    <tr>\n",
              "      <th>3</th>\n",
              "      <td>2014-03-01</td>\n",
              "      <td>AFG</td>\n",
              "      <td>BAN</td>\n",
              "      <td>Away</td>\n",
              "      <td>3623</td>\n",
              "      <td>190</td>\n",
              "      <td>BAN</td>\n",
              "      <td>AFG</td>\n",
              "      <td>BAN</td>\n",
              "      <td>254</td>\n",
              "      <td>222</td>\n",
              "      <td>254</td>\n",
              "      <td>222</td>\n",
              "    </tr>\n",
              "    <tr>\n",
              "      <th>4</th>\n",
              "      <td>2016-09-25</td>\n",
              "      <td>AFG</td>\n",
              "      <td>BAN</td>\n",
              "      <td>Away</td>\n",
              "      <td>3936</td>\n",
              "      <td>198</td>\n",
              "      <td>BAN</td>\n",
              "      <td>BAN</td>\n",
              "      <td>AFG</td>\n",
              "      <td>265</td>\n",
              "      <td>258</td>\n",
              "      <td>265</td>\n",
              "      <td>258</td>\n",
              "    </tr>\n",
              "  </tbody>\n",
              "</table>\n",
              "</div>"
            ],
            "text/plain": [
              "         Date Team_1 Team_2    Venue  ...  score1  score2 Score_1 Score_2\n",
              "0  2015-03-04    AFG    AUS     Away  ...     417     142     417     142\n",
              "1  2012-08-25    AFG    AUS  Neutral  ...     272     206     272     206\n",
              "2  2019-06-01    AFG    AUS  Neutral  ...     207     209     207     209\n",
              "3  2014-03-01    AFG    BAN     Away  ...     254     222     254     222\n",
              "4  2016-09-25    AFG    BAN     Away  ...     265     258     265     258\n",
              "\n",
              "[5 rows x 13 columns]"
            ]
          },
          "metadata": {
            "tags": []
          },
          "execution_count": 39
        }
      ]
    },
    {
      "cell_type": "code",
      "metadata": {
        "id": "_0ODB1i9q-Cs",
        "outputId": "f38f62ab-0c81-47c6-95ac-500226e32ac8",
        "colab": {
          "base_uri": "https://localhost:8080/"
        }
      },
      "source": [
        "for ind in match_df.index: \n",
        "  if(match_df['Team_1'][ind]==match_df['team1'][ind]):\n",
        "    match_df['Score_1'][ind] = match_df['score1'][ind]\n",
        "    match_df['Score_2'][ind] = match_df['score2'][ind]\n",
        "  else:\n",
        "    match_df['Score_1'][ind] = match_df['score2'][ind]\n",
        "    match_df['Score_2'][ind] = match_df['score1'][ind]\n"
      ],
      "execution_count": null,
      "outputs": [
        {
          "output_type": "stream",
          "text": [
            "/usr/local/lib/python3.6/dist-packages/ipykernel_launcher.py:6: SettingWithCopyWarning: \n",
            "A value is trying to be set on a copy of a slice from a DataFrame\n",
            "\n",
            "See the caveats in the documentation: https://pandas.pydata.org/pandas-docs/stable/user_guide/indexing.html#returning-a-view-versus-a-copy\n",
            "  \n",
            "/usr/local/lib/python3.6/dist-packages/ipykernel_launcher.py:7: SettingWithCopyWarning: \n",
            "A value is trying to be set on a copy of a slice from a DataFrame\n",
            "\n",
            "See the caveats in the documentation: https://pandas.pydata.org/pandas-docs/stable/user_guide/indexing.html#returning-a-view-versus-a-copy\n",
            "  import sys\n",
            "/usr/local/lib/python3.6/dist-packages/ipykernel_launcher.py:3: SettingWithCopyWarning: \n",
            "A value is trying to be set on a copy of a slice from a DataFrame\n",
            "\n",
            "See the caveats in the documentation: https://pandas.pydata.org/pandas-docs/stable/user_guide/indexing.html#returning-a-view-versus-a-copy\n",
            "  This is separate from the ipykernel package so we can avoid doing imports until\n",
            "/usr/local/lib/python3.6/dist-packages/ipykernel_launcher.py:4: SettingWithCopyWarning: \n",
            "A value is trying to be set on a copy of a slice from a DataFrame\n",
            "\n",
            "See the caveats in the documentation: https://pandas.pydata.org/pandas-docs/stable/user_guide/indexing.html#returning-a-view-versus-a-copy\n",
            "  after removing the cwd from sys.path.\n"
          ],
          "name": "stderr"
        }
      ]
    },
    {
      "cell_type": "code",
      "metadata": {
        "id": "s6djE6Iaso4Q",
        "outputId": "fff9b561-bbbf-48ec-a6b1-a460c76f98ad",
        "colab": {
          "base_uri": "https://localhost:8080/",
          "height": 289
        }
      },
      "source": [
        "match_df.head()"
      ],
      "execution_count": null,
      "outputs": [
        {
          "output_type": "execute_result",
          "data": {
            "text/html": [
              "<div>\n",
              "<style scoped>\n",
              "    .dataframe tbody tr th:only-of-type {\n",
              "        vertical-align: middle;\n",
              "    }\n",
              "\n",
              "    .dataframe tbody tr th {\n",
              "        vertical-align: top;\n",
              "    }\n",
              "\n",
              "    .dataframe thead th {\n",
              "        text-align: right;\n",
              "    }\n",
              "</style>\n",
              "<table border=\"1\" class=\"dataframe\">\n",
              "  <thead>\n",
              "    <tr style=\"text-align: right;\">\n",
              "      <th></th>\n",
              "      <th>Date</th>\n",
              "      <th>Team_1</th>\n",
              "      <th>Team_2</th>\n",
              "      <th>Venue</th>\n",
              "      <th>MatchCode</th>\n",
              "      <th>GroundCode</th>\n",
              "      <th>TOSS</th>\n",
              "      <th>team1</th>\n",
              "      <th>team2</th>\n",
              "      <th>score1</th>\n",
              "      <th>score2</th>\n",
              "      <th>Score_1</th>\n",
              "      <th>Score_2</th>\n",
              "    </tr>\n",
              "  </thead>\n",
              "  <tbody>\n",
              "    <tr>\n",
              "      <th>0</th>\n",
              "      <td>2015-03-04</td>\n",
              "      <td>AFG</td>\n",
              "      <td>AUS</td>\n",
              "      <td>Away</td>\n",
              "      <td>3773</td>\n",
              "      <td>65</td>\n",
              "      <td>AFG</td>\n",
              "      <td>AUS</td>\n",
              "      <td>AFG</td>\n",
              "      <td>417</td>\n",
              "      <td>142</td>\n",
              "      <td>142</td>\n",
              "      <td>417</td>\n",
              "    </tr>\n",
              "    <tr>\n",
              "      <th>1</th>\n",
              "      <td>2012-08-25</td>\n",
              "      <td>AFG</td>\n",
              "      <td>AUS</td>\n",
              "      <td>Neutral</td>\n",
              "      <td>3437</td>\n",
              "      <td>156</td>\n",
              "      <td>AUS</td>\n",
              "      <td>AUS</td>\n",
              "      <td>AFG</td>\n",
              "      <td>272</td>\n",
              "      <td>206</td>\n",
              "      <td>206</td>\n",
              "      <td>272</td>\n",
              "    </tr>\n",
              "    <tr>\n",
              "      <th>2</th>\n",
              "      <td>2019-06-01</td>\n",
              "      <td>AFG</td>\n",
              "      <td>AUS</td>\n",
              "      <td>Neutral</td>\n",
              "      <td>4306</td>\n",
              "      <td>149</td>\n",
              "      <td>AFG</td>\n",
              "      <td>AFG</td>\n",
              "      <td>AUS</td>\n",
              "      <td>207</td>\n",
              "      <td>209</td>\n",
              "      <td>207</td>\n",
              "      <td>209</td>\n",
              "    </tr>\n",
              "    <tr>\n",
              "      <th>3</th>\n",
              "      <td>2014-03-01</td>\n",
              "      <td>AFG</td>\n",
              "      <td>BAN</td>\n",
              "      <td>Away</td>\n",
              "      <td>3623</td>\n",
              "      <td>190</td>\n",
              "      <td>BAN</td>\n",
              "      <td>AFG</td>\n",
              "      <td>BAN</td>\n",
              "      <td>254</td>\n",
              "      <td>222</td>\n",
              "      <td>254</td>\n",
              "      <td>222</td>\n",
              "    </tr>\n",
              "    <tr>\n",
              "      <th>4</th>\n",
              "      <td>2016-09-25</td>\n",
              "      <td>AFG</td>\n",
              "      <td>BAN</td>\n",
              "      <td>Away</td>\n",
              "      <td>3936</td>\n",
              "      <td>198</td>\n",
              "      <td>BAN</td>\n",
              "      <td>BAN</td>\n",
              "      <td>AFG</td>\n",
              "      <td>265</td>\n",
              "      <td>258</td>\n",
              "      <td>258</td>\n",
              "      <td>265</td>\n",
              "    </tr>\n",
              "  </tbody>\n",
              "</table>\n",
              "</div>"
            ],
            "text/plain": [
              "         Date Team_1 Team_2    Venue  ...  score1  score2 Score_1 Score_2\n",
              "0  2015-03-04    AFG    AUS     Away  ...     417     142     142     417\n",
              "1  2012-08-25    AFG    AUS  Neutral  ...     272     206     206     272\n",
              "2  2019-06-01    AFG    AUS  Neutral  ...     207     209     207     209\n",
              "3  2014-03-01    AFG    BAN     Away  ...     254     222     254     222\n",
              "4  2016-09-25    AFG    BAN     Away  ...     265     258     258     265\n",
              "\n",
              "[5 rows x 13 columns]"
            ]
          },
          "metadata": {
            "tags": []
          },
          "execution_count": 41
        }
      ]
    },
    {
      "cell_type": "code",
      "metadata": {
        "id": "xDt2PxWQtDPT",
        "outputId": "980c14e4-65c1-4f0c-c4de-6be3501443f4",
        "colab": {
          "base_uri": "https://localhost:8080/",
          "height": 202
        }
      },
      "source": [
        "match_df = match_df.drop(['team1', 'team2','score1','score2'], axis=1)\n",
        "match_df.head()"
      ],
      "execution_count": null,
      "outputs": [
        {
          "output_type": "execute_result",
          "data": {
            "text/html": [
              "<div>\n",
              "<style scoped>\n",
              "    .dataframe tbody tr th:only-of-type {\n",
              "        vertical-align: middle;\n",
              "    }\n",
              "\n",
              "    .dataframe tbody tr th {\n",
              "        vertical-align: top;\n",
              "    }\n",
              "\n",
              "    .dataframe thead th {\n",
              "        text-align: right;\n",
              "    }\n",
              "</style>\n",
              "<table border=\"1\" class=\"dataframe\">\n",
              "  <thead>\n",
              "    <tr style=\"text-align: right;\">\n",
              "      <th></th>\n",
              "      <th>Date</th>\n",
              "      <th>Team_1</th>\n",
              "      <th>Team_2</th>\n",
              "      <th>Venue</th>\n",
              "      <th>MatchCode</th>\n",
              "      <th>GroundCode</th>\n",
              "      <th>TOSS</th>\n",
              "      <th>Score_1</th>\n",
              "      <th>Score_2</th>\n",
              "    </tr>\n",
              "  </thead>\n",
              "  <tbody>\n",
              "    <tr>\n",
              "      <th>0</th>\n",
              "      <td>2015-03-04</td>\n",
              "      <td>AFG</td>\n",
              "      <td>AUS</td>\n",
              "      <td>Away</td>\n",
              "      <td>3773</td>\n",
              "      <td>65</td>\n",
              "      <td>AFG</td>\n",
              "      <td>142</td>\n",
              "      <td>417</td>\n",
              "    </tr>\n",
              "    <tr>\n",
              "      <th>1</th>\n",
              "      <td>2012-08-25</td>\n",
              "      <td>AFG</td>\n",
              "      <td>AUS</td>\n",
              "      <td>Neutral</td>\n",
              "      <td>3437</td>\n",
              "      <td>156</td>\n",
              "      <td>AUS</td>\n",
              "      <td>206</td>\n",
              "      <td>272</td>\n",
              "    </tr>\n",
              "    <tr>\n",
              "      <th>2</th>\n",
              "      <td>2019-06-01</td>\n",
              "      <td>AFG</td>\n",
              "      <td>AUS</td>\n",
              "      <td>Neutral</td>\n",
              "      <td>4306</td>\n",
              "      <td>149</td>\n",
              "      <td>AFG</td>\n",
              "      <td>207</td>\n",
              "      <td>209</td>\n",
              "    </tr>\n",
              "    <tr>\n",
              "      <th>3</th>\n",
              "      <td>2014-03-01</td>\n",
              "      <td>AFG</td>\n",
              "      <td>BAN</td>\n",
              "      <td>Away</td>\n",
              "      <td>3623</td>\n",
              "      <td>190</td>\n",
              "      <td>BAN</td>\n",
              "      <td>254</td>\n",
              "      <td>222</td>\n",
              "    </tr>\n",
              "    <tr>\n",
              "      <th>4</th>\n",
              "      <td>2016-09-25</td>\n",
              "      <td>AFG</td>\n",
              "      <td>BAN</td>\n",
              "      <td>Away</td>\n",
              "      <td>3936</td>\n",
              "      <td>198</td>\n",
              "      <td>BAN</td>\n",
              "      <td>258</td>\n",
              "      <td>265</td>\n",
              "    </tr>\n",
              "  </tbody>\n",
              "</table>\n",
              "</div>"
            ],
            "text/plain": [
              "         Date Team_1 Team_2    Venue  ...  GroundCode  TOSS Score_1  Score_2\n",
              "0  2015-03-04    AFG    AUS     Away  ...          65   AFG     142      417\n",
              "1  2012-08-25    AFG    AUS  Neutral  ...         156   AUS     206      272\n",
              "2  2019-06-01    AFG    AUS  Neutral  ...         149   AFG     207      209\n",
              "3  2014-03-01    AFG    BAN     Away  ...         190   BAN     254      222\n",
              "4  2016-09-25    AFG    BAN     Away  ...         198   BAN     258      265\n",
              "\n",
              "[5 rows x 9 columns]"
            ]
          },
          "metadata": {
            "tags": []
          },
          "execution_count": 42
        }
      ]
    },
    {
      "cell_type": "code",
      "metadata": {
        "id": "pN9cOnsCtUWD"
      },
      "source": [
        "venue_encoding = {\n",
        "    \n",
        "    \"Home\" : 0,\n",
        "    \"Away\" : 1,\n",
        "    \"Neutral\" : 2\n",
        "}"
      ],
      "execution_count": null,
      "outputs": []
    },
    {
      "cell_type": "code",
      "metadata": {
        "id": "JsAS02bqtuF6",
        "outputId": "0b7d0030-916a-44d9-99f1-d2db12ec28c6",
        "colab": {
          "base_uri": "https://localhost:8080/",
          "height": 202
        }
      },
      "source": [
        "match_df.replace({'Venue':venue_encoding}, inplace=True)\n",
        "match_df.head()"
      ],
      "execution_count": null,
      "outputs": [
        {
          "output_type": "execute_result",
          "data": {
            "text/html": [
              "<div>\n",
              "<style scoped>\n",
              "    .dataframe tbody tr th:only-of-type {\n",
              "        vertical-align: middle;\n",
              "    }\n",
              "\n",
              "    .dataframe tbody tr th {\n",
              "        vertical-align: top;\n",
              "    }\n",
              "\n",
              "    .dataframe thead th {\n",
              "        text-align: right;\n",
              "    }\n",
              "</style>\n",
              "<table border=\"1\" class=\"dataframe\">\n",
              "  <thead>\n",
              "    <tr style=\"text-align: right;\">\n",
              "      <th></th>\n",
              "      <th>Date</th>\n",
              "      <th>Team_1</th>\n",
              "      <th>Team_2</th>\n",
              "      <th>Venue</th>\n",
              "      <th>MatchCode</th>\n",
              "      <th>GroundCode</th>\n",
              "      <th>TOSS</th>\n",
              "      <th>Score_1</th>\n",
              "      <th>Score_2</th>\n",
              "    </tr>\n",
              "  </thead>\n",
              "  <tbody>\n",
              "    <tr>\n",
              "      <th>0</th>\n",
              "      <td>2015-03-04</td>\n",
              "      <td>AFG</td>\n",
              "      <td>AUS</td>\n",
              "      <td>1</td>\n",
              "      <td>3773</td>\n",
              "      <td>65</td>\n",
              "      <td>AFG</td>\n",
              "      <td>142</td>\n",
              "      <td>417</td>\n",
              "    </tr>\n",
              "    <tr>\n",
              "      <th>1</th>\n",
              "      <td>2012-08-25</td>\n",
              "      <td>AFG</td>\n",
              "      <td>AUS</td>\n",
              "      <td>2</td>\n",
              "      <td>3437</td>\n",
              "      <td>156</td>\n",
              "      <td>AUS</td>\n",
              "      <td>206</td>\n",
              "      <td>272</td>\n",
              "    </tr>\n",
              "    <tr>\n",
              "      <th>2</th>\n",
              "      <td>2019-06-01</td>\n",
              "      <td>AFG</td>\n",
              "      <td>AUS</td>\n",
              "      <td>2</td>\n",
              "      <td>4306</td>\n",
              "      <td>149</td>\n",
              "      <td>AFG</td>\n",
              "      <td>207</td>\n",
              "      <td>209</td>\n",
              "    </tr>\n",
              "    <tr>\n",
              "      <th>3</th>\n",
              "      <td>2014-03-01</td>\n",
              "      <td>AFG</td>\n",
              "      <td>BAN</td>\n",
              "      <td>1</td>\n",
              "      <td>3623</td>\n",
              "      <td>190</td>\n",
              "      <td>BAN</td>\n",
              "      <td>254</td>\n",
              "      <td>222</td>\n",
              "    </tr>\n",
              "    <tr>\n",
              "      <th>4</th>\n",
              "      <td>2016-09-25</td>\n",
              "      <td>AFG</td>\n",
              "      <td>BAN</td>\n",
              "      <td>1</td>\n",
              "      <td>3936</td>\n",
              "      <td>198</td>\n",
              "      <td>BAN</td>\n",
              "      <td>258</td>\n",
              "      <td>265</td>\n",
              "    </tr>\n",
              "  </tbody>\n",
              "</table>\n",
              "</div>"
            ],
            "text/plain": [
              "         Date Team_1 Team_2  Venue  ...  GroundCode  TOSS Score_1  Score_2\n",
              "0  2015-03-04    AFG    AUS      1  ...          65   AFG     142      417\n",
              "1  2012-08-25    AFG    AUS      2  ...         156   AUS     206      272\n",
              "2  2019-06-01    AFG    AUS      2  ...         149   AFG     207      209\n",
              "3  2014-03-01    AFG    BAN      1  ...         190   BAN     254      222\n",
              "4  2016-09-25    AFG    BAN      1  ...         198   BAN     258      265\n",
              "\n",
              "[5 rows x 9 columns]"
            ]
          },
          "metadata": {
            "tags": []
          },
          "execution_count": 44
        }
      ]
    },
    {
      "cell_type": "code",
      "metadata": {
        "id": "hXkBZEqPymJW"
      },
      "source": [
        "match_df['Winner'] = match_df['TOSS']"
      ],
      "execution_count": null,
      "outputs": []
    },
    {
      "cell_type": "code",
      "metadata": {
        "id": "xRm-VsmiytQQ",
        "outputId": "732bbe6a-267b-4c7d-bc87-d4b91f14041f",
        "colab": {
          "base_uri": "https://localhost:8080/"
        }
      },
      "source": [
        "for ind in match_df.index: \n",
        "  if(match_df['Score_1'][ind]>match_df['Score_2'][ind]):\n",
        "    match_df['Winner'][ind] = match_df['Team_1'][ind]\n",
        "  else:\n",
        "    match_df['Winner'][ind] = match_df['Team_2'][ind]"
      ],
      "execution_count": null,
      "outputs": [
        {
          "output_type": "stream",
          "text": [
            "/usr/local/lib/python3.6/dist-packages/ipykernel_launcher.py:5: SettingWithCopyWarning: \n",
            "A value is trying to be set on a copy of a slice from a DataFrame\n",
            "\n",
            "See the caveats in the documentation: https://pandas.pydata.org/pandas-docs/stable/user_guide/indexing.html#returning-a-view-versus-a-copy\n",
            "  \"\"\"\n",
            "/usr/local/lib/python3.6/dist-packages/ipykernel_launcher.py:3: SettingWithCopyWarning: \n",
            "A value is trying to be set on a copy of a slice from a DataFrame\n",
            "\n",
            "See the caveats in the documentation: https://pandas.pydata.org/pandas-docs/stable/user_guide/indexing.html#returning-a-view-versus-a-copy\n",
            "  This is separate from the ipykernel package so we can avoid doing imports until\n"
          ],
          "name": "stderr"
        }
      ]
    },
    {
      "cell_type": "code",
      "metadata": {
        "id": "WMvzfnrgacOO",
        "outputId": "3559a095-2166-447b-abfc-e4672664d762",
        "colab": {
          "base_uri": "https://localhost:8080/"
        }
      },
      "source": [
        "for ind in match_df.index: \n",
        "  if(match_df['TOSS'][ind]==match_df['Team_1'][ind]):\n",
        "    match_df['TOSS'][ind] = 1\n",
        "  else:\n",
        "    match_df['TOSS'][ind] = 2"
      ],
      "execution_count": null,
      "outputs": [
        {
          "output_type": "stream",
          "text": [
            "/usr/local/lib/python3.6/dist-packages/ipykernel_launcher.py:3: SettingWithCopyWarning: \n",
            "A value is trying to be set on a copy of a slice from a DataFrame\n",
            "\n",
            "See the caveats in the documentation: https://pandas.pydata.org/pandas-docs/stable/user_guide/indexing.html#returning-a-view-versus-a-copy\n",
            "  This is separate from the ipykernel package so we can avoid doing imports until\n",
            "/usr/local/lib/python3.6/dist-packages/ipykernel_launcher.py:5: SettingWithCopyWarning: \n",
            "A value is trying to be set on a copy of a slice from a DataFrame\n",
            "\n",
            "See the caveats in the documentation: https://pandas.pydata.org/pandas-docs/stable/user_guide/indexing.html#returning-a-view-versus-a-copy\n",
            "  \"\"\"\n"
          ],
          "name": "stderr"
        }
      ]
    },
    {
      "cell_type": "code",
      "metadata": {
        "id": "dkFIPqFQzQk3",
        "outputId": "8c5db349-1423-40d4-e451-3eee0cb223bc",
        "colab": {
          "base_uri": "https://localhost:8080/",
          "height": 202
        }
      },
      "source": [
        "match_df.head()"
      ],
      "execution_count": null,
      "outputs": [
        {
          "output_type": "execute_result",
          "data": {
            "text/html": [
              "<div>\n",
              "<style scoped>\n",
              "    .dataframe tbody tr th:only-of-type {\n",
              "        vertical-align: middle;\n",
              "    }\n",
              "\n",
              "    .dataframe tbody tr th {\n",
              "        vertical-align: top;\n",
              "    }\n",
              "\n",
              "    .dataframe thead th {\n",
              "        text-align: right;\n",
              "    }\n",
              "</style>\n",
              "<table border=\"1\" class=\"dataframe\">\n",
              "  <thead>\n",
              "    <tr style=\"text-align: right;\">\n",
              "      <th></th>\n",
              "      <th>Date</th>\n",
              "      <th>Team_1</th>\n",
              "      <th>Team_2</th>\n",
              "      <th>Venue</th>\n",
              "      <th>MatchCode</th>\n",
              "      <th>GroundCode</th>\n",
              "      <th>TOSS</th>\n",
              "      <th>Score_1</th>\n",
              "      <th>Score_2</th>\n",
              "      <th>Winner</th>\n",
              "    </tr>\n",
              "  </thead>\n",
              "  <tbody>\n",
              "    <tr>\n",
              "      <th>0</th>\n",
              "      <td>2015-03-04</td>\n",
              "      <td>AFG</td>\n",
              "      <td>AUS</td>\n",
              "      <td>1</td>\n",
              "      <td>3773</td>\n",
              "      <td>65</td>\n",
              "      <td>1</td>\n",
              "      <td>142</td>\n",
              "      <td>417</td>\n",
              "      <td>AUS</td>\n",
              "    </tr>\n",
              "    <tr>\n",
              "      <th>1</th>\n",
              "      <td>2012-08-25</td>\n",
              "      <td>AFG</td>\n",
              "      <td>AUS</td>\n",
              "      <td>2</td>\n",
              "      <td>3437</td>\n",
              "      <td>156</td>\n",
              "      <td>2</td>\n",
              "      <td>206</td>\n",
              "      <td>272</td>\n",
              "      <td>AUS</td>\n",
              "    </tr>\n",
              "    <tr>\n",
              "      <th>2</th>\n",
              "      <td>2019-06-01</td>\n",
              "      <td>AFG</td>\n",
              "      <td>AUS</td>\n",
              "      <td>2</td>\n",
              "      <td>4306</td>\n",
              "      <td>149</td>\n",
              "      <td>1</td>\n",
              "      <td>207</td>\n",
              "      <td>209</td>\n",
              "      <td>AUS</td>\n",
              "    </tr>\n",
              "    <tr>\n",
              "      <th>3</th>\n",
              "      <td>2014-03-01</td>\n",
              "      <td>AFG</td>\n",
              "      <td>BAN</td>\n",
              "      <td>1</td>\n",
              "      <td>3623</td>\n",
              "      <td>190</td>\n",
              "      <td>2</td>\n",
              "      <td>254</td>\n",
              "      <td>222</td>\n",
              "      <td>AFG</td>\n",
              "    </tr>\n",
              "    <tr>\n",
              "      <th>4</th>\n",
              "      <td>2016-09-25</td>\n",
              "      <td>AFG</td>\n",
              "      <td>BAN</td>\n",
              "      <td>1</td>\n",
              "      <td>3936</td>\n",
              "      <td>198</td>\n",
              "      <td>2</td>\n",
              "      <td>258</td>\n",
              "      <td>265</td>\n",
              "      <td>BAN</td>\n",
              "    </tr>\n",
              "  </tbody>\n",
              "</table>\n",
              "</div>"
            ],
            "text/plain": [
              "         Date Team_1 Team_2  Venue  ...  TOSS  Score_1 Score_2  Winner\n",
              "0  2015-03-04    AFG    AUS      1  ...     1      142     417     AUS\n",
              "1  2012-08-25    AFG    AUS      2  ...     2      206     272     AUS\n",
              "2  2019-06-01    AFG    AUS      2  ...     1      207     209     AUS\n",
              "3  2014-03-01    AFG    BAN      1  ...     2      254     222     AFG\n",
              "4  2016-09-25    AFG    BAN      1  ...     2      258     265     BAN\n",
              "\n",
              "[5 rows x 10 columns]"
            ]
          },
          "metadata": {
            "tags": []
          },
          "execution_count": 48
        }
      ]
    },
    {
      "cell_type": "code",
      "metadata": {
        "id": "tIZ_UIOqwOrd",
        "outputId": "5324be9c-3ebd-4460-8c16-a53457e126d0",
        "colab": {
          "base_uri": "https://localhost:8080/"
        }
      },
      "source": [
        "!pip install --upgrade tables"
      ],
      "execution_count": 16,
      "outputs": [
        {
          "output_type": "stream",
          "text": [
            "Requirement already up-to-date: tables in /usr/local/lib/python3.6/dist-packages (3.6.1)\n",
            "Requirement already satisfied, skipping upgrade: numpy>=1.9.3 in /usr/local/lib/python3.6/dist-packages (from tables) (1.18.5)\n",
            "Requirement already satisfied, skipping upgrade: numexpr>=2.6.2 in /usr/local/lib/python3.6/dist-packages (from tables) (2.7.1)\n"
          ],
          "name": "stdout"
        }
      ]
    },
    {
      "cell_type": "code",
      "metadata": {
        "id": "jWQ0ulRPt6WM",
        "outputId": "5bf171e6-2e25-4e6e-8b93-174be5f93849",
        "colab": {
          "base_uri": "https://localhost:8080/"
        }
      },
      "source": [
        "# Save the final dataframe\n",
        "data_store = pd.HDFStore('processed_data.h5')\n",
        "\n",
        "data_store['preprocessed_df'] = match_df\n",
        "data_store.close()"
      ],
      "execution_count": null,
      "outputs": [
        {
          "output_type": "stream",
          "text": [
            "/usr/local/lib/python3.6/dist-packages/IPython/core/interactiveshell.py:2882: PerformanceWarning: \n",
            "your performance may suffer as PyTables will pickle object types that it cannot\n",
            "map directly to c-types [inferred_type->mixed-integer,key->block1_values] [items->Index(['Date', 'Team_1', 'Team_2', 'TOSS', 'Winner'], dtype='object')]\n",
            "\n",
            "  exec(code_obj, self.user_global_ns, self.user_ns)\n"
          ],
          "name": "stderr"
        }
      ]
    },
    {
      "cell_type": "markdown",
      "metadata": {
        "id": "GZbSMnE6vOcv"
      },
      "source": [
        "##Data Analysis"
      ]
    },
    {
      "cell_type": "code",
      "metadata": {
        "id": "Ubqh-uH5vR-C"
      },
      "source": [
        "# Access data store\n",
        "data_store = pd.HDFStore('processed_data.h5')\n",
        "\n",
        "# Retrieve data using key\n",
        "match_df = data_store['preprocessed_df']\n",
        "data_store.close()"
      ],
      "execution_count": 2,
      "outputs": []
    },
    {
      "cell_type": "code",
      "metadata": {
        "id": "eCaRkJ51mZ60"
      },
      "source": [
        "np.random.seed(42)"
      ],
      "execution_count": 3,
      "outputs": []
    },
    {
      "cell_type": "code",
      "metadata": {
        "id": "Q17UGj95vjFQ",
        "outputId": "fd909041-5778-4da4-caa0-3729ceed6da2",
        "colab": {
          "base_uri": "https://localhost:8080/",
          "height": 202
        }
      },
      "source": [
        "match_df.head()"
      ],
      "execution_count": 4,
      "outputs": [
        {
          "output_type": "execute_result",
          "data": {
            "text/html": [
              "<div>\n",
              "<style scoped>\n",
              "    .dataframe tbody tr th:only-of-type {\n",
              "        vertical-align: middle;\n",
              "    }\n",
              "\n",
              "    .dataframe tbody tr th {\n",
              "        vertical-align: top;\n",
              "    }\n",
              "\n",
              "    .dataframe thead th {\n",
              "        text-align: right;\n",
              "    }\n",
              "</style>\n",
              "<table border=\"1\" class=\"dataframe\">\n",
              "  <thead>\n",
              "    <tr style=\"text-align: right;\">\n",
              "      <th></th>\n",
              "      <th>Date</th>\n",
              "      <th>Team_1</th>\n",
              "      <th>Team_2</th>\n",
              "      <th>Venue</th>\n",
              "      <th>MatchCode</th>\n",
              "      <th>GroundCode</th>\n",
              "      <th>TOSS</th>\n",
              "      <th>Score_1</th>\n",
              "      <th>Score_2</th>\n",
              "      <th>Winner</th>\n",
              "    </tr>\n",
              "  </thead>\n",
              "  <tbody>\n",
              "    <tr>\n",
              "      <th>0</th>\n",
              "      <td>2015-03-04</td>\n",
              "      <td>AFG</td>\n",
              "      <td>AUS</td>\n",
              "      <td>1</td>\n",
              "      <td>3773</td>\n",
              "      <td>65</td>\n",
              "      <td>1</td>\n",
              "      <td>142</td>\n",
              "      <td>417</td>\n",
              "      <td>AUS</td>\n",
              "    </tr>\n",
              "    <tr>\n",
              "      <th>1</th>\n",
              "      <td>2012-08-25</td>\n",
              "      <td>AFG</td>\n",
              "      <td>AUS</td>\n",
              "      <td>2</td>\n",
              "      <td>3437</td>\n",
              "      <td>156</td>\n",
              "      <td>2</td>\n",
              "      <td>206</td>\n",
              "      <td>272</td>\n",
              "      <td>AUS</td>\n",
              "    </tr>\n",
              "    <tr>\n",
              "      <th>2</th>\n",
              "      <td>2019-06-01</td>\n",
              "      <td>AFG</td>\n",
              "      <td>AUS</td>\n",
              "      <td>2</td>\n",
              "      <td>4306</td>\n",
              "      <td>149</td>\n",
              "      <td>1</td>\n",
              "      <td>207</td>\n",
              "      <td>209</td>\n",
              "      <td>AUS</td>\n",
              "    </tr>\n",
              "    <tr>\n",
              "      <th>3</th>\n",
              "      <td>2014-03-01</td>\n",
              "      <td>AFG</td>\n",
              "      <td>BAN</td>\n",
              "      <td>1</td>\n",
              "      <td>3623</td>\n",
              "      <td>190</td>\n",
              "      <td>2</td>\n",
              "      <td>254</td>\n",
              "      <td>222</td>\n",
              "      <td>AFG</td>\n",
              "    </tr>\n",
              "    <tr>\n",
              "      <th>4</th>\n",
              "      <td>2016-09-25</td>\n",
              "      <td>AFG</td>\n",
              "      <td>BAN</td>\n",
              "      <td>1</td>\n",
              "      <td>3936</td>\n",
              "      <td>198</td>\n",
              "      <td>2</td>\n",
              "      <td>258</td>\n",
              "      <td>265</td>\n",
              "      <td>BAN</td>\n",
              "    </tr>\n",
              "  </tbody>\n",
              "</table>\n",
              "</div>"
            ],
            "text/plain": [
              "         Date Team_1 Team_2  Venue  ...  TOSS  Score_1 Score_2  Winner\n",
              "0  2015-03-04    AFG    AUS      1  ...     1      142     417     AUS\n",
              "1  2012-08-25    AFG    AUS      2  ...     2      206     272     AUS\n",
              "2  2019-06-01    AFG    AUS      2  ...     1      207     209     AUS\n",
              "3  2014-03-01    AFG    BAN      1  ...     2      254     222     AFG\n",
              "4  2016-09-25    AFG    BAN      1  ...     2      258     265     BAN\n",
              "\n",
              "[5 rows x 10 columns]"
            ]
          },
          "metadata": {
            "tags": []
          },
          "execution_count": 4
        }
      ]
    },
    {
      "cell_type": "code",
      "metadata": {
        "id": "lW-Ekiqs4L7q",
        "outputId": "2525b4ca-bb48-463b-8b0b-33e351a493e4",
        "colab": {
          "base_uri": "https://localhost:8080/"
        }
      },
      "source": [
        "ss = match_df['TOSS'] == match_df['Winner']\n",
        "ss.groupby(ss).size()"
      ],
      "execution_count": 5,
      "outputs": [
        {
          "output_type": "execute_result",
          "data": {
            "text/plain": [
              "False    3656\n",
              "dtype: int64"
            ]
          },
          "metadata": {
            "tags": []
          },
          "execution_count": 5
        }
      ]
    },
    {
      "cell_type": "markdown",
      "metadata": {
        "id": "K_v-yMb06V_C"
      },
      "source": [
        "From the above numbers, it does seem that there might be a slight correlation between winning the toss and winning the match"
      ]
    },
    {
      "cell_type": "code",
      "metadata": {
        "id": "bE-QmnJd6qW9",
        "outputId": "af6cac3a-8ee8-4f28-8efe-52a129de1b6a",
        "colab": {
          "base_uri": "https://localhost:8080/",
          "height": 337
        }
      },
      "source": [
        "sns.countplot(ss)"
      ],
      "execution_count": null,
      "outputs": [
        {
          "output_type": "stream",
          "text": [
            "/usr/local/lib/python3.6/dist-packages/seaborn/_decorators.py:43: FutureWarning: Pass the following variable as a keyword arg: x. From version 0.12, the only valid positional argument will be `data`, and passing other arguments without an explicit keyword will result in an error or misinterpretation.\n",
            "  FutureWarning\n"
          ],
          "name": "stderr"
        },
        {
          "output_type": "execute_result",
          "data": {
            "text/plain": [
              "<matplotlib.axes._subplots.AxesSubplot at 0x7f90519a6240>"
            ]
          },
          "metadata": {
            "tags": []
          },
          "execution_count": 144
        },
        {
          "output_type": "display_data",
          "data": {
            "image/png": "[encoded data removed]",
            "text/plain": [
              "<Figure size 432x288 with 1 Axes>"
            ]
          },
          "metadata": {
            "tags": [],
            "needs_background": "light"
          }
        }
      ]
    },
    {
      "cell_type": "code",
      "metadata": {
        "id": "BVsT8CVx7I4k"
      },
      "source": [
        "df_group = match_df.groupby('GroundCode')"
      ],
      "execution_count": null,
      "outputs": []
    },
    {
      "cell_type": "code",
      "metadata": {
        "id": "L1dJU-hm-u6u",
        "outputId": "fc3030d9-e052-4850-a8e8-83ef9dbbecf5",
        "colab": {
          "base_uri": "https://localhost:8080/",
          "height": 415
        }
      },
      "source": [
        "df_group.head()"
      ],
      "execution_count": null,
      "outputs": [
        {
          "output_type": "execute_result",
          "data": {
            "text/html": [
              "<div>\n",
              "<style scoped>\n",
              "    .dataframe tbody tr th:only-of-type {\n",
              "        vertical-align: middle;\n",
              "    }\n",
              "\n",
              "    .dataframe tbody tr th {\n",
              "        vertical-align: top;\n",
              "    }\n",
              "\n",
              "    .dataframe thead th {\n",
              "        text-align: right;\n",
              "    }\n",
              "</style>\n",
              "<table border=\"1\" class=\"dataframe\">\n",
              "  <thead>\n",
              "    <tr style=\"text-align: right;\">\n",
              "      <th></th>\n",
              "      <th>Date</th>\n",
              "      <th>Team_1</th>\n",
              "      <th>Team_2</th>\n",
              "      <th>Venue</th>\n",
              "      <th>MatchCode</th>\n",
              "      <th>GroundCode</th>\n",
              "      <th>TOSS</th>\n",
              "      <th>Score_1</th>\n",
              "      <th>Score_2</th>\n",
              "      <th>Winner</th>\n",
              "    </tr>\n",
              "  </thead>\n",
              "  <tbody>\n",
              "    <tr>\n",
              "      <th>0</th>\n",
              "      <td>2015-03-04</td>\n",
              "      <td>AFG</td>\n",
              "      <td>AUS</td>\n",
              "      <td>1</td>\n",
              "      <td>3773</td>\n",
              "      <td>65</td>\n",
              "      <td>1</td>\n",
              "      <td>142</td>\n",
              "      <td>417</td>\n",
              "      <td>AUS</td>\n",
              "    </tr>\n",
              "    <tr>\n",
              "      <th>1</th>\n",
              "      <td>2012-08-25</td>\n",
              "      <td>AFG</td>\n",
              "      <td>AUS</td>\n",
              "      <td>2</td>\n",
              "      <td>3437</td>\n",
              "      <td>156</td>\n",
              "      <td>2</td>\n",
              "      <td>206</td>\n",
              "      <td>272</td>\n",
              "      <td>AUS</td>\n",
              "    </tr>\n",
              "    <tr>\n",
              "      <th>2</th>\n",
              "      <td>2019-06-01</td>\n",
              "      <td>AFG</td>\n",
              "      <td>AUS</td>\n",
              "      <td>2</td>\n",
              "      <td>4306</td>\n",
              "      <td>149</td>\n",
              "      <td>1</td>\n",
              "      <td>207</td>\n",
              "      <td>209</td>\n",
              "      <td>AUS</td>\n",
              "    </tr>\n",
              "    <tr>\n",
              "      <th>3</th>\n",
              "      <td>2014-03-01</td>\n",
              "      <td>AFG</td>\n",
              "      <td>BAN</td>\n",
              "      <td>1</td>\n",
              "      <td>3623</td>\n",
              "      <td>190</td>\n",
              "      <td>2</td>\n",
              "      <td>254</td>\n",
              "      <td>222</td>\n",
              "      <td>AFG</td>\n",
              "    </tr>\n",
              "    <tr>\n",
              "      <th>4</th>\n",
              "      <td>2016-09-25</td>\n",
              "      <td>AFG</td>\n",
              "      <td>BAN</td>\n",
              "      <td>1</td>\n",
              "      <td>3936</td>\n",
              "      <td>198</td>\n",
              "      <td>2</td>\n",
              "      <td>258</td>\n",
              "      <td>265</td>\n",
              "      <td>BAN</td>\n",
              "    </tr>\n",
              "    <tr>\n",
              "      <th>...</th>\n",
              "      <td>...</td>\n",
              "      <td>...</td>\n",
              "      <td>...</td>\n",
              "      <td>...</td>\n",
              "      <td>...</td>\n",
              "      <td>...</td>\n",
              "      <td>...</td>\n",
              "      <td>...</td>\n",
              "      <td>...</td>\n",
              "      <td>...</td>\n",
              "    </tr>\n",
              "    <tr>\n",
              "      <th>3596</th>\n",
              "      <td>1993-11-15</td>\n",
              "      <td>SRL</td>\n",
              "      <td>ZIM</td>\n",
              "      <td>2</td>\n",
              "      <td>911</td>\n",
              "      <td>134</td>\n",
              "      <td>2</td>\n",
              "      <td>263</td>\n",
              "      <td>208</td>\n",
              "      <td>SRL</td>\n",
              "    </tr>\n",
              "    <tr>\n",
              "      <th>3601</th>\n",
              "      <td>1999-05-22</td>\n",
              "      <td>SRL</td>\n",
              "      <td>ZIM</td>\n",
              "      <td>2</td>\n",
              "      <td>1539</td>\n",
              "      <td>143</td>\n",
              "      <td>1</td>\n",
              "      <td>198</td>\n",
              "      <td>197</td>\n",
              "      <td>SRL</td>\n",
              "    </tr>\n",
              "    <tr>\n",
              "      <th>3642</th>\n",
              "      <td>1983-06-13</td>\n",
              "      <td>WIN</td>\n",
              "      <td>ZIM</td>\n",
              "      <td>2</td>\n",
              "      <td>262</td>\n",
              "      <td>143</td>\n",
              "      <td>1</td>\n",
              "      <td>218</td>\n",
              "      <td>217</td>\n",
              "      <td>WIN</td>\n",
              "    </tr>\n",
              "    <tr>\n",
              "      <th>3648</th>\n",
              "      <td>2000-07-11</td>\n",
              "      <td>WIN</td>\n",
              "      <td>ZIM</td>\n",
              "      <td>2</td>\n",
              "      <td>1703</td>\n",
              "      <td>160</td>\n",
              "      <td>1</td>\n",
              "      <td>186</td>\n",
              "      <td>256</td>\n",
              "      <td>ZIM</td>\n",
              "    </tr>\n",
              "    <tr>\n",
              "      <th>3654</th>\n",
              "      <td>2001-12-16</td>\n",
              "      <td>WIN</td>\n",
              "      <td>ZIM</td>\n",
              "      <td>2</td>\n",
              "      <td>1866</td>\n",
              "      <td>2</td>\n",
              "      <td>1</td>\n",
              "      <td>155</td>\n",
              "      <td>154</td>\n",
              "      <td>WIN</td>\n",
              "    </tr>\n",
              "  </tbody>\n",
              "</table>\n",
              "<p>777 rows × 10 columns</p>\n",
              "</div>"
            ],
            "text/plain": [
              "            Date Team_1 Team_2  Venue  ...  TOSS  Score_1 Score_2  Winner\n",
              "0     2015-03-04    AFG    AUS      1  ...     1      142     417     AUS\n",
              "1     2012-08-25    AFG    AUS      2  ...     2      206     272     AUS\n",
              "2     2019-06-01    AFG    AUS      2  ...     1      207     209     AUS\n",
              "3     2014-03-01    AFG    BAN      1  ...     2      254     222     AFG\n",
              "4     2016-09-25    AFG    BAN      1  ...     2      258     265     BAN\n",
              "...          ...    ...    ...    ...  ...   ...      ...     ...     ...\n",
              "3596  1993-11-15    SRL    ZIM      2  ...     2      263     208     SRL\n",
              "3601  1999-05-22    SRL    ZIM      2  ...     1      198     197     SRL\n",
              "3642  1983-06-13    WIN    ZIM      2  ...     1      218     217     WIN\n",
              "3648  2000-07-11    WIN    ZIM      2  ...     1      186     256     ZIM\n",
              "3654  2001-12-16    WIN    ZIM      2  ...     1      155     154     WIN\n",
              "\n",
              "[777 rows x 10 columns]"
            ]
          },
          "metadata": {
            "tags": []
          },
          "execution_count": 58
        }
      ]
    },
    {
      "cell_type": "code",
      "metadata": {
        "id": "I55uAswBC6SC",
        "outputId": "b8e95e31-6e45-4402-d4c1-ac418f1d6e84",
        "colab": {
          "base_uri": "https://localhost:8080/",
          "height": 283
        }
      },
      "source": [
        "df_group['Winner'].value_counts()[:9].sort_index(ascending=False).plot(kind='barh')"
      ],
      "execution_count": null,
      "outputs": [
        {
          "output_type": "execute_result",
          "data": {
            "text/plain": [
              "<matplotlib.axes._subplots.AxesSubplot at 0x7f4d69b36ef0>"
            ]
          },
          "metadata": {
            "tags": []
          },
          "execution_count": 68
        },
        {
          "output_type": "display_data",
          "data": {
            "image/png": "[encoded data removed]",
            "text/plain": [
              "<Figure size 432x288 with 1 Axes>"
            ]
          },
          "metadata": {
            "tags": [],
            "needs_background": "light"
          }
        }
      ]
    },
    {
      "cell_type": "markdown",
      "metadata": {
        "id": "0iIglX8DhHUW"
      },
      "source": [
        "According to the analysis, there seems to be clear correlation between Australia playing a game in ground 1 and Australia winning. It also seems that Bangladesh is unable to perform well when playing in Ground 1. Let's use Causal Inference techniques to confirm that the ground influences the winning team."
      ]
    },
    {
      "cell_type": "code",
      "metadata": {
        "id": "waJe1ahNlLji",
        "outputId": "3156c9bd-d2d8-4d67-870e-8e4b2e9dadc3",
        "colab": {
          "base_uri": "https://localhost:8080/"
        }
      },
      "source": [
        "!pip install pyif\n",
        "!pip install nose"
      ],
      "execution_count": null,
      "outputs": [
        {
          "output_type": "stream",
          "text": [
            "Requirement already satisfied: pyif in /usr/local/lib/python3.6/dist-packages (0.1)\n",
            "Requirement already satisfied: nose in /usr/local/lib/python3.6/dist-packages (1.3.7)\n"
          ],
          "name": "stdout"
        }
      ]
    },
    {
      "cell_type": "code",
      "metadata": {
        "id": "GZMFU1FqmSTT"
      },
      "source": [
        "labelencoder = LabelEncoder()"
      ],
      "execution_count": null,
      "outputs": []
    },
    {
      "cell_type": "code",
      "metadata": {
        "id": "eC3WAOYMmT-n",
        "outputId": "72508de7-10d9-4596-ac80-3a725f1a6f8f",
        "colab": {
          "base_uri": "https://localhost:8080/",
          "height": 202
        }
      },
      "source": [
        "match_df['Winner_Enc'] = labelencoder.fit_transform(match_df['Winner'])\n",
        "match_df.head()"
      ],
      "execution_count": null,
      "outputs": [
        {
          "output_type": "execute_result",
          "data": {
            "text/html": [
              "<div>\n",
              "<style scoped>\n",
              "    .dataframe tbody tr th:only-of-type {\n",
              "        vertical-align: middle;\n",
              "    }\n",
              "\n",
              "    .dataframe tbody tr th {\n",
              "        vertical-align: top;\n",
              "    }\n",
              "\n",
              "    .dataframe thead th {\n",
              "        text-align: right;\n",
              "    }\n",
              "</style>\n",
              "<table border=\"1\" class=\"dataframe\">\n",
              "  <thead>\n",
              "    <tr style=\"text-align: right;\">\n",
              "      <th></th>\n",
              "      <th>Date</th>\n",
              "      <th>Team_1</th>\n",
              "      <th>Team_2</th>\n",
              "      <th>Venue</th>\n",
              "      <th>MatchCode</th>\n",
              "      <th>GroundCode</th>\n",
              "      <th>TOSS</th>\n",
              "      <th>Score_1</th>\n",
              "      <th>Score_2</th>\n",
              "      <th>Winner</th>\n",
              "      <th>Winner_Enc</th>\n",
              "    </tr>\n",
              "  </thead>\n",
              "  <tbody>\n",
              "    <tr>\n",
              "      <th>0</th>\n",
              "      <td>2015-03-04</td>\n",
              "      <td>AFG</td>\n",
              "      <td>AUS</td>\n",
              "      <td>1</td>\n",
              "      <td>3773</td>\n",
              "      <td>65</td>\n",
              "      <td>1</td>\n",
              "      <td>142</td>\n",
              "      <td>417</td>\n",
              "      <td>AUS</td>\n",
              "      <td>1</td>\n",
              "    </tr>\n",
              "    <tr>\n",
              "      <th>1</th>\n",
              "      <td>2012-08-25</td>\n",
              "      <td>AFG</td>\n",
              "      <td>AUS</td>\n",
              "      <td>2</td>\n",
              "      <td>3437</td>\n",
              "      <td>156</td>\n",
              "      <td>2</td>\n",
              "      <td>206</td>\n",
              "      <td>272</td>\n",
              "      <td>AUS</td>\n",
              "      <td>1</td>\n",
              "    </tr>\n",
              "    <tr>\n",
              "      <th>2</th>\n",
              "      <td>2019-06-01</td>\n",
              "      <td>AFG</td>\n",
              "      <td>AUS</td>\n",
              "      <td>2</td>\n",
              "      <td>4306</td>\n",
              "      <td>149</td>\n",
              "      <td>1</td>\n",
              "      <td>207</td>\n",
              "      <td>209</td>\n",
              "      <td>AUS</td>\n",
              "      <td>1</td>\n",
              "    </tr>\n",
              "    <tr>\n",
              "      <th>3</th>\n",
              "      <td>2014-03-01</td>\n",
              "      <td>AFG</td>\n",
              "      <td>BAN</td>\n",
              "      <td>1</td>\n",
              "      <td>3623</td>\n",
              "      <td>190</td>\n",
              "      <td>2</td>\n",
              "      <td>254</td>\n",
              "      <td>222</td>\n",
              "      <td>AFG</td>\n",
              "      <td>0</td>\n",
              "    </tr>\n",
              "    <tr>\n",
              "      <th>4</th>\n",
              "      <td>2016-09-25</td>\n",
              "      <td>AFG</td>\n",
              "      <td>BAN</td>\n",
              "      <td>1</td>\n",
              "      <td>3936</td>\n",
              "      <td>198</td>\n",
              "      <td>2</td>\n",
              "      <td>258</td>\n",
              "      <td>265</td>\n",
              "      <td>BAN</td>\n",
              "      <td>2</td>\n",
              "    </tr>\n",
              "  </tbody>\n",
              "</table>\n",
              "</div>"
            ],
            "text/plain": [
              "         Date Team_1 Team_2  Venue  ...  Score_1  Score_2 Winner  Winner_Enc\n",
              "0  2015-03-04    AFG    AUS      1  ...      142      417    AUS           1\n",
              "1  2012-08-25    AFG    AUS      2  ...      206      272    AUS           1\n",
              "2  2019-06-01    AFG    AUS      2  ...      207      209    AUS           1\n",
              "3  2014-03-01    AFG    BAN      1  ...      254      222    AFG           0\n",
              "4  2016-09-25    AFG    BAN      1  ...      258      265    BAN           2\n",
              "\n",
              "[5 rows x 11 columns]"
            ]
          },
          "metadata": {
            "tags": []
          },
          "execution_count": 7
        }
      ]
    },
    {
      "cell_type": "code",
      "metadata": {
        "id": "tVm4kYn6oW08",
        "outputId": "4648e75c-8c6d-4f9f-8f78-c3e2260d81dc",
        "colab": {
          "base_uri": "https://localhost:8080/",
          "height": 289
        }
      },
      "source": [
        "match_df['Ground_Enc'] = labelencoder.fit_transform(match_df['GroundCode'])\n",
        "match_df.head()"
      ],
      "execution_count": null,
      "outputs": [
        {
          "output_type": "execute_result",
          "data": {
            "text/html": [
              "<div>\n",
              "<style scoped>\n",
              "    .dataframe tbody tr th:only-of-type {\n",
              "        vertical-align: middle;\n",
              "    }\n",
              "\n",
              "    .dataframe tbody tr th {\n",
              "        vertical-align: top;\n",
              "    }\n",
              "\n",
              "    .dataframe thead th {\n",
              "        text-align: right;\n",
              "    }\n",
              "</style>\n",
              "<table border=\"1\" class=\"dataframe\">\n",
              "  <thead>\n",
              "    <tr style=\"text-align: right;\">\n",
              "      <th></th>\n",
              "      <th>Date</th>\n",
              "      <th>Team_1</th>\n",
              "      <th>Team_2</th>\n",
              "      <th>Venue</th>\n",
              "      <th>MatchCode</th>\n",
              "      <th>GroundCode</th>\n",
              "      <th>TOSS</th>\n",
              "      <th>Score_1</th>\n",
              "      <th>Score_2</th>\n",
              "      <th>Winner</th>\n",
              "      <th>Winner_Enc</th>\n",
              "      <th>Ground_Enc</th>\n",
              "    </tr>\n",
              "  </thead>\n",
              "  <tbody>\n",
              "    <tr>\n",
              "      <th>0</th>\n",
              "      <td>2015-03-04</td>\n",
              "      <td>AFG</td>\n",
              "      <td>AUS</td>\n",
              "      <td>1</td>\n",
              "      <td>3773</td>\n",
              "      <td>65</td>\n",
              "      <td>1</td>\n",
              "      <td>142</td>\n",
              "      <td>417</td>\n",
              "      <td>AUS</td>\n",
              "      <td>1</td>\n",
              "      <td>53</td>\n",
              "    </tr>\n",
              "    <tr>\n",
              "      <th>1</th>\n",
              "      <td>2012-08-25</td>\n",
              "      <td>AFG</td>\n",
              "      <td>AUS</td>\n",
              "      <td>2</td>\n",
              "      <td>3437</td>\n",
              "      <td>156</td>\n",
              "      <td>2</td>\n",
              "      <td>206</td>\n",
              "      <td>272</td>\n",
              "      <td>AUS</td>\n",
              "      <td>1</td>\n",
              "      <td>119</td>\n",
              "    </tr>\n",
              "    <tr>\n",
              "      <th>2</th>\n",
              "      <td>2019-06-01</td>\n",
              "      <td>AFG</td>\n",
              "      <td>AUS</td>\n",
              "      <td>2</td>\n",
              "      <td>4306</td>\n",
              "      <td>149</td>\n",
              "      <td>1</td>\n",
              "      <td>207</td>\n",
              "      <td>209</td>\n",
              "      <td>AUS</td>\n",
              "      <td>1</td>\n",
              "      <td>112</td>\n",
              "    </tr>\n",
              "    <tr>\n",
              "      <th>3</th>\n",
              "      <td>2014-03-01</td>\n",
              "      <td>AFG</td>\n",
              "      <td>BAN</td>\n",
              "      <td>1</td>\n",
              "      <td>3623</td>\n",
              "      <td>190</td>\n",
              "      <td>2</td>\n",
              "      <td>254</td>\n",
              "      <td>222</td>\n",
              "      <td>AFG</td>\n",
              "      <td>0</td>\n",
              "      <td>152</td>\n",
              "    </tr>\n",
              "    <tr>\n",
              "      <th>4</th>\n",
              "      <td>2016-09-25</td>\n",
              "      <td>AFG</td>\n",
              "      <td>BAN</td>\n",
              "      <td>1</td>\n",
              "      <td>3936</td>\n",
              "      <td>198</td>\n",
              "      <td>2</td>\n",
              "      <td>258</td>\n",
              "      <td>265</td>\n",
              "      <td>BAN</td>\n",
              "      <td>2</td>\n",
              "      <td>160</td>\n",
              "    </tr>\n",
              "  </tbody>\n",
              "</table>\n",
              "</div>"
            ],
            "text/plain": [
              "         Date Team_1 Team_2  Venue  ...  Score_2  Winner Winner_Enc  Ground_Enc\n",
              "0  2015-03-04    AFG    AUS      1  ...      417     AUS          1          53\n",
              "1  2012-08-25    AFG    AUS      2  ...      272     AUS          1         119\n",
              "2  2019-06-01    AFG    AUS      2  ...      209     AUS          1         112\n",
              "3  2014-03-01    AFG    BAN      1  ...      222     AFG          0         152\n",
              "4  2016-09-25    AFG    BAN      1  ...      265     BAN          2         160\n",
              "\n",
              "[5 rows x 12 columns]"
            ]
          },
          "metadata": {
            "tags": []
          },
          "execution_count": 12
        }
      ]
    },
    {
      "cell_type": "code",
      "metadata": {
        "id": "k2_X99pUkN8O",
        "outputId": "23cdf796-98a1-481c-b361-95e5935e0759",
        "colab": {
          "base_uri": "https://localhost:8080/"
        }
      },
      "source": [
        "from PyIF import te_compute as te\n",
        "rand = np.random.RandomState(seed=23)\n",
        "\n",
        "TE = te.te_compute(np.array(match_df['Ground_Enc']), np.array(match_df['Winner_Enc']), k=1, embedding=1, safetyCheck=False, GPU=False)\n",
        "\n",
        "print(TE)"
      ],
      "execution_count": null,
      "outputs": [
        {
          "output_type": "stream",
          "text": [
            "0.33937395732974984\n"
          ],
          "name": "stdout"
        }
      ]
    },
    {
      "cell_type": "markdown",
      "metadata": {
        "id": "kJEXTc0Vn65O"
      },
      "source": [
        "The transfer entropy value indicates a small positive causal relationship of the ground on the winning team"
      ]
    },
    {
      "cell_type": "code",
      "metadata": {
        "id": "yy03Wgbpo3aq",
        "outputId": "5dd221f9-a8af-4ad1-91b6-d026005af4da",
        "colab": {
          "base_uri": "https://localhost:8080/",
          "height": 202
        }
      },
      "source": [
        "match_df = match_df.drop(['Ground_Enc', 'Winner_Enc'], axis=1)\n",
        "match_df.head()"
      ],
      "execution_count": null,
      "outputs": [
        {
          "output_type": "execute_result",
          "data": {
            "text/html": [
              "<div>\n",
              "<style scoped>\n",
              "    .dataframe tbody tr th:only-of-type {\n",
              "        vertical-align: middle;\n",
              "    }\n",
              "\n",
              "    .dataframe tbody tr th {\n",
              "        vertical-align: top;\n",
              "    }\n",
              "\n",
              "    .dataframe thead th {\n",
              "        text-align: right;\n",
              "    }\n",
              "</style>\n",
              "<table border=\"1\" class=\"dataframe\">\n",
              "  <thead>\n",
              "    <tr style=\"text-align: right;\">\n",
              "      <th></th>\n",
              "      <th>Date</th>\n",
              "      <th>Team_1</th>\n",
              "      <th>Team_2</th>\n",
              "      <th>Venue</th>\n",
              "      <th>MatchCode</th>\n",
              "      <th>GroundCode</th>\n",
              "      <th>TOSS</th>\n",
              "      <th>Score_1</th>\n",
              "      <th>Score_2</th>\n",
              "      <th>Winner</th>\n",
              "    </tr>\n",
              "  </thead>\n",
              "  <tbody>\n",
              "    <tr>\n",
              "      <th>0</th>\n",
              "      <td>2015-03-04</td>\n",
              "      <td>AFG</td>\n",
              "      <td>AUS</td>\n",
              "      <td>1</td>\n",
              "      <td>3773</td>\n",
              "      <td>65</td>\n",
              "      <td>1</td>\n",
              "      <td>142</td>\n",
              "      <td>417</td>\n",
              "      <td>AUS</td>\n",
              "    </tr>\n",
              "    <tr>\n",
              "      <th>1</th>\n",
              "      <td>2012-08-25</td>\n",
              "      <td>AFG</td>\n",
              "      <td>AUS</td>\n",
              "      <td>2</td>\n",
              "      <td>3437</td>\n",
              "      <td>156</td>\n",
              "      <td>2</td>\n",
              "      <td>206</td>\n",
              "      <td>272</td>\n",
              "      <td>AUS</td>\n",
              "    </tr>\n",
              "    <tr>\n",
              "      <th>2</th>\n",
              "      <td>2019-06-01</td>\n",
              "      <td>AFG</td>\n",
              "      <td>AUS</td>\n",
              "      <td>2</td>\n",
              "      <td>4306</td>\n",
              "      <td>149</td>\n",
              "      <td>1</td>\n",
              "      <td>207</td>\n",
              "      <td>209</td>\n",
              "      <td>AUS</td>\n",
              "    </tr>\n",
              "    <tr>\n",
              "      <th>3</th>\n",
              "      <td>2014-03-01</td>\n",
              "      <td>AFG</td>\n",
              "      <td>BAN</td>\n",
              "      <td>1</td>\n",
              "      <td>3623</td>\n",
              "      <td>190</td>\n",
              "      <td>2</td>\n",
              "      <td>254</td>\n",
              "      <td>222</td>\n",
              "      <td>AFG</td>\n",
              "    </tr>\n",
              "    <tr>\n",
              "      <th>4</th>\n",
              "      <td>2016-09-25</td>\n",
              "      <td>AFG</td>\n",
              "      <td>BAN</td>\n",
              "      <td>1</td>\n",
              "      <td>3936</td>\n",
              "      <td>198</td>\n",
              "      <td>2</td>\n",
              "      <td>258</td>\n",
              "      <td>265</td>\n",
              "      <td>BAN</td>\n",
              "    </tr>\n",
              "  </tbody>\n",
              "</table>\n",
              "</div>"
            ],
            "text/plain": [
              "         Date Team_1 Team_2  Venue  ...  TOSS  Score_1 Score_2  Winner\n",
              "0  2015-03-04    AFG    AUS      1  ...     1      142     417     AUS\n",
              "1  2012-08-25    AFG    AUS      2  ...     2      206     272     AUS\n",
              "2  2019-06-01    AFG    AUS      2  ...     1      207     209     AUS\n",
              "3  2014-03-01    AFG    BAN      1  ...     2      254     222     AFG\n",
              "4  2016-09-25    AFG    BAN      1  ...     2      258     265     BAN\n",
              "\n",
              "[5 rows x 10 columns]"
            ]
          },
          "metadata": {
            "tags": []
          },
          "execution_count": 17
        }
      ]
    },
    {
      "cell_type": "code",
      "metadata": {
        "id": "R04G0oFZqQw2",
        "outputId": "bb37a2c9-6a4a-450e-8da3-bcebf4639175",
        "colab": {
          "base_uri": "https://localhost:8080/",
          "height": 202
        }
      },
      "source": [
        "match_df['Winner_team'] = match_df['Winner']\n",
        "match_df.head()"
      ],
      "execution_count": 5,
      "outputs": [
        {
          "output_type": "execute_result",
          "data": {
            "text/html": [
              "<div>\n",
              "<style scoped>\n",
              "    .dataframe tbody tr th:only-of-type {\n",
              "        vertical-align: middle;\n",
              "    }\n",
              "\n",
              "    .dataframe tbody tr th {\n",
              "        vertical-align: top;\n",
              "    }\n",
              "\n",
              "    .dataframe thead th {\n",
              "        text-align: right;\n",
              "    }\n",
              "</style>\n",
              "<table border=\"1\" class=\"dataframe\">\n",
              "  <thead>\n",
              "    <tr style=\"text-align: right;\">\n",
              "      <th></th>\n",
              "      <th>Date</th>\n",
              "      <th>Team_1</th>\n",
              "      <th>Team_2</th>\n",
              "      <th>Venue</th>\n",
              "      <th>MatchCode</th>\n",
              "      <th>GroundCode</th>\n",
              "      <th>TOSS</th>\n",
              "      <th>Score_1</th>\n",
              "      <th>Score_2</th>\n",
              "      <th>Winner</th>\n",
              "      <th>Winner_team</th>\n",
              "    </tr>\n",
              "  </thead>\n",
              "  <tbody>\n",
              "    <tr>\n",
              "      <th>0</th>\n",
              "      <td>2015-03-04</td>\n",
              "      <td>AFG</td>\n",
              "      <td>AUS</td>\n",
              "      <td>1</td>\n",
              "      <td>3773</td>\n",
              "      <td>65</td>\n",
              "      <td>1</td>\n",
              "      <td>142</td>\n",
              "      <td>417</td>\n",
              "      <td>AUS</td>\n",
              "      <td>AUS</td>\n",
              "    </tr>\n",
              "    <tr>\n",
              "      <th>1</th>\n",
              "      <td>2012-08-25</td>\n",
              "      <td>AFG</td>\n",
              "      <td>AUS</td>\n",
              "      <td>2</td>\n",
              "      <td>3437</td>\n",
              "      <td>156</td>\n",
              "      <td>2</td>\n",
              "      <td>206</td>\n",
              "      <td>272</td>\n",
              "      <td>AUS</td>\n",
              "      <td>AUS</td>\n",
              "    </tr>\n",
              "    <tr>\n",
              "      <th>2</th>\n",
              "      <td>2019-06-01</td>\n",
              "      <td>AFG</td>\n",
              "      <td>AUS</td>\n",
              "      <td>2</td>\n",
              "      <td>4306</td>\n",
              "      <td>149</td>\n",
              "      <td>1</td>\n",
              "      <td>207</td>\n",
              "      <td>209</td>\n",
              "      <td>AUS</td>\n",
              "      <td>AUS</td>\n",
              "    </tr>\n",
              "    <tr>\n",
              "      <th>3</th>\n",
              "      <td>2014-03-01</td>\n",
              "      <td>AFG</td>\n",
              "      <td>BAN</td>\n",
              "      <td>1</td>\n",
              "      <td>3623</td>\n",
              "      <td>190</td>\n",
              "      <td>2</td>\n",
              "      <td>254</td>\n",
              "      <td>222</td>\n",
              "      <td>AFG</td>\n",
              "      <td>AFG</td>\n",
              "    </tr>\n",
              "    <tr>\n",
              "      <th>4</th>\n",
              "      <td>2016-09-25</td>\n",
              "      <td>AFG</td>\n",
              "      <td>BAN</td>\n",
              "      <td>1</td>\n",
              "      <td>3936</td>\n",
              "      <td>198</td>\n",
              "      <td>2</td>\n",
              "      <td>258</td>\n",
              "      <td>265</td>\n",
              "      <td>BAN</td>\n",
              "      <td>BAN</td>\n",
              "    </tr>\n",
              "  </tbody>\n",
              "</table>\n",
              "</div>"
            ],
            "text/plain": [
              "         Date Team_1 Team_2  Venue  ...  Score_1  Score_2 Winner  Winner_team\n",
              "0  2015-03-04    AFG    AUS      1  ...      142      417    AUS          AUS\n",
              "1  2012-08-25    AFG    AUS      2  ...      206      272    AUS          AUS\n",
              "2  2019-06-01    AFG    AUS      2  ...      207      209    AUS          AUS\n",
              "3  2014-03-01    AFG    BAN      1  ...      254      222    AFG          AFG\n",
              "4  2016-09-25    AFG    BAN      1  ...      258      265    BAN          BAN\n",
              "\n",
              "[5 rows x 11 columns]"
            ]
          },
          "metadata": {
            "tags": []
          },
          "execution_count": 5
        }
      ]
    },
    {
      "cell_type": "code",
      "metadata": {
        "id": "wCvsTy-KpL4D",
        "outputId": "42d0c262-988e-427e-ee2c-d544655c67ac",
        "colab": {
          "base_uri": "https://localhost:8080/"
        }
      },
      "source": [
        "for ind in match_df.index: \n",
        "  if(match_df['Winner'][ind]==match_df['Team_1'][ind]):\n",
        "    match_df['Winner_team'][ind] = 1\n",
        "  else:\n",
        "    match_df['Winner_team'][ind] = 2"
      ],
      "execution_count": 6,
      "outputs": [
        {
          "output_type": "stream",
          "text": [
            "/usr/local/lib/python3.6/dist-packages/ipykernel_launcher.py:5: SettingWithCopyWarning: \n",
            "A value is trying to be set on a copy of a slice from a DataFrame\n",
            "\n",
            "See the caveats in the documentation: https://pandas.pydata.org/pandas-docs/stable/user_guide/indexing.html#returning-a-view-versus-a-copy\n",
            "  \"\"\"\n",
            "/usr/local/lib/python3.6/dist-packages/ipykernel_launcher.py:3: SettingWithCopyWarning: \n",
            "A value is trying to be set on a copy of a slice from a DataFrame\n",
            "\n",
            "See the caveats in the documentation: https://pandas.pydata.org/pandas-docs/stable/user_guide/indexing.html#returning-a-view-versus-a-copy\n",
            "  This is separate from the ipykernel package so we can avoid doing imports until\n"
          ],
          "name": "stderr"
        }
      ]
    },
    {
      "cell_type": "code",
      "metadata": {
        "id": "SEV_Z5vEqnMi",
        "outputId": "7f59cea6-dae2-4a37-a778-e153764baa13",
        "colab": {
          "base_uri": "https://localhost:8080/",
          "height": 202
        }
      },
      "source": [
        "match_df.head()"
      ],
      "execution_count": 7,
      "outputs": [
        {
          "output_type": "execute_result",
          "data": {
            "text/html": [
              "<div>\n",
              "<style scoped>\n",
              "    .dataframe tbody tr th:only-of-type {\n",
              "        vertical-align: middle;\n",
              "    }\n",
              "\n",
              "    .dataframe tbody tr th {\n",
              "        vertical-align: top;\n",
              "    }\n",
              "\n",
              "    .dataframe thead th {\n",
              "        text-align: right;\n",
              "    }\n",
              "</style>\n",
              "<table border=\"1\" class=\"dataframe\">\n",
              "  <thead>\n",
              "    <tr style=\"text-align: right;\">\n",
              "      <th></th>\n",
              "      <th>Date</th>\n",
              "      <th>Team_1</th>\n",
              "      <th>Team_2</th>\n",
              "      <th>Venue</th>\n",
              "      <th>MatchCode</th>\n",
              "      <th>GroundCode</th>\n",
              "      <th>TOSS</th>\n",
              "      <th>Score_1</th>\n",
              "      <th>Score_2</th>\n",
              "      <th>Winner</th>\n",
              "      <th>Winner_team</th>\n",
              "    </tr>\n",
              "  </thead>\n",
              "  <tbody>\n",
              "    <tr>\n",
              "      <th>0</th>\n",
              "      <td>2015-03-04</td>\n",
              "      <td>AFG</td>\n",
              "      <td>AUS</td>\n",
              "      <td>1</td>\n",
              "      <td>3773</td>\n",
              "      <td>65</td>\n",
              "      <td>1</td>\n",
              "      <td>142</td>\n",
              "      <td>417</td>\n",
              "      <td>AUS</td>\n",
              "      <td>2</td>\n",
              "    </tr>\n",
              "    <tr>\n",
              "      <th>1</th>\n",
              "      <td>2012-08-25</td>\n",
              "      <td>AFG</td>\n",
              "      <td>AUS</td>\n",
              "      <td>2</td>\n",
              "      <td>3437</td>\n",
              "      <td>156</td>\n",
              "      <td>2</td>\n",
              "      <td>206</td>\n",
              "      <td>272</td>\n",
              "      <td>AUS</td>\n",
              "      <td>2</td>\n",
              "    </tr>\n",
              "    <tr>\n",
              "      <th>2</th>\n",
              "      <td>2019-06-01</td>\n",
              "      <td>AFG</td>\n",
              "      <td>AUS</td>\n",
              "      <td>2</td>\n",
              "      <td>4306</td>\n",
              "      <td>149</td>\n",
              "      <td>1</td>\n",
              "      <td>207</td>\n",
              "      <td>209</td>\n",
              "      <td>AUS</td>\n",
              "      <td>2</td>\n",
              "    </tr>\n",
              "    <tr>\n",
              "      <th>3</th>\n",
              "      <td>2014-03-01</td>\n",
              "      <td>AFG</td>\n",
              "      <td>BAN</td>\n",
              "      <td>1</td>\n",
              "      <td>3623</td>\n",
              "      <td>190</td>\n",
              "      <td>2</td>\n",
              "      <td>254</td>\n",
              "      <td>222</td>\n",
              "      <td>AFG</td>\n",
              "      <td>1</td>\n",
              "    </tr>\n",
              "    <tr>\n",
              "      <th>4</th>\n",
              "      <td>2016-09-25</td>\n",
              "      <td>AFG</td>\n",
              "      <td>BAN</td>\n",
              "      <td>1</td>\n",
              "      <td>3936</td>\n",
              "      <td>198</td>\n",
              "      <td>2</td>\n",
              "      <td>258</td>\n",
              "      <td>265</td>\n",
              "      <td>BAN</td>\n",
              "      <td>2</td>\n",
              "    </tr>\n",
              "  </tbody>\n",
              "</table>\n",
              "</div>"
            ],
            "text/plain": [
              "         Date Team_1 Team_2  Venue  ...  Score_1  Score_2 Winner  Winner_team\n",
              "0  2015-03-04    AFG    AUS      1  ...      142      417    AUS            2\n",
              "1  2012-08-25    AFG    AUS      2  ...      206      272    AUS            2\n",
              "2  2019-06-01    AFG    AUS      2  ...      207      209    AUS            2\n",
              "3  2014-03-01    AFG    BAN      1  ...      254      222    AFG            1\n",
              "4  2016-09-25    AFG    BAN      1  ...      258      265    BAN            2\n",
              "\n",
              "[5 rows x 11 columns]"
            ]
          },
          "metadata": {
            "tags": []
          },
          "execution_count": 7
        }
      ]
    },
    {
      "cell_type": "code",
      "metadata": {
        "id": "3y7g5y0fqo6f",
        "outputId": "047f89a4-f146-4795-d069-94e23643cd9f",
        "colab": {
          "base_uri": "https://localhost:8080/"
        }
      },
      "source": [
        "sum(match_df['Venue']==match_df['Winner_team'])"
      ],
      "execution_count": null,
      "outputs": [
        {
          "output_type": "execute_result",
          "data": {
            "text/plain": [
              "1053"
            ]
          },
          "metadata": {
            "tags": []
          },
          "execution_count": 9
        }
      ]
    },
    {
      "cell_type": "markdown",
      "metadata": {
        "id": "biD02-EZqzRg"
      },
      "source": [
        "The winning team was playing on the home turf approximately 30% of the time"
      ]
    },
    {
      "cell_type": "markdown",
      "metadata": {
        "id": "JHZ8kDTQrQkO"
      },
      "source": [
        "#Models"
      ]
    },
    {
      "cell_type": "code",
      "metadata": {
        "id": "OXL4yHy_tM-H"
      },
      "source": [
        "enc = OneHotEncoder(handle_unknown='ignore')"
      ],
      "execution_count": 8,
      "outputs": []
    },
    {
      "cell_type": "code",
      "metadata": {
        "id": "cxH4atCltY04"
      },
      "source": [
        "enc_df = pd.DataFrame(enc.fit_transform(match_df[['Winner_team','TOSS']]).toarray())"
      ],
      "execution_count": 9,
      "outputs": []
    },
    {
      "cell_type": "code",
      "metadata": {
        "id": "01xxoyR6wRbi",
        "outputId": "82b99094-0680-41be-e859-eaa7f7aed5d0",
        "colab": {
          "base_uri": "https://localhost:8080/",
          "height": 309
        }
      },
      "source": [
        "match_df = match_df.join(enc_df)\n",
        "match_df.head()"
      ],
      "execution_count": 10,
      "outputs": [
        {
          "output_type": "execute_result",
          "data": {
            "text/html": [
              "<div>\n",
              "<style scoped>\n",
              "    .dataframe tbody tr th:only-of-type {\n",
              "        vertical-align: middle;\n",
              "    }\n",
              "\n",
              "    .dataframe tbody tr th {\n",
              "        vertical-align: top;\n",
              "    }\n",
              "\n",
              "    .dataframe thead th {\n",
              "        text-align: right;\n",
              "    }\n",
              "</style>\n",
              "<table border=\"1\" class=\"dataframe\">\n",
              "  <thead>\n",
              "    <tr style=\"text-align: right;\">\n",
              "      <th></th>\n",
              "      <th>Date</th>\n",
              "      <th>Team_1</th>\n",
              "      <th>Team_2</th>\n",
              "      <th>Venue</th>\n",
              "      <th>MatchCode</th>\n",
              "      <th>GroundCode</th>\n",
              "      <th>TOSS</th>\n",
              "      <th>Score_1</th>\n",
              "      <th>Score_2</th>\n",
              "      <th>Winner</th>\n",
              "      <th>Winner_team</th>\n",
              "      <th>0</th>\n",
              "      <th>1</th>\n",
              "      <th>2</th>\n",
              "      <th>3</th>\n",
              "    </tr>\n",
              "  </thead>\n",
              "  <tbody>\n",
              "    <tr>\n",
              "      <th>0</th>\n",
              "      <td>2015-03-04</td>\n",
              "      <td>AFG</td>\n",
              "      <td>AUS</td>\n",
              "      <td>1</td>\n",
              "      <td>3773</td>\n",
              "      <td>65</td>\n",
              "      <td>1</td>\n",
              "      <td>142</td>\n",
              "      <td>417</td>\n",
              "      <td>AUS</td>\n",
              "      <td>2</td>\n",
              "      <td>0.0</td>\n",
              "      <td>1.0</td>\n",
              "      <td>1.0</td>\n",
              "      <td>0.0</td>\n",
              "    </tr>\n",
              "    <tr>\n",
              "      <th>1</th>\n",
              "      <td>2012-08-25</td>\n",
              "      <td>AFG</td>\n",
              "      <td>AUS</td>\n",
              "      <td>2</td>\n",
              "      <td>3437</td>\n",
              "      <td>156</td>\n",
              "      <td>2</td>\n",
              "      <td>206</td>\n",
              "      <td>272</td>\n",
              "      <td>AUS</td>\n",
              "      <td>2</td>\n",
              "      <td>0.0</td>\n",
              "      <td>1.0</td>\n",
              "      <td>0.0</td>\n",
              "      <td>1.0</td>\n",
              "    </tr>\n",
              "    <tr>\n",
              "      <th>2</th>\n",
              "      <td>2019-06-01</td>\n",
              "      <td>AFG</td>\n",
              "      <td>AUS</td>\n",
              "      <td>2</td>\n",
              "      <td>4306</td>\n",
              "      <td>149</td>\n",
              "      <td>1</td>\n",
              "      <td>207</td>\n",
              "      <td>209</td>\n",
              "      <td>AUS</td>\n",
              "      <td>2</td>\n",
              "      <td>0.0</td>\n",
              "      <td>1.0</td>\n",
              "      <td>1.0</td>\n",
              "      <td>0.0</td>\n",
              "    </tr>\n",
              "    <tr>\n",
              "      <th>3</th>\n",
              "      <td>2014-03-01</td>\n",
              "      <td>AFG</td>\n",
              "      <td>BAN</td>\n",
              "      <td>1</td>\n",
              "      <td>3623</td>\n",
              "      <td>190</td>\n",
              "      <td>2</td>\n",
              "      <td>254</td>\n",
              "      <td>222</td>\n",
              "      <td>AFG</td>\n",
              "      <td>1</td>\n",
              "      <td>1.0</td>\n",
              "      <td>0.0</td>\n",
              "      <td>0.0</td>\n",
              "      <td>1.0</td>\n",
              "    </tr>\n",
              "    <tr>\n",
              "      <th>4</th>\n",
              "      <td>2016-09-25</td>\n",
              "      <td>AFG</td>\n",
              "      <td>BAN</td>\n",
              "      <td>1</td>\n",
              "      <td>3936</td>\n",
              "      <td>198</td>\n",
              "      <td>2</td>\n",
              "      <td>258</td>\n",
              "      <td>265</td>\n",
              "      <td>BAN</td>\n",
              "      <td>2</td>\n",
              "      <td>0.0</td>\n",
              "      <td>1.0</td>\n",
              "      <td>0.0</td>\n",
              "      <td>1.0</td>\n",
              "    </tr>\n",
              "  </tbody>\n",
              "</table>\n",
              "</div>"
            ],
            "text/plain": [
              "         Date Team_1 Team_2  Venue  MatchCode  ...  Winner_team    0    1    2    3\n",
              "0  2015-03-04    AFG    AUS      1       3773  ...            2  0.0  1.0  1.0  0.0\n",
              "1  2012-08-25    AFG    AUS      2       3437  ...            2  0.0  1.0  0.0  1.0\n",
              "2  2019-06-01    AFG    AUS      2       4306  ...            2  0.0  1.0  1.0  0.0\n",
              "3  2014-03-01    AFG    BAN      1       3623  ...            1  1.0  0.0  0.0  1.0\n",
              "4  2016-09-25    AFG    BAN      1       3936  ...            2  0.0  1.0  0.0  1.0\n",
              "\n",
              "[5 rows x 15 columns]"
            ]
          },
          "metadata": {
            "tags": []
          },
          "execution_count": 10
        }
      ]
    },
    {
      "cell_type": "code",
      "metadata": {
        "id": "963-E5EnzKGZ"
      },
      "source": [
        "match_df.rename(columns = {0: 'Win1',1: 'Win2',2: 'Toss1',3: 'Toss2'}, inplace = True)"
      ],
      "execution_count": 11,
      "outputs": []
    },
    {
      "cell_type": "code",
      "metadata": {
        "id": "5yO9TCO48lnJ"
      },
      "source": [
        "labelencoder = LabelEncoder()\n",
        "\n",
        "match_df['Team_1Enc'] = labelencoder.fit_transform(match_df['Team_1'])\n",
        "match_df['Team_2Enc'] = labelencoder.fit_transform(match_df['Team_2'])"
      ],
      "execution_count": 12,
      "outputs": []
    },
    {
      "cell_type": "code",
      "metadata": {
        "id": "ZSGvLZw0zlqn",
        "outputId": "6b426473-3b36-4fc1-f3bd-3b2bc24ae563",
        "colab": {
          "base_uri": "https://localhost:8080/",
          "height": 309
        }
      },
      "source": [
        "match_df.head()"
      ],
      "execution_count": 13,
      "outputs": [
        {
          "output_type": "execute_result",
          "data": {
            "text/html": [
              "<div>\n",
              "<style scoped>\n",
              "    .dataframe tbody tr th:only-of-type {\n",
              "        vertical-align: middle;\n",
              "    }\n",
              "\n",
              "    .dataframe tbody tr th {\n",
              "        vertical-align: top;\n",
              "    }\n",
              "\n",
              "    .dataframe thead th {\n",
              "        text-align: right;\n",
              "    }\n",
              "</style>\n",
              "<table border=\"1\" class=\"dataframe\">\n",
              "  <thead>\n",
              "    <tr style=\"text-align: right;\">\n",
              "      <th></th>\n",
              "      <th>Date</th>\n",
              "      <th>Team_1</th>\n",
              "      <th>Team_2</th>\n",
              "      <th>Venue</th>\n",
              "      <th>MatchCode</th>\n",
              "      <th>GroundCode</th>\n",
              "      <th>TOSS</th>\n",
              "      <th>Score_1</th>\n",
              "      <th>Score_2</th>\n",
              "      <th>Winner</th>\n",
              "      <th>Winner_team</th>\n",
              "      <th>Win1</th>\n",
              "      <th>Win2</th>\n",
              "      <th>Toss1</th>\n",
              "      <th>Toss2</th>\n",
              "      <th>Team_1Enc</th>\n",
              "      <th>Team_2Enc</th>\n",
              "    </tr>\n",
              "  </thead>\n",
              "  <tbody>\n",
              "    <tr>\n",
              "      <th>0</th>\n",
              "      <td>2015-03-04</td>\n",
              "      <td>AFG</td>\n",
              "      <td>AUS</td>\n",
              "      <td>1</td>\n",
              "      <td>3773</td>\n",
              "      <td>65</td>\n",
              "      <td>1</td>\n",
              "      <td>142</td>\n",
              "      <td>417</td>\n",
              "      <td>AUS</td>\n",
              "      <td>2</td>\n",
              "      <td>0.0</td>\n",
              "      <td>1.0</td>\n",
              "      <td>1.0</td>\n",
              "      <td>0.0</td>\n",
              "      <td>0</td>\n",
              "      <td>0</td>\n",
              "    </tr>\n",
              "    <tr>\n",
              "      <th>1</th>\n",
              "      <td>2012-08-25</td>\n",
              "      <td>AFG</td>\n",
              "      <td>AUS</td>\n",
              "      <td>2</td>\n",
              "      <td>3437</td>\n",
              "      <td>156</td>\n",
              "      <td>2</td>\n",
              "      <td>206</td>\n",
              "      <td>272</td>\n",
              "      <td>AUS</td>\n",
              "      <td>2</td>\n",
              "      <td>0.0</td>\n",
              "      <td>1.0</td>\n",
              "      <td>0.0</td>\n",
              "      <td>1.0</td>\n",
              "      <td>0</td>\n",
              "      <td>0</td>\n",
              "    </tr>\n",
              "    <tr>\n",
              "      <th>2</th>\n",
              "      <td>2019-06-01</td>\n",
              "      <td>AFG</td>\n",
              "      <td>AUS</td>\n",
              "      <td>2</td>\n",
              "      <td>4306</td>\n",
              "      <td>149</td>\n",
              "      <td>1</td>\n",
              "      <td>207</td>\n",
              "      <td>209</td>\n",
              "      <td>AUS</td>\n",
              "      <td>2</td>\n",
              "      <td>0.0</td>\n",
              "      <td>1.0</td>\n",
              "      <td>1.0</td>\n",
              "      <td>0.0</td>\n",
              "      <td>0</td>\n",
              "      <td>0</td>\n",
              "    </tr>\n",
              "    <tr>\n",
              "      <th>3</th>\n",
              "      <td>2014-03-01</td>\n",
              "      <td>AFG</td>\n",
              "      <td>BAN</td>\n",
              "      <td>1</td>\n",
              "      <td>3623</td>\n",
              "      <td>190</td>\n",
              "      <td>2</td>\n",
              "      <td>254</td>\n",
              "      <td>222</td>\n",
              "      <td>AFG</td>\n",
              "      <td>1</td>\n",
              "      <td>1.0</td>\n",
              "      <td>0.0</td>\n",
              "      <td>0.0</td>\n",
              "      <td>1.0</td>\n",
              "      <td>0</td>\n",
              "      <td>1</td>\n",
              "    </tr>\n",
              "    <tr>\n",
              "      <th>4</th>\n",
              "      <td>2016-09-25</td>\n",
              "      <td>AFG</td>\n",
              "      <td>BAN</td>\n",
              "      <td>1</td>\n",
              "      <td>3936</td>\n",
              "      <td>198</td>\n",
              "      <td>2</td>\n",
              "      <td>258</td>\n",
              "      <td>265</td>\n",
              "      <td>BAN</td>\n",
              "      <td>2</td>\n",
              "      <td>0.0</td>\n",
              "      <td>1.0</td>\n",
              "      <td>0.0</td>\n",
              "      <td>1.0</td>\n",
              "      <td>0</td>\n",
              "      <td>1</td>\n",
              "    </tr>\n",
              "  </tbody>\n",
              "</table>\n",
              "</div>"
            ],
            "text/plain": [
              "         Date Team_1 Team_2  Venue  ...  Toss1  Toss2 Team_1Enc  Team_2Enc\n",
              "0  2015-03-04    AFG    AUS      1  ...    1.0    0.0         0          0\n",
              "1  2012-08-25    AFG    AUS      2  ...    0.0    1.0         0          0\n",
              "2  2019-06-01    AFG    AUS      2  ...    1.0    0.0         0          0\n",
              "3  2014-03-01    AFG    BAN      1  ...    0.0    1.0         0          1\n",
              "4  2016-09-25    AFG    BAN      1  ...    0.0    1.0         0          1\n",
              "\n",
              "[5 rows x 17 columns]"
            ]
          },
          "metadata": {
            "tags": []
          },
          "execution_count": 13
        }
      ]
    },
    {
      "cell_type": "code",
      "metadata": {
        "id": "enAr9tw3sR6O"
      },
      "source": [
        "X = match_df[['Date','Team_1Enc','Team_2Enc','Venue','GroundCode','TOSS','Toss1','Toss2']].copy()\n",
        "y = match_df[['Winner_team','Win1','Win2','Score_1','Score_2']]"
      ],
      "execution_count": 14,
      "outputs": []
    },
    {
      "cell_type": "code",
      "metadata": {
        "id": "ghvUf94CrsPq"
      },
      "source": [
        "# Test Train Split\n",
        "X_train, X_test, y_train, y_test = train_test_split(X, y, test_size = 1/5, random_state = 100)"
      ],
      "execution_count": 15,
      "outputs": []
    },
    {
      "cell_type": "code",
      "metadata": {
        "id": "t4xMxauB2QWo",
        "outputId": "4758a26d-857f-4431-8792-39d852f86e61",
        "colab": {
          "base_uri": "https://localhost:8080/",
          "height": 202
        }
      },
      "source": [
        "X_train.head()"
      ],
      "execution_count": 16,
      "outputs": [
        {
          "output_type": "execute_result",
          "data": {
            "text/html": [
              "<div>\n",
              "<style scoped>\n",
              "    .dataframe tbody tr th:only-of-type {\n",
              "        vertical-align: middle;\n",
              "    }\n",
              "\n",
              "    .dataframe tbody tr th {\n",
              "        vertical-align: top;\n",
              "    }\n",
              "\n",
              "    .dataframe thead th {\n",
              "        text-align: right;\n",
              "    }\n",
              "</style>\n",
              "<table border=\"1\" class=\"dataframe\">\n",
              "  <thead>\n",
              "    <tr style=\"text-align: right;\">\n",
              "      <th></th>\n",
              "      <th>Date</th>\n",
              "      <th>Team_1Enc</th>\n",
              "      <th>Team_2Enc</th>\n",
              "      <th>Venue</th>\n",
              "      <th>GroundCode</th>\n",
              "      <th>TOSS</th>\n",
              "      <th>Toss1</th>\n",
              "      <th>Toss2</th>\n",
              "    </tr>\n",
              "  </thead>\n",
              "  <tbody>\n",
              "    <tr>\n",
              "      <th>2104</th>\n",
              "      <td>2000-03-27</td>\n",
              "      <td>4</td>\n",
              "      <td>9</td>\n",
              "      <td>2</td>\n",
              "      <td>156</td>\n",
              "      <td>1</td>\n",
              "      <td>1.0</td>\n",
              "      <td>0.0</td>\n",
              "    </tr>\n",
              "    <tr>\n",
              "      <th>2919</th>\n",
              "      <td>2001-01-07</td>\n",
              "      <td>8</td>\n",
              "      <td>13</td>\n",
              "      <td>0</td>\n",
              "      <td>18</td>\n",
              "      <td>2</td>\n",
              "      <td>0.0</td>\n",
              "      <td>1.0</td>\n",
              "    </tr>\n",
              "    <tr>\n",
              "      <th>1521</th>\n",
              "      <td>2016-09-01</td>\n",
              "      <td>3</td>\n",
              "      <td>8</td>\n",
              "      <td>0</td>\n",
              "      <td>27</td>\n",
              "      <td>2</td>\n",
              "      <td>0.0</td>\n",
              "      <td>1.0</td>\n",
              "    </tr>\n",
              "    <tr>\n",
              "      <th>1158</th>\n",
              "      <td>2018-01-25</td>\n",
              "      <td>2</td>\n",
              "      <td>11</td>\n",
              "      <td>0</td>\n",
              "      <td>198</td>\n",
              "      <td>1</td>\n",
              "      <td>1.0</td>\n",
              "      <td>0.0</td>\n",
              "    </tr>\n",
              "    <tr>\n",
              "      <th>3016</th>\n",
              "      <td>2013-11-08</td>\n",
              "      <td>9</td>\n",
              "      <td>9</td>\n",
              "      <td>2</td>\n",
              "      <td>192</td>\n",
              "      <td>2</td>\n",
              "      <td>0.0</td>\n",
              "      <td>1.0</td>\n",
              "    </tr>\n",
              "  </tbody>\n",
              "</table>\n",
              "</div>"
            ],
            "text/plain": [
              "            Date  Team_1Enc  Team_2Enc  Venue  GroundCode TOSS  Toss1  Toss2\n",
              "2104  2000-03-27          4          9      2         156    1    1.0    0.0\n",
              "2919  2001-01-07          8         13      0          18    2    0.0    1.0\n",
              "1521  2016-09-01          3          8      0          27    2    0.0    1.0\n",
              "1158  2018-01-25          2         11      0         198    1    1.0    0.0\n",
              "3016  2013-11-08          9          9      2         192    2    0.0    1.0"
            ]
          },
          "metadata": {
            "tags": []
          },
          "execution_count": 16
        }
      ]
    },
    {
      "cell_type": "code",
      "metadata": {
        "id": "2pMToLP45Ss3",
        "outputId": "df192640-7f5c-45e9-e34c-3539e536879c",
        "colab": {
          "base_uri": "https://localhost:8080/",
          "height": 202
        }
      },
      "source": [
        "y_train.head()"
      ],
      "execution_count": 17,
      "outputs": [
        {
          "output_type": "execute_result",
          "data": {
            "text/html": [
              "<div>\n",
              "<style scoped>\n",
              "    .dataframe tbody tr th:only-of-type {\n",
              "        vertical-align: middle;\n",
              "    }\n",
              "\n",
              "    .dataframe tbody tr th {\n",
              "        vertical-align: top;\n",
              "    }\n",
              "\n",
              "    .dataframe thead th {\n",
              "        text-align: right;\n",
              "    }\n",
              "</style>\n",
              "<table border=\"1\" class=\"dataframe\">\n",
              "  <thead>\n",
              "    <tr style=\"text-align: right;\">\n",
              "      <th></th>\n",
              "      <th>Winner_team</th>\n",
              "      <th>Win1</th>\n",
              "      <th>Win2</th>\n",
              "      <th>Score_1</th>\n",
              "      <th>Score_2</th>\n",
              "    </tr>\n",
              "  </thead>\n",
              "  <tbody>\n",
              "    <tr>\n",
              "      <th>2104</th>\n",
              "      <td>2</td>\n",
              "      <td>0.0</td>\n",
              "      <td>1.0</td>\n",
              "      <td>164</td>\n",
              "      <td>167</td>\n",
              "    </tr>\n",
              "    <tr>\n",
              "      <th>2919</th>\n",
              "      <td>2</td>\n",
              "      <td>0.0</td>\n",
              "      <td>1.0</td>\n",
              "      <td>273</td>\n",
              "      <td>274</td>\n",
              "    </tr>\n",
              "    <tr>\n",
              "      <th>1521</th>\n",
              "      <td>1</td>\n",
              "      <td>1.0</td>\n",
              "      <td>0.0</td>\n",
              "      <td>252</td>\n",
              "      <td>247</td>\n",
              "    </tr>\n",
              "    <tr>\n",
              "      <th>1158</th>\n",
              "      <td>2</td>\n",
              "      <td>0.0</td>\n",
              "      <td>1.0</td>\n",
              "      <td>82</td>\n",
              "      <td>83</td>\n",
              "    </tr>\n",
              "    <tr>\n",
              "      <th>3016</th>\n",
              "      <td>2</td>\n",
              "      <td>0.0</td>\n",
              "      <td>1.0</td>\n",
              "      <td>238</td>\n",
              "      <td>266</td>\n",
              "    </tr>\n",
              "  </tbody>\n",
              "</table>\n",
              "</div>"
            ],
            "text/plain": [
              "     Winner_team  Win1  Win2  Score_1  Score_2\n",
              "2104           2   0.0   1.0      164      167\n",
              "2919           2   0.0   1.0      273      274\n",
              "1521           1   1.0   0.0      252      247\n",
              "1158           2   0.0   1.0       82       83\n",
              "3016           2   0.0   1.0      238      266"
            ]
          },
          "metadata": {
            "tags": []
          },
          "execution_count": 17
        }
      ]
    },
    {
      "cell_type": "code",
      "metadata": {
        "id": "zIQzecE434Pn"
      },
      "source": [
        "def print_model_scores(model, data, y, predictors, target):\n",
        "    '''\n",
        "    A generic function to generate the performance report of the\n",
        "    model in question on the data passed to it\n",
        "    Args:\n",
        "        model: ML Model to be checked\n",
        "        data: data on which the model needs to pe trained\n",
        "        y: data containing the target variables\n",
        "        predictors: independent feature variable\n",
        "        target: target variable\n",
        "    '''\n",
        "    model.fit(data[predictors], y[target])\n",
        "    predictions = model.predict(data[predictors])\n",
        "    rms = sklearn.metrics.mean_squared_error(predictions,y[target])**0.5\n",
        "    print('RMS : %s' % '{0:.2%}'.format(rms))\n",
        "    r2 = sklearn.metrics.r2_score(predictions,y[target])\n",
        "    print('R2 : %s' % '{0:.2%}'.format(r2))\n",
        "    return np.asarray(predictions)"
      ],
      "execution_count": 18,
      "outputs": []
    },
    {
      "cell_type": "code",
      "metadata": {
        "id": "24PCc5Cy934D"
      },
      "source": [
        "def winner_prediction(model, data, y, predictors,winner):\n",
        "  '''\n",
        "    A generic function to predict the winner for the model in question \n",
        "    \n",
        "    Args:\n",
        "        model: ML Model to be checked\n",
        "        data: data on which the model needs to be trained\n",
        "        y: data containing the target variables\n",
        "        predictors: independent feature variable\n",
        "        winner: winning team\n",
        "  '''\n",
        "  pred1 = print_model_scores(model, X_train, y_train,predictor_var, ['Score_1'])\n",
        "  pred2 = print_model_scores(model, X_train, y_train,predictor_var, ['Score_2'])\n",
        "\n",
        "  pred = pred1 - pred2\n",
        "\n",
        "  for i in range(len(pred)):\n",
        "    if ((pred[i])>0):\n",
        "      pred[i] = 1\n",
        "    else:\n",
        "      pred[i] = 2\n",
        "\n",
        "  print(\"Model Accuracy is: \")\n",
        "  print(sum(1 for x,y in zip(pred,winner) if x == y) / len(winner))"
      ],
      "execution_count": 19,
      "outputs": []
    },
    {
      "cell_type": "markdown",
      "metadata": {
        "id": "jb3WOLwNrioz"
      },
      "source": [
        "##Model1 - Toss + GroundCode "
      ]
    },
    {
      "cell_type": "code",
      "metadata": {
        "id": "YzO2I_sL2ctw",
        "outputId": "6ed256e8-1450-4eb2-fe1e-8c774e6e861d",
        "colab": {
          "base_uri": "https://localhost:8080/"
        }
      },
      "source": [
        "winner = y_train['Winner_team']\n",
        "predictor_var = ['Team_1Enc','Team_2Enc', 'GroundCode','TOSS']\n",
        "model = RandomForestRegressor(n_estimators = 100, random_state = 0)\n",
        "winner_prediction(model, X_train, y_train,predictor_var, winner)"
      ],
      "execution_count": null,
      "outputs": [
        {
          "output_type": "stream",
          "text": [
            "/usr/local/lib/python3.6/dist-packages/ipykernel_launcher.py:12: DataConversionWarning: A column-vector y was passed when a 1d array was expected. Please change the shape of y to (n_samples,), for example using ravel().\n",
            "  if sys.path[0] == '':\n"
          ],
          "name": "stderr"
        },
        {
          "output_type": "stream",
          "text": [
            "RMS : 3925.65%\n",
            "R2 : 2.46%\n"
          ],
          "name": "stdout"
        },
        {
          "output_type": "stream",
          "text": [
            "/usr/local/lib/python3.6/dist-packages/ipykernel_launcher.py:12: DataConversionWarning: A column-vector y was passed when a 1d array was expected. Please change the shape of y to (n_samples,), for example using ravel().\n",
            "  if sys.path[0] == '':\n"
          ],
          "name": "stderr"
        },
        {
          "output_type": "stream",
          "text": [
            "RMS : 3845.39%\n",
            "R2 : -4.99%\n",
            "Model Accuracy is: \n",
            "0.7229822161422709\n"
          ],
          "name": "stdout"
        }
      ]
    },
    {
      "cell_type": "code",
      "metadata": {
        "id": "FJlsOWK78S2s",
        "outputId": "c57a49f5-99eb-4d4d-a07d-70bcde763547",
        "colab": {
          "base_uri": "https://localhost:8080/"
        }
      },
      "source": [
        "winner = y_train['Winner_team']\n",
        "predictor_var = ['Team_1Enc','Team_2Enc', 'GroundCode','TOSS']\n",
        "model = LinearRegression()\n",
        "winner_prediction(model, X_train, y_train,predictor_var, winner)"
      ],
      "execution_count": null,
      "outputs": [
        {
          "output_type": "stream",
          "text": [
            "RMS : 6153.22%\n",
            "R2 : -54873.42%\n",
            "RMS : 5956.56%\n",
            "R2 : -11447.72%\n",
            "Model Accuracy is: \n",
            "0.5406976744186046\n"
          ],
          "name": "stdout"
        },
        {
          "output_type": "stream",
          "text": [
            "/usr/local/lib/python3.6/dist-packages/ipykernel_launcher.py:14: DeprecationWarning: Calling np.sum(generator) is deprecated, and in the future will give a different result. Use np.sum(np.fromiter(generator)) or the python sum builtin instead.\n",
            "  \n"
          ],
          "name": "stderr"
        }
      ]
    },
    {
      "cell_type": "code",
      "metadata": {
        "id": "VQPwbign9vwt",
        "outputId": "5cf7ac72-fd8a-4bd8-dd99-d4fdb157acce",
        "colab": {
          "base_uri": "https://localhost:8080/"
        }
      },
      "source": [
        "winner = y_train['Winner_team']\n",
        "predictor_var = ['Team_1Enc','Team_2Enc', 'GroundCode','TOSS']\n",
        "model = DecisionTreeRegressor()\n",
        "winner_prediction(model, X_train, y_train,predictor_var, winner)"
      ],
      "execution_count": null,
      "outputs": [
        {
          "output_type": "stream",
          "text": [
            "RMS : 3571.67%\n",
            "R2 : 49.33%\n",
            "RMS : 3498.22%\n",
            "R2 : 48.04%\n",
            "Model Accuracy is: \n",
            "0.8204514363885089\n"
          ],
          "name": "stdout"
        },
        {
          "output_type": "stream",
          "text": [
            "/usr/local/lib/python3.6/dist-packages/ipykernel_launcher.py:14: DeprecationWarning: Calling np.sum(generator) is deprecated, and in the future will give a different result. Use np.sum(np.fromiter(generator)) or the python sum builtin instead.\n",
            "  \n"
          ],
          "name": "stderr"
        }
      ]
    },
    {
      "cell_type": "code",
      "metadata": {
        "id": "zy-2CfLeC45T",
        "outputId": "9a549ba9-5abd-49de-9f41-360951824632",
        "colab": {
          "base_uri": "https://localhost:8080/"
        }
      },
      "source": [
        "winner = y_train['Winner_team']\n",
        "predictor_var = ['Team_1Enc','Team_2Enc', 'GroundCode','TOSS']\n",
        "model = LassoCV()\n",
        "winner_prediction(model, X_train, y_train,predictor_var, winner)"
      ],
      "execution_count": null,
      "outputs": [
        {
          "output_type": "stream",
          "text": [
            "/usr/local/lib/python3.6/dist-packages/sklearn/linear_model/_coordinate_descent.py:1088: DataConversionWarning: A column-vector y was passed when a 1d array was expected. Please change the shape of y to (n_samples, ), for example using ravel().\n",
            "  y = column_or_1d(y, warn=True)\n"
          ],
          "name": "stderr"
        },
        {
          "output_type": "stream",
          "text": [
            "RMS : 6156.80%\n",
            "R2 : -189511.14%\n"
          ],
          "name": "stdout"
        },
        {
          "output_type": "stream",
          "text": [
            "/usr/local/lib/python3.6/dist-packages/sklearn/linear_model/_coordinate_descent.py:1088: DataConversionWarning: A column-vector y was passed when a 1d array was expected. Please change the shape of y to (n_samples, ), for example using ravel().\n",
            "  y = column_or_1d(y, warn=True)\n"
          ],
          "name": "stderr"
        },
        {
          "output_type": "stream",
          "text": [
            "RMS : 5956.57%\n",
            "R2 : -11621.48%\n",
            "Model Accuracy is: \n",
            "0.536593707250342\n"
          ],
          "name": "stdout"
        },
        {
          "output_type": "stream",
          "text": [
            "/usr/local/lib/python3.6/dist-packages/ipykernel_launcher.py:14: DeprecationWarning: Calling np.sum(generator) is deprecated, and in the future will give a different result. Use np.sum(np.fromiter(generator)) or the python sum builtin instead.\n",
            "  \n"
          ],
          "name": "stderr"
        }
      ]
    },
    {
      "cell_type": "markdown",
      "metadata": {
        "id": "-58hDR7PDIIa"
      },
      "source": [
        "##Model2 - Toss + GroundCode + Venue"
      ]
    },
    {
      "cell_type": "code",
      "metadata": {
        "id": "JVb_QD1yDhOR",
        "outputId": "dbaf5b04-c6a2-4148-cefa-6fcede1bfa1a",
        "colab": {
          "base_uri": "https://localhost:8080/"
        }
      },
      "source": [
        "winner = y_train['Winner_team']\n",
        "predictor_var = ['Team_1Enc','Team_2Enc', 'GroundCode','TOSS','Venue']\n",
        "model = RandomForestRegressor(n_estimators = 100, random_state = 0)\n",
        "winner_prediction(model, X_train, y_train,predictor_var, winner)"
      ],
      "execution_count": null,
      "outputs": [
        {
          "output_type": "stream",
          "text": [
            "/usr/local/lib/python3.6/dist-packages/ipykernel_launcher.py:12: DataConversionWarning: A column-vector y was passed when a 1d array was expected. Please change the shape of y to (n_samples,), for example using ravel().\n",
            "  if sys.path[0] == '':\n"
          ],
          "name": "stderr"
        },
        {
          "output_type": "stream",
          "text": [
            "RMS : 3918.36%\n",
            "R2 : 2.72%\n"
          ],
          "name": "stdout"
        },
        {
          "output_type": "stream",
          "text": [
            "/usr/local/lib/python3.6/dist-packages/ipykernel_launcher.py:12: DataConversionWarning: A column-vector y was passed when a 1d array was expected. Please change the shape of y to (n_samples,), for example using ravel().\n",
            "  if sys.path[0] == '':\n"
          ],
          "name": "stderr"
        },
        {
          "output_type": "stream",
          "text": [
            "RMS : 3836.83%\n",
            "R2 : -4.82%\n",
            "Model Accuracy is: \n",
            "0.7161422708618331\n"
          ],
          "name": "stdout"
        }
      ]
    },
    {
      "cell_type": "code",
      "metadata": {
        "id": "S5gvy1euDhOW",
        "outputId": "9a6567ff-c09c-4412-bfb3-589cb5f52ecd",
        "colab": {
          "base_uri": "https://localhost:8080/"
        }
      },
      "source": [
        "winner = y_train['Winner_team']\n",
        "predictor_var = ['Team_1Enc','Team_2Enc', 'GroundCode','TOSS','Venue']\n",
        "model = LinearRegression()\n",
        "winner_prediction(model, X_train, y_train,predictor_var, winner)"
      ],
      "execution_count": null,
      "outputs": [
        {
          "output_type": "stream",
          "text": [
            "RMS : 6126.01%\n",
            "R2 : -9212.53%\n",
            "RMS : 5956.41%\n",
            "R2 : -11378.81%\n",
            "Model Accuracy is: \n",
            "0.5557455540355677\n"
          ],
          "name": "stdout"
        }
      ]
    },
    {
      "cell_type": "code",
      "metadata": {
        "id": "u47joWV_DhOY",
        "outputId": "4d70a161-691e-4697-fb50-f7ac1f1c0385",
        "colab": {
          "base_uri": "https://localhost:8080/"
        }
      },
      "source": [
        "winner = y_train['Winner_team']\n",
        "predictor_var = ['Team_1Enc','Team_2Enc', 'GroundCode','TOSS','Venue']\n",
        "model = DecisionTreeRegressor()\n",
        "winner_prediction(model, X_train, y_train,predictor_var, winner)"
      ],
      "execution_count": null,
      "outputs": [
        {
          "output_type": "stream",
          "text": [
            "RMS : 3571.55%\n",
            "R2 : 49.33%\n",
            "RMS : 3497.95%\n",
            "R2 : 48.05%\n",
            "Model Accuracy is: \n",
            "0.8207934336525308\n"
          ],
          "name": "stdout"
        },
        {
          "output_type": "stream",
          "text": [
            "/usr/local/lib/python3.6/dist-packages/ipykernel_launcher.py:14: DeprecationWarning: Calling np.sum(generator) is deprecated, and in the future will give a different result. Use np.sum(np.fromiter(generator)) or the python sum builtin instead.\n",
            "  \n"
          ],
          "name": "stderr"
        }
      ]
    },
    {
      "cell_type": "code",
      "metadata": {
        "id": "gnvEsj7hDhOb",
        "outputId": "d13bf45f-2314-485b-ef2e-522aeb60f2b0",
        "colab": {
          "base_uri": "https://localhost:8080/"
        }
      },
      "source": [
        "winner = y_train['Winner_team']\n",
        "predictor_var = ['Team_1Enc','Team_2Enc', 'GroundCode','TOSS','Venue']\n",
        "model = LassoCV()\n",
        "winner_prediction(model, X_train, y_train,predictor_var, winner)"
      ],
      "execution_count": null,
      "outputs": [
        {
          "output_type": "stream",
          "text": [
            "/usr/local/lib/python3.6/dist-packages/sklearn/linear_model/_coordinate_descent.py:1088: DataConversionWarning: A column-vector y was passed when a 1d array was expected. Please change the shape of y to (n_samples, ), for example using ravel().\n",
            "  y = column_or_1d(y, warn=True)\n",
            "/usr/local/lib/python3.6/dist-packages/sklearn/linear_model/_coordinate_descent.py:1088: DataConversionWarning: A column-vector y was passed when a 1d array was expected. Please change the shape of y to (n_samples, ), for example using ravel().\n",
            "  y = column_or_1d(y, warn=True)\n"
          ],
          "name": "stderr"
        },
        {
          "output_type": "stream",
          "text": [
            "RMS : 6126.67%\n",
            "R2 : -12326.06%\n",
            "RMS : 5956.49%\n",
            "R2 : -12080.13%\n",
            "Model Accuracy is: \n",
            "0.5509575923392613\n"
          ],
          "name": "stdout"
        },
        {
          "output_type": "stream",
          "text": [
            "/usr/local/lib/python3.6/dist-packages/ipykernel_launcher.py:14: DeprecationWarning: Calling np.sum(generator) is deprecated, and in the future will give a different result. Use np.sum(np.fromiter(generator)) or the python sum builtin instead.\n",
            "  \n"
          ],
          "name": "stderr"
        }
      ]
    },
    {
      "cell_type": "markdown",
      "metadata": {
        "id": "grOq7VpDnu06"
      },
      "source": [
        "##Training on NRR"
      ]
    },
    {
      "cell_type": "code",
      "metadata": {
        "id": "vIHUGSRLm6vt",
        "outputId": "71239b95-8b28-4fe1-a283-66350310c30a",
        "colab": {
          "base_uri": "https://localhost:8080/",
          "height": 297
        }
      },
      "source": [
        "!pip install --upgrade tables"
      ],
      "execution_count": 4,
      "outputs": [
        {
          "output_type": "stream",
          "text": [
            "Collecting tables\n",
            "\u001b[?25l  Downloading https://files.pythonhosted.org/packages/ed/c3/8fd9e3bb21872f9d69eb93b3014c86479864cca94e625fd03713ccacec80/tables-3.6.1-cp36-cp36m-manylinux1_x86_64.whl (4.3MB)\n",
            "\u001b[K     |████████████████████████████████| 4.3MB 5.6MB/s \n",
            "\u001b[?25hRequirement already satisfied, skipping upgrade: numexpr>=2.6.2 in /usr/local/lib/python3.6/dist-packages (from tables) (2.7.1)\n",
            "Requirement already satisfied, skipping upgrade: numpy>=1.9.3 in /usr/local/lib/python3.6/dist-packages (from tables) (1.18.5)\n",
            "Installing collected packages: tables\n",
            "  Found existing installation: tables 3.4.4\n",
            "    Uninstalling tables-3.4.4:\n",
            "      Successfully uninstalled tables-3.4.4\n",
            "Successfully installed tables-3.6.1\n"
          ],
          "name": "stdout"
        },
        {
          "output_type": "display_data",
          "data": {
            "application/vnd.colab-display-data+json": {
              "pip_warning": {
                "packages": [
                  "tables"
                ]
              }
            }
          },
          "metadata": {
            "tags": []
          }
        }
      ]
    },
    {
      "cell_type": "code",
      "metadata": {
        "id": "FqJH2rkQmQ2b"
      },
      "source": [
        "# Access data store\n",
        "data_store = pd.HDFStore('nnr_data.h5')\n",
        "\n",
        "# Retrieve data using key\n",
        "match_df = data_store['preprocessed_df']\n",
        "data_store.close()"
      ],
      "execution_count": 2,
      "outputs": []
    },
    {
      "cell_type": "code",
      "metadata": {
        "id": "s88xDzMMn5Gm"
      },
      "source": [
        "enc = OneHotEncoder(handle_unknown='ignore')"
      ],
      "execution_count": 5,
      "outputs": []
    },
    {
      "cell_type": "code",
      "metadata": {
        "id": "eQ1YB3fgn5Gu"
      },
      "source": [
        "enc_df = pd.DataFrame(enc.fit_transform(match_df[['Winner_team','TOSS']]).toarray())"
      ],
      "execution_count": 6,
      "outputs": []
    },
    {
      "cell_type": "code",
      "metadata": {
        "id": "-JpKm_zAn5G5",
        "outputId": "5d33593e-9ba0-443a-fe96-9de164cea80a",
        "colab": {
          "base_uri": "https://localhost:8080/",
          "height": 309
        }
      },
      "source": [
        "match_df = match_df.join(enc_df)\n",
        "match_df.head()"
      ],
      "execution_count": 7,
      "outputs": [
        {
          "output_type": "execute_result",
          "data": {
            "text/html": [
              "<div>\n",
              "<style scoped>\n",
              "    .dataframe tbody tr th:only-of-type {\n",
              "        vertical-align: middle;\n",
              "    }\n",
              "\n",
              "    .dataframe tbody tr th {\n",
              "        vertical-align: top;\n",
              "    }\n",
              "\n",
              "    .dataframe thead th {\n",
              "        text-align: right;\n",
              "    }\n",
              "</style>\n",
              "<table border=\"1\" class=\"dataframe\">\n",
              "  <thead>\n",
              "    <tr style=\"text-align: right;\">\n",
              "      <th></th>\n",
              "      <th>Date</th>\n",
              "      <th>Team_1</th>\n",
              "      <th>Team_2</th>\n",
              "      <th>Venue</th>\n",
              "      <th>MatchCode</th>\n",
              "      <th>GroundCode</th>\n",
              "      <th>TOSS</th>\n",
              "      <th>Score_1</th>\n",
              "      <th>Score_2</th>\n",
              "      <th>Winner</th>\n",
              "      <th>Winner_team</th>\n",
              "      <th>NRR_team1</th>\n",
              "      <th>NRR_team2</th>\n",
              "      <th>0</th>\n",
              "      <th>1</th>\n",
              "      <th>2</th>\n",
              "      <th>3</th>\n",
              "    </tr>\n",
              "  </thead>\n",
              "  <tbody>\n",
              "    <tr>\n",
              "      <th>0</th>\n",
              "      <td>2015-03-04</td>\n",
              "      <td>AFG</td>\n",
              "      <td>AUS</td>\n",
              "      <td>1</td>\n",
              "      <td>3773</td>\n",
              "      <td>65</td>\n",
              "      <td>1</td>\n",
              "      <td>142</td>\n",
              "      <td>417</td>\n",
              "      <td>AUS</td>\n",
              "      <td>2</td>\n",
              "      <td>-5.5</td>\n",
              "      <td>5.5</td>\n",
              "      <td>0.0</td>\n",
              "      <td>1.0</td>\n",
              "      <td>1.0</td>\n",
              "      <td>0.0</td>\n",
              "    </tr>\n",
              "    <tr>\n",
              "      <th>1</th>\n",
              "      <td>2012-08-25</td>\n",
              "      <td>AFG</td>\n",
              "      <td>AUS</td>\n",
              "      <td>2</td>\n",
              "      <td>3437</td>\n",
              "      <td>156</td>\n",
              "      <td>2</td>\n",
              "      <td>206</td>\n",
              "      <td>272</td>\n",
              "      <td>AUS</td>\n",
              "      <td>2</td>\n",
              "      <td>-1.32</td>\n",
              "      <td>1.32</td>\n",
              "      <td>0.0</td>\n",
              "      <td>1.0</td>\n",
              "      <td>0.0</td>\n",
              "      <td>1.0</td>\n",
              "    </tr>\n",
              "    <tr>\n",
              "      <th>2</th>\n",
              "      <td>2019-06-01</td>\n",
              "      <td>AFG</td>\n",
              "      <td>AUS</td>\n",
              "      <td>2</td>\n",
              "      <td>4306</td>\n",
              "      <td>149</td>\n",
              "      <td>1</td>\n",
              "      <td>207</td>\n",
              "      <td>209</td>\n",
              "      <td>AUS</td>\n",
              "      <td>2</td>\n",
              "      <td>-0.04</td>\n",
              "      <td>0.04</td>\n",
              "      <td>0.0</td>\n",
              "      <td>1.0</td>\n",
              "      <td>1.0</td>\n",
              "      <td>0.0</td>\n",
              "    </tr>\n",
              "    <tr>\n",
              "      <th>3</th>\n",
              "      <td>2014-03-01</td>\n",
              "      <td>AFG</td>\n",
              "      <td>BAN</td>\n",
              "      <td>1</td>\n",
              "      <td>3623</td>\n",
              "      <td>190</td>\n",
              "      <td>2</td>\n",
              "      <td>254</td>\n",
              "      <td>222</td>\n",
              "      <td>AFG</td>\n",
              "      <td>1</td>\n",
              "      <td>0.64</td>\n",
              "      <td>-0.64</td>\n",
              "      <td>1.0</td>\n",
              "      <td>0.0</td>\n",
              "      <td>0.0</td>\n",
              "      <td>1.0</td>\n",
              "    </tr>\n",
              "    <tr>\n",
              "      <th>4</th>\n",
              "      <td>2016-09-25</td>\n",
              "      <td>AFG</td>\n",
              "      <td>BAN</td>\n",
              "      <td>1</td>\n",
              "      <td>3936</td>\n",
              "      <td>198</td>\n",
              "      <td>2</td>\n",
              "      <td>258</td>\n",
              "      <td>265</td>\n",
              "      <td>BAN</td>\n",
              "      <td>2</td>\n",
              "      <td>-0.14</td>\n",
              "      <td>0.14</td>\n",
              "      <td>0.0</td>\n",
              "      <td>1.0</td>\n",
              "      <td>0.0</td>\n",
              "      <td>1.0</td>\n",
              "    </tr>\n",
              "  </tbody>\n",
              "</table>\n",
              "</div>"
            ],
            "text/plain": [
              "         Date Team_1 Team_2  Venue  MatchCode  ...  NRR_team2    0    1    2    3\n",
              "0  2015-03-04    AFG    AUS      1       3773  ...        5.5  0.0  1.0  1.0  0.0\n",
              "1  2012-08-25    AFG    AUS      2       3437  ...       1.32  0.0  1.0  0.0  1.0\n",
              "2  2019-06-01    AFG    AUS      2       4306  ...       0.04  0.0  1.0  1.0  0.0\n",
              "3  2014-03-01    AFG    BAN      1       3623  ...      -0.64  1.0  0.0  0.0  1.0\n",
              "4  2016-09-25    AFG    BAN      1       3936  ...       0.14  0.0  1.0  0.0  1.0\n",
              "\n",
              "[5 rows x 17 columns]"
            ]
          },
          "metadata": {
            "tags": []
          },
          "execution_count": 7
        }
      ]
    },
    {
      "cell_type": "code",
      "metadata": {
        "id": "GB7zQM5Yn5HA"
      },
      "source": [
        "match_df.rename(columns = {0: 'Win1',1: 'Win2',2: 'Toss1',3: 'Toss2'}, inplace = True)"
      ],
      "execution_count": 8,
      "outputs": []
    },
    {
      "cell_type": "code",
      "metadata": {
        "id": "KQGuN8CLn5HG"
      },
      "source": [
        "labelencoder = LabelEncoder()\n",
        "\n",
        "match_df['Team_1Enc'] = labelencoder.fit_transform(match_df['Team_1'])\n",
        "match_df['Team_2Enc'] = labelencoder.fit_transform(match_df['Team_2'])"
      ],
      "execution_count": 9,
      "outputs": []
    },
    {
      "cell_type": "code",
      "metadata": {
        "id": "zUMnRKedn5HN",
        "outputId": "5d18c13e-7266-43c3-e37b-a9f7ec732fca",
        "colab": {
          "base_uri": "https://localhost:8080/",
          "height": 309
        }
      },
      "source": [
        "match_df.head()"
      ],
      "execution_count": 10,
      "outputs": [
        {
          "output_type": "execute_result",
          "data": {
            "text/html": [
              "<div>\n",
              "<style scoped>\n",
              "    .dataframe tbody tr th:only-of-type {\n",
              "        vertical-align: middle;\n",
              "    }\n",
              "\n",
              "    .dataframe tbody tr th {\n",
              "        vertical-align: top;\n",
              "    }\n",
              "\n",
              "    .dataframe thead th {\n",
              "        text-align: right;\n",
              "    }\n",
              "</style>\n",
              "<table border=\"1\" class=\"dataframe\">\n",
              "  <thead>\n",
              "    <tr style=\"text-align: right;\">\n",
              "      <th></th>\n",
              "      <th>Date</th>\n",
              "      <th>Team_1</th>\n",
              "      <th>Team_2</th>\n",
              "      <th>Venue</th>\n",
              "      <th>MatchCode</th>\n",
              "      <th>GroundCode</th>\n",
              "      <th>TOSS</th>\n",
              "      <th>Score_1</th>\n",
              "      <th>Score_2</th>\n",
              "      <th>Winner</th>\n",
              "      <th>Winner_team</th>\n",
              "      <th>NRR_team1</th>\n",
              "      <th>NRR_team2</th>\n",
              "      <th>Win1</th>\n",
              "      <th>Win2</th>\n",
              "      <th>Toss1</th>\n",
              "      <th>Toss2</th>\n",
              "      <th>Team_1Enc</th>\n",
              "      <th>Team_2Enc</th>\n",
              "    </tr>\n",
              "  </thead>\n",
              "  <tbody>\n",
              "    <tr>\n",
              "      <th>0</th>\n",
              "      <td>2015-03-04</td>\n",
              "      <td>AFG</td>\n",
              "      <td>AUS</td>\n",
              "      <td>1</td>\n",
              "      <td>3773</td>\n",
              "      <td>65</td>\n",
              "      <td>1</td>\n",
              "      <td>142</td>\n",
              "      <td>417</td>\n",
              "      <td>AUS</td>\n",
              "      <td>2</td>\n",
              "      <td>-5.5</td>\n",
              "      <td>5.5</td>\n",
              "      <td>0.0</td>\n",
              "      <td>1.0</td>\n",
              "      <td>1.0</td>\n",
              "      <td>0.0</td>\n",
              "      <td>0</td>\n",
              "      <td>0</td>\n",
              "    </tr>\n",
              "    <tr>\n",
              "      <th>1</th>\n",
              "      <td>2012-08-25</td>\n",
              "      <td>AFG</td>\n",
              "      <td>AUS</td>\n",
              "      <td>2</td>\n",
              "      <td>3437</td>\n",
              "      <td>156</td>\n",
              "      <td>2</td>\n",
              "      <td>206</td>\n",
              "      <td>272</td>\n",
              "      <td>AUS</td>\n",
              "      <td>2</td>\n",
              "      <td>-1.32</td>\n",
              "      <td>1.32</td>\n",
              "      <td>0.0</td>\n",
              "      <td>1.0</td>\n",
              "      <td>0.0</td>\n",
              "      <td>1.0</td>\n",
              "      <td>0</td>\n",
              "      <td>0</td>\n",
              "    </tr>\n",
              "    <tr>\n",
              "      <th>2</th>\n",
              "      <td>2019-06-01</td>\n",
              "      <td>AFG</td>\n",
              "      <td>AUS</td>\n",
              "      <td>2</td>\n",
              "      <td>4306</td>\n",
              "      <td>149</td>\n",
              "      <td>1</td>\n",
              "      <td>207</td>\n",
              "      <td>209</td>\n",
              "      <td>AUS</td>\n",
              "      <td>2</td>\n",
              "      <td>-0.04</td>\n",
              "      <td>0.04</td>\n",
              "      <td>0.0</td>\n",
              "      <td>1.0</td>\n",
              "      <td>1.0</td>\n",
              "      <td>0.0</td>\n",
              "      <td>0</td>\n",
              "      <td>0</td>\n",
              "    </tr>\n",
              "    <tr>\n",
              "      <th>3</th>\n",
              "      <td>2014-03-01</td>\n",
              "      <td>AFG</td>\n",
              "      <td>BAN</td>\n",
              "      <td>1</td>\n",
              "      <td>3623</td>\n",
              "      <td>190</td>\n",
              "      <td>2</td>\n",
              "      <td>254</td>\n",
              "      <td>222</td>\n",
              "      <td>AFG</td>\n",
              "      <td>1</td>\n",
              "      <td>0.64</td>\n",
              "      <td>-0.64</td>\n",
              "      <td>1.0</td>\n",
              "      <td>0.0</td>\n",
              "      <td>0.0</td>\n",
              "      <td>1.0</td>\n",
              "      <td>0</td>\n",
              "      <td>1</td>\n",
              "    </tr>\n",
              "    <tr>\n",
              "      <th>4</th>\n",
              "      <td>2016-09-25</td>\n",
              "      <td>AFG</td>\n",
              "      <td>BAN</td>\n",
              "      <td>1</td>\n",
              "      <td>3936</td>\n",
              "      <td>198</td>\n",
              "      <td>2</td>\n",
              "      <td>258</td>\n",
              "      <td>265</td>\n",
              "      <td>BAN</td>\n",
              "      <td>2</td>\n",
              "      <td>-0.14</td>\n",
              "      <td>0.14</td>\n",
              "      <td>0.0</td>\n",
              "      <td>1.0</td>\n",
              "      <td>0.0</td>\n",
              "      <td>1.0</td>\n",
              "      <td>0</td>\n",
              "      <td>1</td>\n",
              "    </tr>\n",
              "  </tbody>\n",
              "</table>\n",
              "</div>"
            ],
            "text/plain": [
              "         Date Team_1 Team_2  Venue  ...  Toss1  Toss2 Team_1Enc  Team_2Enc\n",
              "0  2015-03-04    AFG    AUS      1  ...    1.0    0.0         0          0\n",
              "1  2012-08-25    AFG    AUS      2  ...    0.0    1.0         0          0\n",
              "2  2019-06-01    AFG    AUS      2  ...    1.0    0.0         0          0\n",
              "3  2014-03-01    AFG    BAN      1  ...    0.0    1.0         0          1\n",
              "4  2016-09-25    AFG    BAN      1  ...    0.0    1.0         0          1\n",
              "\n",
              "[5 rows x 19 columns]"
            ]
          },
          "metadata": {
            "tags": []
          },
          "execution_count": 10
        }
      ]
    },
    {
      "cell_type": "code",
      "metadata": {
        "id": "sOaZBhVMgnNG"
      },
      "source": [
        "X = match_df[['Date','Team_1Enc','Team_2Enc','Venue','GroundCode','TOSS','Toss1','Toss2']].copy()\n",
        "y = match_df[['Winner_team','Win1','Win2','Score_1','Score_2','NRR_team1','NRR_team2']].copy()"
      ],
      "execution_count": 11,
      "outputs": []
    },
    {
      "cell_type": "code",
      "metadata": {
        "id": "CKXzFgJqhKuG"
      },
      "source": [
        "# Test Train Split\n",
        "X_train, X_test, y_train, y_test = train_test_split(X, y, test_size = 1/5, random_state = 100)"
      ],
      "execution_count": 12,
      "outputs": []
    },
    {
      "cell_type": "code",
      "metadata": {
        "id": "kVzRqCN8hsfK",
        "outputId": "1ede42b5-befe-4e26-ffa8-fd9d7504d3e9",
        "colab": {
          "base_uri": "https://localhost:8080/",
          "height": 202
        }
      },
      "source": [
        "X_train.head()"
      ],
      "execution_count": 13,
      "outputs": [
        {
          "output_type": "execute_result",
          "data": {
            "text/html": [
              "<div>\n",
              "<style scoped>\n",
              "    .dataframe tbody tr th:only-of-type {\n",
              "        vertical-align: middle;\n",
              "    }\n",
              "\n",
              "    .dataframe tbody tr th {\n",
              "        vertical-align: top;\n",
              "    }\n",
              "\n",
              "    .dataframe thead th {\n",
              "        text-align: right;\n",
              "    }\n",
              "</style>\n",
              "<table border=\"1\" class=\"dataframe\">\n",
              "  <thead>\n",
              "    <tr style=\"text-align: right;\">\n",
              "      <th></th>\n",
              "      <th>Date</th>\n",
              "      <th>Team_1Enc</th>\n",
              "      <th>Team_2Enc</th>\n",
              "      <th>Venue</th>\n",
              "      <th>GroundCode</th>\n",
              "      <th>TOSS</th>\n",
              "      <th>Toss1</th>\n",
              "      <th>Toss2</th>\n",
              "    </tr>\n",
              "  </thead>\n",
              "  <tbody>\n",
              "    <tr>\n",
              "      <th>2347</th>\n",
              "      <td>1983-06-15</td>\n",
              "      <td>4</td>\n",
              "      <td>12</td>\n",
              "      <td>2</td>\n",
              "      <td>59</td>\n",
              "      <td>2</td>\n",
              "      <td>0.0</td>\n",
              "      <td>1.0</td>\n",
              "    </tr>\n",
              "    <tr>\n",
              "      <th>1398</th>\n",
              "      <td>1996-02-22</td>\n",
              "      <td>3</td>\n",
              "      <td>6</td>\n",
              "      <td>2</td>\n",
              "      <td>76</td>\n",
              "      <td>1</td>\n",
              "      <td>1.0</td>\n",
              "      <td>0.0</td>\n",
              "    </tr>\n",
              "    <tr>\n",
              "      <th>2100</th>\n",
              "      <td>1996-04-19</td>\n",
              "      <td>4</td>\n",
              "      <td>9</td>\n",
              "      <td>2</td>\n",
              "      <td>156</td>\n",
              "      <td>2</td>\n",
              "      <td>0.0</td>\n",
              "      <td>1.0</td>\n",
              "    </tr>\n",
              "    <tr>\n",
              "      <th>2563</th>\n",
              "      <td>2002-12-08</td>\n",
              "      <td>6</td>\n",
              "      <td>13</td>\n",
              "      <td>1</td>\n",
              "      <td>26</td>\n",
              "      <td>1</td>\n",
              "      <td>1.0</td>\n",
              "      <td>0.0</td>\n",
              "    </tr>\n",
              "    <tr>\n",
              "      <th>1520</th>\n",
              "      <td>2016-08-30</td>\n",
              "      <td>3</td>\n",
              "      <td>8</td>\n",
              "      <td>0</td>\n",
              "      <td>60</td>\n",
              "      <td>1</td>\n",
              "      <td>1.0</td>\n",
              "      <td>0.0</td>\n",
              "    </tr>\n",
              "  </tbody>\n",
              "</table>\n",
              "</div>"
            ],
            "text/plain": [
              "            Date  Team_1Enc  Team_2Enc  Venue  GroundCode TOSS  Toss1  Toss2\n",
              "2347  1983-06-15          4         12      2          59    2    0.0    1.0\n",
              "1398  1996-02-22          3          6      2          76    1    1.0    0.0\n",
              "2100  1996-04-19          4          9      2         156    2    0.0    1.0\n",
              "2563  2002-12-08          6         13      1          26    1    1.0    0.0\n",
              "1520  2016-08-30          3          8      0          60    1    1.0    0.0"
            ]
          },
          "metadata": {
            "tags": []
          },
          "execution_count": 13
        }
      ]
    },
    {
      "cell_type": "code",
      "metadata": {
        "id": "XT38dbk7hui0",
        "outputId": "c1d5ec28-2688-4ebb-8ec8-6006df8315f0",
        "colab": {
          "base_uri": "https://localhost:8080/",
          "height": 202
        }
      },
      "source": [
        "y_train.head()"
      ],
      "execution_count": 14,
      "outputs": [
        {
          "output_type": "execute_result",
          "data": {
            "text/html": [
              "<div>\n",
              "<style scoped>\n",
              "    .dataframe tbody tr th:only-of-type {\n",
              "        vertical-align: middle;\n",
              "    }\n",
              "\n",
              "    .dataframe tbody tr th {\n",
              "        vertical-align: top;\n",
              "    }\n",
              "\n",
              "    .dataframe thead th {\n",
              "        text-align: right;\n",
              "    }\n",
              "</style>\n",
              "<table border=\"1\" class=\"dataframe\">\n",
              "  <thead>\n",
              "    <tr style=\"text-align: right;\">\n",
              "      <th></th>\n",
              "      <th>Winner_team</th>\n",
              "      <th>Win1</th>\n",
              "      <th>Win2</th>\n",
              "      <th>Score_1</th>\n",
              "      <th>Score_2</th>\n",
              "      <th>NRR_team1</th>\n",
              "      <th>NRR_team2</th>\n",
              "    </tr>\n",
              "  </thead>\n",
              "  <tbody>\n",
              "    <tr>\n",
              "      <th>2347</th>\n",
              "      <td>2</td>\n",
              "      <td>0.0</td>\n",
              "      <td>1.0</td>\n",
              "      <td>216</td>\n",
              "      <td>282</td>\n",
              "      <td>-0.807273</td>\n",
              "      <td>0.807273</td>\n",
              "    </tr>\n",
              "    <tr>\n",
              "      <th>1398</th>\n",
              "      <td>1</td>\n",
              "      <td>1.0</td>\n",
              "      <td>0.0</td>\n",
              "      <td>279</td>\n",
              "      <td>230</td>\n",
              "      <td>0.98</td>\n",
              "      <td>-0.98</td>\n",
              "    </tr>\n",
              "    <tr>\n",
              "      <th>2100</th>\n",
              "      <td>2</td>\n",
              "      <td>0.0</td>\n",
              "      <td>1.0</td>\n",
              "      <td>249</td>\n",
              "      <td>287</td>\n",
              "      <td>-0.721987</td>\n",
              "      <td>0.721987</td>\n",
              "    </tr>\n",
              "    <tr>\n",
              "      <th>2563</th>\n",
              "      <td>1</td>\n",
              "      <td>1.0</td>\n",
              "      <td>0.0</td>\n",
              "      <td>211</td>\n",
              "      <td>17</td>\n",
              "      <td>3.88</td>\n",
              "      <td>-3.88</td>\n",
              "    </tr>\n",
              "    <tr>\n",
              "      <th>1520</th>\n",
              "      <td>1</td>\n",
              "      <td>1.0</td>\n",
              "      <td>0.0</td>\n",
              "      <td>444</td>\n",
              "      <td>275</td>\n",
              "      <td>3.38</td>\n",
              "      <td>-3.38</td>\n",
              "    </tr>\n",
              "  </tbody>\n",
              "</table>\n",
              "</div>"
            ],
            "text/plain": [
              "     Winner_team  Win1  Win2  Score_1  Score_2 NRR_team1 NRR_team2\n",
              "2347           2   0.0   1.0      216      282 -0.807273  0.807273\n",
              "1398           1   1.0   0.0      279      230      0.98     -0.98\n",
              "2100           2   0.0   1.0      249      287 -0.721987  0.721987\n",
              "2563           1   1.0   0.0      211       17      3.88     -3.88\n",
              "1520           1   1.0   0.0      444      275      3.38     -3.38"
            ]
          },
          "metadata": {
            "tags": []
          },
          "execution_count": 14
        }
      ]
    },
    {
      "cell_type": "code",
      "metadata": {
        "id": "4-qTW5toi7Bd"
      },
      "source": [
        "def print_model_scores(model, data, y, predictors, target):\n",
        "    '''\n",
        "    A generic function to generate the performance report of the\n",
        "    model in question on the data passed to it using cross-validation\n",
        "    \n",
        "    Args:\n",
        "        model: ML Model to be checked\n",
        "        data: data on which the model needs to pe trained\n",
        "        predictors: independent feature variable\n",
        "        target: target variable\n",
        "    '''\n",
        "    model.fit(data[predictors], y[target])\n",
        "    predictions = model.predict(data[predictors])\n",
        "    #scores = cross_val_score(model, data[predictors], y[target], scoring=\"neg_mean_squared_error\", cv=5)\n",
        "    #print('Cross-Validation Score :{}'.format(np.sqrt(-scores)))\n",
        "    rms = sklearn.metrics.mean_squared_error(predictions,y[target])**0.5\n",
        "    print('RMS : %s' % '{0:.2%}'.format(rms))\n",
        "    #print(f\"Average RMSE: {np.sqrt(-scores).mean()}\")\n",
        "    r2 = sklearn.metrics.r2_score(predictions,y[target])\n",
        "    print('R2 : %s' % '{0:.2%}'.format(r2))\n",
        "    return np.asarray(predictions)"
      ],
      "execution_count": 15,
      "outputs": []
    },
    {
      "cell_type": "code",
      "metadata": {
        "id": "7UY41tPDjW3t"
      },
      "source": [
        "def winner_prediction(model, data, y, predictors,winner):\n",
        "    pred = print_model_scores(model, X_train, y_train,predictor_var, ['NRR_team1'])\n",
        "    \n",
        "    \n",
        "    for i in range(len(pred)):\n",
        "        if ((pred[i])>0):\n",
        "            pred[i] = 1\n",
        "        elif (pred[i]==0):\n",
        "            pred[i] = 0\n",
        "        else:\n",
        "            pred[i] = 2\n",
        "\n",
        "    print(\"Model Accuracy is: \")\n",
        "    print(sum(1 for x,y in zip(pred,winner) if x == y) / len(winner))"
      ],
      "execution_count": 16,
      "outputs": []
    },
    {
      "cell_type": "markdown",
      "metadata": {
        "id": "SuGES9wqjiQ1"
      },
      "source": [
        "##Model1 - Toss + GroundCode "
      ]
    },
    {
      "cell_type": "code",
      "metadata": {
        "id": "QB9AQfQtjiQ4",
        "outputId": "fd41a919-980c-4ceb-e641-85bca12b09eb",
        "colab": {
          "base_uri": "https://localhost:8080/"
        }
      },
      "source": [
        "winner = y_train['Winner_team']\n",
        "predictor_var = ['Team_1Enc','Team_2Enc', 'GroundCode','TOSS']\n",
        "model = RandomForestRegressor(n_estimators = 100, random_state = 0)\n",
        "winner_prediction(model, X_train, y_train,predictor_var, winner)"
      ],
      "execution_count": 17,
      "outputs": [
        {
          "output_type": "stream",
          "text": [
            "/usr/local/lib/python3.6/dist-packages/ipykernel_launcher.py:12: DataConversionWarning: A column-vector y was passed when a 1d array was expected. Please change the shape of y to (n_samples,), for example using ravel().\n",
            "  if sys.path[0] == '':\n"
          ],
          "name": "stderr"
        },
        {
          "output_type": "stream",
          "text": [
            "RMS : 276.60%\n",
            "R2 : -110.91%\n",
            "Model Accuracy is: \n",
            "0.7218225419664268\n"
          ],
          "name": "stdout"
        }
      ]
    },
    {
      "cell_type": "code",
      "metadata": {
        "id": "g1JVfwVJjiRG",
        "outputId": "70e8b637-6649-4860-f06f-effb8b6a5f19",
        "colab": {
          "base_uri": "https://localhost:8080/"
        }
      },
      "source": [
        "winner = y_train['Winner_team']\n",
        "predictor_var = ['Team_1Enc','Team_2Enc', 'GroundCode','TOSS']\n",
        "model = LinearRegression()\n",
        "winner_prediction(model, X_train, y_train,predictor_var, winner)"
      ],
      "execution_count": 18,
      "outputs": [
        {
          "output_type": "stream",
          "text": [
            "RMS : 359.06%\n",
            "R2 : -143269.75%\n",
            "Model Accuracy is: \n",
            "0.45940390544707094\n"
          ],
          "name": "stdout"
        }
      ]
    },
    {
      "cell_type": "code",
      "metadata": {
        "id": "NLT4JVD5jiRP",
        "outputId": "2bca5257-6b3f-4371-e1ce-90f133f1cef5",
        "colab": {
          "base_uri": "https://localhost:8080/"
        }
      },
      "source": [
        "winner = y_train['Winner_team']\n",
        "predictor_var = ['Team_1Enc','Team_2Enc', 'GroundCode','TOSS']\n",
        "model = DecisionTreeRegressor()\n",
        "winner_prediction(model, X_train, y_train,predictor_var, winner)"
      ],
      "execution_count": 19,
      "outputs": [
        {
          "output_type": "stream",
          "text": [
            "RMS : 264.50%\n",
            "R2 : -18.47%\n",
            "Model Accuracy is: \n",
            "0.7995889003083247\n"
          ],
          "name": "stdout"
        }
      ]
    },
    {
      "cell_type": "code",
      "metadata": {
        "id": "LzCXS_CajiRZ",
        "outputId": "46690564-2038-42f5-cb81-9d49260d7bda",
        "colab": {
          "base_uri": "https://localhost:8080/"
        }
      },
      "source": [
        "winner = y_train['Winner_team']\n",
        "predictor_var = ['Team_1Enc','Team_2Enc', 'GroundCode','TOSS']\n",
        "model = LassoCV()\n",
        "winner_prediction(model, X_train, y_train,predictor_var, winner)"
      ],
      "execution_count": 20,
      "outputs": [
        {
          "output_type": "stream",
          "text": [
            "RMS : 359.19%\n",
            "R2 : -2590619981315607502991580456862875648.00%\n",
            "Model Accuracy is: \n",
            "0.45940390544707094\n"
          ],
          "name": "stdout"
        },
        {
          "output_type": "stream",
          "text": [
            "/usr/local/lib/python3.6/dist-packages/sklearn/linear_model/_coordinate_descent.py:1088: DataConversionWarning: A column-vector y was passed when a 1d array was expected. Please change the shape of y to (n_samples, ), for example using ravel().\n",
            "  y = column_or_1d(y, warn=True)\n"
          ],
          "name": "stderr"
        }
      ]
    },
    {
      "cell_type": "markdown",
      "metadata": {
        "id": "WxSiTdA2jiRo"
      },
      "source": [
        "##Model2 - Toss + GroundCode + Venue"
      ]
    },
    {
      "cell_type": "code",
      "metadata": {
        "id": "W0dyE_9ejiRq",
        "outputId": "8b50250a-bd41-4d2e-82ae-71576b65cc1c",
        "colab": {
          "base_uri": "https://localhost:8080/"
        }
      },
      "source": [
        "winner = y_train['Winner_team']\n",
        "predictor_var = ['Team_1Enc','Team_2Enc', 'GroundCode','TOSS','Venue']\n",
        "model = RandomForestRegressor(n_estimators = 100, random_state = 0)\n",
        "winner_prediction(model, X_train, y_train,predictor_var, winner)"
      ],
      "execution_count": 21,
      "outputs": [
        {
          "output_type": "stream",
          "text": [
            "/usr/local/lib/python3.6/dist-packages/ipykernel_launcher.py:12: DataConversionWarning: A column-vector y was passed when a 1d array was expected. Please change the shape of y to (n_samples,), for example using ravel().\n",
            "  if sys.path[0] == '':\n"
          ],
          "name": "stderr"
        },
        {
          "output_type": "stream",
          "text": [
            "RMS : 276.40%\n",
            "R2 : -107.37%\n",
            "Model Accuracy is: \n",
            "0.7221651250428229\n"
          ],
          "name": "stdout"
        }
      ]
    },
    {
      "cell_type": "code",
      "metadata": {
        "id": "uiuj9DpjjiRy",
        "outputId": "34dc7c01-dc40-40a7-9283-5c4e4df4feae",
        "colab": {
          "base_uri": "https://localhost:8080/"
        }
      },
      "source": [
        "winner = y_train['Winner_team']\n",
        "predictor_var = ['Team_1Enc','Team_2Enc', 'GroundCode','TOSS','Venue']\n",
        "model = LinearRegression()\n",
        "winner_prediction(model, X_train, y_train,predictor_var, winner)"
      ],
      "execution_count": 22,
      "outputs": [
        {
          "output_type": "stream",
          "text": [
            "RMS : 358.85%\n",
            "R2 : -53725.58%\n",
            "Model Accuracy is: \n",
            "0.4844124700239808\n"
          ],
          "name": "stdout"
        }
      ]
    },
    {
      "cell_type": "code",
      "metadata": {
        "id": "8B18eMlIjiR7",
        "outputId": "4fabca70-92a7-44cc-dc73-d682e9bac9bc",
        "colab": {
          "base_uri": "https://localhost:8080/"
        }
      },
      "source": [
        "winner = y_train['Winner_team']\n",
        "predictor_var = ['Team_1Enc','Team_2Enc', 'GroundCode','TOSS','Venue']\n",
        "model = DecisionTreeRegressor()\n",
        "winner_prediction(model, X_train, y_train,predictor_var, winner)"
      ],
      "execution_count": 23,
      "outputs": [
        {
          "output_type": "stream",
          "text": [
            "RMS : 264.50%\n",
            "R2 : -18.47%\n",
            "Model Accuracy is: \n",
            "0.7995889003083247\n"
          ],
          "name": "stdout"
        }
      ]
    },
    {
      "cell_type": "code",
      "metadata": {
        "id": "BLP7ZytBjiSD",
        "outputId": "de7158f7-0a9a-4124-d883-0e8b1dd7b732",
        "colab": {
          "base_uri": "https://localhost:8080/"
        }
      },
      "source": [
        "winner = y_train['Winner_team']\n",
        "predictor_var = ['Team_1Enc','Team_2Enc', 'GroundCode','TOSS','Venue']\n",
        "model = LassoCV()\n",
        "winner_prediction(model, X_train, y_train,predictor_var, winner)"
      ],
      "execution_count": 24,
      "outputs": [
        {
          "output_type": "stream",
          "text": [
            "RMS : 359.19%\n",
            "R2 : -2590619981315607502991580456862875648.00%\n",
            "Model Accuracy is: \n",
            "0.45940390544707094\n"
          ],
          "name": "stdout"
        },
        {
          "output_type": "stream",
          "text": [
            "/usr/local/lib/python3.6/dist-packages/sklearn/linear_model/_coordinate_descent.py:1088: DataConversionWarning: A column-vector y was passed when a 1d array was expected. Please change the shape of y to (n_samples, ), for example using ravel().\n",
            "  y = column_or_1d(y, warn=True)\n"
          ],
          "name": "stderr"
        }
      ]
    }
  ]
}