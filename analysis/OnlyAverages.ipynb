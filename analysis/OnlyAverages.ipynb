{
 "cells": [
  {
   "cell_type": "markdown",
   "metadata": {},
   "source": [
    "### Import Data"
   ]
  },
  {
   "cell_type": "code",
   "execution_count": 1,
   "metadata": {},
   "outputs": [],
   "source": [
    "import pandas as pd\n",
    "import numpy as np\n",
    "import json\n",
    "import datetime"
   ]
  },
  {
   "cell_type": "code",
   "execution_count": 2,
   "metadata": {},
   "outputs": [],
   "source": [
    "f = open('../Data/batsmen.json',) \n",
    "batting = json.load(f)   "
   ]
  },
  {
   "cell_type": "code",
   "execution_count": 3,
   "metadata": {},
   "outputs": [],
   "source": [
    "f = open('../Data/bowlers.json',) \n",
    "bowling = json.load(f)  "
   ]
  },
  {
   "cell_type": "code",
   "execution_count": 4,
   "metadata": {},
   "outputs": [
    {
     "data": {
      "text/html": [
       "<div>\n",
       "<style scoped>\n",
       "    .dataframe tbody tr th:only-of-type {\n",
       "        vertical-align: middle;\n",
       "    }\n",
       "\n",
       "    .dataframe tbody tr th {\n",
       "        vertical-align: top;\n",
       "    }\n",
       "\n",
       "    .dataframe thead th {\n",
       "        text-align: right;\n",
       "    }\n",
       "</style>\n",
       "<table border=\"1\" class=\"dataframe\">\n",
       "  <thead>\n",
       "    <tr style=\"text-align: right;\">\n",
       "      <th></th>\n",
       "      <th>Date</th>\n",
       "      <th>Team_1</th>\n",
       "      <th>Team_2</th>\n",
       "      <th>Venue</th>\n",
       "      <th>MatchCode</th>\n",
       "      <th>GroundCode</th>\n",
       "    </tr>\n",
       "  </thead>\n",
       "  <tbody>\n",
       "    <tr>\n",
       "      <th>0</th>\n",
       "      <td>2015-03-04</td>\n",
       "      <td>AFG</td>\n",
       "      <td>AUS</td>\n",
       "      <td>Away</td>\n",
       "      <td>3773</td>\n",
       "      <td>65</td>\n",
       "    </tr>\n",
       "    <tr>\n",
       "      <th>1</th>\n",
       "      <td>2012-08-25</td>\n",
       "      <td>AFG</td>\n",
       "      <td>AUS</td>\n",
       "      <td>Neutral</td>\n",
       "      <td>3437</td>\n",
       "      <td>156</td>\n",
       "    </tr>\n",
       "    <tr>\n",
       "      <th>2</th>\n",
       "      <td>2019-06-01</td>\n",
       "      <td>AFG</td>\n",
       "      <td>AUS</td>\n",
       "      <td>Neutral</td>\n",
       "      <td>4306</td>\n",
       "      <td>149</td>\n",
       "    </tr>\n",
       "    <tr>\n",
       "      <th>3</th>\n",
       "      <td>2014-03-01</td>\n",
       "      <td>AFG</td>\n",
       "      <td>BAN</td>\n",
       "      <td>Away</td>\n",
       "      <td>3623</td>\n",
       "      <td>190</td>\n",
       "    </tr>\n",
       "    <tr>\n",
       "      <th>4</th>\n",
       "      <td>2016-09-25</td>\n",
       "      <td>AFG</td>\n",
       "      <td>BAN</td>\n",
       "      <td>Away</td>\n",
       "      <td>3936</td>\n",
       "      <td>198</td>\n",
       "    </tr>\n",
       "  </tbody>\n",
       "</table>\n",
       "</div>"
      ],
      "text/plain": [
       "         Date Team_1 Team_2    Venue  MatchCode  GroundCode\n",
       "0  2015-03-04    AFG    AUS     Away       3773          65\n",
       "1  2012-08-25    AFG    AUS  Neutral       3437         156\n",
       "2  2019-06-01    AFG    AUS  Neutral       4306         149\n",
       "3  2014-03-01    AFG    BAN     Away       3623         190\n",
       "4  2016-09-25    AFG    BAN     Away       3936         198"
      ]
     },
     "execution_count": 4,
     "metadata": {},
     "output_type": "execute_result"
    }
   ],
   "source": [
    "matches = pd.read_csv(\"../Data/matches.csv\")\n",
    "matches.head()"
   ]
  },
  {
   "cell_type": "code",
   "execution_count": 5,
   "metadata": {},
   "outputs": [],
   "source": [
    "f = open('../Data/scorecard.json',) \n",
    "scorecard = json.load(f)"
   ]
  },
  {
   "cell_type": "code",
   "execution_count": null,
   "metadata": {},
   "outputs": [],
   "source": []
  },
  {
   "cell_type": "markdown",
   "metadata": {},
   "source": [
    "### Final Data : Batting"
   ]
  },
  {
   "cell_type": "code",
   "execution_count": 6,
   "metadata": {},
   "outputs": [],
   "source": [
    "def allBatsmen(batting):\n",
    "    batting_keys=batting.keys()\n",
    "    performance={}\n",
    "    for k in batting_keys:\n",
    "        for j in batting[k]:\n",
    "            performance.setdefault(k,[]).append([j[0],j[1][1],j[1][2],j[1][3],j[1][4],j[1][5]])\n",
    "\n",
    "    performance_keys = performance.keys()\n",
    "    \n",
    "    for per in performance_keys:\n",
    "        l = performance[per]\n",
    "        l1=sorted(l,reverse=True)\n",
    "        performance[per]=l1\n",
    "        \n",
    "    return performance"
   ]
  },
  {
   "cell_type": "code",
   "execution_count": 7,
   "metadata": {},
   "outputs": [
    {
     "name": "stdout",
     "output_type": "stream",
     "text": [
      "2099\n"
     ]
    }
   ],
   "source": [
    "bat={}\n",
    "bat=allBatsmen(batting)\n",
    "print(len(bat))"
   ]
  },
  {
   "cell_type": "markdown",
   "metadata": {},
   "source": [
    "### Final Data : Bowling"
   ]
  },
  {
   "cell_type": "code",
   "execution_count": 8,
   "metadata": {},
   "outputs": [],
   "source": [
    "def allBowlers(bowling):\n",
    "    bowling_keys=bowling.keys()\n",
    "    performance={}\n",
    "    for k in bowling_keys:\n",
    "        for j in bowling[k]:\n",
    "            performance.setdefault(k,[]).append([j[0],j[1][0],j[1][1],j[1][2],j[1][3],j[1][4]])\n",
    "\n",
    "    performance_keys = performance.keys()\n",
    "    \n",
    "    for per in performance_keys:\n",
    "        l = performance[per]\n",
    "        l1=sorted(l,reverse=True)\n",
    "        performance[per]=l1\n",
    "        \n",
    "    return performance"
   ]
  },
  {
   "cell_type": "code",
   "execution_count": 9,
   "metadata": {},
   "outputs": [
    {
     "name": "stdout",
     "output_type": "stream",
     "text": [
      "1616\n"
     ]
    }
   ],
   "source": [
    "bowl={}\n",
    "bowl=allBowlers(bowling)\n",
    "print(len(bowl))"
   ]
  },
  {
   "cell_type": "markdown",
   "metadata": {},
   "source": [
    "### Batting Data for each team"
   ]
  },
  {
   "cell_type": "code",
   "execution_count": 10,
   "metadata": {},
   "outputs": [],
   "source": [
    "def getLatestPerf_Bat(perform,team_players, date, num_years=5):\n",
    "    latest_performance={}\n",
    "    perform_keys = perform.keys()\n",
    "    for k in team_players:\n",
    "        for i in perform[k]:\n",
    "            d = datetime.datetime.strptime(date, '%Y-%m-%d')\n",
    "            d1 = datetime.datetime.strptime(i[0], '%Y-%m-%d')\n",
    "            min_date = datetime.datetime.strptime(str(d.year-num_years)+'-01'+'-01', '%Y-%m-%d')\n",
    "            if(d1>=min_date and i[0]<date):\n",
    "                latest_performance.setdefault(k,[]).append(i)\n",
    "    return latest_performance"
   ]
  },
  {
   "cell_type": "code",
   "execution_count": 11,
   "metadata": {},
   "outputs": [],
   "source": [
    "def getAvgBat(team,index):\n",
    "    final_score=[]\n",
    "    for k in team.keys():\n",
    "        para=[]\n",
    "        for j in team[k]:\n",
    "            para.append(j[index])\n",
    "            \n",
    "        para1=[x if x!=-1 else np.nan for x in para]\n",
    "        para1=pd.Series(para1)\n",
    "        f1=para1.ewm(com=0.5).mean()\n",
    "        final_score.append(round(f1.mean(),3))\n",
    "    return final_score"
   ]
  },
  {
   "cell_type": "code",
   "execution_count": null,
   "metadata": {},
   "outputs": [],
   "source": []
  },
  {
   "cell_type": "markdown",
   "metadata": {},
   "source": [
    "### Bowling Data for each team"
   ]
  },
  {
   "cell_type": "code",
   "execution_count": null,
   "metadata": {},
   "outputs": [],
   "source": []
  },
  {
   "cell_type": "code",
   "execution_count": 12,
   "metadata": {},
   "outputs": [],
   "source": [
    "def getLatestPerf_Bowl(perform,team_players, date, num_years=5):\n",
    "    latest_performance={}\n",
    "    perform_keys = perform.keys()\n",
    "    for k in team_players:\n",
    "        for i in perform[k]:\n",
    "            d = datetime.datetime.strptime(date, '%Y-%m-%d')\n",
    "            d1 = datetime.datetime.strptime(i[0], '%Y-%m-%d')\n",
    "            min_date = datetime.datetime.strptime(str(d.year-num_years)+'-01'+'-01', '%Y-%m-%d')\n",
    "            if(d1>=min_date and i[0]<date):\n",
    "                latest_performance.setdefault(k,[]).append(i)\n",
    "    return latest_performance"
   ]
  },
  {
   "cell_type": "code",
   "execution_count": 13,
   "metadata": {},
   "outputs": [],
   "source": [
    "def getAvgBowl(team,index):\n",
    "    final_score=[]\n",
    "    for k in team.keys():\n",
    "        para=[]\n",
    "        for j in team[k]:\n",
    "            para.append(j[index])\n",
    "            \n",
    "        para1=[x if x!=-1 else np.nan for x in para]\n",
    "        para1=pd.Series(para1)\n",
    "        f1=para1.ewm(com=0.5).mean()\n",
    "        final_score.append(round(f1.mean(),3))\n",
    "    return final_score"
   ]
  },
  {
   "cell_type": "markdown",
   "metadata": {},
   "source": [
    "### Example Input"
   ]
  },
  {
   "cell_type": "code",
   "execution_count": null,
   "metadata": {},
   "outputs": [],
   "source": [
    "#Example Input"
   ]
  },
  {
   "cell_type": "code",
   "execution_count": 14,
   "metadata": {},
   "outputs": [],
   "source": [
    "team_1 = 'IND'\n",
    "team_2 = 'ZIM' \n",
    "date = '2015-07-12'"
   ]
  },
  {
   "cell_type": "code",
   "execution_count": 15,
   "metadata": {},
   "outputs": [
    {
     "name": "stderr",
     "output_type": "stream",
     "text": [
      "<ipython-input-15-dcb46b164f1d>:2: UserWarning: Boolean Series key will be reindexed to match DataFrame index.\n",
      "  matches_input=matches_input[(matches['Team_1']==team_1)]\n"
     ]
    }
   ],
   "source": [
    "matches_input=matches[(matches['Date']==date)]\n",
    "matches_input=matches_input[(matches['Team_1']==team_1)]\n",
    "match_code=matches_input['MatchCode'].iloc[0]"
   ]
  },
  {
   "cell_type": "code",
   "execution_count": 16,
   "metadata": {},
   "outputs": [],
   "source": [
    "team_1_batsmen = [scorecard[str(match_code)]['BATTING1'][i][0] for i in range(10)]\n",
    "team_2_batsmen = [scorecard[str(match_code)]['BATTING2'][i][0] for i in range(10)]"
   ]
  },
  {
   "cell_type": "code",
   "execution_count": 17,
   "metadata": {},
   "outputs": [],
   "source": [
    "team_1_bowlers = [scorecard[str(match_code)]['BOWLING1'][i][0] for i in range(len(scorecard[str(match_code)]['BOWLING1']))]\n",
    "team_2_bowlers = [scorecard[str(match_code)]['BOWLING2'][i][0] for i in range(len(scorecard[str(match_code)]['BOWLING2']))]"
   ]
  },
  {
   "cell_type": "code",
   "execution_count": 18,
   "metadata": {},
   "outputs": [],
   "source": [
    "team1_bat=getLatestPerf_Bat(bat,team_1_batsmen, date, 5)\n",
    "team2_bat=getLatestPerf_Bat(bat,team_2_batsmen, date, 5)"
   ]
  },
  {
   "cell_type": "code",
   "execution_count": 19,
   "metadata": {},
   "outputs": [],
   "source": [
    "team1_bowl=getLatestPerf_Bowl(bowl,team_1_bowlers, date, 5)\n",
    "team2_bowl=getLatestPerf_Bowl(bowl,team_2_bowlers, date, 5)"
   ]
  },
  {
   "cell_type": "code",
   "execution_count": 20,
   "metadata": {},
   "outputs": [],
   "source": [
    "data = [[date,team_1, team_2]] \n",
    "\n",
    "predict = pd.DataFrame(data, columns = ['Date','Team1', 'Team2'])"
   ]
  },
  {
   "cell_type": "code",
   "execution_count": 23,
   "metadata": {},
   "outputs": [
    {
     "data": {
      "text/html": [
       "<div>\n",
       "<style scoped>\n",
       "    .dataframe tbody tr th:only-of-type {\n",
       "        vertical-align: middle;\n",
       "    }\n",
       "\n",
       "    .dataframe tbody tr th {\n",
       "        vertical-align: top;\n",
       "    }\n",
       "\n",
       "    .dataframe thead th {\n",
       "        text-align: right;\n",
       "    }\n",
       "</style>\n",
       "<table border=\"1\" class=\"dataframe\">\n",
       "  <thead>\n",
       "    <tr style=\"text-align: right;\">\n",
       "      <th></th>\n",
       "      <th>Date</th>\n",
       "      <th>Team1</th>\n",
       "      <th>Team2</th>\n",
       "    </tr>\n",
       "  </thead>\n",
       "  <tbody>\n",
       "    <tr>\n",
       "      <th>0</th>\n",
       "      <td>2015-07-12</td>\n",
       "      <td>IND</td>\n",
       "      <td>ZIM</td>\n",
       "    </tr>\n",
       "  </tbody>\n",
       "</table>\n",
       "</div>"
      ],
      "text/plain": [
       "         Date Team1 Team2\n",
       "0  2015-07-12   IND   ZIM"
      ]
     },
     "execution_count": 23,
     "metadata": {},
     "output_type": "execute_result"
    }
   ],
   "source": [
    "predict"
   ]
  },
  {
   "cell_type": "code",
   "execution_count": 24,
   "metadata": {},
   "outputs": [],
   "source": [
    "predict['Runs_team1'] = ''\n",
    "predict['Runs_team2'] = ''\n",
    "\n",
    "predict['Fours_team1'] = ''\n",
    "predict['Fours_team2'] = ''\n",
    "predict['Sixes_team1'] = ''\n",
    "predict['Sixes_team2'] = ''\n",
    "predict['Strike_rate_team1'] = ''\n",
    "predict['Strike_rate_team2'] = ''\n",
    "predict['Maidens_team1'] = ''\n",
    "predict['Maidens_team2'] = ''\n",
    "predict['Wickets_team1'] = ''\n",
    "predict['Wickets_team2'] = ''\n",
    "predict['Economy_rate_team1'] = ''\n",
    "predict['Economy_rate_team2'] = ''"
   ]
  },
  {
   "cell_type": "code",
   "execution_count": 25,
   "metadata": {},
   "outputs": [],
   "source": [
    "predict['Runs_team1'].iloc[0] = getAvgBat(team1_bat,1)\n",
    "predict['Runs_team2'].iloc[0] = getAvgBat(team2_bat,1)\n",
    "predict['Fours_team1'].iloc[0] = getAvgBat(team1_bat,3)\n",
    "predict['Fours_team2'].iloc[0] = getAvgBat(team2_bat,3)\n",
    "predict['Sixes_team1'].iloc[0] = getAvgBat(team1_bat,4)\n",
    "predict['Sixes_team2'].iloc[0] = getAvgBat(team2_bat,4)\n",
    "predict['Strike_rate_team1'].iloc[0] = getAvgBat(team1_bat,5)\n",
    "predict['Strike_rate_team2'].iloc[0] = getAvgBat(team2_bat,5)"
   ]
  },
  {
   "cell_type": "code",
   "execution_count": 30,
   "metadata": {},
   "outputs": [],
   "source": [
    "def adjust_length(l):\n",
    "    if (len(l)<10):\n",
    "        l.extend([-1] * (10 - len(l)))\n",
    "    return l"
   ]
  },
  {
   "cell_type": "code",
   "execution_count": 32,
   "metadata": {},
   "outputs": [],
   "source": [
    "predict['Maidens_team1'].iloc[0] = adjust_length(getAvgBowl(team1_bowl,1))\n",
    "predict['Maidens_team2'].iloc[0] = adjust_length(getAvgBowl(team2_bowl,1))\n",
    "predict['Wickets_team1'].iloc[0] = adjust_length(getAvgBowl(team1_bowl,3))\n",
    "predict['Wickets_team2'].iloc[0] = adjust_length(getAvgBowl(team2_bowl,3))\n",
    "predict['Economy_rate_team1'].iloc[0] = adjust_length(getAvgBowl(team1_bowl,4))\n",
    "predict['Economy_rate_team2'].iloc[0] = adjust_length(getAvgBowl(team2_bowl,4))"
   ]
  },
  {
   "cell_type": "code",
   "execution_count": 33,
   "metadata": {},
   "outputs": [
    {
     "data": {
      "text/html": [
       "<div>\n",
       "<style scoped>\n",
       "    .dataframe tbody tr th:only-of-type {\n",
       "        vertical-align: middle;\n",
       "    }\n",
       "\n",
       "    .dataframe tbody tr th {\n",
       "        vertical-align: top;\n",
       "    }\n",
       "\n",
       "    .dataframe thead th {\n",
       "        text-align: right;\n",
       "    }\n",
       "</style>\n",
       "<table border=\"1\" class=\"dataframe\">\n",
       "  <thead>\n",
       "    <tr style=\"text-align: right;\">\n",
       "      <th></th>\n",
       "      <th>Date</th>\n",
       "      <th>Team1</th>\n",
       "      <th>Team2</th>\n",
       "      <th>Runs_team1</th>\n",
       "      <th>Runs_team2</th>\n",
       "      <th>Fours_team1</th>\n",
       "      <th>Fours_team2</th>\n",
       "      <th>Sixes_team1</th>\n",
       "      <th>Sixes_team2</th>\n",
       "      <th>Strike_rate_team1</th>\n",
       "      <th>Strike_rate_team2</th>\n",
       "      <th>Maidens_team1</th>\n",
       "      <th>Maidens_team2</th>\n",
       "      <th>Wickets_team1</th>\n",
       "      <th>Wickets_team2</th>\n",
       "      <th>Economy_rate_team1</th>\n",
       "      <th>Economy_rate_team2</th>\n",
       "    </tr>\n",
       "  </thead>\n",
       "  <tbody>\n",
       "    <tr>\n",
       "      <th>0</th>\n",
       "      <td>2015-07-12</td>\n",
       "      <td>IND</td>\n",
       "      <td>ZIM</td>\n",
       "      <td>[30.115, 16.138, 41.229, 31.892, 9.904, 25.32,...</td>\n",
       "      <td>[27.694, 23.366, 28.702, 24.965, 28.928, 29.36...</td>\n",
       "      <td>[3.03, 1.697, 3.39, 3.06, 0.885, 2.269, 1.75, ...</td>\n",
       "      <td>[2.882, 2.581, 2.743, 2.199, 2.378, 3.183, 1.6...</td>\n",
       "      <td>[0.345, 0.072, 0.586, 0.126, 0.0, 0.639, 0.0, ...</td>\n",
       "      <td>[0.429, 0.286, 0.493, 0.456, 0.471, 0.618, 0.1...</td>\n",
       "      <td>[62.179, 53.124, 77.292, 73.897, 52.657, 73.92...</td>\n",
       "      <td>[60.614, 58.087, 61.916, 73.845, 74.74, 73.004...</td>\n",
       "      <td>[8.462, 7.803, 7.557, 6.49, 7.714, 3.268, 3.30...</td>\n",
       "      <td>[8.406, 8.618, 9.484, 6.914, 9.067, -1, -1, -1...</td>\n",
       "      <td>[50.827, 46.914, 49.337, 32.396, 38.1, 15.659,...</td>\n",
       "      <td>[39.109, 47.481, 40.596, 36.524, 39.371, -1, -...</td>\n",
       "      <td>[1.284, 2.236, 1.609, 0.589, 0.824, 0.318, 0.3...</td>\n",
       "      <td>[0.993, 1.895, 1.255, 1.353, 1.622, -1, -1, -1...</td>\n",
       "    </tr>\n",
       "  </tbody>\n",
       "</table>\n",
       "</div>"
      ],
      "text/plain": [
       "         Date Team1 Team2                                         Runs_team1  \\\n",
       "0  2015-07-12   IND   ZIM  [30.115, 16.138, 41.229, 31.892, 9.904, 25.32,...   \n",
       "\n",
       "                                          Runs_team2  \\\n",
       "0  [27.694, 23.366, 28.702, 24.965, 28.928, 29.36...   \n",
       "\n",
       "                                         Fours_team1  \\\n",
       "0  [3.03, 1.697, 3.39, 3.06, 0.885, 2.269, 1.75, ...   \n",
       "\n",
       "                                         Fours_team2  \\\n",
       "0  [2.882, 2.581, 2.743, 2.199, 2.378, 3.183, 1.6...   \n",
       "\n",
       "                                         Sixes_team1  \\\n",
       "0  [0.345, 0.072, 0.586, 0.126, 0.0, 0.639, 0.0, ...   \n",
       "\n",
       "                                         Sixes_team2  \\\n",
       "0  [0.429, 0.286, 0.493, 0.456, 0.471, 0.618, 0.1...   \n",
       "\n",
       "                                   Strike_rate_team1  \\\n",
       "0  [62.179, 53.124, 77.292, 73.897, 52.657, 73.92...   \n",
       "\n",
       "                                   Strike_rate_team2  \\\n",
       "0  [60.614, 58.087, 61.916, 73.845, 74.74, 73.004...   \n",
       "\n",
       "                                       Maidens_team1  \\\n",
       "0  [8.462, 7.803, 7.557, 6.49, 7.714, 3.268, 3.30...   \n",
       "\n",
       "                                       Maidens_team2  \\\n",
       "0  [8.406, 8.618, 9.484, 6.914, 9.067, -1, -1, -1...   \n",
       "\n",
       "                                       Wickets_team1  \\\n",
       "0  [50.827, 46.914, 49.337, 32.396, 38.1, 15.659,...   \n",
       "\n",
       "                                       Wickets_team2  \\\n",
       "0  [39.109, 47.481, 40.596, 36.524, 39.371, -1, -...   \n",
       "\n",
       "                                  Economy_rate_team1  \\\n",
       "0  [1.284, 2.236, 1.609, 0.589, 0.824, 0.318, 0.3...   \n",
       "\n",
       "                                  Economy_rate_team2  \n",
       "0  [0.993, 1.895, 1.255, 1.353, 1.622, -1, -1, -1...  "
      ]
     },
     "execution_count": 33,
     "metadata": {},
     "output_type": "execute_result"
    }
   ],
   "source": [
    "predict"
   ]
  }
 ],
 "metadata": {
  "kernelspec": {
   "display_name": "Python 3",
   "language": "python",
   "name": "python3"
  },
  "language_info": {
   "codemirror_mode": {
    "name": "ipython",
    "version": 3
   },
   "file_extension": ".py",
   "mimetype": "text/x-python",
   "name": "python",
   "nbconvert_exporter": "python",
   "pygments_lexer": "ipython3",
   "version": "3.8.3"
  }
 },
 "nbformat": 4,
 "nbformat_minor": 4
}
