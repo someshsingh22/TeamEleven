{
 "cells": [
  {
   "cell_type": "code",
   "execution_count": 1,
   "metadata": {
    "ExecuteTime": {
     "end_time": "2020-11-12T12:43:17.087052Z",
     "start_time": "2020-11-12T12:43:09.872283Z"
    },
    "scrolled": true
   },
   "outputs": [],
   "source": [
    "import pandas as pd\n",
    "import matplotlib.pyplot as plt\n",
    "import numpy as np\n",
    "import sklearn\n",
    "import json\n",
    "import datetime\n",
    "import math\n",
    "from random import randint"
   ]
  },
  {
   "cell_type": "code",
   "execution_count": 2,
   "metadata": {},
   "outputs": [],
   "source": [
    "import sklearn\n",
    "from sklearn.preprocessing import LabelEncoder,OneHotEncoder\n",
    "from sklearn.model_selection import train_test_split\n",
    "from sklearn.linear_model import LinearRegression\n",
    "from sklearn.preprocessing import PolynomialFeatures\n",
    "from sklearn.model_selection import cross_val_score\n",
    "from sklearn.tree import DecisionTreeRegressor\n",
    "from sklearn.linear_model import LassoCV\n",
    "from sklearn.ensemble import RandomForestRegressor\n",
    "from sklearn.metrics import accuracy_score\n",
    "import matplotlib.pyplot as plt\n",
    "from sklearn.preprocessing import StandardScaler\n",
    "from sklearn.metrics import classification_report"
   ]
  },
  {
   "cell_type": "markdown",
   "metadata": {},
   "source": [
    "## Importing data"
   ]
  },
  {
   "cell_type": "code",
   "execution_count": 3,
   "metadata": {
    "ExecuteTime": {
     "end_time": "2020-11-12T12:43:17.973772Z",
     "start_time": "2020-11-12T12:43:17.835624Z"
    },
    "scrolled": true
   },
   "outputs": [
    {
     "data": {
      "text/html": [
       "<div>\n",
       "<style scoped>\n",
       "    .dataframe tbody tr th:only-of-type {\n",
       "        vertical-align: middle;\n",
       "    }\n",
       "\n",
       "    .dataframe tbody tr th {\n",
       "        vertical-align: top;\n",
       "    }\n",
       "\n",
       "    .dataframe thead th {\n",
       "        text-align: right;\n",
       "    }\n",
       "</style>\n",
       "<table border=\"1\" class=\"dataframe\">\n",
       "  <thead>\n",
       "    <tr style=\"text-align: right;\">\n",
       "      <th></th>\n",
       "      <th>Date</th>\n",
       "      <th>Team_1</th>\n",
       "      <th>Team_2</th>\n",
       "      <th>Venue</th>\n",
       "      <th>MatchCode</th>\n",
       "      <th>GroundCode</th>\n",
       "    </tr>\n",
       "  </thead>\n",
       "  <tbody>\n",
       "    <tr>\n",
       "      <th>0</th>\n",
       "      <td>2015-03-04</td>\n",
       "      <td>AFG</td>\n",
       "      <td>AUS</td>\n",
       "      <td>Away</td>\n",
       "      <td>3773</td>\n",
       "      <td>65</td>\n",
       "    </tr>\n",
       "    <tr>\n",
       "      <th>1</th>\n",
       "      <td>2012-08-25</td>\n",
       "      <td>AFG</td>\n",
       "      <td>AUS</td>\n",
       "      <td>Neutral</td>\n",
       "      <td>3437</td>\n",
       "      <td>156</td>\n",
       "    </tr>\n",
       "    <tr>\n",
       "      <th>2</th>\n",
       "      <td>2019-06-01</td>\n",
       "      <td>AFG</td>\n",
       "      <td>AUS</td>\n",
       "      <td>Neutral</td>\n",
       "      <td>4306</td>\n",
       "      <td>149</td>\n",
       "    </tr>\n",
       "    <tr>\n",
       "      <th>3</th>\n",
       "      <td>2014-03-01</td>\n",
       "      <td>AFG</td>\n",
       "      <td>BAN</td>\n",
       "      <td>Away</td>\n",
       "      <td>3623</td>\n",
       "      <td>190</td>\n",
       "    </tr>\n",
       "    <tr>\n",
       "      <th>4</th>\n",
       "      <td>2016-09-25</td>\n",
       "      <td>AFG</td>\n",
       "      <td>BAN</td>\n",
       "      <td>Away</td>\n",
       "      <td>3936</td>\n",
       "      <td>198</td>\n",
       "    </tr>\n",
       "  </tbody>\n",
       "</table>\n",
       "</div>"
      ],
      "text/plain": [
       "         Date Team_1 Team_2    Venue  MatchCode  GroundCode\n",
       "0  2015-03-04    AFG    AUS     Away       3773          65\n",
       "1  2012-08-25    AFG    AUS  Neutral       3437         156\n",
       "2  2019-06-01    AFG    AUS  Neutral       4306         149\n",
       "3  2014-03-01    AFG    BAN     Away       3623         190\n",
       "4  2016-09-25    AFG    BAN     Away       3936         198"
      ]
     },
     "execution_count": 3,
     "metadata": {},
     "output_type": "execute_result"
    }
   ],
   "source": [
    "matches = pd.read_csv(\"../Data/matches.csv\")\n",
    "matches.head()"
   ]
  },
  {
   "cell_type": "code",
   "execution_count": 4,
   "metadata": {
    "ExecuteTime": {
     "end_time": "2020-11-12T12:43:18.942608Z",
     "start_time": "2020-11-12T12:43:18.896153Z"
    }
   },
   "outputs": [
    {
     "data": {
      "text/html": [
       "<div>\n",
       "<style scoped>\n",
       "    .dataframe tbody tr th:only-of-type {\n",
       "        vertical-align: middle;\n",
       "    }\n",
       "\n",
       "    .dataframe tbody tr th {\n",
       "        vertical-align: top;\n",
       "    }\n",
       "\n",
       "    .dataframe thead th {\n",
       "        text-align: right;\n",
       "    }\n",
       "</style>\n",
       "<table border=\"1\" class=\"dataframe\">\n",
       "  <thead>\n",
       "    <tr style=\"text-align: right;\">\n",
       "      <th></th>\n",
       "      <th>Full Name</th>\n",
       "      <th>Born</th>\n",
       "      <th>Bats</th>\n",
       "      <th>Bowls</th>\n",
       "      <th>Code</th>\n",
       "    </tr>\n",
       "  </thead>\n",
       "  <tbody>\n",
       "    <tr>\n",
       "      <th>0</th>\n",
       "      <td>David A Warner</td>\n",
       "      <td>1986-10-27</td>\n",
       "      <td>Left Handed</td>\n",
       "      <td>Right Arm Leg Break</td>\n",
       "      <td>3637</td>\n",
       "    </tr>\n",
       "    <tr>\n",
       "      <th>1</th>\n",
       "      <td>Aaron James Finch</td>\n",
       "      <td>1986-11-17</td>\n",
       "      <td>Right Handed</td>\n",
       "      <td>Left Arm Orthodox</td>\n",
       "      <td>3845</td>\n",
       "    </tr>\n",
       "    <tr>\n",
       "      <th>2</th>\n",
       "      <td>Steven Peter Devereux Smith</td>\n",
       "      <td>1989-02-06</td>\n",
       "      <td>Right Handed</td>\n",
       "      <td>Right Arm Leg Break</td>\n",
       "      <td>3756</td>\n",
       "    </tr>\n",
       "    <tr>\n",
       "      <th>3</th>\n",
       "      <td>Glenn James Maxwell</td>\n",
       "      <td>1988-10-14</td>\n",
       "      <td>Right Handed</td>\n",
       "      <td>Right Arm Off Break</td>\n",
       "      <td>3969</td>\n",
       "    </tr>\n",
       "    <tr>\n",
       "      <th>4</th>\n",
       "      <td>James Peter Faulkner</td>\n",
       "      <td>1990-04-29</td>\n",
       "      <td>Right Handed</td>\n",
       "      <td>Left Arm Medium</td>\n",
       "      <td>3930</td>\n",
       "    </tr>\n",
       "  </tbody>\n",
       "</table>\n",
       "</div>"
      ],
      "text/plain": [
       "                     Full Name        Born          Bats                Bowls  \\\n",
       "0               David A Warner  1986-10-27   Left Handed  Right Arm Leg Break   \n",
       "1            Aaron James Finch  1986-11-17  Right Handed    Left Arm Orthodox   \n",
       "2  Steven Peter Devereux Smith  1989-02-06  Right Handed  Right Arm Leg Break   \n",
       "3          Glenn James Maxwell  1988-10-14  Right Handed  Right Arm Off Break   \n",
       "4         James Peter Faulkner  1990-04-29  Right Handed      Left Arm Medium   \n",
       "\n",
       "   Code  \n",
       "0  3637  \n",
       "1  3845  \n",
       "2  3756  \n",
       "3  3969  \n",
       "4  3930  "
      ]
     },
     "execution_count": 4,
     "metadata": {},
     "output_type": "execute_result"
    }
   ],
   "source": [
    "attributes = pd.read_csv(\"../Data/attributes.csv\")\n",
    "attributes.head()"
   ]
  },
  {
   "cell_type": "code",
   "execution_count": 5,
   "metadata": {
    "ExecuteTime": {
     "end_time": "2020-11-12T12:43:20.365587Z",
     "start_time": "2020-11-12T12:43:20.010914Z"
    }
   },
   "outputs": [],
   "source": [
    "batsmen = open('../Data/batsmen.json',) \n",
    "batsmen_data = json.load(batsmen)"
   ]
  },
  {
   "cell_type": "code",
   "execution_count": 6,
   "metadata": {
    "ExecuteTime": {
     "end_time": "2020-11-12T12:43:20.807519Z",
     "start_time": "2020-11-12T12:43:20.443061Z"
    }
   },
   "outputs": [],
   "source": [
    "bowlers = open('../Data/bowlers.json',) \n",
    "bowlers_data = json.load(bowlers)"
   ]
  },
  {
   "cell_type": "code",
   "execution_count": 7,
   "metadata": {
    "ExecuteTime": {
     "end_time": "2020-11-12T12:43:21.326747Z",
     "start_time": "2020-11-12T12:43:21.306706Z"
    }
   },
   "outputs": [],
   "source": [
    "invtmap = open('../Data/invtmap.json',) \n",
    "invtmap_data = json.load(invtmap)"
   ]
  },
  {
   "cell_type": "code",
   "execution_count": 8,
   "metadata": {
    "ExecuteTime": {
     "end_time": "2020-11-12T12:43:22.772026Z",
     "start_time": "2020-11-12T12:43:21.746342Z"
    }
   },
   "outputs": [],
   "source": [
    "scorecard = open('../Data/scorecard.json',) \n",
    "scorecard_data = json.load(scorecard)"
   ]
  },
  {
   "cell_type": "code",
   "execution_count": 9,
   "metadata": {
    "ExecuteTime": {
     "end_time": "2020-11-12T12:43:22.798161Z",
     "start_time": "2020-11-12T12:43:22.773498Z"
    }
   },
   "outputs": [],
   "source": [
    "region = open('../Data/region.json',) \n",
    "region_data = json.load(region)"
   ]
  },
  {
   "cell_type": "code",
   "execution_count": 10,
   "metadata": {
    "ExecuteTime": {
     "end_time": "2020-11-12T12:43:23.172347Z",
     "start_time": "2020-11-12T12:43:23.153031Z"
    }
   },
   "outputs": [],
   "source": [
    "tmap = open('../Data/tmap.json',) \n",
    "tmap_data = json.load(tmap)"
   ]
  },
  {
   "cell_type": "markdown",
   "metadata": {},
   "source": [
    "## Model 1"
   ]
  },
  {
   "cell_type": "markdown",
   "metadata": {},
   "source": [
    "## Making the Database"
   ]
  },
  {
   "cell_type": "code",
   "execution_count": 11,
   "metadata": {},
   "outputs": [],
   "source": [
    "def get_matches(team_1,team_2,date,num_years=5):\n",
    "    matches_team=matches[matches['Team_1']==team_1]\n",
    "    matches_team=matches_team[matches['Team_2']==team_2]\n",
    "    matches_team1=matches[matches['Team_1']==team_2]\n",
    "    matches_team1=matches_team1[matches['Team_2']==team_1]\n",
    "    matches_team = pd.concat([matches_team,matches_team1],axis=0)\n",
    "    matches_team['Date']= pd.to_datetime(matches_team['Date'])\n",
    "    get_date = datetime.datetime.strptime(date, '%Y-%m-%d')\n",
    "    min_date = datetime.datetime.strptime(str(get_date.year-num_years)+'-01'+'-01', '%Y-%m-%d')\n",
    "    matches_team_latest = matches_team[matches_team['Date']>=min_date]\n",
    "    matches_team_latest = matches_team_latest[matches_team_latest['Date']<date]\n",
    "    matches_team_latest = matches_team_latest.sort_values(by='Date')\n",
    "    \n",
    "    matches_team_latest = matches_team_latest.reset_index()\n",
    "    matches_team_latest=matches_team_latest.drop(['index'],axis=1)\n",
    "    return matches_team_latest"
   ]
  },
  {
   "cell_type": "code",
   "execution_count": 12,
   "metadata": {},
   "outputs": [],
   "source": [
    "def create_Dataset(Dataset):\n",
    "    Dataset['Toss'] = ''\n",
    "    Dataset['Fours_team1'] = ''\n",
    "    Dataset['Fours_team2'] = ''\n",
    "    Dataset['Sixes_team1'] = ''\n",
    "    Dataset['Sixes_team2'] = ''\n",
    "    Dataset['Strike_rate_team1'] = ''\n",
    "    Dataset['Strike_rate_team2'] = ''\n",
    "    Dataset['Maidens_team1'] = ''\n",
    "    Dataset['Maidens_team2'] = ''\n",
    "    Dataset['Wickets_team1'] = ''\n",
    "    Dataset['Wickets_team2'] = ''\n",
    "    Dataset['Economy_rate_team1'] = ''\n",
    "    Dataset['Economy_rate_team2'] = ''\n",
    "    Dataset['Score_1']=''\n",
    "    Dataset['Score_2']=''\n",
    "    Dataset['Result'] = ''\n",
    "    \n",
    "    MatchCodes = Dataset['MatchCode'].tolist()\n",
    "    \n",
    "    for i in range(len(MatchCodes)):\n",
    "        matchdata = scorecard_data[str(MatchCodes[i])]\n",
    "        #Dataset = Dataset.drop(columns=['GroundCode','Team_1','Team_2'])\n",
    "        if (matchdata['TOSS']==matchdata['ORDER'][0]):\n",
    "            toss = 1\n",
    "        else:\n",
    "            toss = 2\n",
    "        #Batting 1\n",
    "        batting1 = matchdata['BATTING1']\n",
    "        Runs_team1 = []\n",
    "        Balls_Played_team1 = []\n",
    "        Fours_team1 = []\n",
    "        Sixes_team1 = []\n",
    "        Strike_rate_team1 = []\n",
    "        for val in range(10):\n",
    "            Runs_team1.append(batting1[val][2])\n",
    "            Balls_Played_team1.append(batting1[val][3])\n",
    "            Fours_team1.append(batting1[val][4])\n",
    "            Sixes_team1.append(batting1[val][5])\n",
    "            Strike_rate_team1.append(batting1[val][6])\n",
    "\n",
    "        #Batting 2\n",
    "        batting2 = matchdata['BATTING2']\n",
    "        Runs_team2 = []\n",
    "        Balls_Played_team2 = []\n",
    "        Fours_team2 = []\n",
    "        Sixes_team2 = []\n",
    "        Strike_rate_team2 = []\n",
    "        for val in range(10):\n",
    "            Runs_team2.append(batting2[val][2])\n",
    "            Balls_Played_team2.append(batting2[val][3])\n",
    "            Fours_team2.append(batting2[val][4])\n",
    "            Sixes_team2.append(batting2[val][5])\n",
    "            Strike_rate_team2.append(batting2[val][6])\n",
    "\n",
    "        #Bowling 1\n",
    "        bowling1 = matchdata['BOWLING1']\n",
    "        Overs_team1 = []\n",
    "        Maidens_team1 = []\n",
    "        Runs_given_team1 = []\n",
    "        Wickets_team1 = []\n",
    "        Economy_rate_team1 = []\n",
    "        for val in range(10):\n",
    "            if val<len(bowling1):\n",
    "                Overs_team1.append(bowling1[val][1])\n",
    "                Maidens_team1.append(bowling1[val][2])\n",
    "                Runs_given_team1.append(bowling1[val][3])\n",
    "                Wickets_team1.append(bowling1[val][4])\n",
    "                Economy_rate_team1.append(bowling1[val][5])\n",
    "            else:\n",
    "                Overs_team1.append(-1)\n",
    "                Maidens_team1.append(-1)\n",
    "                Runs_given_team1.append(-1)\n",
    "                Wickets_team1.append(-1)\n",
    "                Economy_rate_team1.append(-1)\n",
    "\n",
    "        #Bowling 2\n",
    "        bowling2 = matchdata['BOWLING2']\n",
    "        Overs_team2 = []\n",
    "        Maidens_team2 = []\n",
    "        Runs_given_team2 = []\n",
    "        Wickets_team2 = []\n",
    "        Economy_rate_team2 = []\n",
    "        for val in range(10):\n",
    "            if val<len(bowling2):\n",
    "                Overs_team2.append(bowling2[val][1])\n",
    "                Maidens_team2.append(bowling2[val][2])\n",
    "                Runs_given_team2.append(bowling2[val][3])\n",
    "                Wickets_team2.append(bowling2[val][4])\n",
    "                Economy_rate_team2.append(bowling2[val][5])\n",
    "            else:\n",
    "                Overs_team2.append(-1)\n",
    "                Maidens_team2.append(-1)\n",
    "                Runs_given_team2.append(-1)\n",
    "                Wickets_team2.append(-1)\n",
    "                Economy_rate_team2.append(-1)\n",
    "        #Scores\n",
    "        score = matchdata['SCORES']\n",
    "        if (score[0]>score[1]):\n",
    "            result = 1\n",
    "        elif (score[1]>score[0]):\n",
    "            result = 2\n",
    "        else:\n",
    "            result = 'Tie'\n",
    "\n",
    "        #insert into dataset\n",
    "        Dataset['Toss'].iloc[i] = toss\n",
    "        Dataset['Score_1'].iloc[i]=score[0]\n",
    "        Dataset['Score_2'].iloc[i]=score[1]\n",
    "        Dataset['Fours_team1'].iloc[i] = Fours_team1\n",
    "        Dataset['Fours_team2'].iloc[i] = Fours_team2\n",
    "        Dataset['Sixes_team1'].iloc[i] = Sixes_team1\n",
    "        Dataset['Sixes_team2'].iloc[i] = Sixes_team2\n",
    "        Dataset['Strike_rate_team1'].iloc[i] = Strike_rate_team1\n",
    "        Dataset['Strike_rate_team2'].iloc[i] = Strike_rate_team2\n",
    "        Dataset['Maidens_team1'].iloc[i] = Maidens_team1\n",
    "        Dataset['Maidens_team2'].iloc[i] = Maidens_team2\n",
    "        Dataset['Wickets_team1'].iloc[i] = Wickets_team1\n",
    "        Dataset['Wickets_team2'].iloc[i] = Wickets_team2\n",
    "        Dataset['Economy_rate_team1'].iloc[i] = Economy_rate_team1\n",
    "        Dataset['Economy_rate_team2'].iloc[i] = Economy_rate_team2\n",
    "        Dataset['Result'].iloc[i] = result\n",
    "    \n",
    "    Dataset = Dataset.drop(columns=['Date','GroundCode'])\n",
    "    return Dataset\n",
    "    "
   ]
  },
  {
   "cell_type": "code",
   "execution_count": 13,
   "metadata": {
    "ExecuteTime": {
     "end_time": "2020-11-12T12:43:26.838409Z",
     "start_time": "2020-11-12T12:43:26.736086Z"
    }
   },
   "outputs": [],
   "source": [
    "#Example Input\n",
    "team_1 = 'AUS'\n",
    "team_2 = 'IND' \n",
    "date = '2016-01-20'"
   ]
  },
  {
   "cell_type": "code",
   "execution_count": 14,
   "metadata": {},
   "outputs": [
    {
     "name": "stderr",
     "output_type": "stream",
     "text": [
      "<ipython-input-11-29ebaa57a627>:3: UserWarning: Boolean Series key will be reindexed to match DataFrame index.\n",
      "  matches_team=matches_team[matches['Team_2']==team_2]\n",
      "<ipython-input-11-29ebaa57a627>:5: UserWarning: Boolean Series key will be reindexed to match DataFrame index.\n",
      "  matches_team1=matches_team1[matches['Team_2']==team_1]\n",
      "/opt/anaconda3/lib/python3.8/site-packages/pandas/core/indexing.py:670: SettingWithCopyWarning: \n",
      "A value is trying to be set on a copy of a slice from a DataFrame\n",
      "\n",
      "See the caveats in the documentation: https://pandas.pydata.org/pandas-docs/stable/user_guide/indexing.html#returning-a-view-versus-a-copy\n",
      "  iloc._setitem_with_indexer(indexer, value)\n"
     ]
    }
   ],
   "source": [
    "Dataset=get_matches(team_1,team_2,date)\n",
    "Dataset=create_Dataset(Dataset)"
   ]
  },
  {
   "cell_type": "code",
   "execution_count": 15,
   "metadata": {},
   "outputs": [
    {
     "data": {
      "text/html": [
       "<div>\n",
       "<style scoped>\n",
       "    .dataframe tbody tr th:only-of-type {\n",
       "        vertical-align: middle;\n",
       "    }\n",
       "\n",
       "    .dataframe tbody tr th {\n",
       "        vertical-align: top;\n",
       "    }\n",
       "\n",
       "    .dataframe thead th {\n",
       "        text-align: right;\n",
       "    }\n",
       "</style>\n",
       "<table border=\"1\" class=\"dataframe\">\n",
       "  <thead>\n",
       "    <tr style=\"text-align: right;\">\n",
       "      <th></th>\n",
       "      <th>Team_1</th>\n",
       "      <th>Team_2</th>\n",
       "      <th>Venue</th>\n",
       "      <th>MatchCode</th>\n",
       "      <th>Toss</th>\n",
       "      <th>Fours_team1</th>\n",
       "      <th>Fours_team2</th>\n",
       "      <th>Sixes_team1</th>\n",
       "      <th>Sixes_team2</th>\n",
       "      <th>Strike_rate_team1</th>\n",
       "      <th>Strike_rate_team2</th>\n",
       "      <th>Maidens_team1</th>\n",
       "      <th>Maidens_team2</th>\n",
       "      <th>Wickets_team1</th>\n",
       "      <th>Wickets_team2</th>\n",
       "      <th>Economy_rate_team1</th>\n",
       "      <th>Economy_rate_team2</th>\n",
       "      <th>Score_1</th>\n",
       "      <th>Score_2</th>\n",
       "      <th>Result</th>\n",
       "    </tr>\n",
       "  </thead>\n",
       "  <tbody>\n",
       "    <tr>\n",
       "      <th>0</th>\n",
       "      <td>AUS</td>\n",
       "      <td>IND</td>\n",
       "      <td>Away</td>\n",
       "      <td>3278</td>\n",
       "      <td>1</td>\n",
       "      <td>[5.0, 6.0, 7.0, 0.0, 0.0, 0.0, 3.0, 0.0, -1, -1]</td>\n",
       "      <td>[2.0, 7.0, 2.0, 1.0, 8.0, 1.0, 2.0, -1, -1, -1]</td>\n",
       "      <td>[0.0, 1.0, 1.0, 0.0, 0.0, 0.0, 1.0, 1.0, -1, -1]</td>\n",
       "      <td>[0.0, 0.0, 0.0, 0.0, 0.0, 0.0, 1.0, -1, -1, -1]</td>\n",
       "      <td>[65.79, 85.48, 88.14, 42.11, 33.33, 54.55, 146...</td>\n",
       "      <td>[68.18, 77.94, 78.13, 72.73, 87.69, 87.5, 121....</td>\n",
       "      <td>[0.0, 0.0, 0.0, 0.0, 0.0, 0.0, 0.0, -1, -1, -1]</td>\n",
       "      <td>[1.0, 0.0, 0.0, 0.0, 0.0, 0.0, 0.0, -1, -1, -1]</td>\n",
       "      <td>[2.0, 2.0, 0.0, 0.0, 2.0, 0.0, 0.0, -1, -1, -1]</td>\n",
       "      <td>[1.0, 1.0, 0.0, 1.0, 0.0, 0.0, 1.0, -1, -1, -1]</td>\n",
       "      <td>[5.2, 5.3, 5.0, 6.29, 4.4, 4.5, 6.0, -1, -1, -1]</td>\n",
       "      <td>[5.19, 7.43, 5.13, 5.29, 5.0, 6.33, 3.8, -1, -...</td>\n",
       "      <td>260</td>\n",
       "      <td>261</td>\n",
       "      <td>2</td>\n",
       "    </tr>\n",
       "    <tr>\n",
       "      <th>1</th>\n",
       "      <td>AUS</td>\n",
       "      <td>IND</td>\n",
       "      <td>Home</td>\n",
       "      <td>3373</td>\n",
       "      <td>1</td>\n",
       "      <td>[2.0, 1.0, 5.0, 5.0, 5.0, 2.0, 1.0, 0.0, 0.0, -1]</td>\n",
       "      <td>[7.0, 3.0, 1.0, 1.0, 3.0, 0.0, 0.0, 0.0, -1, -1]</td>\n",
       "      <td>[0.0, 0.0, 0.0, 2.0, 0.0, 0.0, 0.0, 0.0, 0.0, -1]</td>\n",
       "      <td>[0.0, 0.0, 0.0, 1.0, 1.0, 1.0, 0.0, 0.0, -1, -1]</td>\n",
       "      <td>[75.0, 42.86, 88.37, 79.52, 94.74, 108.33, 88....</td>\n",
       "      <td>[82.88, 95.24, 64.29, 80.49, 126.67, 75.86, 15...</td>\n",
       "      <td>[0.0, 1.0, 0.0, 1.0, 0.0, 0.0, -1, -1, -1, -1]</td>\n",
       "      <td>[0.0, 0.0, 1.0, 0.0, 0.0, 0.0, -1, -1, -1, -1]</td>\n",
       "      <td>[1.0, 2.0, 0.0, 2.0, 0.0, 0.0, -1, -1, -1, -1]</td>\n",
       "      <td>[1.0, 0.0, 3.0, 0.0, 0.0, 2.0, -1, -1, -1, -1]</td>\n",
       "      <td>[4.6, 5.8, 5.0, 4.9, 5.88, 7.5, -1, -1, -1, -1]</td>\n",
       "      <td>[5.7, 6.13, 5.48, 4.5, 4.33, 5.67, -1, -1, -1,...</td>\n",
       "      <td>269</td>\n",
       "      <td>270</td>\n",
       "      <td>2</td>\n",
       "    </tr>\n",
       "    <tr>\n",
       "      <th>2</th>\n",
       "      <td>AUS</td>\n",
       "      <td>IND</td>\n",
       "      <td>Home</td>\n",
       "      <td>3380</td>\n",
       "      <td>1</td>\n",
       "      <td>[2.0, 5.0, 0.0, 3.0, 6.0, 1.0, 5.0, -1, -1, -1]</td>\n",
       "      <td>[1.0, 0.0, 0.0, 0.0, 1.0, 2.0, 1.0, 1.0, 0.0, ...</td>\n",
       "      <td>[1.0, 1.0, 0.0, 0.0, 1.0, 1.0, 0.0, -1, -1, -1]</td>\n",
       "      <td>[0.0, 0.0, 0.0, 0.0, 1.0, 1.0, 0.0, 1.0, 0.0, ...</td>\n",
       "      <td>[67.16, 93.48, 26.92, 73.24, 113.46, 130.0, 16...</td>\n",
       "      <td>[100.0, 25.0, 48.0, 0.0, 68.29, 66.67, 51.43, ...</td>\n",
       "      <td>[0.0, 0.0, 0.0, 0.0, 0.0, 0.0, -1, -1, -1, -1]</td>\n",
       "      <td>[1.0, 0.0, 0.0, 0.0, 0.0, -1, -1, -1, -1, -1]</td>\n",
       "      <td>[1.0, 0.0, 3.0, 0.0, 0.0, 1.0, -1, -1, -1, -1]</td>\n",
       "      <td>[5.0, 3.0, 1.0, 1.0, 0.0, -1, -1, -1, -1, -1]</td>\n",
       "      <td>[4.6, 6.0, 6.1, 4.4, 6.57, 5.67, -1, -1, -1, -1]</td>\n",
       "      <td>[3.47, 4.9, 4.5, 4.5, 2.9, -1, -1, -1, -1, -1]</td>\n",
       "      <td>288</td>\n",
       "      <td>178</td>\n",
       "      <td>1</td>\n",
       "    </tr>\n",
       "    <tr>\n",
       "      <th>3</th>\n",
       "      <td>AUS</td>\n",
       "      <td>IND</td>\n",
       "      <td>Home</td>\n",
       "      <td>3386</td>\n",
       "      <td>1</td>\n",
       "      <td>[7.0, 0.0, 1.0, 1.0, 2.0, 2.0, 2.0, 0.0, 0.0, ...</td>\n",
       "      <td>[1.0, 2.0, 3.0, 2.0, 1.0, 0.0, 1.0, 2.0, 1.0, ...</td>\n",
       "      <td>[0.0, 0.0, 0.0, 0.0, 0.0, 1.0, 0.0, 0.0, 0.0, ...</td>\n",
       "      <td>[0.0, 0.0, 0.0, 0.0, 0.0, 0.0, 0.0, 0.0, 2.0, ...</td>\n",
       "      <td>[103.03, 14.29, 38.89, 47.62, 84.38, 84.85, 75...</td>\n",
       "      <td>[45.45, 93.33, 47.92, 77.78, 114.29, 28.57, 47...</td>\n",
       "      <td>[1.0, 1.0, 0.0, 0.0, 0.0, 0.0, -1, -1, -1, -1]</td>\n",
       "      <td>[0.0, 1.0, 0.0, 0.0, 0.0, 2.0, 0.0, -1, -1, -1]</td>\n",
       "      <td>[2.0, 0.0, 0.0, 2.0, 1.0, 3.0, -1, -1, -1, -1]</td>\n",
       "      <td>[1.0, 2.0, 1.0, 0.0, 1.0, 2.0, 2.0, -1, -1, -1]</td>\n",
       "      <td>[3.7, 5.6, 4.5, 6.5, 5.1, 4.78, -1, -1, -1, -1]</td>\n",
       "      <td>[3.25, 6.25, 4.5, 3.5, 2.67, 1.8, 3.47, -1, -1...</td>\n",
       "      <td>252</td>\n",
       "      <td>165</td>\n",
       "      <td>1</td>\n",
       "    </tr>\n",
       "    <tr>\n",
       "      <th>4</th>\n",
       "      <td>AUS</td>\n",
       "      <td>IND</td>\n",
       "      <td>Away</td>\n",
       "      <td>3562</td>\n",
       "      <td>1</td>\n",
       "      <td>[5.0, 8.0, 0.0, 10.0, 0.0, 1.0, 2.0, 0.0, 2.0,...</td>\n",
       "      <td>[1.0, 6.0, 6.0, 2.0, 0.0, 2.0, 1.0, 0.0, 1.0, ...</td>\n",
       "      <td>[0.0, 3.0, 0.0, 0.0, 0.0, 3.0, 0.0, 2.0, 0.0, ...</td>\n",
       "      <td>[0.0, 0.0, 0.0, 1.0, 1.0, 0.0, 0.0, 0.0, 0.0, ...</td>\n",
       "      <td>[88.68, 91.14, 50.0, 103.66, 53.85, 134.78, 71...</td>\n",
       "      <td>[46.67, 89.36, 71.76, 86.67, 100.0, 86.36, 61....</td>\n",
       "      <td>[2.0, 1.0, 0.0, 0.0, 0.0, 0.0, 0.0, -1, -1, -1]</td>\n",
       "      <td>[0.0, 0.0, 0.0, 1.0, 0.0, 0.0, 0.0, -1, -1, -1]</td>\n",
       "      <td>[0.0, 1.0, 1.0, 2.0, 1.0, 0.0, 2.0, -1, -1, -1]</td>\n",
       "      <td>[1.0, 2.0, 3.0, 0.0, 2.0, 1.0, 1.0, -1, -1, -1]</td>\n",
       "      <td>[5.86, 7.56, 8.0, 5.5, 3.5, 12.0, 5.67, -1, -1...</td>\n",
       "      <td>[3.8, 3.6, 5.88, 5.4, 3.88, 6.0, 3.0, -1, -1, -1]</td>\n",
       "      <td>304</td>\n",
       "      <td>232</td>\n",
       "      <td>1</td>\n",
       "    </tr>\n",
       "  </tbody>\n",
       "</table>\n",
       "</div>"
      ],
      "text/plain": [
       "  Team_1 Team_2 Venue  MatchCode Toss  \\\n",
       "0    AUS    IND  Away       3278    1   \n",
       "1    AUS    IND  Home       3373    1   \n",
       "2    AUS    IND  Home       3380    1   \n",
       "3    AUS    IND  Home       3386    1   \n",
       "4    AUS    IND  Away       3562    1   \n",
       "\n",
       "                                         Fours_team1  \\\n",
       "0   [5.0, 6.0, 7.0, 0.0, 0.0, 0.0, 3.0, 0.0, -1, -1]   \n",
       "1  [2.0, 1.0, 5.0, 5.0, 5.0, 2.0, 1.0, 0.0, 0.0, -1]   \n",
       "2    [2.0, 5.0, 0.0, 3.0, 6.0, 1.0, 5.0, -1, -1, -1]   \n",
       "3  [7.0, 0.0, 1.0, 1.0, 2.0, 2.0, 2.0, 0.0, 0.0, ...   \n",
       "4  [5.0, 8.0, 0.0, 10.0, 0.0, 1.0, 2.0, 0.0, 2.0,...   \n",
       "\n",
       "                                         Fours_team2  \\\n",
       "0    [2.0, 7.0, 2.0, 1.0, 8.0, 1.0, 2.0, -1, -1, -1]   \n",
       "1   [7.0, 3.0, 1.0, 1.0, 3.0, 0.0, 0.0, 0.0, -1, -1]   \n",
       "2  [1.0, 0.0, 0.0, 0.0, 1.0, 2.0, 1.0, 1.0, 0.0, ...   \n",
       "3  [1.0, 2.0, 3.0, 2.0, 1.0, 0.0, 1.0, 2.0, 1.0, ...   \n",
       "4  [1.0, 6.0, 6.0, 2.0, 0.0, 2.0, 1.0, 0.0, 1.0, ...   \n",
       "\n",
       "                                         Sixes_team1  \\\n",
       "0   [0.0, 1.0, 1.0, 0.0, 0.0, 0.0, 1.0, 1.0, -1, -1]   \n",
       "1  [0.0, 0.0, 0.0, 2.0, 0.0, 0.0, 0.0, 0.0, 0.0, -1]   \n",
       "2    [1.0, 1.0, 0.0, 0.0, 1.0, 1.0, 0.0, -1, -1, -1]   \n",
       "3  [0.0, 0.0, 0.0, 0.0, 0.0, 1.0, 0.0, 0.0, 0.0, ...   \n",
       "4  [0.0, 3.0, 0.0, 0.0, 0.0, 3.0, 0.0, 2.0, 0.0, ...   \n",
       "\n",
       "                                         Sixes_team2  \\\n",
       "0    [0.0, 0.0, 0.0, 0.0, 0.0, 0.0, 1.0, -1, -1, -1]   \n",
       "1   [0.0, 0.0, 0.0, 1.0, 1.0, 1.0, 0.0, 0.0, -1, -1]   \n",
       "2  [0.0, 0.0, 0.0, 0.0, 1.0, 1.0, 0.0, 1.0, 0.0, ...   \n",
       "3  [0.0, 0.0, 0.0, 0.0, 0.0, 0.0, 0.0, 0.0, 2.0, ...   \n",
       "4  [0.0, 0.0, 0.0, 1.0, 1.0, 0.0, 0.0, 0.0, 0.0, ...   \n",
       "\n",
       "                                   Strike_rate_team1  \\\n",
       "0  [65.79, 85.48, 88.14, 42.11, 33.33, 54.55, 146...   \n",
       "1  [75.0, 42.86, 88.37, 79.52, 94.74, 108.33, 88....   \n",
       "2  [67.16, 93.48, 26.92, 73.24, 113.46, 130.0, 16...   \n",
       "3  [103.03, 14.29, 38.89, 47.62, 84.38, 84.85, 75...   \n",
       "4  [88.68, 91.14, 50.0, 103.66, 53.85, 134.78, 71...   \n",
       "\n",
       "                                   Strike_rate_team2  \\\n",
       "0  [68.18, 77.94, 78.13, 72.73, 87.69, 87.5, 121....   \n",
       "1  [82.88, 95.24, 64.29, 80.49, 126.67, 75.86, 15...   \n",
       "2  [100.0, 25.0, 48.0, 0.0, 68.29, 66.67, 51.43, ...   \n",
       "3  [45.45, 93.33, 47.92, 77.78, 114.29, 28.57, 47...   \n",
       "4  [46.67, 89.36, 71.76, 86.67, 100.0, 86.36, 61....   \n",
       "\n",
       "                                     Maidens_team1  \\\n",
       "0  [0.0, 0.0, 0.0, 0.0, 0.0, 0.0, 0.0, -1, -1, -1]   \n",
       "1   [0.0, 1.0, 0.0, 1.0, 0.0, 0.0, -1, -1, -1, -1]   \n",
       "2   [0.0, 0.0, 0.0, 0.0, 0.0, 0.0, -1, -1, -1, -1]   \n",
       "3   [1.0, 1.0, 0.0, 0.0, 0.0, 0.0, -1, -1, -1, -1]   \n",
       "4  [2.0, 1.0, 0.0, 0.0, 0.0, 0.0, 0.0, -1, -1, -1]   \n",
       "\n",
       "                                     Maidens_team2  \\\n",
       "0  [1.0, 0.0, 0.0, 0.0, 0.0, 0.0, 0.0, -1, -1, -1]   \n",
       "1   [0.0, 0.0, 1.0, 0.0, 0.0, 0.0, -1, -1, -1, -1]   \n",
       "2    [1.0, 0.0, 0.0, 0.0, 0.0, -1, -1, -1, -1, -1]   \n",
       "3  [0.0, 1.0, 0.0, 0.0, 0.0, 2.0, 0.0, -1, -1, -1]   \n",
       "4  [0.0, 0.0, 0.0, 1.0, 0.0, 0.0, 0.0, -1, -1, -1]   \n",
       "\n",
       "                                     Wickets_team1  \\\n",
       "0  [2.0, 2.0, 0.0, 0.0, 2.0, 0.0, 0.0, -1, -1, -1]   \n",
       "1   [1.0, 2.0, 0.0, 2.0, 0.0, 0.0, -1, -1, -1, -1]   \n",
       "2   [1.0, 0.0, 3.0, 0.0, 0.0, 1.0, -1, -1, -1, -1]   \n",
       "3   [2.0, 0.0, 0.0, 2.0, 1.0, 3.0, -1, -1, -1, -1]   \n",
       "4  [0.0, 1.0, 1.0, 2.0, 1.0, 0.0, 2.0, -1, -1, -1]   \n",
       "\n",
       "                                     Wickets_team2  \\\n",
       "0  [1.0, 1.0, 0.0, 1.0, 0.0, 0.0, 1.0, -1, -1, -1]   \n",
       "1   [1.0, 0.0, 3.0, 0.0, 0.0, 2.0, -1, -1, -1, -1]   \n",
       "2    [5.0, 3.0, 1.0, 1.0, 0.0, -1, -1, -1, -1, -1]   \n",
       "3  [1.0, 2.0, 1.0, 0.0, 1.0, 2.0, 2.0, -1, -1, -1]   \n",
       "4  [1.0, 2.0, 3.0, 0.0, 2.0, 1.0, 1.0, -1, -1, -1]   \n",
       "\n",
       "                                  Economy_rate_team1  \\\n",
       "0   [5.2, 5.3, 5.0, 6.29, 4.4, 4.5, 6.0, -1, -1, -1]   \n",
       "1    [4.6, 5.8, 5.0, 4.9, 5.88, 7.5, -1, -1, -1, -1]   \n",
       "2   [4.6, 6.0, 6.1, 4.4, 6.57, 5.67, -1, -1, -1, -1]   \n",
       "3    [3.7, 5.6, 4.5, 6.5, 5.1, 4.78, -1, -1, -1, -1]   \n",
       "4  [5.86, 7.56, 8.0, 5.5, 3.5, 12.0, 5.67, -1, -1...   \n",
       "\n",
       "                                  Economy_rate_team2 Score_1 Score_2 Result  \n",
       "0  [5.19, 7.43, 5.13, 5.29, 5.0, 6.33, 3.8, -1, -...     260     261      2  \n",
       "1  [5.7, 6.13, 5.48, 4.5, 4.33, 5.67, -1, -1, -1,...     269     270      2  \n",
       "2     [3.47, 4.9, 4.5, 4.5, 2.9, -1, -1, -1, -1, -1]     288     178      1  \n",
       "3  [3.25, 6.25, 4.5, 3.5, 2.67, 1.8, 3.47, -1, -1...     252     165      1  \n",
       "4  [3.8, 3.6, 5.88, 5.4, 3.88, 6.0, 3.0, -1, -1, -1]     304     232      1  "
      ]
     },
     "execution_count": 15,
     "metadata": {},
     "output_type": "execute_result"
    }
   ],
   "source": [
    "Dataset.head()"
   ]
  },
  {
   "cell_type": "code",
   "execution_count": null,
   "metadata": {},
   "outputs": [],
   "source": []
  },
  {
   "cell_type": "markdown",
   "metadata": {},
   "source": [
    "### Data for model"
   ]
  },
  {
   "cell_type": "code",
   "execution_count": 16,
   "metadata": {},
   "outputs": [],
   "source": [
    "def get_model_data(Dataset):\n",
    "    venue_encoding = {\n",
    "    \n",
    "    \"Home\" : 0,\n",
    "    \"Away\" : 1,\n",
    "    \"Neutral\" : 2\n",
    "    }\n",
    "    Dataset.replace({'Venue':venue_encoding}, inplace=True)\n",
    "    enc = OneHotEncoder(handle_unknown='ignore')\n",
    "    enc_df = pd.DataFrame(enc.fit_transform(Dataset[['Result','Toss']]).toarray())\n",
    "    Dataset = Dataset.join(enc_df)\n",
    "    Dataset.rename(columns = {0: 'Win1',1: 'Win2',2: 'Toss1',3: 'Toss2'}, inplace = True)\n",
    "    y = Dataset[['Result','Win1','Win2','Score_1','Score_2']]\n",
    "    Dataset.drop(['Result','Score_1','Score_2'],inplace=True, axis=1)\n",
    "    Dataset.drop(['Team_1','Team_2'],inplace=True, axis=1)\n",
    "    temp=Dataset['Venue']\n",
    "    Dataset.drop(['Win1','Win2'],inplace=True, axis=1)\n",
    "    Dataset.drop(['Venue'],inplace=True, axis=1)\n",
    "    Dataset['Venue']=''\n",
    "    Dataset['Venue']=temp\n",
    "    Dataset.drop(['Toss'],inplace=True, axis=1)\n",
    "    Dataset['new']=''\n",
    "    for i in range(len(Dataset)):\n",
    "        l=[]\n",
    "        for j in range(1,len(Dataset.columns)-4):\n",
    "            if(type(Dataset.iloc[i][j])!=list):\n",
    "                l.append(Dataset.iloc[i][j])\n",
    "            else:\n",
    "                for k in range(len(Dataset.iloc[i][j])):\n",
    "                    l.append(Dataset.iloc[i][j][k])\n",
    "        Dataset['new'].iloc[i]=l \n",
    "    \n",
    "    \n",
    "    X=Dataset[['MatchCode','new','Toss1','Toss2','Venue']]\n",
    "    return X,y"
   ]
  },
  {
   "cell_type": "code",
   "execution_count": 17,
   "metadata": {},
   "outputs": [
    {
     "name": "stderr",
     "output_type": "stream",
     "text": [
      "/opt/anaconda3/lib/python3.8/site-packages/pandas/core/indexing.py:670: SettingWithCopyWarning: \n",
      "A value is trying to be set on a copy of a slice from a DataFrame\n",
      "\n",
      "See the caveats in the documentation: https://pandas.pydata.org/pandas-docs/stable/user_guide/indexing.html#returning-a-view-versus-a-copy\n",
      "  iloc._setitem_with_indexer(indexer, value)\n"
     ]
    }
   ],
   "source": [
    "X,y=get_model_data(Dataset)"
   ]
  },
  {
   "cell_type": "code",
   "execution_count": 18,
   "metadata": {},
   "outputs": [],
   "source": [
    "# Test Train Split\n",
    "#X_train, X_test, y_train, y_test = train_test_split(X, y, test_size = 1/5, random_state = 100)"
   ]
  },
  {
   "cell_type": "code",
   "execution_count": 19,
   "metadata": {},
   "outputs": [],
   "source": [
    "y_train=y"
   ]
  },
  {
   "cell_type": "code",
   "execution_count": 20,
   "metadata": {},
   "outputs": [
    {
     "data": {
      "text/html": [
       "<div>\n",
       "<style scoped>\n",
       "    .dataframe tbody tr th:only-of-type {\n",
       "        vertical-align: middle;\n",
       "    }\n",
       "\n",
       "    .dataframe tbody tr th {\n",
       "        vertical-align: top;\n",
       "    }\n",
       "\n",
       "    .dataframe thead th {\n",
       "        text-align: right;\n",
       "    }\n",
       "</style>\n",
       "<table border=\"1\" class=\"dataframe\">\n",
       "  <thead>\n",
       "    <tr style=\"text-align: right;\">\n",
       "      <th></th>\n",
       "      <th>MatchCode</th>\n",
       "      <th>new</th>\n",
       "      <th>Toss1</th>\n",
       "      <th>Toss2</th>\n",
       "      <th>Venue</th>\n",
       "    </tr>\n",
       "  </thead>\n",
       "  <tbody>\n",
       "    <tr>\n",
       "      <th>0</th>\n",
       "      <td>3278</td>\n",
       "      <td>[5.0, 6.0, 7.0, 0.0, 0.0, 0.0, 3.0, 0.0, -1, -...</td>\n",
       "      <td>1.0</td>\n",
       "      <td>0.0</td>\n",
       "      <td>1</td>\n",
       "    </tr>\n",
       "    <tr>\n",
       "      <th>1</th>\n",
       "      <td>3373</td>\n",
       "      <td>[2.0, 1.0, 5.0, 5.0, 5.0, 2.0, 1.0, 0.0, 0.0, ...</td>\n",
       "      <td>1.0</td>\n",
       "      <td>0.0</td>\n",
       "      <td>0</td>\n",
       "    </tr>\n",
       "    <tr>\n",
       "      <th>2</th>\n",
       "      <td>3380</td>\n",
       "      <td>[2.0, 5.0, 0.0, 3.0, 6.0, 1.0, 5.0, -1, -1, -1...</td>\n",
       "      <td>1.0</td>\n",
       "      <td>0.0</td>\n",
       "      <td>0</td>\n",
       "    </tr>\n",
       "    <tr>\n",
       "      <th>3</th>\n",
       "      <td>3386</td>\n",
       "      <td>[7.0, 0.0, 1.0, 1.0, 2.0, 2.0, 2.0, 0.0, 0.0, ...</td>\n",
       "      <td>1.0</td>\n",
       "      <td>0.0</td>\n",
       "      <td>0</td>\n",
       "    </tr>\n",
       "    <tr>\n",
       "      <th>4</th>\n",
       "      <td>3562</td>\n",
       "      <td>[5.0, 8.0, 0.0, 10.0, 0.0, 1.0, 2.0, 0.0, 2.0,...</td>\n",
       "      <td>1.0</td>\n",
       "      <td>0.0</td>\n",
       "      <td>1</td>\n",
       "    </tr>\n",
       "    <tr>\n",
       "      <th>5</th>\n",
       "      <td>3563</td>\n",
       "      <td>[7.0, 8.0, 6.0, 8.0, 7.0, 0.0, 0.0, -1, -1, -1...</td>\n",
       "      <td>1.0</td>\n",
       "      <td>0.0</td>\n",
       "      <td>1</td>\n",
       "    </tr>\n",
       "    <tr>\n",
       "      <th>6</th>\n",
       "      <td>3564</td>\n",
       "      <td>[2.0, 2.0, 9.0, 2.0, 0.0, 12.0, 0.0, 3.0, 1.0,...</td>\n",
       "      <td>0.0</td>\n",
       "      <td>1.0</td>\n",
       "      <td>1</td>\n",
       "    </tr>\n",
       "    <tr>\n",
       "      <th>7</th>\n",
       "      <td>3565</td>\n",
       "      <td>[1.0, 1.0, 3.0, 7.0, 1.0, 6.0, 0.0, 1.0, 1.0, ...</td>\n",
       "      <td>0.0</td>\n",
       "      <td>1.0</td>\n",
       "      <td>1</td>\n",
       "    </tr>\n",
       "    <tr>\n",
       "      <th>8</th>\n",
       "      <td>3568</td>\n",
       "      <td>[3.0, 3.0, 13.0, 13.0, 2.0, 5.0, 0.0, 0.0, -1,...</td>\n",
       "      <td>0.0</td>\n",
       "      <td>1.0</td>\n",
       "      <td>1</td>\n",
       "    </tr>\n",
       "    <tr>\n",
       "      <th>9</th>\n",
       "      <td>3572</td>\n",
       "      <td>[12.0, 9.0, 0.0, 2.0, 0.0, 7.0, 0.0, -1, -1, -...</td>\n",
       "      <td>0.0</td>\n",
       "      <td>1.0</td>\n",
       "      <td>1</td>\n",
       "    </tr>\n",
       "    <tr>\n",
       "      <th>10</th>\n",
       "      <td>3731</td>\n",
       "      <td>[9.0, 0.0, 2.0, 0.0, 6.0, 2.0, 0.0, 0.0, 0.0, ...</td>\n",
       "      <td>1.0</td>\n",
       "      <td>0.0</td>\n",
       "      <td>0</td>\n",
       "    </tr>\n",
       "    <tr>\n",
       "      <th>11</th>\n",
       "      <td>3795</td>\n",
       "      <td>[7.0, 1.0, 11.0, 3.0, 2.0, 1.0, 3.0, 1.0, 4.0,...</td>\n",
       "      <td>1.0</td>\n",
       "      <td>0.0</td>\n",
       "      <td>0</td>\n",
       "    </tr>\n",
       "    <tr>\n",
       "      <th>12</th>\n",
       "      <td>3874</td>\n",
       "      <td>[13.0, 1.0, 9.0, 1.0, 1.0, -1, -1, -1, -1, -1,...</td>\n",
       "      <td>1.0</td>\n",
       "      <td>0.0</td>\n",
       "      <td>0</td>\n",
       "    </tr>\n",
       "    <tr>\n",
       "      <th>13</th>\n",
       "      <td>3875</td>\n",
       "      <td>[11.0, 1.0, 4.0, 6.0, 0.0, 1.0, 0.0, 0.0, 0.0,...</td>\n",
       "      <td>1.0</td>\n",
       "      <td>0.0</td>\n",
       "      <td>0</td>\n",
       "    </tr>\n",
       "    <tr>\n",
       "      <th>14</th>\n",
       "      <td>3876</td>\n",
       "      <td>[0.0, 9.0, 7.0, 4.0, 2.0, 1.0, 0.0, 0.0, -1, -...</td>\n",
       "      <td>0.0</td>\n",
       "      <td>1.0</td>\n",
       "      <td>0</td>\n",
       "    </tr>\n",
       "  </tbody>\n",
       "</table>\n",
       "</div>"
      ],
      "text/plain": [
       "    MatchCode                                                new  Toss1  \\\n",
       "0        3278  [5.0, 6.0, 7.0, 0.0, 0.0, 0.0, 3.0, 0.0, -1, -...    1.0   \n",
       "1        3373  [2.0, 1.0, 5.0, 5.0, 5.0, 2.0, 1.0, 0.0, 0.0, ...    1.0   \n",
       "2        3380  [2.0, 5.0, 0.0, 3.0, 6.0, 1.0, 5.0, -1, -1, -1...    1.0   \n",
       "3        3386  [7.0, 0.0, 1.0, 1.0, 2.0, 2.0, 2.0, 0.0, 0.0, ...    1.0   \n",
       "4        3562  [5.0, 8.0, 0.0, 10.0, 0.0, 1.0, 2.0, 0.0, 2.0,...    1.0   \n",
       "5        3563  [7.0, 8.0, 6.0, 8.0, 7.0, 0.0, 0.0, -1, -1, -1...    1.0   \n",
       "6        3564  [2.0, 2.0, 9.0, 2.0, 0.0, 12.0, 0.0, 3.0, 1.0,...    0.0   \n",
       "7        3565  [1.0, 1.0, 3.0, 7.0, 1.0, 6.0, 0.0, 1.0, 1.0, ...    0.0   \n",
       "8        3568  [3.0, 3.0, 13.0, 13.0, 2.0, 5.0, 0.0, 0.0, -1,...    0.0   \n",
       "9        3572  [12.0, 9.0, 0.0, 2.0, 0.0, 7.0, 0.0, -1, -1, -...    0.0   \n",
       "10       3731  [9.0, 0.0, 2.0, 0.0, 6.0, 2.0, 0.0, 0.0, 0.0, ...    1.0   \n",
       "11       3795  [7.0, 1.0, 11.0, 3.0, 2.0, 1.0, 3.0, 1.0, 4.0,...    1.0   \n",
       "12       3874  [13.0, 1.0, 9.0, 1.0, 1.0, -1, -1, -1, -1, -1,...    1.0   \n",
       "13       3875  [11.0, 1.0, 4.0, 6.0, 0.0, 1.0, 0.0, 0.0, 0.0,...    1.0   \n",
       "14       3876  [0.0, 9.0, 7.0, 4.0, 2.0, 1.0, 0.0, 0.0, -1, -...    0.0   \n",
       "\n",
       "    Toss2  Venue  \n",
       "0     0.0      1  \n",
       "1     0.0      0  \n",
       "2     0.0      0  \n",
       "3     0.0      0  \n",
       "4     0.0      1  \n",
       "5     0.0      1  \n",
       "6     1.0      1  \n",
       "7     1.0      1  \n",
       "8     1.0      1  \n",
       "9     1.0      1  \n",
       "10    0.0      0  \n",
       "11    0.0      0  \n",
       "12    0.0      0  \n",
       "13    0.0      0  \n",
       "14    1.0      0  "
      ]
     },
     "execution_count": 20,
     "metadata": {},
     "output_type": "execute_result"
    }
   ],
   "source": [
    "X"
   ]
  },
  {
   "cell_type": "markdown",
   "metadata": {},
   "source": [
    "### Predict_data"
   ]
  },
  {
   "cell_type": "code",
   "execution_count": 21,
   "metadata": {},
   "outputs": [],
   "source": [
    "def allBatsmen(batting):\n",
    "    batting_keys=batting.keys()\n",
    "    performance={}\n",
    "    for k in batting_keys:\n",
    "        for j in batting[k]:\n",
    "            performance.setdefault(k,[]).append([j[0],j[1][1],j[1][2],j[1][3],j[1][4],j[1][5]])\n",
    "\n",
    "    performance_keys = performance.keys()\n",
    "    \n",
    "    for per in performance_keys:\n",
    "        l = performance[per]\n",
    "        l1=sorted(l,reverse=True)\n",
    "        performance[per]=l1\n",
    "        \n",
    "    return performance"
   ]
  },
  {
   "cell_type": "code",
   "execution_count": 22,
   "metadata": {},
   "outputs": [],
   "source": [
    "def allBowlers(bowling):\n",
    "    bowling_keys=bowling.keys()\n",
    "    performance={}\n",
    "    for k in bowling_keys:\n",
    "        for j in bowling[k]:\n",
    "            performance.setdefault(k,[]).append([j[0],j[1][0],j[1][1],j[1][2],j[1][3],j[1][4]])\n",
    "\n",
    "    performance_keys = performance.keys()\n",
    "    \n",
    "    for per in performance_keys:\n",
    "        l = performance[per]\n",
    "        l1=sorted(l,reverse=True)\n",
    "        performance[per]=l1\n",
    "        \n",
    "    return performance"
   ]
  },
  {
   "cell_type": "code",
   "execution_count": 23,
   "metadata": {},
   "outputs": [],
   "source": [
    "def getLatestPerf_Bat(perform,team_players, date, num_years=5):\n",
    "    latest_performance={}\n",
    "    perform_keys = perform.keys()\n",
    "    for k in team_players:\n",
    "        for i in perform[k]:\n",
    "            d = datetime.datetime.strptime(date, '%Y-%m-%d')\n",
    "            d1 = datetime.datetime.strptime(i[0], '%Y-%m-%d')\n",
    "            min_date = datetime.datetime.strptime(str(d.year-num_years)+'-01'+'-01', '%Y-%m-%d')\n",
    "            if(d1>=min_date and i[0]<date):\n",
    "                latest_performance.setdefault(k,[]).append(i)\n",
    "    return latest_performance"
   ]
  },
  {
   "cell_type": "code",
   "execution_count": 24,
   "metadata": {},
   "outputs": [],
   "source": [
    "def getAvgBat(team,index):\n",
    "    final_score=[]\n",
    "    for k in team.keys():\n",
    "        para=[]\n",
    "        for j in team[k]:\n",
    "            para.append(j[index])\n",
    "        \n",
    "        para1=pd.Series(para)\n",
    "        f1=para1.ewm(com=0.5,ignore_na=True,min_periods=1).mean()\n",
    "       \n",
    "        f1=np.nanmean(f1)\n",
    "        final_score.append(round(f1,3))\n",
    "            \n",
    "    return final_score"
   ]
  },
  {
   "cell_type": "code",
   "execution_count": 25,
   "metadata": {},
   "outputs": [],
   "source": [
    "def getLatestPerf_Bowl(perform,team_players, date, num_years=5):\n",
    "    latest_performance={}\n",
    "    perform_keys = perform.keys()\n",
    "    for k in team_players:\n",
    "        for i in perform[k]:\n",
    "            d = datetime.datetime.strptime(date, '%Y-%m-%d')\n",
    "            d1 = datetime.datetime.strptime(i[0], '%Y-%m-%d')\n",
    "            min_date = datetime.datetime.strptime(str(d.year-num_years)+'-01'+'-01', '%Y-%m-%d')\n",
    "            if(d1>=min_date and i[0]<date):\n",
    "                latest_performance.setdefault(k,[]).append(i)\n",
    "    return latest_performance"
   ]
  },
  {
   "cell_type": "code",
   "execution_count": 26,
   "metadata": {},
   "outputs": [],
   "source": [
    "def getAvgBowl(team,index):\n",
    "    final_score=[]\n",
    "    for k in team.keys():\n",
    "        para=[]\n",
    "        for j in team[k]:\n",
    "            para.append(j[index])\n",
    "            \n",
    "        para1=[x if x!=-1 else np.nan for x in para]\n",
    "        para1=pd.Series(para1)\n",
    "        f1=para1.ewm(com=0.5).mean()\n",
    "        f1=np.nanmean(f1)\n",
    "        final_score.append(round(f1,3))\n",
    "    \n",
    "    return final_score"
   ]
  },
  {
   "cell_type": "code",
   "execution_count": 27,
   "metadata": {},
   "outputs": [],
   "source": [
    "def adjust_length(l):\n",
    "    if (len(l)<10):\n",
    "        l.extend([-1] * (10 - len(l)))\n",
    "    return l"
   ]
  },
  {
   "cell_type": "code",
   "execution_count": 28,
   "metadata": {},
   "outputs": [],
   "source": [
    "def get_matches_for_test(matches):\n",
    "    x = [randint(0, len(matches)) for p in range(0, 10)]\n",
    "    match_codes=[]\n",
    "    for i in x:\n",
    "        match_codes.append(matches['MatchCode'].iloc[i])\n",
    "    return match_codes"
   ]
  },
  {
   "cell_type": "code",
   "execution_count": 29,
   "metadata": {},
   "outputs": [],
   "source": [
    "def get_testing_data(X_test,match_codes, scorecard_data, matches):\n",
    "    for i in range(len(match_codes)):\n",
    "        match_code=match_codes[i]\n",
    "        scorecard=scorecard_data[str(match_code)]\n",
    "        team_1_batsmen = [scorecard['BATTING1'][i][0] for i in range(10)]\n",
    "        team_2_batsmen = [scorecard['BATTING2'][i][0] for i in range(10)]\n",
    "        team_1_bowlers = [scorecard['BOWLING1'][i][0] for i in range(len(scorecard['BOWLING1']))]\n",
    "        team_2_bowlers = [scorecard['BOWLING2'][i][0] for i in range(len(scorecard['BOWLING2']))]\n",
    "        date=matches[matches['MatchCode']==match_code]['Date'].iloc[0]\n",
    "        if (scorecard['TOSS']==scorecard['ORDER'][0]):\n",
    "            toss = 1\n",
    "        else:\n",
    "            toss = 2\n",
    "        team1_bat=getLatestPerf_Bat(bat,team_1_batsmen, date, 5)\n",
    "        team2_bat=getLatestPerf_Bat(bat,team_2_batsmen, date, 5)\n",
    "        team1_bowl=getLatestPerf_Bowl(bowl,team_1_bowlers, date, 5)\n",
    "        team2_bowl=getLatestPerf_Bowl(bowl,team_2_bowlers, date, 5)\n",
    "\n",
    "        row = adjust_length(getAvgBat(team1_bat,3))+adjust_length(getAvgBat(team2_bat,3))+\\\n",
    "        adjust_length(getAvgBat(team1_bat,4))+adjust_length(getAvgBat(team1_bat,4))+\\\n",
    "        adjust_length(getAvgBat(team2_bat,5))+adjust_length(getAvgBat(team2_bat,5))+\\\n",
    "        adjust_length(getAvgBowl(team1_bowl,1))+adjust_length(getAvgBowl(team2_bowl,1))+\\\n",
    "        adjust_length(getAvgBowl(team1_bowl,2))+adjust_length(getAvgBowl(team2_bowl,2))+\\\n",
    "        adjust_length(getAvgBowl(team1_bowl,4))+\\\n",
    "        adjust_length(getAvgBowl(team2_bowl,4))\n",
    "\n",
    "        X_test['new'].iloc[i]=row\n",
    "        X_test['Toss'].iloc[i]=toss\n",
    "        \n",
    "        score = scorecard_data[str(match_codes[i])]['SCORES']\n",
    "        if (score[0]>score[1]):\n",
    "            X_test['Result'].iloc[i] = 1\n",
    "        elif (score[1]>score[0]):\n",
    "            X_test['Result'].iloc[i] = 2\n",
    "        else:\n",
    "            X_test['Result'].iloc[i] = 0\n",
    "       \n",
    "        X_test['Score_1'].iloc[i]=score[0]\n",
    "        X_test['Score_2'].iloc[i]=score[1]\n",
    "        \n",
    "    return X_test\n",
    "\n"
   ]
  },
  {
   "cell_type": "code",
   "execution_count": 30,
   "metadata": {},
   "outputs": [],
   "source": [
    "match_test=get_matches_for_test(matches)"
   ]
  },
  {
   "cell_type": "code",
   "execution_count": 31,
   "metadata": {},
   "outputs": [
    {
     "name": "stdout",
     "output_type": "stream",
     "text": [
      "2099\n"
     ]
    }
   ],
   "source": [
    "bat={}\n",
    "bat=allBatsmen(batsmen_data)\n",
    "print(len(bat))"
   ]
  },
  {
   "cell_type": "code",
   "execution_count": 32,
   "metadata": {},
   "outputs": [
    {
     "name": "stdout",
     "output_type": "stream",
     "text": [
      "1616\n"
     ]
    }
   ],
   "source": [
    "bowl={}\n",
    "bowl=allBowlers(bowlers_data)\n",
    "print(len(bowl))"
   ]
  },
  {
   "cell_type": "code",
   "execution_count": 33,
   "metadata": {},
   "outputs": [],
   "source": [
    "X_test=pd.DataFrame(match_test)\n",
    "X_test.columns=['MatchCode']\n",
    "X_test['Toss']=''\n",
    "X_test['new']=''\n",
    "X_test['Score_1']=''\n",
    "X_test['Score_2']=''\n",
    "X_test['Result']=''"
   ]
  },
  {
   "cell_type": "code",
   "execution_count": 34,
   "metadata": {},
   "outputs": [
    {
     "name": "stderr",
     "output_type": "stream",
     "text": [
      "/opt/anaconda3/lib/python3.8/site-packages/pandas/core/indexing.py:670: SettingWithCopyWarning: \n",
      "A value is trying to be set on a copy of a slice from a DataFrame\n",
      "\n",
      "See the caveats in the documentation: https://pandas.pydata.org/pandas-docs/stable/user_guide/indexing.html#returning-a-view-versus-a-copy\n",
      "  iloc._setitem_with_indexer(indexer, value)\n",
      "/opt/anaconda3/lib/python3.8/site-packages/pandas/core/indexing.py:670: SettingWithCopyWarning: \n",
      "A value is trying to be set on a copy of a slice from a DataFrame\n",
      "\n",
      "See the caveats in the documentation: https://pandas.pydata.org/pandas-docs/stable/user_guide/indexing.html#returning-a-view-versus-a-copy\n",
      "  iloc._setitem_with_indexer(indexer, value)\n",
      "/opt/anaconda3/lib/python3.8/site-packages/pandas/core/indexing.py:670: SettingWithCopyWarning: \n",
      "A value is trying to be set on a copy of a slice from a DataFrame\n",
      "\n",
      "See the caveats in the documentation: https://pandas.pydata.org/pandas-docs/stable/user_guide/indexing.html#returning-a-view-versus-a-copy\n",
      "  iloc._setitem_with_indexer(indexer, value)\n",
      "/opt/anaconda3/lib/python3.8/site-packages/pandas/core/indexing.py:670: SettingWithCopyWarning: \n",
      "A value is trying to be set on a copy of a slice from a DataFrame\n",
      "\n",
      "See the caveats in the documentation: https://pandas.pydata.org/pandas-docs/stable/user_guide/indexing.html#returning-a-view-versus-a-copy\n",
      "  iloc._setitem_with_indexer(indexer, value)\n",
      "/opt/anaconda3/lib/python3.8/site-packages/pandas/core/indexing.py:670: SettingWithCopyWarning: \n",
      "A value is trying to be set on a copy of a slice from a DataFrame\n",
      "\n",
      "See the caveats in the documentation: https://pandas.pydata.org/pandas-docs/stable/user_guide/indexing.html#returning-a-view-versus-a-copy\n",
      "  iloc._setitem_with_indexer(indexer, value)\n",
      "/opt/anaconda3/lib/python3.8/site-packages/pandas/core/indexing.py:670: SettingWithCopyWarning: \n",
      "A value is trying to be set on a copy of a slice from a DataFrame\n",
      "\n",
      "See the caveats in the documentation: https://pandas.pydata.org/pandas-docs/stable/user_guide/indexing.html#returning-a-view-versus-a-copy\n",
      "  iloc._setitem_with_indexer(indexer, value)\n",
      "/opt/anaconda3/lib/python3.8/site-packages/pandas/core/indexing.py:670: SettingWithCopyWarning: \n",
      "A value is trying to be set on a copy of a slice from a DataFrame\n",
      "\n",
      "See the caveats in the documentation: https://pandas.pydata.org/pandas-docs/stable/user_guide/indexing.html#returning-a-view-versus-a-copy\n",
      "  iloc._setitem_with_indexer(indexer, value)\n",
      "/opt/anaconda3/lib/python3.8/site-packages/pandas/core/indexing.py:670: SettingWithCopyWarning: \n",
      "A value is trying to be set on a copy of a slice from a DataFrame\n",
      "\n",
      "See the caveats in the documentation: https://pandas.pydata.org/pandas-docs/stable/user_guide/indexing.html#returning-a-view-versus-a-copy\n",
      "  iloc._setitem_with_indexer(indexer, value)\n",
      "/opt/anaconda3/lib/python3.8/site-packages/pandas/core/indexing.py:670: SettingWithCopyWarning: \n",
      "A value is trying to be set on a copy of a slice from a DataFrame\n",
      "\n",
      "See the caveats in the documentation: https://pandas.pydata.org/pandas-docs/stable/user_guide/indexing.html#returning-a-view-versus-a-copy\n",
      "  iloc._setitem_with_indexer(indexer, value)\n",
      "/opt/anaconda3/lib/python3.8/site-packages/pandas/core/indexing.py:670: SettingWithCopyWarning: \n",
      "A value is trying to be set on a copy of a slice from a DataFrame\n",
      "\n",
      "See the caveats in the documentation: https://pandas.pydata.org/pandas-docs/stable/user_guide/indexing.html#returning-a-view-versus-a-copy\n",
      "  iloc._setitem_with_indexer(indexer, value)\n"
     ]
    }
   ],
   "source": [
    "X_test =get_testing_data(X_test,match_test, scorecard_data, matches)"
   ]
  },
  {
   "cell_type": "code",
   "execution_count": 35,
   "metadata": {},
   "outputs": [],
   "source": [
    "y_test=X_test[['Score_1','Score_2','Result']]"
   ]
  },
  {
   "cell_type": "code",
   "execution_count": 36,
   "metadata": {},
   "outputs": [],
   "source": [
    "X_train=X"
   ]
  },
  {
   "cell_type": "code",
   "execution_count": 37,
   "metadata": {},
   "outputs": [
    {
     "data": {
      "text/html": [
       "<div>\n",
       "<style scoped>\n",
       "    .dataframe tbody tr th:only-of-type {\n",
       "        vertical-align: middle;\n",
       "    }\n",
       "\n",
       "    .dataframe tbody tr th {\n",
       "        vertical-align: top;\n",
       "    }\n",
       "\n",
       "    .dataframe thead th {\n",
       "        text-align: right;\n",
       "    }\n",
       "</style>\n",
       "<table border=\"1\" class=\"dataframe\">\n",
       "  <thead>\n",
       "    <tr style=\"text-align: right;\">\n",
       "      <th></th>\n",
       "      <th>MatchCode</th>\n",
       "      <th>Toss</th>\n",
       "      <th>new</th>\n",
       "      <th>Score_1</th>\n",
       "      <th>Score_2</th>\n",
       "      <th>Result</th>\n",
       "      <th>Toss1</th>\n",
       "      <th>Toss2</th>\n",
       "    </tr>\n",
       "  </thead>\n",
       "  <tbody>\n",
       "    <tr>\n",
       "      <th>0</th>\n",
       "      <td>1436</td>\n",
       "      <td>1</td>\n",
       "      <td>[3.639, 3.013, 0.583, 2.266, 1.702, -0.056, 1....</td>\n",
       "      <td>281</td>\n",
       "      <td>283</td>\n",
       "      <td>2</td>\n",
       "      <td>1.0</td>\n",
       "      <td>0.0</td>\n",
       "    </tr>\n",
       "    <tr>\n",
       "      <th>1</th>\n",
       "      <td>3391</td>\n",
       "      <td>1</td>\n",
       "      <td>[2.271, 1.677, 4.209, 1.916, 1.813, 2.709, 1.8...</td>\n",
       "      <td>321</td>\n",
       "      <td>306</td>\n",
       "      <td>1</td>\n",
       "      <td>1.0</td>\n",
       "      <td>0.0</td>\n",
       "    </tr>\n",
       "    <tr>\n",
       "      <th>2</th>\n",
       "      <td>3524</td>\n",
       "      <td>2</td>\n",
       "      <td>[3.566, 2.627, 1.345, 0.967, 3.801, 2.044, 1.2...</td>\n",
       "      <td>348</td>\n",
       "      <td>187</td>\n",
       "      <td>1</td>\n",
       "      <td>0.0</td>\n",
       "      <td>1.0</td>\n",
       "    </tr>\n",
       "    <tr>\n",
       "      <th>3</th>\n",
       "      <td>3510</td>\n",
       "      <td>2</td>\n",
       "      <td>[3.014, 3.561, 2.154, 2.561, 2.153, 1.204, 1.7...</td>\n",
       "      <td>233</td>\n",
       "      <td>236</td>\n",
       "      <td>2</td>\n",
       "      <td>0.0</td>\n",
       "      <td>1.0</td>\n",
       "    </tr>\n",
       "    <tr>\n",
       "      <th>4</th>\n",
       "      <td>2300</td>\n",
       "      <td>1</td>\n",
       "      <td>[4.056, 4.824, 3.788, 2.842, 1.808, 2.198, 1.2...</td>\n",
       "      <td>348</td>\n",
       "      <td>257</td>\n",
       "      <td>1</td>\n",
       "      <td>1.0</td>\n",
       "      <td>0.0</td>\n",
       "    </tr>\n",
       "    <tr>\n",
       "      <th>5</th>\n",
       "      <td>1759</td>\n",
       "      <td>2</td>\n",
       "      <td>[3.043, 3.442, 2.626, 3.136, -1.0, 1.326, 1.09...</td>\n",
       "      <td>273</td>\n",
       "      <td>274</td>\n",
       "      <td>2</td>\n",
       "      <td>0.0</td>\n",
       "      <td>1.0</td>\n",
       "    </tr>\n",
       "    <tr>\n",
       "      <th>6</th>\n",
       "      <td>381</td>\n",
       "      <td>2</td>\n",
       "      <td>[1.656, 2.062, 2.171, 2.234, 0.519, 1.467, 1.3...</td>\n",
       "      <td>175</td>\n",
       "      <td>132</td>\n",
       "      <td>1</td>\n",
       "      <td>0.0</td>\n",
       "      <td>1.0</td>\n",
       "    </tr>\n",
       "    <tr>\n",
       "      <th>7</th>\n",
       "      <td>530</td>\n",
       "      <td>1</td>\n",
       "      <td>[1.368, 0.398, 1.35, 1.909, 1.44, 0.99, 0.968,...</td>\n",
       "      <td>218</td>\n",
       "      <td>219</td>\n",
       "      <td>2</td>\n",
       "      <td>1.0</td>\n",
       "      <td>0.0</td>\n",
       "    </tr>\n",
       "    <tr>\n",
       "      <th>8</th>\n",
       "      <td>421</td>\n",
       "      <td>2</td>\n",
       "      <td>[5.343, 2.206, 2.967, 3.127, 1.366, 1.284, 0.3...</td>\n",
       "      <td>165</td>\n",
       "      <td>166</td>\n",
       "      <td>2</td>\n",
       "      <td>0.0</td>\n",
       "      <td>1.0</td>\n",
       "    </tr>\n",
       "    <tr>\n",
       "      <th>9</th>\n",
       "      <td>1200</td>\n",
       "      <td>1</td>\n",
       "      <td>[3.66, 2.571, -0.228, 1.683, 1.898, 2.04, 0.48...</td>\n",
       "      <td>185</td>\n",
       "      <td>188</td>\n",
       "      <td>2</td>\n",
       "      <td>1.0</td>\n",
       "      <td>0.0</td>\n",
       "    </tr>\n",
       "  </tbody>\n",
       "</table>\n",
       "</div>"
      ],
      "text/plain": [
       "   MatchCode Toss                                                new Score_1  \\\n",
       "0       1436    1  [3.639, 3.013, 0.583, 2.266, 1.702, -0.056, 1....     281   \n",
       "1       3391    1  [2.271, 1.677, 4.209, 1.916, 1.813, 2.709, 1.8...     321   \n",
       "2       3524    2  [3.566, 2.627, 1.345, 0.967, 3.801, 2.044, 1.2...     348   \n",
       "3       3510    2  [3.014, 3.561, 2.154, 2.561, 2.153, 1.204, 1.7...     233   \n",
       "4       2300    1  [4.056, 4.824, 3.788, 2.842, 1.808, 2.198, 1.2...     348   \n",
       "5       1759    2  [3.043, 3.442, 2.626, 3.136, -1.0, 1.326, 1.09...     273   \n",
       "6        381    2  [1.656, 2.062, 2.171, 2.234, 0.519, 1.467, 1.3...     175   \n",
       "7        530    1  [1.368, 0.398, 1.35, 1.909, 1.44, 0.99, 0.968,...     218   \n",
       "8        421    2  [5.343, 2.206, 2.967, 3.127, 1.366, 1.284, 0.3...     165   \n",
       "9       1200    1  [3.66, 2.571, -0.228, 1.683, 1.898, 2.04, 0.48...     185   \n",
       "\n",
       "  Score_2 Result  Toss1  Toss2  \n",
       "0     283      2    1.0    0.0  \n",
       "1     306      1    1.0    0.0  \n",
       "2     187      1    0.0    1.0  \n",
       "3     236      2    0.0    1.0  \n",
       "4     257      1    1.0    0.0  \n",
       "5     274      2    0.0    1.0  \n",
       "6     132      1    0.0    1.0  \n",
       "7     219      2    1.0    0.0  \n",
       "8     166      2    0.0    1.0  \n",
       "9     188      2    1.0    0.0  "
      ]
     },
     "execution_count": 37,
     "metadata": {},
     "output_type": "execute_result"
    }
   ],
   "source": [
    "enc = OneHotEncoder(handle_unknown='ignore')\n",
    "enc_df = pd.DataFrame(enc.fit_transform(X_test[['Toss']]).toarray())\n",
    "X_test = X_test.join(enc_df)\n",
    "X_test.rename(columns = {0: 'Toss1',1: 'Toss2'}, inplace = True)\n",
    "X_test"
   ]
  },
  {
   "cell_type": "code",
   "execution_count": 38,
   "metadata": {},
   "outputs": [
    {
     "data": {
      "text/plain": [
       "120"
      ]
     },
     "execution_count": 38,
     "metadata": {},
     "output_type": "execute_result"
    }
   ],
   "source": [
    "len(X['new'].iloc[0])"
   ]
  },
  {
   "cell_type": "markdown",
   "metadata": {},
   "source": [
    "### Model "
   ]
  },
  {
   "cell_type": "code",
   "execution_count": 39,
   "metadata": {},
   "outputs": [],
   "source": [
    "x=np.array(X['new'])\n",
    "x_train=list(x)"
   ]
  },
  {
   "cell_type": "code",
   "execution_count": 40,
   "metadata": {},
   "outputs": [],
   "source": [
    "x_test=np.array(X_test['new'])\n",
    "x_test=list(x_test)"
   ]
  },
  {
   "cell_type": "code",
   "execution_count": null,
   "metadata": {},
   "outputs": [],
   "source": []
  },
  {
   "cell_type": "code",
   "execution_count": 41,
   "metadata": {},
   "outputs": [],
   "source": [
    "def model_eval(model, x_train, y_train, target, x_test,y_test):\n",
    "    model.fit(x_train, y_train[target])\n",
    "    predictions = model.predict(x_test)\n",
    "    \n",
    "    rms = sklearn.metrics.mean_squared_error(predictions,y_test[target])**0.5\n",
    "    print('RMS : %s' % '{0:.2%}'.format(rms))\n",
    "    \n",
    "    r2 = sklearn.metrics.r2_score(predictions,y_test[target])\n",
    "    print('R2 : %s' % '{0:.2%}'.format(r2))\n",
    "    return np.asarray(predictions)"
   ]
  },
  {
   "cell_type": "code",
   "execution_count": null,
   "metadata": {},
   "outputs": [],
   "source": []
  },
  {
   "cell_type": "code",
   "execution_count": 42,
   "metadata": {},
   "outputs": [],
   "source": [
    "def winner_pred(model, X_train, Y_train, x_test, y_test):\n",
    "    pred1 = model_eval(model, X_train, y_train,['Score_1'],x_test, y_test)\n",
    "    pred2 = model_eval(model, X_train, y_train,['Score_2'],x_test, y_test)\n",
    "\n",
    "    pred = pred1 - pred2\n",
    "\n",
    "    for i in range(len(pred)):\n",
    "        if ((pred[i])>0):\n",
    "            pred[i] = 1\n",
    "        else:\n",
    "            pred[i] = 2\n",
    "\n",
    "    #print(pred)\n",
    "    sum=0\n",
    "    print(\"Model Accuracy is: \")\n",
    "    for i in range(len(pred)):\n",
    "        if(pred[i]==y_test['Result'].iloc[i]):\n",
    "            sum=sum+1\n",
    "    print(sum/len(pred))\n",
    "    "
   ]
  },
  {
   "cell_type": "code",
   "execution_count": 43,
   "metadata": {},
   "outputs": [
    {
     "data": {
      "text/plain": [
       "15"
      ]
     },
     "execution_count": 43,
     "metadata": {},
     "output_type": "execute_result"
    }
   ],
   "source": [
    "len(y_train)"
   ]
  },
  {
   "cell_type": "code",
   "execution_count": 44,
   "metadata": {},
   "outputs": [
    {
     "name": "stdout",
     "output_type": "stream",
     "text": [
      "RMS : 7535.32%\n",
      "R2 : -2492.74%\n",
      "RMS : 13090.76%\n",
      "R2 : -250.83%\n",
      "Model Accuracy is: \n",
      "0.4\n"
     ]
    }
   ],
   "source": [
    "model = DecisionTreeRegressor()\n",
    "winner_pred(model, x_train, y_train, x_test,y_test)"
   ]
  },
  {
   "cell_type": "code",
   "execution_count": 45,
   "metadata": {},
   "outputs": [
    {
     "name": "stdout",
     "output_type": "stream",
     "text": [
      "RMS : 6948.35%\n",
      "R2 : -3892.44%\n",
      "RMS : 6615.50%\n",
      "R2 : -477.48%\n",
      "Model Accuracy is: \n",
      "0.4\n"
     ]
    }
   ],
   "source": [
    "model = LinearRegression()\n",
    "winner_pred(model, x_train, y_train, x_test,y_test)"
   ]
  },
  {
   "cell_type": "code",
   "execution_count": 46,
   "metadata": {},
   "outputs": [
    {
     "name": "stdout",
     "output_type": "stream",
     "text": [
      "RMS : 7268.98%\n",
      "R2 : -23261.56%\n"
     ]
    },
    {
     "name": "stderr",
     "output_type": "stream",
     "text": [
      "<ipython-input-41-c2137f2e14d1>:2: DataConversionWarning: A column-vector y was passed when a 1d array was expected. Please change the shape of y to (n_samples,), for example using ravel().\n",
      "  model.fit(x_train, y_train[target])\n",
      "<ipython-input-41-c2137f2e14d1>:2: DataConversionWarning: A column-vector y was passed when a 1d array was expected. Please change the shape of y to (n_samples,), for example using ravel().\n",
      "  model.fit(x_train, y_train[target])\n"
     ]
    },
    {
     "name": "stdout",
     "output_type": "stream",
     "text": [
      "RMS : 7728.36%\n",
      "R2 : -12538.28%\n",
      "Model Accuracy is: \n",
      "0.4\n"
     ]
    }
   ],
   "source": [
    "model = RandomForestRegressor()\n",
    "winner_pred(model, x_train, y_train, x_test,y_test)"
   ]
  },
  {
   "cell_type": "code",
   "execution_count": null,
   "metadata": {},
   "outputs": [],
   "source": []
  },
  {
   "cell_type": "code",
   "execution_count": 47,
   "metadata": {},
   "outputs": [],
   "source": [
    "x_train=np.array(X_train['new'])\n",
    "x_train=list(x_train)"
   ]
  },
  {
   "cell_type": "code",
   "execution_count": 48,
   "metadata": {},
   "outputs": [],
   "source": [
    "x_test=np.array(X_test['new'])\n",
    "x_test=list(x_test)"
   ]
  },
  {
   "cell_type": "code",
   "execution_count": null,
   "metadata": {},
   "outputs": [],
   "source": []
  },
  {
   "cell_type": "code",
   "execution_count": 49,
   "metadata": {},
   "outputs": [
    {
     "name": "stdout",
     "output_type": "stream",
     "text": [
      "RMS : 7301.37%\n",
      "R2 : -3103.53%\n",
      "RMS : 7938.14%\n",
      "R2 : -23203.99%\n",
      "Model Accuracy is: \n",
      "0.4\n"
     ]
    }
   ],
   "source": [
    "model = DecisionTreeRegressor()\n",
    "winner_pred(model, x_train, y_train, x_test,y_test)"
   ]
  },
  {
   "cell_type": "code",
   "execution_count": null,
   "metadata": {},
   "outputs": [],
   "source": []
  },
  {
   "cell_type": "markdown",
   "metadata": {},
   "source": [
    "## Model 2"
   ]
  },
  {
   "cell_type": "code",
   "execution_count": 50,
   "metadata": {},
   "outputs": [],
   "source": [
    "def create_Dataset1(Dataset):\n",
    "    Dataset['Toss'] = ''\n",
    "    \n",
    "    Dataset['Strike_rate_team1'] = ''\n",
    "    Dataset['Strike_rate_team2'] = ''\n",
    "    \n",
    "    Dataset['Wickets_team1'] = ''\n",
    "    Dataset['Wickets_team2'] = ''\n",
    "    Dataset['Economy_rate_team1'] = ''\n",
    "    Dataset['Economy_rate_team2'] = ''\n",
    "    Dataset['Score_1']=''\n",
    "    Dataset['Score_2']=''\n",
    "    Dataset['Result'] = ''\n",
    "    \n",
    "    MatchCodes = Dataset['MatchCode'].tolist()\n",
    "    \n",
    "    for i in range(len(MatchCodes)):\n",
    "        matchdata = scorecard_data[str(MatchCodes[i])]\n",
    "        #Dataset = Dataset.drop(columns=['GroundCode','Team_1','Team_2'])\n",
    "        if (matchdata['TOSS']==matchdata['ORDER'][0]):\n",
    "            toss = 1\n",
    "        else:\n",
    "            toss = 2\n",
    "        #Batting 1\n",
    "        batting1 = matchdata['BATTING1']\n",
    "        Runs_team1 = []\n",
    "        Balls_Played_team1 = []\n",
    "        Fours_team1 = []\n",
    "        Sixes_team1 = []\n",
    "        Strike_rate_team1 = []\n",
    "        for val in range(10):\n",
    "            Runs_team1.append(batting1[val][2])\n",
    "            Balls_Played_team1.append(batting1[val][3])\n",
    "            Fours_team1.append(batting1[val][4])\n",
    "            Sixes_team1.append(batting1[val][5])\n",
    "            Strike_rate_team1.append(batting1[val][6])\n",
    "\n",
    "        #Batting 2\n",
    "        batting2 = matchdata['BATTING2']\n",
    "        Runs_team2 = []\n",
    "        Balls_Played_team2 = []\n",
    "        Fours_team2 = []\n",
    "        Sixes_team2 = []\n",
    "        Strike_rate_team2 = []\n",
    "        for val in range(10):\n",
    "            Runs_team2.append(batting2[val][2])\n",
    "            Balls_Played_team2.append(batting2[val][3])\n",
    "            Fours_team2.append(batting2[val][4])\n",
    "            Sixes_team2.append(batting2[val][5])\n",
    "            Strike_rate_team2.append(batting2[val][6])\n",
    "\n",
    "        #Bowling 1\n",
    "        bowling1 = matchdata['BOWLING1']\n",
    "        Overs_team1 = []\n",
    "        Maidens_team1 = []\n",
    "        Runs_given_team1 = []\n",
    "        Wickets_team1 = []\n",
    "        Economy_rate_team1 = []\n",
    "        for val in range(10):\n",
    "            if val<len(bowling1):\n",
    "                Overs_team1.append(bowling1[val][1])\n",
    "                Maidens_team1.append(bowling1[val][2])\n",
    "                Runs_given_team1.append(bowling1[val][3])\n",
    "                Wickets_team1.append(bowling1[val][4])\n",
    "                Economy_rate_team1.append(bowling1[val][5])\n",
    "            else:\n",
    "                Overs_team1.append(-1)\n",
    "                Maidens_team1.append(-1)\n",
    "                Runs_given_team1.append(-1)\n",
    "                Wickets_team1.append(-1)\n",
    "                Economy_rate_team1.append(-1)\n",
    "\n",
    "        #Bowling 2\n",
    "        bowling2 = matchdata['BOWLING2']\n",
    "        Overs_team2 = []\n",
    "        Maidens_team2 = []\n",
    "        Runs_given_team2 = []\n",
    "        Wickets_team2 = []\n",
    "        Economy_rate_team2 = []\n",
    "        for val in range(10):\n",
    "            if val<len(bowling2):\n",
    "                Overs_team2.append(bowling2[val][1])\n",
    "                Maidens_team2.append(bowling2[val][2])\n",
    "                Runs_given_team2.append(bowling2[val][3])\n",
    "                Wickets_team2.append(bowling2[val][4])\n",
    "                Economy_rate_team2.append(bowling2[val][5])\n",
    "            else:\n",
    "                Overs_team2.append(-1)\n",
    "                Maidens_team2.append(-1)\n",
    "                Runs_given_team2.append(-1)\n",
    "                Wickets_team2.append(-1)\n",
    "                Economy_rate_team2.append(-1)\n",
    "        #Scores\n",
    "        score = matchdata['SCORES']\n",
    "        if (score[0]>score[1]):\n",
    "            result = 1\n",
    "        elif (score[1]>score[0]):\n",
    "            result = 2\n",
    "        else:\n",
    "            result = 'Tie'\n",
    "\n",
    "        #insert into dataset\n",
    "        Dataset['Toss'].iloc[i] = toss\n",
    "        Dataset['Score_1'].iloc[i]=score[0]\n",
    "        Dataset['Score_2'].iloc[i]=score[1]\n",
    "       \n",
    "        Dataset['Strike_rate_team1'].iloc[i] = Strike_rate_team1\n",
    "        Dataset['Strike_rate_team2'].iloc[i] = Strike_rate_team2\n",
    "        \n",
    "        Dataset['Wickets_team1'].iloc[i] = Wickets_team1\n",
    "        Dataset['Wickets_team2'].iloc[i] = Wickets_team2\n",
    "        Dataset['Economy_rate_team1'].iloc[i] = Economy_rate_team1\n",
    "        Dataset['Economy_rate_team2'].iloc[i] = Economy_rate_team2\n",
    "        Dataset['Result'].iloc[i] = result\n",
    "    \n",
    "    Dataset = Dataset.drop(columns=['Date','GroundCode'])\n",
    "    return Dataset\n",
    "    "
   ]
  },
  {
   "cell_type": "code",
   "execution_count": 51,
   "metadata": {},
   "outputs": [
    {
     "name": "stderr",
     "output_type": "stream",
     "text": [
      "<ipython-input-11-29ebaa57a627>:3: UserWarning: Boolean Series key will be reindexed to match DataFrame index.\n",
      "  matches_team=matches_team[matches['Team_2']==team_2]\n",
      "<ipython-input-11-29ebaa57a627>:5: UserWarning: Boolean Series key will be reindexed to match DataFrame index.\n",
      "  matches_team1=matches_team1[matches['Team_2']==team_1]\n",
      "/opt/anaconda3/lib/python3.8/site-packages/pandas/core/indexing.py:670: SettingWithCopyWarning: \n",
      "A value is trying to be set on a copy of a slice from a DataFrame\n",
      "\n",
      "See the caveats in the documentation: https://pandas.pydata.org/pandas-docs/stable/user_guide/indexing.html#returning-a-view-versus-a-copy\n",
      "  iloc._setitem_with_indexer(indexer, value)\n"
     ]
    }
   ],
   "source": [
    "Dataset1=get_matches(team_1,team_2,date)\n",
    "Dataset1=create_Dataset1(Dataset1)"
   ]
  },
  {
   "cell_type": "code",
   "execution_count": 52,
   "metadata": {},
   "outputs": [
    {
     "data": {
      "text/html": [
       "<div>\n",
       "<style scoped>\n",
       "    .dataframe tbody tr th:only-of-type {\n",
       "        vertical-align: middle;\n",
       "    }\n",
       "\n",
       "    .dataframe tbody tr th {\n",
       "        vertical-align: top;\n",
       "    }\n",
       "\n",
       "    .dataframe thead th {\n",
       "        text-align: right;\n",
       "    }\n",
       "</style>\n",
       "<table border=\"1\" class=\"dataframe\">\n",
       "  <thead>\n",
       "    <tr style=\"text-align: right;\">\n",
       "      <th></th>\n",
       "      <th>Team_1</th>\n",
       "      <th>Team_2</th>\n",
       "      <th>Venue</th>\n",
       "      <th>MatchCode</th>\n",
       "      <th>Toss</th>\n",
       "      <th>Strike_rate_team1</th>\n",
       "      <th>Strike_rate_team2</th>\n",
       "      <th>Wickets_team1</th>\n",
       "      <th>Wickets_team2</th>\n",
       "      <th>Economy_rate_team1</th>\n",
       "      <th>Economy_rate_team2</th>\n",
       "      <th>Score_1</th>\n",
       "      <th>Score_2</th>\n",
       "      <th>Result</th>\n",
       "    </tr>\n",
       "  </thead>\n",
       "  <tbody>\n",
       "    <tr>\n",
       "      <th>0</th>\n",
       "      <td>AUS</td>\n",
       "      <td>IND</td>\n",
       "      <td>Away</td>\n",
       "      <td>3278</td>\n",
       "      <td>1</td>\n",
       "      <td>[65.79, 85.48, 88.14, 42.11, 33.33, 54.55, 146...</td>\n",
       "      <td>[68.18, 77.94, 78.13, 72.73, 87.69, 87.5, 121....</td>\n",
       "      <td>[2.0, 2.0, 0.0, 0.0, 2.0, 0.0, 0.0, -1, -1, -1]</td>\n",
       "      <td>[1.0, 1.0, 0.0, 1.0, 0.0, 0.0, 1.0, -1, -1, -1]</td>\n",
       "      <td>[5.2, 5.3, 5.0, 6.29, 4.4, 4.5, 6.0, -1, -1, -1]</td>\n",
       "      <td>[5.19, 7.43, 5.13, 5.29, 5.0, 6.33, 3.8, -1, -...</td>\n",
       "      <td>260</td>\n",
       "      <td>261</td>\n",
       "      <td>2</td>\n",
       "    </tr>\n",
       "    <tr>\n",
       "      <th>1</th>\n",
       "      <td>AUS</td>\n",
       "      <td>IND</td>\n",
       "      <td>Home</td>\n",
       "      <td>3373</td>\n",
       "      <td>1</td>\n",
       "      <td>[75.0, 42.86, 88.37, 79.52, 94.74, 108.33, 88....</td>\n",
       "      <td>[82.88, 95.24, 64.29, 80.49, 126.67, 75.86, 15...</td>\n",
       "      <td>[1.0, 2.0, 0.0, 2.0, 0.0, 0.0, -1, -1, -1, -1]</td>\n",
       "      <td>[1.0, 0.0, 3.0, 0.0, 0.0, 2.0, -1, -1, -1, -1]</td>\n",
       "      <td>[4.6, 5.8, 5.0, 4.9, 5.88, 7.5, -1, -1, -1, -1]</td>\n",
       "      <td>[5.7, 6.13, 5.48, 4.5, 4.33, 5.67, -1, -1, -1,...</td>\n",
       "      <td>269</td>\n",
       "      <td>270</td>\n",
       "      <td>2</td>\n",
       "    </tr>\n",
       "    <tr>\n",
       "      <th>2</th>\n",
       "      <td>AUS</td>\n",
       "      <td>IND</td>\n",
       "      <td>Home</td>\n",
       "      <td>3380</td>\n",
       "      <td>1</td>\n",
       "      <td>[67.16, 93.48, 26.92, 73.24, 113.46, 130.0, 16...</td>\n",
       "      <td>[100.0, 25.0, 48.0, 0.0, 68.29, 66.67, 51.43, ...</td>\n",
       "      <td>[1.0, 0.0, 3.0, 0.0, 0.0, 1.0, -1, -1, -1, -1]</td>\n",
       "      <td>[5.0, 3.0, 1.0, 1.0, 0.0, -1, -1, -1, -1, -1]</td>\n",
       "      <td>[4.6, 6.0, 6.1, 4.4, 6.57, 5.67, -1, -1, -1, -1]</td>\n",
       "      <td>[3.47, 4.9, 4.5, 4.5, 2.9, -1, -1, -1, -1, -1]</td>\n",
       "      <td>288</td>\n",
       "      <td>178</td>\n",
       "      <td>1</td>\n",
       "    </tr>\n",
       "    <tr>\n",
       "      <th>3</th>\n",
       "      <td>AUS</td>\n",
       "      <td>IND</td>\n",
       "      <td>Home</td>\n",
       "      <td>3386</td>\n",
       "      <td>1</td>\n",
       "      <td>[103.03, 14.29, 38.89, 47.62, 84.38, 84.85, 75...</td>\n",
       "      <td>[45.45, 93.33, 47.92, 77.78, 114.29, 28.57, 47...</td>\n",
       "      <td>[2.0, 0.0, 0.0, 2.0, 1.0, 3.0, -1, -1, -1, -1]</td>\n",
       "      <td>[1.0, 2.0, 1.0, 0.0, 1.0, 2.0, 2.0, -1, -1, -1]</td>\n",
       "      <td>[3.7, 5.6, 4.5, 6.5, 5.1, 4.78, -1, -1, -1, -1]</td>\n",
       "      <td>[3.25, 6.25, 4.5, 3.5, 2.67, 1.8, 3.47, -1, -1...</td>\n",
       "      <td>252</td>\n",
       "      <td>165</td>\n",
       "      <td>1</td>\n",
       "    </tr>\n",
       "    <tr>\n",
       "      <th>4</th>\n",
       "      <td>AUS</td>\n",
       "      <td>IND</td>\n",
       "      <td>Away</td>\n",
       "      <td>3562</td>\n",
       "      <td>1</td>\n",
       "      <td>[88.68, 91.14, 50.0, 103.66, 53.85, 134.78, 71...</td>\n",
       "      <td>[46.67, 89.36, 71.76, 86.67, 100.0, 86.36, 61....</td>\n",
       "      <td>[0.0, 1.0, 1.0, 2.0, 1.0, 0.0, 2.0, -1, -1, -1]</td>\n",
       "      <td>[1.0, 2.0, 3.0, 0.0, 2.0, 1.0, 1.0, -1, -1, -1]</td>\n",
       "      <td>[5.86, 7.56, 8.0, 5.5, 3.5, 12.0, 5.67, -1, -1...</td>\n",
       "      <td>[3.8, 3.6, 5.88, 5.4, 3.88, 6.0, 3.0, -1, -1, -1]</td>\n",
       "      <td>304</td>\n",
       "      <td>232</td>\n",
       "      <td>1</td>\n",
       "    </tr>\n",
       "  </tbody>\n",
       "</table>\n",
       "</div>"
      ],
      "text/plain": [
       "  Team_1 Team_2 Venue  MatchCode Toss  \\\n",
       "0    AUS    IND  Away       3278    1   \n",
       "1    AUS    IND  Home       3373    1   \n",
       "2    AUS    IND  Home       3380    1   \n",
       "3    AUS    IND  Home       3386    1   \n",
       "4    AUS    IND  Away       3562    1   \n",
       "\n",
       "                                   Strike_rate_team1  \\\n",
       "0  [65.79, 85.48, 88.14, 42.11, 33.33, 54.55, 146...   \n",
       "1  [75.0, 42.86, 88.37, 79.52, 94.74, 108.33, 88....   \n",
       "2  [67.16, 93.48, 26.92, 73.24, 113.46, 130.0, 16...   \n",
       "3  [103.03, 14.29, 38.89, 47.62, 84.38, 84.85, 75...   \n",
       "4  [88.68, 91.14, 50.0, 103.66, 53.85, 134.78, 71...   \n",
       "\n",
       "                                   Strike_rate_team2  \\\n",
       "0  [68.18, 77.94, 78.13, 72.73, 87.69, 87.5, 121....   \n",
       "1  [82.88, 95.24, 64.29, 80.49, 126.67, 75.86, 15...   \n",
       "2  [100.0, 25.0, 48.0, 0.0, 68.29, 66.67, 51.43, ...   \n",
       "3  [45.45, 93.33, 47.92, 77.78, 114.29, 28.57, 47...   \n",
       "4  [46.67, 89.36, 71.76, 86.67, 100.0, 86.36, 61....   \n",
       "\n",
       "                                     Wickets_team1  \\\n",
       "0  [2.0, 2.0, 0.0, 0.0, 2.0, 0.0, 0.0, -1, -1, -1]   \n",
       "1   [1.0, 2.0, 0.0, 2.0, 0.0, 0.0, -1, -1, -1, -1]   \n",
       "2   [1.0, 0.0, 3.0, 0.0, 0.0, 1.0, -1, -1, -1, -1]   \n",
       "3   [2.0, 0.0, 0.0, 2.0, 1.0, 3.0, -1, -1, -1, -1]   \n",
       "4  [0.0, 1.0, 1.0, 2.0, 1.0, 0.0, 2.0, -1, -1, -1]   \n",
       "\n",
       "                                     Wickets_team2  \\\n",
       "0  [1.0, 1.0, 0.0, 1.0, 0.0, 0.0, 1.0, -1, -1, -1]   \n",
       "1   [1.0, 0.0, 3.0, 0.0, 0.0, 2.0, -1, -1, -1, -1]   \n",
       "2    [5.0, 3.0, 1.0, 1.0, 0.0, -1, -1, -1, -1, -1]   \n",
       "3  [1.0, 2.0, 1.0, 0.0, 1.0, 2.0, 2.0, -1, -1, -1]   \n",
       "4  [1.0, 2.0, 3.0, 0.0, 2.0, 1.0, 1.0, -1, -1, -1]   \n",
       "\n",
       "                                  Economy_rate_team1  \\\n",
       "0   [5.2, 5.3, 5.0, 6.29, 4.4, 4.5, 6.0, -1, -1, -1]   \n",
       "1    [4.6, 5.8, 5.0, 4.9, 5.88, 7.5, -1, -1, -1, -1]   \n",
       "2   [4.6, 6.0, 6.1, 4.4, 6.57, 5.67, -1, -1, -1, -1]   \n",
       "3    [3.7, 5.6, 4.5, 6.5, 5.1, 4.78, -1, -1, -1, -1]   \n",
       "4  [5.86, 7.56, 8.0, 5.5, 3.5, 12.0, 5.67, -1, -1...   \n",
       "\n",
       "                                  Economy_rate_team2 Score_1 Score_2 Result  \n",
       "0  [5.19, 7.43, 5.13, 5.29, 5.0, 6.33, 3.8, -1, -...     260     261      2  \n",
       "1  [5.7, 6.13, 5.48, 4.5, 4.33, 5.67, -1, -1, -1,...     269     270      2  \n",
       "2     [3.47, 4.9, 4.5, 4.5, 2.9, -1, -1, -1, -1, -1]     288     178      1  \n",
       "3  [3.25, 6.25, 4.5, 3.5, 2.67, 1.8, 3.47, -1, -1...     252     165      1  \n",
       "4  [3.8, 3.6, 5.88, 5.4, 3.88, 6.0, 3.0, -1, -1, -1]     304     232      1  "
      ]
     },
     "execution_count": 52,
     "metadata": {},
     "output_type": "execute_result"
    }
   ],
   "source": [
    "Dataset1.head()"
   ]
  },
  {
   "cell_type": "code",
   "execution_count": 53,
   "metadata": {},
   "outputs": [],
   "source": [
    "def get_testing_data1(X_test,match_codes, scorecard_data, matches):\n",
    "    for i in range(len(match_codes)):\n",
    "        match_code=match_codes[i]\n",
    "        scorecard=scorecard_data[str(match_code)]\n",
    "        team_1_batsmen = [scorecard['BATTING1'][i][0] for i in range(10)]\n",
    "        team_2_batsmen = [scorecard['BATTING2'][i][0] for i in range(10)]\n",
    "        team_1_bowlers = [scorecard['BOWLING1'][i][0] for i in range(len(scorecard['BOWLING1']))]\n",
    "        team_2_bowlers = [scorecard['BOWLING2'][i][0] for i in range(len(scorecard['BOWLING2']))]\n",
    "        date=matches[matches['MatchCode']==match_code]['Date'].iloc[0]\n",
    "        if (scorecard['TOSS']==scorecard['ORDER'][0]):\n",
    "            toss = 1\n",
    "        else:\n",
    "            toss = 2\n",
    "        team1_bat=getLatestPerf_Bat(bat,team_1_batsmen, date, 5)\n",
    "        team2_bat=getLatestPerf_Bat(bat,team_2_batsmen, date, 5)\n",
    "        team1_bowl=getLatestPerf_Bowl(bowl,team_1_bowlers, date, 5)\n",
    "        team2_bowl=getLatestPerf_Bowl(bowl,team_2_bowlers, date, 5)\n",
    "\n",
    "        row = adjust_length(getAvgBat(team2_bat,5))+adjust_length(getAvgBat(team2_bat,5))+\\\n",
    "        adjust_length(getAvgBowl(team1_bowl,2))+adjust_length(getAvgBowl(team2_bowl,2))+\\\n",
    "        adjust_length(getAvgBowl(team1_bowl,4))+\\\n",
    "        adjust_length(getAvgBowl(team2_bowl,4))\n",
    "\n",
    "        X_test['new'].iloc[i]=row\n",
    "        X_test['Toss'].iloc[i]=toss\n",
    "        \n",
    "        score = scorecard_data[str(match_codes[i])]['SCORES']\n",
    "        if (score[0]>score[1]):\n",
    "            X_test['Result'].iloc[i] = 1\n",
    "        elif (score[1]>score[0]):\n",
    "            X_test['Result'].iloc[i] = 2\n",
    "        else:\n",
    "            X_test['Result'].iloc[i] = 0\n",
    "       \n",
    "        X_test['Score_1'].iloc[i]=score[0]\n",
    "        X_test['Score_2'].iloc[i]=score[1]\n",
    "        \n",
    "    return X_test\n",
    "\n"
   ]
  },
  {
   "cell_type": "code",
   "execution_count": 54,
   "metadata": {},
   "outputs": [
    {
     "name": "stderr",
     "output_type": "stream",
     "text": [
      "/opt/anaconda3/lib/python3.8/site-packages/pandas/core/indexing.py:670: SettingWithCopyWarning: \n",
      "A value is trying to be set on a copy of a slice from a DataFrame\n",
      "\n",
      "See the caveats in the documentation: https://pandas.pydata.org/pandas-docs/stable/user_guide/indexing.html#returning-a-view-versus-a-copy\n",
      "  iloc._setitem_with_indexer(indexer, value)\n"
     ]
    }
   ],
   "source": [
    "X,y=get_model_data(Dataset1)"
   ]
  },
  {
   "cell_type": "code",
   "execution_count": 55,
   "metadata": {},
   "outputs": [],
   "source": [
    "X_train=X"
   ]
  },
  {
   "cell_type": "code",
   "execution_count": 56,
   "metadata": {},
   "outputs": [],
   "source": [
    "match_test=get_matches_for_test(matches)"
   ]
  },
  {
   "cell_type": "code",
   "execution_count": 57,
   "metadata": {},
   "outputs": [],
   "source": [
    "X_test=pd.DataFrame(match_test)\n",
    "X_test.columns=['MatchCode']\n",
    "X_test['Toss']=''\n",
    "X_test['new']=''\n",
    "X_test['Score_1']=''\n",
    "X_test['Score_2']=''\n",
    "X_test['Result']=''"
   ]
  },
  {
   "cell_type": "code",
   "execution_count": 58,
   "metadata": {},
   "outputs": [
    {
     "name": "stderr",
     "output_type": "stream",
     "text": [
      "/opt/anaconda3/lib/python3.8/site-packages/pandas/core/indexing.py:670: SettingWithCopyWarning: \n",
      "A value is trying to be set on a copy of a slice from a DataFrame\n",
      "\n",
      "See the caveats in the documentation: https://pandas.pydata.org/pandas-docs/stable/user_guide/indexing.html#returning-a-view-versus-a-copy\n",
      "  iloc._setitem_with_indexer(indexer, value)\n",
      "/opt/anaconda3/lib/python3.8/site-packages/pandas/core/indexing.py:670: SettingWithCopyWarning: \n",
      "A value is trying to be set on a copy of a slice from a DataFrame\n",
      "\n",
      "See the caveats in the documentation: https://pandas.pydata.org/pandas-docs/stable/user_guide/indexing.html#returning-a-view-versus-a-copy\n",
      "  iloc._setitem_with_indexer(indexer, value)\n",
      "/opt/anaconda3/lib/python3.8/site-packages/pandas/core/indexing.py:670: SettingWithCopyWarning: \n",
      "A value is trying to be set on a copy of a slice from a DataFrame\n",
      "\n",
      "See the caveats in the documentation: https://pandas.pydata.org/pandas-docs/stable/user_guide/indexing.html#returning-a-view-versus-a-copy\n",
      "  iloc._setitem_with_indexer(indexer, value)\n",
      "/opt/anaconda3/lib/python3.8/site-packages/pandas/core/indexing.py:670: SettingWithCopyWarning: \n",
      "A value is trying to be set on a copy of a slice from a DataFrame\n",
      "\n",
      "See the caveats in the documentation: https://pandas.pydata.org/pandas-docs/stable/user_guide/indexing.html#returning-a-view-versus-a-copy\n",
      "  iloc._setitem_with_indexer(indexer, value)\n",
      "/opt/anaconda3/lib/python3.8/site-packages/pandas/core/indexing.py:670: SettingWithCopyWarning: \n",
      "A value is trying to be set on a copy of a slice from a DataFrame\n",
      "\n",
      "See the caveats in the documentation: https://pandas.pydata.org/pandas-docs/stable/user_guide/indexing.html#returning-a-view-versus-a-copy\n",
      "  iloc._setitem_with_indexer(indexer, value)\n",
      "/opt/anaconda3/lib/python3.8/site-packages/pandas/core/indexing.py:670: SettingWithCopyWarning: \n",
      "A value is trying to be set on a copy of a slice from a DataFrame\n",
      "\n",
      "See the caveats in the documentation: https://pandas.pydata.org/pandas-docs/stable/user_guide/indexing.html#returning-a-view-versus-a-copy\n",
      "  iloc._setitem_with_indexer(indexer, value)\n",
      "/opt/anaconda3/lib/python3.8/site-packages/pandas/core/indexing.py:670: SettingWithCopyWarning: \n",
      "A value is trying to be set on a copy of a slice from a DataFrame\n",
      "\n",
      "See the caveats in the documentation: https://pandas.pydata.org/pandas-docs/stable/user_guide/indexing.html#returning-a-view-versus-a-copy\n",
      "  iloc._setitem_with_indexer(indexer, value)\n",
      "/opt/anaconda3/lib/python3.8/site-packages/pandas/core/indexing.py:670: SettingWithCopyWarning: \n",
      "A value is trying to be set on a copy of a slice from a DataFrame\n",
      "\n",
      "See the caveats in the documentation: https://pandas.pydata.org/pandas-docs/stable/user_guide/indexing.html#returning-a-view-versus-a-copy\n",
      "  iloc._setitem_with_indexer(indexer, value)\n",
      "/opt/anaconda3/lib/python3.8/site-packages/pandas/core/indexing.py:670: SettingWithCopyWarning: \n",
      "A value is trying to be set on a copy of a slice from a DataFrame\n",
      "\n",
      "See the caveats in the documentation: https://pandas.pydata.org/pandas-docs/stable/user_guide/indexing.html#returning-a-view-versus-a-copy\n",
      "  iloc._setitem_with_indexer(indexer, value)\n",
      "/opt/anaconda3/lib/python3.8/site-packages/pandas/core/indexing.py:670: SettingWithCopyWarning: \n",
      "A value is trying to be set on a copy of a slice from a DataFrame\n",
      "\n",
      "See the caveats in the documentation: https://pandas.pydata.org/pandas-docs/stable/user_guide/indexing.html#returning-a-view-versus-a-copy\n",
      "  iloc._setitem_with_indexer(indexer, value)\n"
     ]
    }
   ],
   "source": [
    "X_test =get_testing_data1(X_test,match_test, scorecard_data, matches)"
   ]
  },
  {
   "cell_type": "code",
   "execution_count": 59,
   "metadata": {},
   "outputs": [],
   "source": [
    "y_test=X_test[['Score_1','Score_2','Result']]"
   ]
  },
  {
   "cell_type": "code",
   "execution_count": 60,
   "metadata": {},
   "outputs": [],
   "source": [
    "y_train=y"
   ]
  },
  {
   "cell_type": "markdown",
   "metadata": {},
   "source": [
    "### Model"
   ]
  },
  {
   "cell_type": "code",
   "execution_count": 61,
   "metadata": {},
   "outputs": [],
   "source": [
    "x=np.array(X['new'])\n",
    "x_train=list(x)"
   ]
  },
  {
   "cell_type": "code",
   "execution_count": 62,
   "metadata": {},
   "outputs": [],
   "source": [
    "x=np.array(X_test['new'])\n",
    "x_test=list(x)"
   ]
  },
  {
   "cell_type": "code",
   "execution_count": 63,
   "metadata": {},
   "outputs": [
    {
     "name": "stdout",
     "output_type": "stream",
     "text": [
      "RMS : 4634.76%\n",
      "R2 : -1253.05%\n",
      "RMS : 4606.84%\n",
      "R2 : -3.42%\n",
      "Model Accuracy is: \n",
      "0.8\n"
     ]
    }
   ],
   "source": [
    "model = DecisionTreeRegressor()\n",
    "winner_pred(model, x_train, y_train, x_test,y_test)"
   ]
  },
  {
   "cell_type": "code",
   "execution_count": 64,
   "metadata": {},
   "outputs": [
    {
     "name": "stderr",
     "output_type": "stream",
     "text": [
      "<ipython-input-41-c2137f2e14d1>:2: DataConversionWarning: A column-vector y was passed when a 1d array was expected. Please change the shape of y to (n_samples,), for example using ravel().\n",
      "  model.fit(x_train, y_train[target])\n",
      "<ipython-input-41-c2137f2e14d1>:2: DataConversionWarning: A column-vector y was passed when a 1d array was expected. Please change the shape of y to (n_samples,), for example using ravel().\n",
      "  model.fit(x_train, y_train[target])\n"
     ]
    },
    {
     "name": "stdout",
     "output_type": "stream",
     "text": [
      "RMS : 4825.58%\n",
      "R2 : -9078.21%\n",
      "RMS : 5790.76%\n",
      "R2 : -3758.96%\n",
      "Model Accuracy is: \n",
      "0.8\n"
     ]
    }
   ],
   "source": [
    "model = RandomForestRegressor()\n",
    "winner_pred(model, x_train, y_train, x_test,y_test)"
   ]
  },
  {
   "cell_type": "code",
   "execution_count": 65,
   "metadata": {},
   "outputs": [
    {
     "name": "stdout",
     "output_type": "stream",
     "text": [
      "RMS : 5186.10%\n",
      "R2 : -752.81%\n",
      "RMS : 7847.53%\n",
      "R2 : -739.20%\n",
      "Model Accuracy is: \n",
      "0.8\n"
     ]
    }
   ],
   "source": [
    "model = LinearRegression()\n",
    "winner_pred(model, x_train, y_train, x_test,y_test)"
   ]
  }
 ],
 "metadata": {
  "kernelspec": {
   "display_name": "Python 3",
   "language": "python",
   "name": "python3"
  },
  "language_info": {
   "codemirror_mode": {
    "name": "ipython",
    "version": 3
   },
   "file_extension": ".py",
   "mimetype": "text/x-python",
   "name": "python",
   "nbconvert_exporter": "python",
   "pygments_lexer": "ipython3",
   "version": "3.8.3"
  }
 },
 "nbformat": 4,
 "nbformat_minor": 2
}
