{
 "cells": [
  {
   "cell_type": "code",
   "execution_count": 1,
   "metadata": {
    "ExecuteTime": {
     "end_time": "2020-11-12T12:43:17.087052Z",
     "start_time": "2020-11-12T12:43:09.872283Z"
    },
    "scrolled": true
   },
   "outputs": [],
   "source": [
    "import pandas as pd\n",
    "import matplotlib.pyplot as plt\n",
    "import numpy as np\n",
    "import sklearn\n",
    "import json\n",
    "import datetime\n",
    "import math"
   ]
  },
  {
   "cell_type": "code",
   "execution_count": 2,
   "metadata": {},
   "outputs": [],
   "source": [
    "import sklearn\n",
    "from sklearn.preprocessing import LabelEncoder,OneHotEncoder\n",
    "from sklearn.model_selection import train_test_split\n",
    "from sklearn.linear_model import LinearRegression\n",
    "from sklearn.preprocessing import PolynomialFeatures\n",
    "from sklearn.model_selection import cross_val_score\n",
    "from sklearn.tree import DecisionTreeRegressor\n",
    "from sklearn.linear_model import LassoCV\n",
    "from sklearn.ensemble import RandomForestRegressor\n",
    "from sklearn.metrics import accuracy_score\n",
    "import matplotlib.pyplot as plt\n",
    "from sklearn.preprocessing import StandardScaler"
   ]
  },
  {
   "cell_type": "markdown",
   "metadata": {},
   "source": [
    "## Importing data"
   ]
  },
  {
   "cell_type": "code",
   "execution_count": 3,
   "metadata": {
    "ExecuteTime": {
     "end_time": "2020-11-12T12:43:17.973772Z",
     "start_time": "2020-11-12T12:43:17.835624Z"
    },
    "scrolled": true
   },
   "outputs": [
    {
     "data": {
      "text/html": [
       "<div>\n",
       "<style scoped>\n",
       "    .dataframe tbody tr th:only-of-type {\n",
       "        vertical-align: middle;\n",
       "    }\n",
       "\n",
       "    .dataframe tbody tr th {\n",
       "        vertical-align: top;\n",
       "    }\n",
       "\n",
       "    .dataframe thead th {\n",
       "        text-align: right;\n",
       "    }\n",
       "</style>\n",
       "<table border=\"1\" class=\"dataframe\">\n",
       "  <thead>\n",
       "    <tr style=\"text-align: right;\">\n",
       "      <th></th>\n",
       "      <th>Date</th>\n",
       "      <th>Team_1</th>\n",
       "      <th>Team_2</th>\n",
       "      <th>Venue</th>\n",
       "      <th>MatchCode</th>\n",
       "      <th>GroundCode</th>\n",
       "    </tr>\n",
       "  </thead>\n",
       "  <tbody>\n",
       "    <tr>\n",
       "      <th>0</th>\n",
       "      <td>2015-03-04</td>\n",
       "      <td>AFG</td>\n",
       "      <td>AUS</td>\n",
       "      <td>Away</td>\n",
       "      <td>3773</td>\n",
       "      <td>65</td>\n",
       "    </tr>\n",
       "    <tr>\n",
       "      <th>1</th>\n",
       "      <td>2012-08-25</td>\n",
       "      <td>AFG</td>\n",
       "      <td>AUS</td>\n",
       "      <td>Neutral</td>\n",
       "      <td>3437</td>\n",
       "      <td>156</td>\n",
       "    </tr>\n",
       "    <tr>\n",
       "      <th>2</th>\n",
       "      <td>2019-06-01</td>\n",
       "      <td>AFG</td>\n",
       "      <td>AUS</td>\n",
       "      <td>Neutral</td>\n",
       "      <td>4306</td>\n",
       "      <td>149</td>\n",
       "    </tr>\n",
       "    <tr>\n",
       "      <th>3</th>\n",
       "      <td>2014-03-01</td>\n",
       "      <td>AFG</td>\n",
       "      <td>BAN</td>\n",
       "      <td>Away</td>\n",
       "      <td>3623</td>\n",
       "      <td>190</td>\n",
       "    </tr>\n",
       "    <tr>\n",
       "      <th>4</th>\n",
       "      <td>2016-09-25</td>\n",
       "      <td>AFG</td>\n",
       "      <td>BAN</td>\n",
       "      <td>Away</td>\n",
       "      <td>3936</td>\n",
       "      <td>198</td>\n",
       "    </tr>\n",
       "  </tbody>\n",
       "</table>\n",
       "</div>"
      ],
      "text/plain": [
       "         Date Team_1 Team_2    Venue  MatchCode  GroundCode\n",
       "0  2015-03-04    AFG    AUS     Away       3773          65\n",
       "1  2012-08-25    AFG    AUS  Neutral       3437         156\n",
       "2  2019-06-01    AFG    AUS  Neutral       4306         149\n",
       "3  2014-03-01    AFG    BAN     Away       3623         190\n",
       "4  2016-09-25    AFG    BAN     Away       3936         198"
      ]
     },
     "execution_count": 3,
     "metadata": {},
     "output_type": "execute_result"
    }
   ],
   "source": [
    "matches = pd.read_csv(\"../Data/matches.csv\")\n",
    "matches.head()"
   ]
  },
  {
   "cell_type": "code",
   "execution_count": 4,
   "metadata": {
    "ExecuteTime": {
     "end_time": "2020-11-12T12:43:18.942608Z",
     "start_time": "2020-11-12T12:43:18.896153Z"
    }
   },
   "outputs": [
    {
     "data": {
      "text/html": [
       "<div>\n",
       "<style scoped>\n",
       "    .dataframe tbody tr th:only-of-type {\n",
       "        vertical-align: middle;\n",
       "    }\n",
       "\n",
       "    .dataframe tbody tr th {\n",
       "        vertical-align: top;\n",
       "    }\n",
       "\n",
       "    .dataframe thead th {\n",
       "        text-align: right;\n",
       "    }\n",
       "</style>\n",
       "<table border=\"1\" class=\"dataframe\">\n",
       "  <thead>\n",
       "    <tr style=\"text-align: right;\">\n",
       "      <th></th>\n",
       "      <th>Full Name</th>\n",
       "      <th>Born</th>\n",
       "      <th>Bats</th>\n",
       "      <th>Bowls</th>\n",
       "      <th>Code</th>\n",
       "    </tr>\n",
       "  </thead>\n",
       "  <tbody>\n",
       "    <tr>\n",
       "      <th>0</th>\n",
       "      <td>David A Warner</td>\n",
       "      <td>1986-10-27</td>\n",
       "      <td>Left Handed</td>\n",
       "      <td>Right Arm Leg Break</td>\n",
       "      <td>3637</td>\n",
       "    </tr>\n",
       "    <tr>\n",
       "      <th>1</th>\n",
       "      <td>Aaron James Finch</td>\n",
       "      <td>1986-11-17</td>\n",
       "      <td>Right Handed</td>\n",
       "      <td>Left Arm Orthodox</td>\n",
       "      <td>3845</td>\n",
       "    </tr>\n",
       "    <tr>\n",
       "      <th>2</th>\n",
       "      <td>Steven Peter Devereux Smith</td>\n",
       "      <td>1989-02-06</td>\n",
       "      <td>Right Handed</td>\n",
       "      <td>Right Arm Leg Break</td>\n",
       "      <td>3756</td>\n",
       "    </tr>\n",
       "    <tr>\n",
       "      <th>3</th>\n",
       "      <td>Glenn James Maxwell</td>\n",
       "      <td>1988-10-14</td>\n",
       "      <td>Right Handed</td>\n",
       "      <td>Right Arm Off Break</td>\n",
       "      <td>3969</td>\n",
       "    </tr>\n",
       "    <tr>\n",
       "      <th>4</th>\n",
       "      <td>James Peter Faulkner</td>\n",
       "      <td>1990-04-29</td>\n",
       "      <td>Right Handed</td>\n",
       "      <td>Left Arm Medium</td>\n",
       "      <td>3930</td>\n",
       "    </tr>\n",
       "  </tbody>\n",
       "</table>\n",
       "</div>"
      ],
      "text/plain": [
       "                     Full Name        Born          Bats                Bowls  \\\n",
       "0               David A Warner  1986-10-27   Left Handed  Right Arm Leg Break   \n",
       "1            Aaron James Finch  1986-11-17  Right Handed    Left Arm Orthodox   \n",
       "2  Steven Peter Devereux Smith  1989-02-06  Right Handed  Right Arm Leg Break   \n",
       "3          Glenn James Maxwell  1988-10-14  Right Handed  Right Arm Off Break   \n",
       "4         James Peter Faulkner  1990-04-29  Right Handed      Left Arm Medium   \n",
       "\n",
       "   Code  \n",
       "0  3637  \n",
       "1  3845  \n",
       "2  3756  \n",
       "3  3969  \n",
       "4  3930  "
      ]
     },
     "execution_count": 4,
     "metadata": {},
     "output_type": "execute_result"
    }
   ],
   "source": [
    "attributes = pd.read_csv(\"../Data/attributes.csv\")\n",
    "attributes.head()"
   ]
  },
  {
   "cell_type": "code",
   "execution_count": 5,
   "metadata": {
    "ExecuteTime": {
     "end_time": "2020-11-12T12:43:20.365587Z",
     "start_time": "2020-11-12T12:43:20.010914Z"
    }
   },
   "outputs": [],
   "source": [
    "batsmen = open('../Data/batsmen.json',) \n",
    "batsmen_data = json.load(batsmen)"
   ]
  },
  {
   "cell_type": "code",
   "execution_count": 6,
   "metadata": {
    "ExecuteTime": {
     "end_time": "2020-11-12T12:43:20.807519Z",
     "start_time": "2020-11-12T12:43:20.443061Z"
    }
   },
   "outputs": [],
   "source": [
    "bowlers = open('../Data/bowlers.json',) \n",
    "bowlers_data = json.load(bowlers)"
   ]
  },
  {
   "cell_type": "code",
   "execution_count": 7,
   "metadata": {
    "ExecuteTime": {
     "end_time": "2020-11-12T12:43:21.326747Z",
     "start_time": "2020-11-12T12:43:21.306706Z"
    }
   },
   "outputs": [],
   "source": [
    "invtmap = open('../Data/invtmap.json',) \n",
    "invtmap_data = json.load(invtmap)"
   ]
  },
  {
   "cell_type": "code",
   "execution_count": 8,
   "metadata": {
    "ExecuteTime": {
     "end_time": "2020-11-12T12:43:22.772026Z",
     "start_time": "2020-11-12T12:43:21.746342Z"
    }
   },
   "outputs": [],
   "source": [
    "scorecard = open('../Data/scorecard.json',) \n",
    "scorecard_data = json.load(scorecard)"
   ]
  },
  {
   "cell_type": "code",
   "execution_count": 9,
   "metadata": {
    "ExecuteTime": {
     "end_time": "2020-11-12T12:43:22.798161Z",
     "start_time": "2020-11-12T12:43:22.773498Z"
    }
   },
   "outputs": [],
   "source": [
    "region = open('../Data/region.json',) \n",
    "region_data = json.load(region)"
   ]
  },
  {
   "cell_type": "code",
   "execution_count": 10,
   "metadata": {
    "ExecuteTime": {
     "end_time": "2020-11-12T12:43:23.172347Z",
     "start_time": "2020-11-12T12:43:23.153031Z"
    }
   },
   "outputs": [],
   "source": [
    "tmap = open('../Data/tmap.json',) \n",
    "tmap_data = json.load(tmap)"
   ]
  },
  {
   "cell_type": "markdown",
   "metadata": {},
   "source": [
    "## Making the Database"
   ]
  },
  {
   "cell_type": "code",
   "execution_count": 11,
   "metadata": {},
   "outputs": [],
   "source": [
    "def get_matches(team_1,team_2,date,num_years=5):\n",
    "    matches_team=matches[matches['Team_1']==team_1]\n",
    "    matches_team=matches_team[matches['Team_2']==team_2]\n",
    "    matches_team1=matches[matches['Team_1']==team_2]\n",
    "    matches_team1=matches_team1[matches['Team_2']==team_1]\n",
    "    matches_team = pd.concat([matches_team,matches_team1],axis=0)\n",
    "    matches_team['Date']= pd.to_datetime(matches_team['Date'])\n",
    "    get_date = datetime.datetime.strptime(date, '%Y-%m-%d')\n",
    "    min_date = datetime.datetime.strptime(str(get_date.year-num_years)+'-01'+'-01', '%Y-%m-%d')\n",
    "    matches_team_latest = matches_team[matches_team['Date']>=min_date]\n",
    "    matches_team_latest = matches_team_latest[matches_team_latest['Date']<date]\n",
    "    matches_team_latest = matches_team_latest.sort_values(by='Date')\n",
    "    \n",
    "    matches_team_latest = matches_team_latest.reset_index()\n",
    "    matches_team_latest=matches_team_latest.drop(['index'],axis=1)\n",
    "    return matches_team_latest"
   ]
  },
  {
   "cell_type": "code",
   "execution_count": 12,
   "metadata": {},
   "outputs": [],
   "source": [
    "def create_Dataset(Dataset):\n",
    "    Dataset['Toss'] = ''\n",
    "    Dataset['Fours_team1'] = ''\n",
    "    Dataset['Fours_team2'] = ''\n",
    "    Dataset['Sixes_team1'] = ''\n",
    "    Dataset['Sixes_team2'] = ''\n",
    "    Dataset['Strike_rate_team1'] = ''\n",
    "    Dataset['Strike_rate_team2'] = ''\n",
    "    Dataset['Maidens_team1'] = ''\n",
    "    Dataset['Maidens_team2'] = ''\n",
    "    Dataset['Wickets_team1'] = ''\n",
    "    Dataset['Wickets_team2'] = ''\n",
    "    Dataset['Economy_rate_team1'] = ''\n",
    "    Dataset['Economy_rate_team2'] = ''\n",
    "    Dataset['Score_1']=''\n",
    "    Dataset['Score_2']=''\n",
    "    Dataset['Result'] = ''\n",
    "    \n",
    "    MatchCodes = Dataset['MatchCode'].tolist()\n",
    "    \n",
    "    for i in range(len(MatchCodes)):\n",
    "        matchdata = scorecard_data[str(MatchCodes[i])]\n",
    "        #Dataset = Dataset.drop(columns=['GroundCode','Team_1','Team_2'])\n",
    "        if (matchdata['TOSS']==matchdata['ORDER'][0]):\n",
    "            toss = 1\n",
    "        else:\n",
    "            toss = 2\n",
    "        #Batting 1\n",
    "        batting1 = matchdata['BATTING1']\n",
    "        Runs_team1 = []\n",
    "        Balls_Played_team1 = []\n",
    "        Fours_team1 = []\n",
    "        Sixes_team1 = []\n",
    "        Strike_rate_team1 = []\n",
    "        for val in range(10):\n",
    "            Runs_team1.append(batting1[val][2])\n",
    "            Balls_Played_team1.append(batting1[val][3])\n",
    "            Fours_team1.append(batting1[val][4])\n",
    "            Sixes_team1.append(batting1[val][5])\n",
    "            Strike_rate_team1.append(batting1[val][6])\n",
    "\n",
    "        #Batting 2\n",
    "        batting2 = matchdata['BATTING2']\n",
    "        Runs_team2 = []\n",
    "        Balls_Played_team2 = []\n",
    "        Fours_team2 = []\n",
    "        Sixes_team2 = []\n",
    "        Strike_rate_team2 = []\n",
    "        for val in range(10):\n",
    "            Runs_team2.append(batting2[val][2])\n",
    "            Balls_Played_team2.append(batting2[val][3])\n",
    "            Fours_team2.append(batting2[val][4])\n",
    "            Sixes_team2.append(batting2[val][5])\n",
    "            Strike_rate_team2.append(batting2[val][6])\n",
    "\n",
    "        #Bowling 1\n",
    "        bowling1 = matchdata['BOWLING1']\n",
    "        Overs_team1 = []\n",
    "        Maidens_team1 = []\n",
    "        Runs_given_team1 = []\n",
    "        Wickets_team1 = []\n",
    "        Economy_rate_team1 = []\n",
    "        for val in range(10):\n",
    "            if val<len(bowling1):\n",
    "                Overs_team1.append(bowling1[val][1])\n",
    "                Maidens_team1.append(bowling1[val][2])\n",
    "                Runs_given_team1.append(bowling1[val][3])\n",
    "                Wickets_team1.append(bowling1[val][4])\n",
    "                Economy_rate_team1.append(bowling1[val][5])\n",
    "            else:\n",
    "                Overs_team1.append(-1)\n",
    "                Maidens_team1.append(-1)\n",
    "                Runs_given_team1.append(-1)\n",
    "                Wickets_team1.append(-1)\n",
    "                Economy_rate_team1.append(-1)\n",
    "\n",
    "        #Bowling 2\n",
    "        bowling2 = matchdata['BOWLING2']\n",
    "        Overs_team2 = []\n",
    "        Maidens_team2 = []\n",
    "        Runs_given_team2 = []\n",
    "        Wickets_team2 = []\n",
    "        Economy_rate_team2 = []\n",
    "        for val in range(10):\n",
    "            if val<len(bowling2):\n",
    "                Overs_team2.append(bowling2[val][1])\n",
    "                Maidens_team2.append(bowling2[val][2])\n",
    "                Runs_given_team2.append(bowling2[val][3])\n",
    "                Wickets_team2.append(bowling2[val][4])\n",
    "                Economy_rate_team2.append(bowling2[val][5])\n",
    "            else:\n",
    "                Overs_team2.append(-1)\n",
    "                Maidens_team2.append(-1)\n",
    "                Runs_given_team2.append(-1)\n",
    "                Wickets_team2.append(-1)\n",
    "                Economy_rate_team2.append(-1)\n",
    "        #Scores\n",
    "        score = matchdata['SCORES']\n",
    "        if (score[0]>score[1]):\n",
    "            result = 1\n",
    "        elif (score[1]>score[0]):\n",
    "            result = 2\n",
    "        else:\n",
    "            result = 'Tie'\n",
    "\n",
    "        #insert into dataset\n",
    "        Dataset['Toss'].iloc[i] = toss\n",
    "        Dataset['Score_1'].iloc[i]=score[0]\n",
    "        Dataset['Score_2'].iloc[i]=score[1]\n",
    "        Dataset['Fours_team1'].iloc[i] = Fours_team1\n",
    "        Dataset['Fours_team2'].iloc[i] = Fours_team2\n",
    "        Dataset['Sixes_team1'].iloc[i] = Sixes_team1\n",
    "        Dataset['Sixes_team2'].iloc[i] = Sixes_team2\n",
    "        Dataset['Strike_rate_team1'].iloc[i] = Strike_rate_team1\n",
    "        Dataset['Strike_rate_team2'].iloc[i] = Strike_rate_team2\n",
    "        Dataset['Maidens_team1'].iloc[i] = Maidens_team1\n",
    "        Dataset['Maidens_team2'].iloc[i] = Maidens_team2\n",
    "        Dataset['Wickets_team1'].iloc[i] = Wickets_team1\n",
    "        Dataset['Wickets_team2'].iloc[i] = Wickets_team2\n",
    "        Dataset['Economy_rate_team1'].iloc[i] = Economy_rate_team1\n",
    "        Dataset['Economy_rate_team2'].iloc[i] = Economy_rate_team2\n",
    "        Dataset['Result'].iloc[i] = result\n",
    "    \n",
    "    Dataset = Dataset.drop(columns=['Date','GroundCode'])\n",
    "    return Dataset\n",
    "    "
   ]
  },
  {
   "cell_type": "code",
   "execution_count": 14,
   "metadata": {
    "ExecuteTime": {
     "end_time": "2020-11-12T12:43:26.838409Z",
     "start_time": "2020-11-12T12:43:26.736086Z"
    }
   },
   "outputs": [],
   "source": [
    "#Example Input\n",
    "team_1 = 'IND'\n",
    "team_2 = 'ZIM' \n",
    "date = '2015-07-12'"
   ]
  },
  {
   "cell_type": "code",
   "execution_count": 15,
   "metadata": {},
   "outputs": [
    {
     "name": "stderr",
     "output_type": "stream",
     "text": [
      "<ipython-input-11-29ebaa57a627>:3: UserWarning: Boolean Series key will be reindexed to match DataFrame index.\n",
      "  matches_team=matches_team[matches['Team_2']==team_2]\n",
      "<ipython-input-11-29ebaa57a627>:5: UserWarning: Boolean Series key will be reindexed to match DataFrame index.\n",
      "  matches_team1=matches_team1[matches['Team_2']==team_1]\n",
      "/opt/anaconda3/lib/python3.8/site-packages/pandas/core/indexing.py:670: SettingWithCopyWarning: \n",
      "A value is trying to be set on a copy of a slice from a DataFrame\n",
      "\n",
      "See the caveats in the documentation: https://pandas.pydata.org/pandas-docs/stable/user_guide/indexing.html#returning-a-view-versus-a-copy\n",
      "  iloc._setitem_with_indexer(indexer, value)\n"
     ]
    }
   ],
   "source": [
    "Dataset=get_matches(team_1,team_2,date)\n",
    "Dataset=create_Dataset(Dataset)"
   ]
  },
  {
   "cell_type": "code",
   "execution_count": 16,
   "metadata": {},
   "outputs": [
    {
     "data": {
      "text/html": [
       "<div>\n",
       "<style scoped>\n",
       "    .dataframe tbody tr th:only-of-type {\n",
       "        vertical-align: middle;\n",
       "    }\n",
       "\n",
       "    .dataframe tbody tr th {\n",
       "        vertical-align: top;\n",
       "    }\n",
       "\n",
       "    .dataframe thead th {\n",
       "        text-align: right;\n",
       "    }\n",
       "</style>\n",
       "<table border=\"1\" class=\"dataframe\">\n",
       "  <thead>\n",
       "    <tr style=\"text-align: right;\">\n",
       "      <th></th>\n",
       "      <th>Team_1</th>\n",
       "      <th>Team_2</th>\n",
       "      <th>Venue</th>\n",
       "      <th>MatchCode</th>\n",
       "      <th>Toss</th>\n",
       "      <th>Fours_team1</th>\n",
       "      <th>Fours_team2</th>\n",
       "      <th>Sixes_team1</th>\n",
       "      <th>Sixes_team2</th>\n",
       "      <th>Strike_rate_team1</th>\n",
       "      <th>Strike_rate_team2</th>\n",
       "      <th>Maidens_team1</th>\n",
       "      <th>Maidens_team2</th>\n",
       "      <th>Wickets_team1</th>\n",
       "      <th>Wickets_team2</th>\n",
       "      <th>Economy_rate_team1</th>\n",
       "      <th>Economy_rate_team2</th>\n",
       "      <th>Score_1</th>\n",
       "      <th>Score_2</th>\n",
       "      <th>Result</th>\n",
       "    </tr>\n",
       "  </thead>\n",
       "  <tbody>\n",
       "    <tr>\n",
       "      <th>0</th>\n",
       "      <td>IND</td>\n",
       "      <td>ZIM</td>\n",
       "      <td>Away</td>\n",
       "      <td>3111</td>\n",
       "      <td>1</td>\n",
       "      <td>[2.0, 1.0, 0.0, 6.0, 2.0, 5.0, 1.0, -1, -1, -1]</td>\n",
       "      <td>[5.0, 4.0, 0.0, 5.0, 0.0, 4.0, -1, -1, -1, -1]</td>\n",
       "      <td>[0.0, 0.0, 0.0, 4.0, 0.0, 0.0, 1.0, -1, -1, -1]</td>\n",
       "      <td>[1.0, 2.0, 0.0, 0.0, 3.0, 0.0, -1, -1, -1, -1]</td>\n",
       "      <td>[56.41, 45.83, 0.0, 95.8, 69.81, 100.0, 220.0,...</td>\n",
       "      <td>[106.98, 78.64, 62.79, 111.67, 128.0, 150.0, -...</td>\n",
       "      <td>[1.0, 0.0, 0.0, 0.0, 0.0, 0.0, 0.0, -1, -1, -1]</td>\n",
       "      <td>[0.0, 0.0, 0.0, 0.0, 0.0, 0.0, 0.0, -1, -1, -1]</td>\n",
       "      <td>[2.0, 0.0, 0.0, 1.0, 0.0, 0.0, 0.0, -1, -1, -1]</td>\n",
       "      <td>[0.0, 2.0, 0.0, 1.0, 1.0, 0.0, 0.0, -1, -1, -1]</td>\n",
       "      <td>[6.3, 18.0, 5.3, 4.6, 4.0, 5.71, 5.0, -1, -1, -1]</td>\n",
       "      <td>[6.68, 6.38, 6.0, 4.7, 5.1, 7.0, 5.0, -1, -1, -1]</td>\n",
       "      <td>285</td>\n",
       "      <td>289</td>\n",
       "      <td>2</td>\n",
       "    </tr>\n",
       "    <tr>\n",
       "      <th>1</th>\n",
       "      <td>IND</td>\n",
       "      <td>ZIM</td>\n",
       "      <td>Away</td>\n",
       "      <td>3116</td>\n",
       "      <td>2</td>\n",
       "      <td>[4.0, 0.0, 1.0, 0.0, 0.0, 3.0, 0.0, 0.0, 1.0, ...</td>\n",
       "      <td>[4.0, 6.0, 2.0, 1.0, 1.0, -1, -1, -1, -1, -1]</td>\n",
       "      <td>[0.0, 0.0, 0.0, 0.0, 0.0, 2.0, 1.0, 0.0, 0.0, ...</td>\n",
       "      <td>[2.0, 1.0, 0.0, 0.0, 0.0, -1, -1, -1, -1, -1]</td>\n",
       "      <td>[70.21, 37.5, 62.07, 52.0, 60.0, 70.83, 60.0, ...</td>\n",
       "      <td>[76.74, 82.22, 86.96, 106.67, 76.47, -1, -1, -...</td>\n",
       "      <td>[1.0, 0.0, 0.0, 0.0, 0.0, -1, -1, -1, -1, -1]</td>\n",
       "      <td>[0.0, 0.0, 0.0, 0.0, 0.0, -1, -1, -1, -1, -1]</td>\n",
       "      <td>[1.0, 1.0, 3.0, 1.0, 1.0, -1, -1, -1, -1, -1]</td>\n",
       "      <td>[0.0, 1.0, 0.0, 0.0, 2.0, -1, -1, -1, -1, -1]</td>\n",
       "      <td>[2.2, 3.7, 4.5, 4.1, 4.2, -1, -1, -1, -1, -1]</td>\n",
       "      <td>[6.48, 3.5, 5.0, 6.22, 3.86, -1, -1, -1, -1, -1]</td>\n",
       "      <td>194</td>\n",
       "      <td>197</td>\n",
       "      <td>2</td>\n",
       "    </tr>\n",
       "    <tr>\n",
       "      <th>2</th>\n",
       "      <td>IND</td>\n",
       "      <td>ZIM</td>\n",
       "      <td>Away</td>\n",
       "      <td>3537</td>\n",
       "      <td>2</td>\n",
       "      <td>[3.0, 6.0, 2.0, 2.0, 1.0, 0.0, 6.0, 0.0, 0.0, -1]</td>\n",
       "      <td>[2.0, 3.0, 13.0, 4.0, 0.0, 1.0, -1, -1, -1, -1]</td>\n",
       "      <td>[0.0, 2.0, 0.0, 0.0, 0.0, 0.0, 1.0, 1.0, 0.0, -1]</td>\n",
       "      <td>[0.0, 0.0, 1.0, 0.0, 0.0, 0.0, -1, -1, -1, -1]</td>\n",
       "      <td>[47.22, 73.21, 51.72, 91.67, 80.0, 28.57, 126....</td>\n",
       "      <td>[50.0, 80.95, 106.48, 75.0, 0.0, 53.33, -1, -1...</td>\n",
       "      <td>[1.0, 1.0, 1.0, 3.0, 1.0, 0.0, -1, -1, -1, -1]</td>\n",
       "      <td>[0.0, 0.0, 0.0, 0.0, 0.0, 0.0, 0.0, -1, -1, -1]</td>\n",
       "      <td>[1.0, 1.0, 1.0, 0.0, 3.0, 1.0, -1, -1, -1, -1]</td>\n",
       "      <td>[1.0, 0.0, 1.0, 2.0, 0.0, 0.0, 0.0, -1, -1, -1]</td>\n",
       "      <td>[6.33, 4.5, 3.9, 3.3, 4.3, 2.0, -1, -1, -1, -1]</td>\n",
       "      <td>[5.0, 3.33, 6.0, 3.4, 8.3, 6.0, 6.0, -1, -1, -1]</td>\n",
       "      <td>228</td>\n",
       "      <td>230</td>\n",
       "      <td>2</td>\n",
       "    </tr>\n",
       "    <tr>\n",
       "      <th>3</th>\n",
       "      <td>IND</td>\n",
       "      <td>ZIM</td>\n",
       "      <td>Away</td>\n",
       "      <td>3539</td>\n",
       "      <td>2</td>\n",
       "      <td>[0.0, 11.0, 2.0, 0.0, 0.0, 6.0, 1.0, 1.0, 2.0,...</td>\n",
       "      <td>[7.0, 3.0, 0.0, 0.0, 0.0, 0.0, 4.0, 5.0, 0.0, ...</td>\n",
       "      <td>[0.0, 2.0, 0.0, 0.0, 0.0, 0.0, 0.0, 0.0, 2.0, ...</td>\n",
       "      <td>[2.0, 0.0, 1.0, 0.0, 0.0, 0.0, 1.0, 0.0, 0.0, ...</td>\n",
       "      <td>[14.29, 91.34, 77.78, 20.0, 36.36, 93.24, 68.1...</td>\n",
       "      <td>[84.62, 57.14, 72.34, 0.0, 45.45, 15.38, 79.31...</td>\n",
       "      <td>[0.0, 0.0, 0.0, 0.0, 0.0, 0.0, 0.0, -1, -1, -1]</td>\n",
       "      <td>[2.0, 0.0, 3.0, 1.0, 1.0, 0.0, -1, -1, -1, -1]</td>\n",
       "      <td>[1.0, 2.0, 1.0, 0.0, 1.0, 0.0, 1.0, -1, -1, -1]</td>\n",
       "      <td>[0.0, 1.0, 4.0, 1.0, 2.0, 0.0, -1, -1, -1, -1]</td>\n",
       "      <td>[7.0, 3.38, 5.11, 5.0, 6.7, 3.75, 11.33, -1, -...</td>\n",
       "      <td>[5.44, 5.2, 4.1, 3.0, 4.6, 5.0, -1, -1, -1, -1]</td>\n",
       "      <td>294</td>\n",
       "      <td>236</td>\n",
       "      <td>1</td>\n",
       "    </tr>\n",
       "    <tr>\n",
       "      <th>4</th>\n",
       "      <td>IND</td>\n",
       "      <td>ZIM</td>\n",
       "      <td>Away</td>\n",
       "      <td>3541</td>\n",
       "      <td>2</td>\n",
       "      <td>[0.0, 0.0, 5.0, 3.0, 2.0, 0.0, 0.0, 1.0, 2.0, ...</td>\n",
       "      <td>[2.0, 5.0, 5.0, 2.0, 3.0, -1, -1, -1, -1, -1]</td>\n",
       "      <td>[0.0, 0.0, 0.0, 0.0, 1.0, 0.0, 0.0, 0.0, 1.0, ...</td>\n",
       "      <td>[0.0, 0.0, 1.0, 0.0, 0.0, -1, -1, -1, -1, -1]</td>\n",
       "      <td>[0.0, 33.33, 71.7, 52.27, 84.91, 0.0, 37.5, 26...</td>\n",
       "      <td>[66.67, 109.38, 77.27, 61.11, 155.56, -1, -1, ...</td>\n",
       "      <td>[0.0, 0.0, 0.0, 0.0, 2.0, 0.0, 0.0, -1, -1, -1]</td>\n",
       "      <td>[0.0, 0.0, 1.0, 0.0, 0.0, -1, -1, -1, -1, -1]</td>\n",
       "      <td>[1.0, 2.0, 1.0, 0.0, 1.0, 0.0, 4.0, -1, -1, -1]</td>\n",
       "      <td>[1.0, 1.0, 1.0, 0.0, 0.0, -1, -1, -1, -1, -1]</td>\n",
       "      <td>[4.57, 2.78, 3.43, 7.0, 3.9, 2.0, 4.7, -1, -1,...</td>\n",
       "      <td>[6.63, 5.14, 4.53, 4.1, 7.0, -1, -1, -1, -1, -1]</td>\n",
       "      <td>183</td>\n",
       "      <td>187</td>\n",
       "      <td>2</td>\n",
       "    </tr>\n",
       "  </tbody>\n",
       "</table>\n",
       "</div>"
      ],
      "text/plain": [
       "  Team_1 Team_2 Venue  MatchCode Toss  \\\n",
       "0    IND    ZIM  Away       3111    1   \n",
       "1    IND    ZIM  Away       3116    2   \n",
       "2    IND    ZIM  Away       3537    2   \n",
       "3    IND    ZIM  Away       3539    2   \n",
       "4    IND    ZIM  Away       3541    2   \n",
       "\n",
       "                                         Fours_team1  \\\n",
       "0    [2.0, 1.0, 0.0, 6.0, 2.0, 5.0, 1.0, -1, -1, -1]   \n",
       "1  [4.0, 0.0, 1.0, 0.0, 0.0, 3.0, 0.0, 0.0, 1.0, ...   \n",
       "2  [3.0, 6.0, 2.0, 2.0, 1.0, 0.0, 6.0, 0.0, 0.0, -1]   \n",
       "3  [0.0, 11.0, 2.0, 0.0, 0.0, 6.0, 1.0, 1.0, 2.0,...   \n",
       "4  [0.0, 0.0, 5.0, 3.0, 2.0, 0.0, 0.0, 1.0, 2.0, ...   \n",
       "\n",
       "                                         Fours_team2  \\\n",
       "0     [5.0, 4.0, 0.0, 5.0, 0.0, 4.0, -1, -1, -1, -1]   \n",
       "1      [4.0, 6.0, 2.0, 1.0, 1.0, -1, -1, -1, -1, -1]   \n",
       "2    [2.0, 3.0, 13.0, 4.0, 0.0, 1.0, -1, -1, -1, -1]   \n",
       "3  [7.0, 3.0, 0.0, 0.0, 0.0, 0.0, 4.0, 5.0, 0.0, ...   \n",
       "4      [2.0, 5.0, 5.0, 2.0, 3.0, -1, -1, -1, -1, -1]   \n",
       "\n",
       "                                         Sixes_team1  \\\n",
       "0    [0.0, 0.0, 0.0, 4.0, 0.0, 0.0, 1.0, -1, -1, -1]   \n",
       "1  [0.0, 0.0, 0.0, 0.0, 0.0, 2.0, 1.0, 0.0, 0.0, ...   \n",
       "2  [0.0, 2.0, 0.0, 0.0, 0.0, 0.0, 1.0, 1.0, 0.0, -1]   \n",
       "3  [0.0, 2.0, 0.0, 0.0, 0.0, 0.0, 0.0, 0.0, 2.0, ...   \n",
       "4  [0.0, 0.0, 0.0, 0.0, 1.0, 0.0, 0.0, 0.0, 1.0, ...   \n",
       "\n",
       "                                         Sixes_team2  \\\n",
       "0     [1.0, 2.0, 0.0, 0.0, 3.0, 0.0, -1, -1, -1, -1]   \n",
       "1      [2.0, 1.0, 0.0, 0.0, 0.0, -1, -1, -1, -1, -1]   \n",
       "2     [0.0, 0.0, 1.0, 0.0, 0.0, 0.0, -1, -1, -1, -1]   \n",
       "3  [2.0, 0.0, 1.0, 0.0, 0.0, 0.0, 1.0, 0.0, 0.0, ...   \n",
       "4      [0.0, 0.0, 1.0, 0.0, 0.0, -1, -1, -1, -1, -1]   \n",
       "\n",
       "                                   Strike_rate_team1  \\\n",
       "0  [56.41, 45.83, 0.0, 95.8, 69.81, 100.0, 220.0,...   \n",
       "1  [70.21, 37.5, 62.07, 52.0, 60.0, 70.83, 60.0, ...   \n",
       "2  [47.22, 73.21, 51.72, 91.67, 80.0, 28.57, 126....   \n",
       "3  [14.29, 91.34, 77.78, 20.0, 36.36, 93.24, 68.1...   \n",
       "4  [0.0, 33.33, 71.7, 52.27, 84.91, 0.0, 37.5, 26...   \n",
       "\n",
       "                                   Strike_rate_team2  \\\n",
       "0  [106.98, 78.64, 62.79, 111.67, 128.0, 150.0, -...   \n",
       "1  [76.74, 82.22, 86.96, 106.67, 76.47, -1, -1, -...   \n",
       "2  [50.0, 80.95, 106.48, 75.0, 0.0, 53.33, -1, -1...   \n",
       "3  [84.62, 57.14, 72.34, 0.0, 45.45, 15.38, 79.31...   \n",
       "4  [66.67, 109.38, 77.27, 61.11, 155.56, -1, -1, ...   \n",
       "\n",
       "                                     Maidens_team1  \\\n",
       "0  [1.0, 0.0, 0.0, 0.0, 0.0, 0.0, 0.0, -1, -1, -1]   \n",
       "1    [1.0, 0.0, 0.0, 0.0, 0.0, -1, -1, -1, -1, -1]   \n",
       "2   [1.0, 1.0, 1.0, 3.0, 1.0, 0.0, -1, -1, -1, -1]   \n",
       "3  [0.0, 0.0, 0.0, 0.0, 0.0, 0.0, 0.0, -1, -1, -1]   \n",
       "4  [0.0, 0.0, 0.0, 0.0, 2.0, 0.0, 0.0, -1, -1, -1]   \n",
       "\n",
       "                                     Maidens_team2  \\\n",
       "0  [0.0, 0.0, 0.0, 0.0, 0.0, 0.0, 0.0, -1, -1, -1]   \n",
       "1    [0.0, 0.0, 0.0, 0.0, 0.0, -1, -1, -1, -1, -1]   \n",
       "2  [0.0, 0.0, 0.0, 0.0, 0.0, 0.0, 0.0, -1, -1, -1]   \n",
       "3   [2.0, 0.0, 3.0, 1.0, 1.0, 0.0, -1, -1, -1, -1]   \n",
       "4    [0.0, 0.0, 1.0, 0.0, 0.0, -1, -1, -1, -1, -1]   \n",
       "\n",
       "                                     Wickets_team1  \\\n",
       "0  [2.0, 0.0, 0.0, 1.0, 0.0, 0.0, 0.0, -1, -1, -1]   \n",
       "1    [1.0, 1.0, 3.0, 1.0, 1.0, -1, -1, -1, -1, -1]   \n",
       "2   [1.0, 1.0, 1.0, 0.0, 3.0, 1.0, -1, -1, -1, -1]   \n",
       "3  [1.0, 2.0, 1.0, 0.0, 1.0, 0.0, 1.0, -1, -1, -1]   \n",
       "4  [1.0, 2.0, 1.0, 0.0, 1.0, 0.0, 4.0, -1, -1, -1]   \n",
       "\n",
       "                                     Wickets_team2  \\\n",
       "0  [0.0, 2.0, 0.0, 1.0, 1.0, 0.0, 0.0, -1, -1, -1]   \n",
       "1    [0.0, 1.0, 0.0, 0.0, 2.0, -1, -1, -1, -1, -1]   \n",
       "2  [1.0, 0.0, 1.0, 2.0, 0.0, 0.0, 0.0, -1, -1, -1]   \n",
       "3   [0.0, 1.0, 4.0, 1.0, 2.0, 0.0, -1, -1, -1, -1]   \n",
       "4    [1.0, 1.0, 1.0, 0.0, 0.0, -1, -1, -1, -1, -1]   \n",
       "\n",
       "                                  Economy_rate_team1  \\\n",
       "0  [6.3, 18.0, 5.3, 4.6, 4.0, 5.71, 5.0, -1, -1, -1]   \n",
       "1      [2.2, 3.7, 4.5, 4.1, 4.2, -1, -1, -1, -1, -1]   \n",
       "2    [6.33, 4.5, 3.9, 3.3, 4.3, 2.0, -1, -1, -1, -1]   \n",
       "3  [7.0, 3.38, 5.11, 5.0, 6.7, 3.75, 11.33, -1, -...   \n",
       "4  [4.57, 2.78, 3.43, 7.0, 3.9, 2.0, 4.7, -1, -1,...   \n",
       "\n",
       "                                  Economy_rate_team2 Score_1 Score_2 Result  \n",
       "0  [6.68, 6.38, 6.0, 4.7, 5.1, 7.0, 5.0, -1, -1, -1]     285     289      2  \n",
       "1   [6.48, 3.5, 5.0, 6.22, 3.86, -1, -1, -1, -1, -1]     194     197      2  \n",
       "2   [5.0, 3.33, 6.0, 3.4, 8.3, 6.0, 6.0, -1, -1, -1]     228     230      2  \n",
       "3    [5.44, 5.2, 4.1, 3.0, 4.6, 5.0, -1, -1, -1, -1]     294     236      1  \n",
       "4   [6.63, 5.14, 4.53, 4.1, 7.0, -1, -1, -1, -1, -1]     183     187      2  "
      ]
     },
     "execution_count": 16,
     "metadata": {},
     "output_type": "execute_result"
    }
   ],
   "source": [
    "Dataset.head()"
   ]
  },
  {
   "cell_type": "code",
   "execution_count": null,
   "metadata": {},
   "outputs": [],
   "source": []
  },
  {
   "cell_type": "markdown",
   "metadata": {},
   "source": [
    "### Data for model"
   ]
  },
  {
   "cell_type": "code",
   "execution_count": 17,
   "metadata": {},
   "outputs": [],
   "source": [
    "def get_model_data(Dataset):\n",
    "    venue_encoding = {\n",
    "    \n",
    "    \"Home\" : 0,\n",
    "    \"Away\" : 1,\n",
    "    \"Neutral\" : 2\n",
    "    }\n",
    "    Dataset.replace({'Venue':venue_encoding}, inplace=True)\n",
    "    enc = OneHotEncoder(handle_unknown='ignore')\n",
    "    enc_df = pd.DataFrame(enc.fit_transform(Dataset[['Result','Toss']]).toarray())\n",
    "    Dataset = Dataset.join(enc_df)\n",
    "    Dataset.rename(columns = {0: 'Win1',1: 'Win2',2: 'Toss1',3: 'Toss2'}, inplace = True)\n",
    "    y = Dataset[['Result','Win1','Win2','Score_1','Score_2']]\n",
    "    Dataset.drop(['Result','Score_1','Score_2'],inplace=True, axis=1)\n",
    "    Dataset.drop(['Team_1','Team_2'],inplace=True, axis=1)\n",
    "    temp=Dataset['Venue']\n",
    "    Dataset.drop(['Win1','Win2'],inplace=True, axis=1)\n",
    "    Dataset.drop(['Venue'],inplace=True, axis=1)\n",
    "    Dataset['Venue']=''\n",
    "    Dataset['Venue']=temp\n",
    "    Dataset.drop(['Toss'],inplace=True, axis=1)\n",
    "    Dataset['new']=''\n",
    "    for i in range(len(Dataset)):\n",
    "        l=[]\n",
    "        for j in range(1,len(Dataset.columns)-4):\n",
    "            if(type(Dataset.iloc[i][j])!=list):\n",
    "                l.append(Dataset.iloc[i][j])\n",
    "            else:\n",
    "                for k in range(len(Dataset.iloc[i][j])):\n",
    "                    l.append(Dataset.iloc[i][j][k])\n",
    "        Dataset['new'].iloc[i]=l \n",
    "    \n",
    "    \n",
    "    X=Dataset[['MatchCode','new','Toss1','Toss2','Venue']]\n",
    "    return X,y"
   ]
  },
  {
   "cell_type": "code",
   "execution_count": 18,
   "metadata": {},
   "outputs": [
    {
     "name": "stderr",
     "output_type": "stream",
     "text": [
      "/opt/anaconda3/lib/python3.8/site-packages/pandas/core/indexing.py:670: SettingWithCopyWarning: \n",
      "A value is trying to be set on a copy of a slice from a DataFrame\n",
      "\n",
      "See the caveats in the documentation: https://pandas.pydata.org/pandas-docs/stable/user_guide/indexing.html#returning-a-view-versus-a-copy\n",
      "  iloc._setitem_with_indexer(indexer, value)\n"
     ]
    }
   ],
   "source": [
    "X,y=get_model_data(Dataset)"
   ]
  },
  {
   "cell_type": "code",
   "execution_count": null,
   "metadata": {},
   "outputs": [],
   "source": []
  },
  {
   "cell_type": "code",
   "execution_count": 19,
   "metadata": {},
   "outputs": [],
   "source": [
    "# Test Train Split\n",
    "X_train, X_test, y_train, y_test = train_test_split(X, y, test_size = 1/5, random_state = 100)"
   ]
  },
  {
   "cell_type": "markdown",
   "metadata": {},
   "source": [
    "### Predict_data"
   ]
  },
  {
   "cell_type": "code",
   "execution_count": 20,
   "metadata": {},
   "outputs": [],
   "source": [
    "def allBatsmen(batting):\n",
    "    batting_keys=batting.keys()\n",
    "    performance={}\n",
    "    for k in batting_keys:\n",
    "        for j in batting[k]:\n",
    "            performance.setdefault(k,[]).append([j[0],j[1][1],j[1][2],j[1][3],j[1][4],j[1][5]])\n",
    "\n",
    "    performance_keys = performance.keys()\n",
    "    \n",
    "    for per in performance_keys:\n",
    "        l = performance[per]\n",
    "        l1=sorted(l,reverse=True)\n",
    "        performance[per]=l1\n",
    "        \n",
    "    return performance"
   ]
  },
  {
   "cell_type": "code",
   "execution_count": 21,
   "metadata": {},
   "outputs": [],
   "source": [
    "def allBowlers(bowling):\n",
    "    bowling_keys=bowling.keys()\n",
    "    performance={}\n",
    "    for k in bowling_keys:\n",
    "        for j in bowling[k]:\n",
    "            performance.setdefault(k,[]).append([j[0],j[1][0],j[1][1],j[1][2],j[1][3],j[1][4]])\n",
    "\n",
    "    performance_keys = performance.keys()\n",
    "    \n",
    "    for per in performance_keys:\n",
    "        l = performance[per]\n",
    "        l1=sorted(l,reverse=True)\n",
    "        performance[per]=l1\n",
    "        \n",
    "    return performance"
   ]
  },
  {
   "cell_type": "code",
   "execution_count": 22,
   "metadata": {},
   "outputs": [],
   "source": [
    "def getLatestPerf_Bat(perform,team_players, date, num_years=5):\n",
    "    latest_performance={}\n",
    "    perform_keys = perform.keys()\n",
    "    for k in team_players:\n",
    "        for i in perform[k]:\n",
    "            d = datetime.datetime.strptime(date, '%Y-%m-%d')\n",
    "            d1 = datetime.datetime.strptime(i[0], '%Y-%m-%d')\n",
    "            min_date = datetime.datetime.strptime(str(d.year-num_years)+'-01'+'-01', '%Y-%m-%d')\n",
    "            if(d1>=min_date and i[0]<date):\n",
    "                latest_performance.setdefault(k,[]).append(i)\n",
    "    return latest_performance"
   ]
  },
  {
   "cell_type": "code",
   "execution_count": 23,
   "metadata": {},
   "outputs": [],
   "source": [
    "def getAvgBat(team,index):\n",
    "    final_score=[]\n",
    "    for k in team.keys():\n",
    "        para=[]\n",
    "        for j in team[k]:\n",
    "            para.append(j[index])\n",
    "        \n",
    "        para1=pd.Series(para)\n",
    "        f1=para1.ewm(com=0.5,ignore_na=True,min_periods=1).mean()\n",
    "       \n",
    "        f1=np.nanmean(f1)\n",
    "        final_score.append(round(f1,3))\n",
    "            \n",
    "    return final_score"
   ]
  },
  {
   "cell_type": "code",
   "execution_count": 24,
   "metadata": {},
   "outputs": [],
   "source": [
    "def getLatestPerf_Bowl(perform,team_players, date, num_years=5):\n",
    "    latest_performance={}\n",
    "    perform_keys = perform.keys()\n",
    "    for k in team_players:\n",
    "        for i in perform[k]:\n",
    "            d = datetime.datetime.strptime(date, '%Y-%m-%d')\n",
    "            d1 = datetime.datetime.strptime(i[0], '%Y-%m-%d')\n",
    "            min_date = datetime.datetime.strptime(str(d.year-num_years)+'-01'+'-01', '%Y-%m-%d')\n",
    "            if(d1>=min_date and i[0]<date):\n",
    "                latest_performance.setdefault(k,[]).append(i)\n",
    "    return latest_performance"
   ]
  },
  {
   "cell_type": "code",
   "execution_count": 25,
   "metadata": {},
   "outputs": [],
   "source": [
    "def getAvgBowl(team,index):\n",
    "    final_score=[]\n",
    "    for k in team.keys():\n",
    "        para=[]\n",
    "        for j in team[k]:\n",
    "            para.append(j[index])\n",
    "            \n",
    "        para1=[x if x!=-1 else np.nan for x in para]\n",
    "        para1=pd.Series(para1)\n",
    "        f1=para1.ewm(com=0.5).mean()\n",
    "        f1=np.nanmean(f1)\n",
    "        final_score.append(round(f1,3))\n",
    "    \n",
    "    return final_score"
   ]
  },
  {
   "cell_type": "code",
   "execution_count": 26,
   "metadata": {},
   "outputs": [],
   "source": [
    "def adjust_length(l):\n",
    "    if (len(l)<10):\n",
    "        l.extend([-1] * (10 - len(l)))\n",
    "    return l"
   ]
  },
  {
   "cell_type": "code",
   "execution_count": 27,
   "metadata": {},
   "outputs": [],
   "source": [
    "match_codes=X_test['MatchCode'].tolist()"
   ]
  },
  {
   "cell_type": "code",
   "execution_count": 28,
   "metadata": {},
   "outputs": [
    {
     "name": "stdout",
     "output_type": "stream",
     "text": [
      "2099\n"
     ]
    }
   ],
   "source": [
    "bat={}\n",
    "bat=allBatsmen(batsmen_data)\n",
    "print(len(bat))"
   ]
  },
  {
   "cell_type": "code",
   "execution_count": 29,
   "metadata": {},
   "outputs": [
    {
     "name": "stdout",
     "output_type": "stream",
     "text": [
      "1616\n"
     ]
    }
   ],
   "source": [
    "bowl={}\n",
    "bowl=allBowlers(bowlers_data)\n",
    "print(len(bowl))"
   ]
  },
  {
   "cell_type": "code",
   "execution_count": 30,
   "metadata": {},
   "outputs": [
    {
     "name": "stderr",
     "output_type": "stream",
     "text": [
      "/opt/anaconda3/lib/python3.8/site-packages/pandas/core/indexing.py:670: SettingWithCopyWarning: \n",
      "A value is trying to be set on a copy of a slice from a DataFrame\n",
      "\n",
      "See the caveats in the documentation: https://pandas.pydata.org/pandas-docs/stable/user_guide/indexing.html#returning-a-view-versus-a-copy\n",
      "  iloc._setitem_with_indexer(indexer, value)\n",
      "<ipython-input-30-2b40cc4e9323>:20: SettingWithCopyWarning: \n",
      "A value is trying to be set on a copy of a slice from a DataFrame\n",
      "\n",
      "See the caveats in the documentation: https://pandas.pydata.org/pandas-docs/stable/user_guide/indexing.html#returning-a-view-versus-a-copy\n",
      "  X_test['new'].iloc[i]=row\n",
      "/opt/anaconda3/lib/python3.8/site-packages/pandas/core/indexing.py:670: SettingWithCopyWarning: \n",
      "A value is trying to be set on a copy of a slice from a DataFrame\n",
      "\n",
      "See the caveats in the documentation: https://pandas.pydata.org/pandas-docs/stable/user_guide/indexing.html#returning-a-view-versus-a-copy\n",
      "  iloc._setitem_with_indexer(indexer, value)\n",
      "<ipython-input-30-2b40cc4e9323>:20: SettingWithCopyWarning: \n",
      "A value is trying to be set on a copy of a slice from a DataFrame\n",
      "\n",
      "See the caveats in the documentation: https://pandas.pydata.org/pandas-docs/stable/user_guide/indexing.html#returning-a-view-versus-a-copy\n",
      "  X_test['new'].iloc[i]=row\n"
     ]
    }
   ],
   "source": [
    "for i in range(len(match_codes)):\n",
    "    match_code=match_codes[i]\n",
    "    scorecard=scorecard_data[str(match_code)]\n",
    "    team_1_batsmen = [scorecard['BATTING1'][i][0] for i in range(10)]\n",
    "    team_2_batsmen = [scorecard['BATTING2'][i][0] for i in range(10)]\n",
    "    team_1_bowlers = [scorecard['BOWLING1'][i][0] for i in range(len(scorecard['BOWLING1']))]\n",
    "    team_2_bowlers = [scorecard['BOWLING2'][i][0] for i in range(len(scorecard['BOWLING2']))]\n",
    "    date=matches[matches['MatchCode']==match_code]['Date'].iloc[0]\n",
    "    team1_bat=getLatestPerf_Bat(bat,team_1_batsmen, date, 5)\n",
    "    team2_bat=getLatestPerf_Bat(bat,team_2_batsmen, date, 5)\n",
    "    team1_bowl=getLatestPerf_Bowl(bowl,team_1_bowlers, date, 5)\n",
    "    team2_bowl=getLatestPerf_Bowl(bowl,team_2_bowlers, date, 5)\n",
    "    \n",
    "    row = adjust_length(getAvgBat(team1_bat,3)) + adjust_length(getAvgBat(team2_bat,3))+adjust_length(getAvgBat(team1_bat,4))+\\\n",
    "    adjust_length(getAvgBat(team2_bat,4))+adjust_length(getAvgBat(team1_bat,5))+adjust_length(getAvgBat(team2_bat,5))+\\\n",
    "    adjust_length(getAvgBowl(team1_bowl,1))+adjust_length(getAvgBowl(team2_bowl,1))+adjust_length(getAvgBowl(team1_bowl,3))+\\\n",
    "    adjust_length(getAvgBowl(team2_bowl,3))+adjust_length(getAvgBowl(team1_bowl,4))+\\\n",
    "    adjust_length(getAvgBowl(team2_bowl,4))\n",
    "    \n",
    "    X_test['new'].iloc[i]=row\n",
    "    #print(len(X_test['new'].iloc[i]))"
   ]
  },
  {
   "cell_type": "code",
   "execution_count": 31,
   "metadata": {},
   "outputs": [
    {
     "name": "stderr",
     "output_type": "stream",
     "text": [
      "<ipython-input-31-69a0f875f029>:2: SettingWithCopyWarning: \n",
      "A value is trying to be set on a copy of a slice from a DataFrame.\n",
      "Try using .loc[row_indexer,col_indexer] = value instead\n",
      "\n",
      "See the caveats in the documentation: https://pandas.pydata.org/pandas-docs/stable/user_guide/indexing.html#returning-a-view-versus-a-copy\n",
      "  X_train['all']=''\n",
      "<ipython-input-31-69a0f875f029>:8: SettingWithCopyWarning: \n",
      "A value is trying to be set on a copy of a slice from a DataFrame\n",
      "\n",
      "See the caveats in the documentation: https://pandas.pydata.org/pandas-docs/stable/user_guide/indexing.html#returning-a-view-versus-a-copy\n",
      "  X_train['all'].iloc[i]=l\n"
     ]
    }
   ],
   "source": [
    "l=[]\n",
    "X_train['all']=''\n",
    "for i in range(len(X_train)):\n",
    "    l= [x for x in X_train['new'].iloc[i]]\n",
    "    l.append(X_train['Toss1'].iloc[i])\n",
    "    l.append(X_train['Toss2'].iloc[i])\n",
    "    l.append(X_train['Venue'].iloc[i])\n",
    "    X_train['all'].iloc[i]=l\n"
   ]
  },
  {
   "cell_type": "code",
   "execution_count": 32,
   "metadata": {},
   "outputs": [
    {
     "name": "stderr",
     "output_type": "stream",
     "text": [
      "<ipython-input-32-c9c5a48328bd>:2: SettingWithCopyWarning: \n",
      "A value is trying to be set on a copy of a slice from a DataFrame.\n",
      "Try using .loc[row_indexer,col_indexer] = value instead\n",
      "\n",
      "See the caveats in the documentation: https://pandas.pydata.org/pandas-docs/stable/user_guide/indexing.html#returning-a-view-versus-a-copy\n",
      "  X_test['all']=''\n",
      "<ipython-input-32-c9c5a48328bd>:8: SettingWithCopyWarning: \n",
      "A value is trying to be set on a copy of a slice from a DataFrame\n",
      "\n",
      "See the caveats in the documentation: https://pandas.pydata.org/pandas-docs/stable/user_guide/indexing.html#returning-a-view-versus-a-copy\n",
      "  X_test['all'].iloc[i]=l\n"
     ]
    }
   ],
   "source": [
    "l=[]\n",
    "X_test['all']=''\n",
    "for i in range(len(X_test)):\n",
    "    l= [x for x in X_test['new'].iloc[i]]\n",
    "    l.append(X_test['Toss1'].iloc[i])\n",
    "    l.append(X_test['Toss2'].iloc[i])\n",
    "    l.append(X_test['Venue'].iloc[i])\n",
    "    X_test['all'].iloc[i]=l"
   ]
  },
  {
   "cell_type": "markdown",
   "metadata": {},
   "source": [
    "### Model "
   ]
  },
  {
   "cell_type": "code",
   "execution_count": 53,
   "metadata": {},
   "outputs": [],
   "source": [
    "x_train=np.array(X_train['all'])\n",
    "x_train=list(x_train)"
   ]
  },
  {
   "cell_type": "code",
   "execution_count": 54,
   "metadata": {},
   "outputs": [],
   "source": [
    "x_test=np.array(X_test['all'])\n",
    "x_test=list(x_test)"
   ]
  },
  {
   "cell_type": "code",
   "execution_count": null,
   "metadata": {},
   "outputs": [],
   "source": []
  },
  {
   "cell_type": "code",
   "execution_count": 35,
   "metadata": {},
   "outputs": [],
   "source": [
    "def model_eval(model, x_train, y_train, target, x_test,y_test):\n",
    "    model.fit(x_train, y_train[target])\n",
    "    predictions = model.predict(x_test)\n",
    "    \n",
    "    rms = sklearn.metrics.mean_squared_error(predictions,y_test[target])**0.5\n",
    "    print('RMS : %s' % '{0:.2%}'.format(rms))\n",
    "    \n",
    "    r2 = sklearn.metrics.r2_score(predictions,y_test[target])\n",
    "    print('R2 : %s' % '{0:.2%}'.format(r2))\n",
    "    return np.asarray(predictions)"
   ]
  },
  {
   "cell_type": "code",
   "execution_count": null,
   "metadata": {},
   "outputs": [],
   "source": []
  },
  {
   "cell_type": "code",
   "execution_count": 42,
   "metadata": {},
   "outputs": [],
   "source": [
    "def winner_pred(model, X_train, Y_train, x_test, y_test):\n",
    "    pred1 = model_eval(model, X_train, y_train,['Score_1'],x_test, y_test)\n",
    "    pred2 = model_eval(model, X_train, y_train,['Score_2'],x_test, y_test)\n",
    "\n",
    "    pred = pred1 - pred2\n",
    "\n",
    "    for i in range(len(pred)):\n",
    "        if ((pred[i])>0):\n",
    "            pred[i] = 1\n",
    "        else:\n",
    "            pred[i] = 2\n",
    "\n",
    "    #print(pred)\n",
    "    sum=0\n",
    "    print(\"Model Accuracy is: \")\n",
    "    for i in range(len(pred)):\n",
    "        if(pred[i]==y_test['Result'].iloc[i]):\n",
    "            sum=sum+1\n",
    "    print(sum/len(pred))\n",
    "    "
   ]
  },
  {
   "cell_type": "code",
   "execution_count": 59,
   "metadata": {},
   "outputs": [
    {
     "name": "stdout",
     "output_type": "stream",
     "text": [
      "RMS : 6303.17%\n",
      "R2 : -2079.97%\n",
      "RMS : 5867.28%\n",
      "R2 : -3022.45%\n",
      "Model Accuracy is: \n",
      "0.5\n"
     ]
    }
   ],
   "source": [
    "model = DecisionTreeRegressor()\n",
    "winner_pred(model, x_train, y_train,x_test,y_test)"
   ]
  },
  {
   "cell_type": "code",
   "execution_count": 55,
   "metadata": {},
   "outputs": [
    {
     "name": "stdout",
     "output_type": "stream",
     "text": [
      "RMS : 6421.37%\n",
      "R2 : -986.36%\n",
      "RMS : 5573.20%\n",
      "R2 : -1211.15%\n",
      "Model Accuracy is: \n",
      "0.5\n"
     ]
    }
   ],
   "source": [
    "model = LinearRegression()\n",
    "winner_pred(model, x_train, y_train,x_test,y_test)"
   ]
  },
  {
   "cell_type": "code",
   "execution_count": 58,
   "metadata": {},
   "outputs": [
    {
     "name": "stdout",
     "output_type": "stream",
     "text": [
      "RMS : 4592.79%\n",
      "R2 : -260316.05%\n",
      "RMS : 4254.56%\n",
      "R2 : -25386.79%\n",
      "Model Accuracy is: \n",
      "0.5\n"
     ]
    },
    {
     "name": "stderr",
     "output_type": "stream",
     "text": [
      "<ipython-input-35-c2137f2e14d1>:2: DataConversionWarning: A column-vector y was passed when a 1d array was expected. Please change the shape of y to (n_samples,), for example using ravel().\n",
      "  model.fit(x_train, y_train[target])\n",
      "<ipython-input-35-c2137f2e14d1>:2: DataConversionWarning: A column-vector y was passed when a 1d array was expected. Please change the shape of y to (n_samples,), for example using ravel().\n",
      "  model.fit(x_train, y_train[target])\n"
     ]
    }
   ],
   "source": [
    "model = RandomForestRegressor()\n",
    "winner_pred(model, x_train, y_train,x_test,y_test)"
   ]
  },
  {
   "cell_type": "code",
   "execution_count": null,
   "metadata": {},
   "outputs": [],
   "source": []
  },
  {
   "cell_type": "code",
   "execution_count": 60,
   "metadata": {},
   "outputs": [],
   "source": [
    "x_train=np.array(X_train['new'])\n",
    "x_train=list(x_train)"
   ]
  },
  {
   "cell_type": "code",
   "execution_count": 61,
   "metadata": {},
   "outputs": [],
   "source": [
    "x_test=np.array(X_test['new'])\n",
    "x_test=list(x_test)"
   ]
  },
  {
   "cell_type": "code",
   "execution_count": null,
   "metadata": {},
   "outputs": [],
   "source": []
  },
  {
   "cell_type": "code",
   "execution_count": null,
   "metadata": {},
   "outputs": [],
   "source": []
  },
  {
   "cell_type": "code",
   "execution_count": 69,
   "metadata": {},
   "outputs": [
    {
     "name": "stdout",
     "output_type": "stream",
     "text": [
      "RMS : 1614.00%\n",
      "R2 : 0.00%\n",
      "RMS : 5028.92%\n",
      "R2 : 0.00%\n",
      "Model Accuracy is: \n",
      "1.0\n"
     ]
    }
   ],
   "source": [
    "model = DecisionTreeRegressor()\n",
    "winner_pred(model, x_train, y_train,x_test,y_test)"
   ]
  },
  {
   "cell_type": "code",
   "execution_count": 73,
   "metadata": {},
   "outputs": [
    {
     "name": "stdout",
     "output_type": "stream",
     "text": [
      "RMS : 6421.41%\n",
      "R2 : -986.39%\n",
      "RMS : 5573.21%\n",
      "R2 : -1211.17%\n",
      "Model Accuracy is: \n",
      "0.5\n"
     ]
    }
   ],
   "source": [
    "model = LinearRegression()\n",
    "winner_pred(model, x_train, y_train,x_test,y_test)"
   ]
  }
 ],
 "metadata": {
  "kernelspec": {
   "display_name": "Python 3",
   "language": "python",
   "name": "python3"
  },
  "language_info": {
   "codemirror_mode": {
    "name": "ipython",
    "version": 3
   },
   "file_extension": ".py",
   "mimetype": "text/x-python",
   "name": "python",
   "nbconvert_exporter": "python",
   "pygments_lexer": "ipython3",
   "version": "3.8.3"
  }
 },
 "nbformat": 4,
 "nbformat_minor": 2
}
