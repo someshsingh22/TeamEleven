{
  "nbformat": 4,
  "nbformat_minor": 0,
  "metadata": {
    "colab": {
      "name": "BaselinesFlippedFinal.ipynb",
      "provenance": [],
      "toc_visible": true,
      "authorship_tag": "ABX9TyOVduWSHk3nLct5UWadyidQ",
      "include_colab_link": true
    },
    "kernelspec": {
      "name": "python3",
      "display_name": "Python 3"
    }
  },
  "cells": [
    {
      "cell_type": "markdown",
      "metadata": {
        "id": "view-in-github",
        "colab_type": "text"
      },
      "source": [
        "<a href=\"https://colab.research.google.com/github/someshsingh22/TeamEleven/blob/main/BaselinesFlippedFinal.ipynb\" target=\"_parent\"><img src=\"https://colab.research.google.com/assets/colab-badge.svg\" alt=\"Open In Colab\"/></a>"
      ]
    },
    {
      "cell_type": "code",
      "metadata": {
        "id": "neVzLujPgDwK"
      },
      "source": [
        "import json\n",
        "import numpy as np\n",
        "import pandas as pd\n",
        "import sklearn\n",
        "from sklearn.preprocessing import LabelEncoder,OneHotEncoder\n",
        "from sklearn.model_selection import train_test_split\n",
        "from sklearn.linear_model import LinearRegression\n",
        "from sklearn.preprocessing import PolynomialFeatures\n",
        "from sklearn.model_selection import cross_val_score\n",
        "from sklearn.tree import DecisionTreeRegressor\n",
        "from sklearn.linear_model import LassoCV\n",
        "from sklearn.ensemble import RandomForestRegressor\n",
        "from sklearn.metrics import accuracy_score\n",
        "import datetime\n",
        "import matplotlib.pyplot as plt\n",
        "import seaborn as sns"
      ],
      "execution_count": 3,
      "outputs": []
    },
    {
      "cell_type": "code",
      "metadata": {
        "id": "CKjG5ARZgOV-",
        "outputId": "7386d0cc-f73d-4eb8-e752-dd039b509e38",
        "colab": {
          "base_uri": "https://localhost:8080/"
        }
      },
      "source": [
        "!pip install --upgrade tables"
      ],
      "execution_count": 4,
      "outputs": [
        {
          "output_type": "stream",
          "text": [
            "Collecting tables\n",
            "\u001b[?25l  Downloading https://files.pythonhosted.org/packages/ed/c3/8fd9e3bb21872f9d69eb93b3014c86479864cca94e625fd03713ccacec80/tables-3.6.1-cp36-cp36m-manylinux1_x86_64.whl (4.3MB)\n",
            "\u001b[K     |████████████████████████████████| 4.3MB 4.2MB/s \n",
            "\u001b[?25hRequirement already satisfied, skipping upgrade: numpy>=1.9.3 in /usr/local/lib/python3.6/dist-packages (from tables) (1.18.5)\n",
            "Requirement already satisfied, skipping upgrade: numexpr>=2.6.2 in /usr/local/lib/python3.6/dist-packages (from tables) (2.7.1)\n",
            "Installing collected packages: tables\n",
            "  Found existing installation: tables 3.4.4\n",
            "    Uninstalling tables-3.4.4:\n",
            "      Successfully uninstalled tables-3.4.4\n",
            "Successfully installed tables-3.6.1\n"
          ],
          "name": "stdout"
        }
      ]
    },
    {
      "cell_type": "code",
      "metadata": {
        "id": "aF_zgq6ugRWW"
      },
      "source": [
        "# Access data store\n",
        "data_store = pd.HDFStore('processed_data.h5')\n",
        "\n",
        "# Retrieve data using key\n",
        "match_df = data_store['preprocessed_df']\n",
        "data_store.close()"
      ],
      "execution_count": 90,
      "outputs": []
    },
    {
      "cell_type": "code",
      "metadata": {
        "id": "eatFBfqpiSbw",
        "outputId": "38fdb951-c04e-4fba-af2c-aecb2383dd6d",
        "colab": {
          "base_uri": "https://localhost:8080/",
          "height": 202
        }
      },
      "source": [
        "match_df.head()"
      ],
      "execution_count": 91,
      "outputs": [
        {
          "output_type": "execute_result",
          "data": {
            "text/html": [
              "<div>\n",
              "<style scoped>\n",
              "    .dataframe tbody tr th:only-of-type {\n",
              "        vertical-align: middle;\n",
              "    }\n",
              "\n",
              "    .dataframe tbody tr th {\n",
              "        vertical-align: top;\n",
              "    }\n",
              "\n",
              "    .dataframe thead th {\n",
              "        text-align: right;\n",
              "    }\n",
              "</style>\n",
              "<table border=\"1\" class=\"dataframe\">\n",
              "  <thead>\n",
              "    <tr style=\"text-align: right;\">\n",
              "      <th></th>\n",
              "      <th>Date</th>\n",
              "      <th>Team_1</th>\n",
              "      <th>Team_2</th>\n",
              "      <th>Venue</th>\n",
              "      <th>MatchCode</th>\n",
              "      <th>GroundCode</th>\n",
              "      <th>TOSS</th>\n",
              "      <th>Score_1</th>\n",
              "      <th>Score_2</th>\n",
              "      <th>Winner</th>\n",
              "    </tr>\n",
              "  </thead>\n",
              "  <tbody>\n",
              "    <tr>\n",
              "      <th>0</th>\n",
              "      <td>2015-03-04</td>\n",
              "      <td>AFG</td>\n",
              "      <td>AUS</td>\n",
              "      <td>1</td>\n",
              "      <td>3773</td>\n",
              "      <td>65</td>\n",
              "      <td>1</td>\n",
              "      <td>142</td>\n",
              "      <td>417</td>\n",
              "      <td>AUS</td>\n",
              "    </tr>\n",
              "    <tr>\n",
              "      <th>1</th>\n",
              "      <td>2012-08-25</td>\n",
              "      <td>AFG</td>\n",
              "      <td>AUS</td>\n",
              "      <td>2</td>\n",
              "      <td>3437</td>\n",
              "      <td>156</td>\n",
              "      <td>2</td>\n",
              "      <td>206</td>\n",
              "      <td>272</td>\n",
              "      <td>AUS</td>\n",
              "    </tr>\n",
              "    <tr>\n",
              "      <th>2</th>\n",
              "      <td>2019-06-01</td>\n",
              "      <td>AFG</td>\n",
              "      <td>AUS</td>\n",
              "      <td>2</td>\n",
              "      <td>4306</td>\n",
              "      <td>149</td>\n",
              "      <td>1</td>\n",
              "      <td>207</td>\n",
              "      <td>209</td>\n",
              "      <td>AUS</td>\n",
              "    </tr>\n",
              "    <tr>\n",
              "      <th>3</th>\n",
              "      <td>2014-03-01</td>\n",
              "      <td>AFG</td>\n",
              "      <td>BAN</td>\n",
              "      <td>1</td>\n",
              "      <td>3623</td>\n",
              "      <td>190</td>\n",
              "      <td>2</td>\n",
              "      <td>254</td>\n",
              "      <td>222</td>\n",
              "      <td>AFG</td>\n",
              "    </tr>\n",
              "    <tr>\n",
              "      <th>4</th>\n",
              "      <td>2016-09-25</td>\n",
              "      <td>AFG</td>\n",
              "      <td>BAN</td>\n",
              "      <td>1</td>\n",
              "      <td>3936</td>\n",
              "      <td>198</td>\n",
              "      <td>2</td>\n",
              "      <td>258</td>\n",
              "      <td>265</td>\n",
              "      <td>BAN</td>\n",
              "    </tr>\n",
              "  </tbody>\n",
              "</table>\n",
              "</div>"
            ],
            "text/plain": [
              "         Date Team_1 Team_2  Venue  ...  TOSS  Score_1 Score_2  Winner\n",
              "0  2015-03-04    AFG    AUS      1  ...     1      142     417     AUS\n",
              "1  2012-08-25    AFG    AUS      2  ...     2      206     272     AUS\n",
              "2  2019-06-01    AFG    AUS      2  ...     1      207     209     AUS\n",
              "3  2014-03-01    AFG    BAN      1  ...     2      254     222     AFG\n",
              "4  2016-09-25    AFG    BAN      1  ...     2      258     265     BAN\n",
              "\n",
              "[5 rows x 10 columns]"
            ]
          },
          "metadata": {
            "tags": []
          },
          "execution_count": 91
        }
      ]
    },
    {
      "cell_type": "code",
      "metadata": {
        "id": "clY8qH2EH6eO"
      },
      "source": [
        "match_df['Winner_team'] = match_df['Winner']"
      ],
      "execution_count": 92,
      "outputs": []
    },
    {
      "cell_type": "code",
      "metadata": {
        "id": "1yN5vFFAH6ec",
        "outputId": "8df27ef1-fde2-41b4-eee2-5c96a4619880",
        "colab": {
          "base_uri": "https://localhost:8080/"
        }
      },
      "source": [
        "for ind in match_df.index: \n",
        "  if(match_df['Winner'][ind]==match_df['Team_1'][ind]):\n",
        "    match_df['Winner_team'][ind] = 1\n",
        "  elif(match_df['Winner'][ind]==match_df['Team_2'][ind]):\n",
        "    match_df['Winner_team'][ind] = 2\n",
        "  else:\n",
        "    match_df['Winner_team'][ind] = 0"
      ],
      "execution_count": 93,
      "outputs": [
        {
          "output_type": "stream",
          "text": [
            "/usr/local/lib/python3.6/dist-packages/ipykernel_launcher.py:5: SettingWithCopyWarning: \n",
            "A value is trying to be set on a copy of a slice from a DataFrame\n",
            "\n",
            "See the caveats in the documentation: https://pandas.pydata.org/pandas-docs/stable/user_guide/indexing.html#returning-a-view-versus-a-copy\n",
            "  \"\"\"\n",
            "/usr/local/lib/python3.6/dist-packages/ipykernel_launcher.py:3: SettingWithCopyWarning: \n",
            "A value is trying to be set on a copy of a slice from a DataFrame\n",
            "\n",
            "See the caveats in the documentation: https://pandas.pydata.org/pandas-docs/stable/user_guide/indexing.html#returning-a-view-versus-a-copy\n",
            "  This is separate from the ipykernel package so we can avoid doing imports until\n"
          ],
          "name": "stderr"
        }
      ]
    },
    {
      "cell_type": "code",
      "metadata": {
        "id": "G8b77M1uSEw4",
        "outputId": "803e840f-ccc4-4d6e-f6b6-f9ab2789d65f",
        "colab": {
          "base_uri": "https://localhost:8080/"
        }
      },
      "source": [
        "match_df['Winner_team'].value_counts()"
      ],
      "execution_count": 94,
      "outputs": [
        {
          "output_type": "execute_result",
          "data": {
            "text/plain": [
              "1    1967\n",
              "2    1689\n",
              "Name: Winner_team, dtype: int64"
            ]
          },
          "metadata": {
            "tags": []
          },
          "execution_count": 94
        }
      ]
    },
    {
      "cell_type": "code",
      "metadata": {
        "id": "CkhzuFLwINYb",
        "outputId": "bccb1bbe-127a-479f-fd96-4cfa7fab25d7",
        "colab": {
          "base_uri": "https://localhost:8080/",
          "height": 202
        }
      },
      "source": [
        "match_df.head()"
      ],
      "execution_count": 95,
      "outputs": [
        {
          "output_type": "execute_result",
          "data": {
            "text/html": [
              "<div>\n",
              "<style scoped>\n",
              "    .dataframe tbody tr th:only-of-type {\n",
              "        vertical-align: middle;\n",
              "    }\n",
              "\n",
              "    .dataframe tbody tr th {\n",
              "        vertical-align: top;\n",
              "    }\n",
              "\n",
              "    .dataframe thead th {\n",
              "        text-align: right;\n",
              "    }\n",
              "</style>\n",
              "<table border=\"1\" class=\"dataframe\">\n",
              "  <thead>\n",
              "    <tr style=\"text-align: right;\">\n",
              "      <th></th>\n",
              "      <th>Date</th>\n",
              "      <th>Team_1</th>\n",
              "      <th>Team_2</th>\n",
              "      <th>Venue</th>\n",
              "      <th>MatchCode</th>\n",
              "      <th>GroundCode</th>\n",
              "      <th>TOSS</th>\n",
              "      <th>Score_1</th>\n",
              "      <th>Score_2</th>\n",
              "      <th>Winner</th>\n",
              "      <th>Winner_team</th>\n",
              "    </tr>\n",
              "  </thead>\n",
              "  <tbody>\n",
              "    <tr>\n",
              "      <th>0</th>\n",
              "      <td>2015-03-04</td>\n",
              "      <td>AFG</td>\n",
              "      <td>AUS</td>\n",
              "      <td>1</td>\n",
              "      <td>3773</td>\n",
              "      <td>65</td>\n",
              "      <td>1</td>\n",
              "      <td>142</td>\n",
              "      <td>417</td>\n",
              "      <td>AUS</td>\n",
              "      <td>2</td>\n",
              "    </tr>\n",
              "    <tr>\n",
              "      <th>1</th>\n",
              "      <td>2012-08-25</td>\n",
              "      <td>AFG</td>\n",
              "      <td>AUS</td>\n",
              "      <td>2</td>\n",
              "      <td>3437</td>\n",
              "      <td>156</td>\n",
              "      <td>2</td>\n",
              "      <td>206</td>\n",
              "      <td>272</td>\n",
              "      <td>AUS</td>\n",
              "      <td>2</td>\n",
              "    </tr>\n",
              "    <tr>\n",
              "      <th>2</th>\n",
              "      <td>2019-06-01</td>\n",
              "      <td>AFG</td>\n",
              "      <td>AUS</td>\n",
              "      <td>2</td>\n",
              "      <td>4306</td>\n",
              "      <td>149</td>\n",
              "      <td>1</td>\n",
              "      <td>207</td>\n",
              "      <td>209</td>\n",
              "      <td>AUS</td>\n",
              "      <td>2</td>\n",
              "    </tr>\n",
              "    <tr>\n",
              "      <th>3</th>\n",
              "      <td>2014-03-01</td>\n",
              "      <td>AFG</td>\n",
              "      <td>BAN</td>\n",
              "      <td>1</td>\n",
              "      <td>3623</td>\n",
              "      <td>190</td>\n",
              "      <td>2</td>\n",
              "      <td>254</td>\n",
              "      <td>222</td>\n",
              "      <td>AFG</td>\n",
              "      <td>1</td>\n",
              "    </tr>\n",
              "    <tr>\n",
              "      <th>4</th>\n",
              "      <td>2016-09-25</td>\n",
              "      <td>AFG</td>\n",
              "      <td>BAN</td>\n",
              "      <td>1</td>\n",
              "      <td>3936</td>\n",
              "      <td>198</td>\n",
              "      <td>2</td>\n",
              "      <td>258</td>\n",
              "      <td>265</td>\n",
              "      <td>BAN</td>\n",
              "      <td>2</td>\n",
              "    </tr>\n",
              "  </tbody>\n",
              "</table>\n",
              "</div>"
            ],
            "text/plain": [
              "         Date Team_1 Team_2  Venue  ...  Score_1  Score_2 Winner  Winner_team\n",
              "0  2015-03-04    AFG    AUS      1  ...      142      417    AUS            2\n",
              "1  2012-08-25    AFG    AUS      2  ...      206      272    AUS            2\n",
              "2  2019-06-01    AFG    AUS      2  ...      207      209    AUS            2\n",
              "3  2014-03-01    AFG    BAN      1  ...      254      222    AFG            1\n",
              "4  2016-09-25    AFG    BAN      1  ...      258      265    BAN            2\n",
              "\n",
              "[5 rows x 11 columns]"
            ]
          },
          "metadata": {
            "tags": []
          },
          "execution_count": 95
        }
      ]
    },
    {
      "cell_type": "code",
      "metadata": {
        "id": "9dqIVK46iVFr"
      },
      "source": [
        "np.random.seed(60)"
      ],
      "execution_count": 96,
      "outputs": []
    },
    {
      "cell_type": "markdown",
      "metadata": {
        "id": "VhCAAVkHtval"
      },
      "source": [
        "##Calculating Net Run Rate"
      ]
    },
    {
      "cell_type": "markdown",
      "metadata": {
        "id": "0lx4lBAht-X0"
      },
      "source": [
        "###Import Data"
      ]
    },
    {
      "cell_type": "code",
      "metadata": {
        "id": "mR62LCIupMij",
        "outputId": "388ffd68-a1fd-4707-d2da-85d8ce2f8a8f",
        "colab": {
          "base_uri": "https://localhost:8080/",
          "height": 202
        }
      },
      "source": [
        "attributes = pd.read_csv(\"attributes.csv\")\n",
        "attributes.head()"
      ],
      "execution_count": 97,
      "outputs": [
        {
          "output_type": "execute_result",
          "data": {
            "text/html": [
              "<div>\n",
              "<style scoped>\n",
              "    .dataframe tbody tr th:only-of-type {\n",
              "        vertical-align: middle;\n",
              "    }\n",
              "\n",
              "    .dataframe tbody tr th {\n",
              "        vertical-align: top;\n",
              "    }\n",
              "\n",
              "    .dataframe thead th {\n",
              "        text-align: right;\n",
              "    }\n",
              "</style>\n",
              "<table border=\"1\" class=\"dataframe\">\n",
              "  <thead>\n",
              "    <tr style=\"text-align: right;\">\n",
              "      <th></th>\n",
              "      <th>Full Name</th>\n",
              "      <th>Born</th>\n",
              "      <th>Bats</th>\n",
              "      <th>Bowls</th>\n",
              "      <th>Code</th>\n",
              "    </tr>\n",
              "  </thead>\n",
              "  <tbody>\n",
              "    <tr>\n",
              "      <th>0</th>\n",
              "      <td>David A Warner</td>\n",
              "      <td>1986-10-27</td>\n",
              "      <td>Left Handed</td>\n",
              "      <td>Right Arm Leg Break</td>\n",
              "      <td>3637</td>\n",
              "    </tr>\n",
              "    <tr>\n",
              "      <th>1</th>\n",
              "      <td>Aaron James Finch</td>\n",
              "      <td>1986-11-17</td>\n",
              "      <td>Right Handed</td>\n",
              "      <td>Left Arm Orthodox</td>\n",
              "      <td>3845</td>\n",
              "    </tr>\n",
              "    <tr>\n",
              "      <th>2</th>\n",
              "      <td>Steven Peter Devereux Smith</td>\n",
              "      <td>1989-02-06</td>\n",
              "      <td>Right Handed</td>\n",
              "      <td>Right Arm Leg Break</td>\n",
              "      <td>3756</td>\n",
              "    </tr>\n",
              "    <tr>\n",
              "      <th>3</th>\n",
              "      <td>Glenn James Maxwell</td>\n",
              "      <td>1988-10-14</td>\n",
              "      <td>Right Handed</td>\n",
              "      <td>Right Arm Off Break</td>\n",
              "      <td>3969</td>\n",
              "    </tr>\n",
              "    <tr>\n",
              "      <th>4</th>\n",
              "      <td>James Peter Faulkner</td>\n",
              "      <td>1990-04-29</td>\n",
              "      <td>Right Handed</td>\n",
              "      <td>Left Arm Medium</td>\n",
              "      <td>3930</td>\n",
              "    </tr>\n",
              "  </tbody>\n",
              "</table>\n",
              "</div>"
            ],
            "text/plain": [
              "                     Full Name        Born  ...                Bowls  Code\n",
              "0               David A Warner  1986-10-27  ...  Right Arm Leg Break  3637\n",
              "1            Aaron James Finch  1986-11-17  ...    Left Arm Orthodox  3845\n",
              "2  Steven Peter Devereux Smith  1989-02-06  ...  Right Arm Leg Break  3756\n",
              "3          Glenn James Maxwell  1988-10-14  ...  Right Arm Off Break  3969\n",
              "4         James Peter Faulkner  1990-04-29  ...      Left Arm Medium  3930\n",
              "\n",
              "[5 rows x 5 columns]"
            ]
          },
          "metadata": {
            "tags": []
          },
          "execution_count": 97
        }
      ]
    },
    {
      "cell_type": "code",
      "metadata": {
        "id": "Df-D6IBTpOQA"
      },
      "source": [
        "scorecard = open('scorecard.json',) \n",
        "scorecard_data = json.load(scorecard)"
      ],
      "execution_count": 98,
      "outputs": []
    },
    {
      "cell_type": "code",
      "metadata": {
        "id": "QjKYI7lcpUdc"
      },
      "source": [
        "tmap = open('tmap.json',) \n",
        "tmap_data = json.load(tmap)"
      ],
      "execution_count": 99,
      "outputs": []
    },
    {
      "cell_type": "markdown",
      "metadata": {
        "id": "2mEjuYbOqLCl"
      },
      "source": [
        "###Get NNR"
      ]
    },
    {
      "cell_type": "code",
      "metadata": {
        "id": "e5Rb6n1HRXsW"
      },
      "source": [
        "match = match_df.copy()"
      ],
      "execution_count": 100,
      "outputs": []
    },
    {
      "cell_type": "code",
      "metadata": {
        "id": "BzwJ3eadr_0G"
      },
      "source": [
        "match['NRR_team1']=''\n",
        "match['NRR_team2']=''"
      ],
      "execution_count": 101,
      "outputs": []
    },
    {
      "cell_type": "code",
      "metadata": {
        "id": "8fUd0fmkVWFp"
      },
      "source": [
        "name_to_code = {\n",
        "    \n",
        "    \"Afghanistan\" : \"AFG\",\n",
        "    \"Australia\" : \"AUS\",\n",
        "    \"Bangladesh\" : \"BAN\",\n",
        "    \"England\" : \"ENG\",\n",
        "    \"India\" : \"IND\",\n",
        "    \"Ireland\" : \"IRE\",\n",
        "    \"Kenya\" : \"KEN\",\n",
        "    \"Netherlands\" : \"NED\",\n",
        "    \"New Zealand\" : \"NZL\",\n",
        "    \"Pakistan\" : \"PAK\",\n",
        "    \"South Africa\" : \"SAF\",\n",
        "    \"Scotland\" : \"SCO\",\n",
        "    \"Sri Lanka\" : \"SRL\",\n",
        "    \"West Indies\" : \"WIN\",\n",
        "    \"Zimbabwe\" : \"ZIM\"\n",
        "\n",
        "}"
      ],
      "execution_count": 102,
      "outputs": []
    },
    {
      "cell_type": "code",
      "metadata": {
        "id": "YP6oGpcXYv94"
      },
      "source": [
        "skip_keys = ['1282',\n",
        "'1761',\n",
        "'1765',\n",
        "'1770',\n",
        "'1862',\n",
        "'1866',\n",
        "'2528'\n",
        "]"
      ],
      "execution_count": 111,
      "outputs": []
    },
    {
      "cell_type": "code",
      "metadata": {
        "id": "ePTpIk-BUWZJ"
      },
      "source": [
        "def check_allOut(scorecard_data, matchCode, team_num):\n",
        "    \n",
        "    bat = 'BATTING' + str(team_num)\n",
        "    \n",
        "    dismissal = [i[1] for i in scorecard_data[matchCode][bat]]\n",
        "    \n",
        "    if(\"not out\" in dismissal or '' in dismissal):\n",
        "        return False\n",
        "    \n",
        "    return True"
      ],
      "execution_count": 103,
      "outputs": []
    },
    {
      "cell_type": "code",
      "metadata": {
        "id": "-CONKDz1Uayf"
      },
      "source": [
        "def get_totalOvers(scorecard_data, matchCode, team_num):\n",
        "    \n",
        "    bat = 'BATTING' + str(team_num)\n",
        "    \n",
        "    balls = [i[3] for i in scorecard_data[matchCode][bat] if i[3]!=-1 ]\n",
        "    \n",
        "    overs = sum(balls)/6\n",
        "    return overs"
      ],
      "execution_count": 104,
      "outputs": []
    },
    {
      "cell_type": "code",
      "metadata": {
        "id": "7bHqU1WfRc_M",
        "outputId": "fee133eb-e258-4eb7-f5a5-810d8e76d8f0",
        "colab": {
          "base_uri": "https://localhost:8080/"
        }
      },
      "source": [
        "for ind in match.index:\n",
        "  if (match['Winner_team'][ind]==0):\n",
        "    match['NRR_team1'][ind] = 0\n",
        "    match['NNR_team2'][ind] = 0\n",
        "  else:\n",
        "    team_num = 2\n",
        "    match_code = str(match['MatchCode'][ind])\n",
        "    if (match_code in skip_keys):\n",
        "      continue\n",
        "    order=scorecard_data[match_code]['ORDER']\n",
        "    if (name_to_code[order[1]]==match['Team_2'][ind]):\n",
        "      team_num = 1\n",
        "    runRate_team1=match['Score_1'][ind]/50\n",
        "    if (check_allOut(scorecard_data,match_code,team_num)):\n",
        "      runRate_team2=match['Score_2'][ind]/50\n",
        "    else:\n",
        "      if(match['Winner_team'][ind]==2):\n",
        "        runRate_team2=match['Score_2'][ind]/get_totalOvers(scorecard_data, match_code, team_num)\n",
        "      else:\n",
        "        runRate_team2=match['Score_2'][ind]/50\n",
        "\n",
        "    match['NRR_team1'][ind]= runRate_team1 - runRate_team2\n",
        "    match['NRR_team2'][ind]= runRate_team2 - runRate_team1\n",
        "\n"
      ],
      "execution_count": 112,
      "outputs": [
        {
          "output_type": "stream",
          "text": [
            "/usr/local/lib/python3.6/dist-packages/ipykernel_launcher.py:22: SettingWithCopyWarning: \n",
            "A value is trying to be set on a copy of a slice from a DataFrame\n",
            "\n",
            "See the caveats in the documentation: https://pandas.pydata.org/pandas-docs/stable/user_guide/indexing.html#returning-a-view-versus-a-copy\n",
            "/usr/local/lib/python3.6/dist-packages/ipykernel_launcher.py:23: SettingWithCopyWarning: \n",
            "A value is trying to be set on a copy of a slice from a DataFrame\n",
            "\n",
            "See the caveats in the documentation: https://pandas.pydata.org/pandas-docs/stable/user_guide/indexing.html#returning-a-view-versus-a-copy\n"
          ],
          "name": "stderr"
        }
      ]
    },
    {
      "cell_type": "code",
      "metadata": {
        "id": "yqiUyDQwRgDF",
        "outputId": "945ac84b-7765-4bee-e7f4-cecc7f7b7962",
        "colab": {
          "base_uri": "https://localhost:8080/",
          "height": 309
        }
      },
      "source": [
        "match.head()"
      ],
      "execution_count": 113,
      "outputs": [
        {
          "output_type": "execute_result",
          "data": {
            "text/html": [
              "<div>\n",
              "<style scoped>\n",
              "    .dataframe tbody tr th:only-of-type {\n",
              "        vertical-align: middle;\n",
              "    }\n",
              "\n",
              "    .dataframe tbody tr th {\n",
              "        vertical-align: top;\n",
              "    }\n",
              "\n",
              "    .dataframe thead th {\n",
              "        text-align: right;\n",
              "    }\n",
              "</style>\n",
              "<table border=\"1\" class=\"dataframe\">\n",
              "  <thead>\n",
              "    <tr style=\"text-align: right;\">\n",
              "      <th></th>\n",
              "      <th>Date</th>\n",
              "      <th>Team_1</th>\n",
              "      <th>Team_2</th>\n",
              "      <th>Venue</th>\n",
              "      <th>MatchCode</th>\n",
              "      <th>GroundCode</th>\n",
              "      <th>TOSS</th>\n",
              "      <th>Score_1</th>\n",
              "      <th>Score_2</th>\n",
              "      <th>Winner</th>\n",
              "      <th>Winner_team</th>\n",
              "      <th>NRR_team1</th>\n",
              "      <th>NRR_team2</th>\n",
              "    </tr>\n",
              "  </thead>\n",
              "  <tbody>\n",
              "    <tr>\n",
              "      <th>0</th>\n",
              "      <td>2015-03-04</td>\n",
              "      <td>AFG</td>\n",
              "      <td>AUS</td>\n",
              "      <td>1</td>\n",
              "      <td>3773</td>\n",
              "      <td>65</td>\n",
              "      <td>1</td>\n",
              "      <td>142</td>\n",
              "      <td>417</td>\n",
              "      <td>AUS</td>\n",
              "      <td>2</td>\n",
              "      <td>-5.5</td>\n",
              "      <td>5.5</td>\n",
              "    </tr>\n",
              "    <tr>\n",
              "      <th>1</th>\n",
              "      <td>2012-08-25</td>\n",
              "      <td>AFG</td>\n",
              "      <td>AUS</td>\n",
              "      <td>2</td>\n",
              "      <td>3437</td>\n",
              "      <td>156</td>\n",
              "      <td>2</td>\n",
              "      <td>206</td>\n",
              "      <td>272</td>\n",
              "      <td>AUS</td>\n",
              "      <td>2</td>\n",
              "      <td>-1.32</td>\n",
              "      <td>1.32</td>\n",
              "    </tr>\n",
              "    <tr>\n",
              "      <th>2</th>\n",
              "      <td>2019-06-01</td>\n",
              "      <td>AFG</td>\n",
              "      <td>AUS</td>\n",
              "      <td>2</td>\n",
              "      <td>4306</td>\n",
              "      <td>149</td>\n",
              "      <td>1</td>\n",
              "      <td>207</td>\n",
              "      <td>209</td>\n",
              "      <td>AUS</td>\n",
              "      <td>2</td>\n",
              "      <td>-0.04</td>\n",
              "      <td>0.04</td>\n",
              "    </tr>\n",
              "    <tr>\n",
              "      <th>3</th>\n",
              "      <td>2014-03-01</td>\n",
              "      <td>AFG</td>\n",
              "      <td>BAN</td>\n",
              "      <td>1</td>\n",
              "      <td>3623</td>\n",
              "      <td>190</td>\n",
              "      <td>2</td>\n",
              "      <td>254</td>\n",
              "      <td>222</td>\n",
              "      <td>AFG</td>\n",
              "      <td>1</td>\n",
              "      <td>0.64</td>\n",
              "      <td>-0.64</td>\n",
              "    </tr>\n",
              "    <tr>\n",
              "      <th>4</th>\n",
              "      <td>2016-09-25</td>\n",
              "      <td>AFG</td>\n",
              "      <td>BAN</td>\n",
              "      <td>1</td>\n",
              "      <td>3936</td>\n",
              "      <td>198</td>\n",
              "      <td>2</td>\n",
              "      <td>258</td>\n",
              "      <td>265</td>\n",
              "      <td>BAN</td>\n",
              "      <td>2</td>\n",
              "      <td>-0.14</td>\n",
              "      <td>0.14</td>\n",
              "    </tr>\n",
              "  </tbody>\n",
              "</table>\n",
              "</div>"
            ],
            "text/plain": [
              "         Date Team_1 Team_2  Venue  ...  Winner  Winner_team NRR_team1  NRR_team2\n",
              "0  2015-03-04    AFG    AUS      1  ...     AUS            2      -5.5        5.5\n",
              "1  2012-08-25    AFG    AUS      2  ...     AUS            2     -1.32       1.32\n",
              "2  2019-06-01    AFG    AUS      2  ...     AUS            2     -0.04       0.04\n",
              "3  2014-03-01    AFG    BAN      1  ...     AFG            1      0.64      -0.64\n",
              "4  2016-09-25    AFG    BAN      1  ...     BAN            2     -0.14       0.14\n",
              "\n",
              "[5 rows x 13 columns]"
            ]
          },
          "metadata": {
            "tags": []
          },
          "execution_count": 113
        }
      ]
    },
    {
      "cell_type": "code",
      "metadata": {
        "id": "zmC1lukMRgVl",
        "outputId": "17339b16-4905-4f10-a491-c4692e2db7e6",
        "colab": {
          "base_uri": "https://localhost:8080/"
        }
      },
      "source": [
        "len(match)"
      ],
      "execution_count": 114,
      "outputs": [
        {
          "output_type": "execute_result",
          "data": {
            "text/plain": [
              "3656"
            ]
          },
          "metadata": {
            "tags": []
          },
          "execution_count": 114
        }
      ]
    },
    {
      "cell_type": "code",
      "metadata": {
        "id": "QzzZYsSrRgxd"
      },
      "source": [
        "match = match[~match['MatchCode'].isin(skip_keys)]"
      ],
      "execution_count": 118,
      "outputs": []
    },
    {
      "cell_type": "code",
      "metadata": {
        "id": "rrmRRY4_Rg79",
        "outputId": "0cd25f33-b262-4129-c2ed-1179a20bb216",
        "colab": {
          "base_uri": "https://localhost:8080/"
        }
      },
      "source": [
        "len(match)"
      ],
      "execution_count": 119,
      "outputs": [
        {
          "output_type": "execute_result",
          "data": {
            "text/plain": [
              "3649"
            ]
          },
          "metadata": {
            "tags": []
          },
          "execution_count": 119
        }
      ]
    },
    {
      "cell_type": "markdown",
      "metadata": {
        "id": "9rPmemCeejq_"
      },
      "source": [
        "###Store the NNR dataframe"
      ]
    },
    {
      "cell_type": "code",
      "metadata": {
        "id": "FsOhXpPueoBg",
        "outputId": "6aa5aab6-2c78-474c-b565-645b692d5cbd",
        "colab": {
          "base_uri": "https://localhost:8080/"
        }
      },
      "source": [
        "# Save the final dataframe\n",
        "data_store = pd.HDFStore('nnr_data.h5')\n",
        "\n",
        "data_store['preprocessed_df'] = match\n",
        "data_store.close()"
      ],
      "execution_count": 120,
      "outputs": [
        {
          "output_type": "stream",
          "text": [
            "/usr/local/lib/python3.6/dist-packages/IPython/core/interactiveshell.py:2882: PerformanceWarning: \n",
            "your performance may suffer as PyTables will pickle object types that it cannot\n",
            "map directly to c-types [inferred_type->mixed-integer,key->block1_values] [items->Index(['Date', 'Team_1', 'Team_2', 'TOSS', 'Winner', 'Winner_team',\n",
            "       'NRR_team1', 'NRR_team2'],\n",
            "      dtype='object')]\n",
            "\n",
            "  exec(code_obj, self.user_global_ns, self.user_ns)\n"
          ],
          "name": "stderr"
        }
      ]
    },
    {
      "cell_type": "markdown",
      "metadata": {
        "id": "W41J7uK9jmBk"
      },
      "source": [
        "#Flipped Dataset"
      ]
    },
    {
      "cell_type": "code",
      "metadata": {
        "id": "wC9tIYu2e0Ni"
      },
      "source": [
        "# Access data store\n",
        "data_store = pd.HDFStore('nnr_data.h5')\n",
        "\n",
        "# Retrieve data using key\n",
        "match_df = data_store['preprocessed_df']\n",
        "data_store.close()"
      ],
      "execution_count": 121,
      "outputs": []
    },
    {
      "cell_type": "code",
      "metadata": {
        "id": "m_Wz0vPkfCLg",
        "outputId": "aed07714-948b-4a8c-a0f5-879e46d4a036",
        "colab": {
          "base_uri": "https://localhost:8080/",
          "height": 309
        }
      },
      "source": [
        "match_df.head()"
      ],
      "execution_count": 122,
      "outputs": [
        {
          "output_type": "execute_result",
          "data": {
            "text/html": [
              "<div>\n",
              "<style scoped>\n",
              "    .dataframe tbody tr th:only-of-type {\n",
              "        vertical-align: middle;\n",
              "    }\n",
              "\n",
              "    .dataframe tbody tr th {\n",
              "        vertical-align: top;\n",
              "    }\n",
              "\n",
              "    .dataframe thead th {\n",
              "        text-align: right;\n",
              "    }\n",
              "</style>\n",
              "<table border=\"1\" class=\"dataframe\">\n",
              "  <thead>\n",
              "    <tr style=\"text-align: right;\">\n",
              "      <th></th>\n",
              "      <th>Date</th>\n",
              "      <th>Team_1</th>\n",
              "      <th>Team_2</th>\n",
              "      <th>Venue</th>\n",
              "      <th>MatchCode</th>\n",
              "      <th>GroundCode</th>\n",
              "      <th>TOSS</th>\n",
              "      <th>Score_1</th>\n",
              "      <th>Score_2</th>\n",
              "      <th>Winner</th>\n",
              "      <th>Winner_team</th>\n",
              "      <th>NRR_team1</th>\n",
              "      <th>NRR_team2</th>\n",
              "    </tr>\n",
              "  </thead>\n",
              "  <tbody>\n",
              "    <tr>\n",
              "      <th>0</th>\n",
              "      <td>2015-03-04</td>\n",
              "      <td>AFG</td>\n",
              "      <td>AUS</td>\n",
              "      <td>1</td>\n",
              "      <td>3773</td>\n",
              "      <td>65</td>\n",
              "      <td>1</td>\n",
              "      <td>142</td>\n",
              "      <td>417</td>\n",
              "      <td>AUS</td>\n",
              "      <td>2</td>\n",
              "      <td>-5.5</td>\n",
              "      <td>5.5</td>\n",
              "    </tr>\n",
              "    <tr>\n",
              "      <th>1</th>\n",
              "      <td>2012-08-25</td>\n",
              "      <td>AFG</td>\n",
              "      <td>AUS</td>\n",
              "      <td>2</td>\n",
              "      <td>3437</td>\n",
              "      <td>156</td>\n",
              "      <td>2</td>\n",
              "      <td>206</td>\n",
              "      <td>272</td>\n",
              "      <td>AUS</td>\n",
              "      <td>2</td>\n",
              "      <td>-1.32</td>\n",
              "      <td>1.32</td>\n",
              "    </tr>\n",
              "    <tr>\n",
              "      <th>2</th>\n",
              "      <td>2019-06-01</td>\n",
              "      <td>AFG</td>\n",
              "      <td>AUS</td>\n",
              "      <td>2</td>\n",
              "      <td>4306</td>\n",
              "      <td>149</td>\n",
              "      <td>1</td>\n",
              "      <td>207</td>\n",
              "      <td>209</td>\n",
              "      <td>AUS</td>\n",
              "      <td>2</td>\n",
              "      <td>-0.04</td>\n",
              "      <td>0.04</td>\n",
              "    </tr>\n",
              "    <tr>\n",
              "      <th>3</th>\n",
              "      <td>2014-03-01</td>\n",
              "      <td>AFG</td>\n",
              "      <td>BAN</td>\n",
              "      <td>1</td>\n",
              "      <td>3623</td>\n",
              "      <td>190</td>\n",
              "      <td>2</td>\n",
              "      <td>254</td>\n",
              "      <td>222</td>\n",
              "      <td>AFG</td>\n",
              "      <td>1</td>\n",
              "      <td>0.64</td>\n",
              "      <td>-0.64</td>\n",
              "    </tr>\n",
              "    <tr>\n",
              "      <th>4</th>\n",
              "      <td>2016-09-25</td>\n",
              "      <td>AFG</td>\n",
              "      <td>BAN</td>\n",
              "      <td>1</td>\n",
              "      <td>3936</td>\n",
              "      <td>198</td>\n",
              "      <td>2</td>\n",
              "      <td>258</td>\n",
              "      <td>265</td>\n",
              "      <td>BAN</td>\n",
              "      <td>2</td>\n",
              "      <td>-0.14</td>\n",
              "      <td>0.14</td>\n",
              "    </tr>\n",
              "  </tbody>\n",
              "</table>\n",
              "</div>"
            ],
            "text/plain": [
              "         Date Team_1 Team_2  Venue  ...  Winner  Winner_team NRR_team1  NRR_team2\n",
              "0  2015-03-04    AFG    AUS      1  ...     AUS            2      -5.5        5.5\n",
              "1  2012-08-25    AFG    AUS      2  ...     AUS            2     -1.32       1.32\n",
              "2  2019-06-01    AFG    AUS      2  ...     AUS            2     -0.04       0.04\n",
              "3  2014-03-01    AFG    BAN      1  ...     AFG            1      0.64      -0.64\n",
              "4  2016-09-25    AFG    BAN      1  ...     BAN            2     -0.14       0.14\n",
              "\n",
              "[5 rows x 13 columns]"
            ]
          },
          "metadata": {
            "tags": []
          },
          "execution_count": 122
        }
      ]
    },
    {
      "cell_type": "code",
      "metadata": {
        "id": "CpvhONFljxhJ"
      },
      "source": [
        "match_flipped_df = match_df.copy()"
      ],
      "execution_count": 125,
      "outputs": []
    },
    {
      "cell_type": "code",
      "metadata": {
        "id": "3dinuXKAj1ek",
        "outputId": "ea96aa92-ec6e-44e1-cdd2-292f5c62bdda",
        "colab": {
          "base_uri": "https://localhost:8080/"
        }
      },
      "source": [
        "for ind in match_flipped_df.index: \n",
        "  match_flipped_df['Team_1'][ind], match_flipped_df['Team_2'][ind] = match_df['Team_2'][ind],match_df['Team_1'][ind]\n",
        "  match_flipped_df['Score_1'][ind], match_flipped_df['Score_2'][ind] = match_df['Score_2'][ind],match_df['Score_1'][ind]\n",
        "  match_flipped_df['NRR_team1'][ind], match_flipped_df['NRR_team2'][ind] = match_df['NRR_team2'][ind],match_df['NRR_team1'][ind]\n",
        "  \n",
        "\n",
        "  if (match_df['TOSS'][ind]==1):\n",
        "    match_flipped_df['TOSS'][ind] = 2\n",
        "  else:\n",
        "    match_flipped_df['TOSS'][ind] = 1\n",
        "\n",
        "  if (match_df['Venue'][ind]==1):\n",
        "    match_flipped_df['Venue'][ind] = 2\n",
        "  elif (match_df['Venue'][ind]==2):\n",
        "    match_flipped_df['Venue'][ind] = 1"
      ],
      "execution_count": 130,
      "outputs": [
        {
          "output_type": "stream",
          "text": [
            "/usr/local/lib/python3.6/dist-packages/ipykernel_launcher.py:2: SettingWithCopyWarning: \n",
            "A value is trying to be set on a copy of a slice from a DataFrame\n",
            "\n",
            "See the caveats in the documentation: https://pandas.pydata.org/pandas-docs/stable/user_guide/indexing.html#returning-a-view-versus-a-copy\n",
            "  \n",
            "/usr/local/lib/python3.6/dist-packages/ipykernel_launcher.py:3: SettingWithCopyWarning: \n",
            "A value is trying to be set on a copy of a slice from a DataFrame\n",
            "\n",
            "See the caveats in the documentation: https://pandas.pydata.org/pandas-docs/stable/user_guide/indexing.html#returning-a-view-versus-a-copy\n",
            "  This is separate from the ipykernel package so we can avoid doing imports until\n",
            "/usr/local/lib/python3.6/dist-packages/ipykernel_launcher.py:4: SettingWithCopyWarning: \n",
            "A value is trying to be set on a copy of a slice from a DataFrame\n",
            "\n",
            "See the caveats in the documentation: https://pandas.pydata.org/pandas-docs/stable/user_guide/indexing.html#returning-a-view-versus-a-copy\n",
            "  after removing the cwd from sys.path.\n",
            "/usr/local/lib/python3.6/dist-packages/ipykernel_launcher.py:8: SettingWithCopyWarning: \n",
            "A value is trying to be set on a copy of a slice from a DataFrame\n",
            "\n",
            "See the caveats in the documentation: https://pandas.pydata.org/pandas-docs/stable/user_guide/indexing.html#returning-a-view-versus-a-copy\n",
            "  \n",
            "/usr/local/lib/python3.6/dist-packages/ipykernel_launcher.py:13: SettingWithCopyWarning: \n",
            "A value is trying to be set on a copy of a slice from a DataFrame\n",
            "\n",
            "See the caveats in the documentation: https://pandas.pydata.org/pandas-docs/stable/user_guide/indexing.html#returning-a-view-versus-a-copy\n",
            "  del sys.path[0]\n",
            "/usr/local/lib/python3.6/dist-packages/ipykernel_launcher.py:10: SettingWithCopyWarning: \n",
            "A value is trying to be set on a copy of a slice from a DataFrame\n",
            "\n",
            "See the caveats in the documentation: https://pandas.pydata.org/pandas-docs/stable/user_guide/indexing.html#returning-a-view-versus-a-copy\n",
            "  # Remove the CWD from sys.path while we load stuff.\n",
            "/usr/local/lib/python3.6/dist-packages/ipykernel_launcher.py:15: SettingWithCopyWarning: \n",
            "A value is trying to be set on a copy of a slice from a DataFrame\n",
            "\n",
            "See the caveats in the documentation: https://pandas.pydata.org/pandas-docs/stable/user_guide/indexing.html#returning-a-view-versus-a-copy\n",
            "  from ipykernel import kernelapp as app\n"
          ],
          "name": "stderr"
        }
      ]
    },
    {
      "cell_type": "code",
      "metadata": {
        "id": "Vq3d4S-1mE6F",
        "outputId": "b77a599e-adc9-46be-950b-fb6ba7c69b97",
        "colab": {
          "base_uri": "https://localhost:8080/"
        }
      },
      "source": [
        "for ind in match_flipped_df.index: \n",
        "  if(match_flipped_df['Winner'][ind]==match_flipped_df['Team_1'][ind]):\n",
        "    match_flipped_df['Winner_team'][ind] = 1\n",
        "  else:\n",
        "    match_flipped_df['Winner_team'][ind] = 2"
      ],
      "execution_count": 131,
      "outputs": [
        {
          "output_type": "stream",
          "text": [
            "/usr/local/lib/python3.6/dist-packages/ipykernel_launcher.py:3: SettingWithCopyWarning: \n",
            "A value is trying to be set on a copy of a slice from a DataFrame\n",
            "\n",
            "See the caveats in the documentation: https://pandas.pydata.org/pandas-docs/stable/user_guide/indexing.html#returning-a-view-versus-a-copy\n",
            "  This is separate from the ipykernel package so we can avoid doing imports until\n",
            "/usr/local/lib/python3.6/dist-packages/ipykernel_launcher.py:5: SettingWithCopyWarning: \n",
            "A value is trying to be set on a copy of a slice from a DataFrame\n",
            "\n",
            "See the caveats in the documentation: https://pandas.pydata.org/pandas-docs/stable/user_guide/indexing.html#returning-a-view-versus-a-copy\n",
            "  \"\"\"\n"
          ],
          "name": "stderr"
        }
      ]
    },
    {
      "cell_type": "code",
      "metadata": {
        "id": "6MDSn05zmZcZ",
        "outputId": "ac379a91-eee4-4ec8-f872-605a7022d293",
        "colab": {
          "base_uri": "https://localhost:8080/",
          "height": 309
        }
      },
      "source": [
        "match_flipped_df.head()"
      ],
      "execution_count": 132,
      "outputs": [
        {
          "output_type": "execute_result",
          "data": {
            "text/html": [
              "<div>\n",
              "<style scoped>\n",
              "    .dataframe tbody tr th:only-of-type {\n",
              "        vertical-align: middle;\n",
              "    }\n",
              "\n",
              "    .dataframe tbody tr th {\n",
              "        vertical-align: top;\n",
              "    }\n",
              "\n",
              "    .dataframe thead th {\n",
              "        text-align: right;\n",
              "    }\n",
              "</style>\n",
              "<table border=\"1\" class=\"dataframe\">\n",
              "  <thead>\n",
              "    <tr style=\"text-align: right;\">\n",
              "      <th></th>\n",
              "      <th>Date</th>\n",
              "      <th>Team_1</th>\n",
              "      <th>Team_2</th>\n",
              "      <th>Venue</th>\n",
              "      <th>MatchCode</th>\n",
              "      <th>GroundCode</th>\n",
              "      <th>TOSS</th>\n",
              "      <th>Score_1</th>\n",
              "      <th>Score_2</th>\n",
              "      <th>Winner</th>\n",
              "      <th>Winner_team</th>\n",
              "      <th>NRR_team1</th>\n",
              "      <th>NRR_team2</th>\n",
              "    </tr>\n",
              "  </thead>\n",
              "  <tbody>\n",
              "    <tr>\n",
              "      <th>0</th>\n",
              "      <td>2015-03-04</td>\n",
              "      <td>AUS</td>\n",
              "      <td>AFG</td>\n",
              "      <td>2</td>\n",
              "      <td>3773</td>\n",
              "      <td>65</td>\n",
              "      <td>2</td>\n",
              "      <td>417</td>\n",
              "      <td>142</td>\n",
              "      <td>AUS</td>\n",
              "      <td>1</td>\n",
              "      <td>5.5</td>\n",
              "      <td>-5.5</td>\n",
              "    </tr>\n",
              "    <tr>\n",
              "      <th>1</th>\n",
              "      <td>2012-08-25</td>\n",
              "      <td>AUS</td>\n",
              "      <td>AFG</td>\n",
              "      <td>1</td>\n",
              "      <td>3437</td>\n",
              "      <td>156</td>\n",
              "      <td>1</td>\n",
              "      <td>272</td>\n",
              "      <td>206</td>\n",
              "      <td>AUS</td>\n",
              "      <td>1</td>\n",
              "      <td>1.32</td>\n",
              "      <td>-1.32</td>\n",
              "    </tr>\n",
              "    <tr>\n",
              "      <th>2</th>\n",
              "      <td>2019-06-01</td>\n",
              "      <td>AUS</td>\n",
              "      <td>AFG</td>\n",
              "      <td>1</td>\n",
              "      <td>4306</td>\n",
              "      <td>149</td>\n",
              "      <td>2</td>\n",
              "      <td>209</td>\n",
              "      <td>207</td>\n",
              "      <td>AUS</td>\n",
              "      <td>1</td>\n",
              "      <td>0.04</td>\n",
              "      <td>-0.04</td>\n",
              "    </tr>\n",
              "    <tr>\n",
              "      <th>3</th>\n",
              "      <td>2014-03-01</td>\n",
              "      <td>BAN</td>\n",
              "      <td>AFG</td>\n",
              "      <td>2</td>\n",
              "      <td>3623</td>\n",
              "      <td>190</td>\n",
              "      <td>1</td>\n",
              "      <td>222</td>\n",
              "      <td>254</td>\n",
              "      <td>AFG</td>\n",
              "      <td>2</td>\n",
              "      <td>-0.64</td>\n",
              "      <td>0.64</td>\n",
              "    </tr>\n",
              "    <tr>\n",
              "      <th>4</th>\n",
              "      <td>2016-09-25</td>\n",
              "      <td>BAN</td>\n",
              "      <td>AFG</td>\n",
              "      <td>2</td>\n",
              "      <td>3936</td>\n",
              "      <td>198</td>\n",
              "      <td>1</td>\n",
              "      <td>265</td>\n",
              "      <td>258</td>\n",
              "      <td>BAN</td>\n",
              "      <td>1</td>\n",
              "      <td>0.14</td>\n",
              "      <td>-0.14</td>\n",
              "    </tr>\n",
              "  </tbody>\n",
              "</table>\n",
              "</div>"
            ],
            "text/plain": [
              "         Date Team_1 Team_2  Venue  ...  Winner  Winner_team NRR_team1  NRR_team2\n",
              "0  2015-03-04    AUS    AFG      2  ...     AUS            1       5.5       -5.5\n",
              "1  2012-08-25    AUS    AFG      1  ...     AUS            1      1.32      -1.32\n",
              "2  2019-06-01    AUS    AFG      1  ...     AUS            1      0.04      -0.04\n",
              "3  2014-03-01    BAN    AFG      2  ...     AFG            2     -0.64       0.64\n",
              "4  2016-09-25    BAN    AFG      2  ...     BAN            1      0.14      -0.14\n",
              "\n",
              "[5 rows x 13 columns]"
            ]
          },
          "metadata": {
            "tags": []
          },
          "execution_count": 132
        }
      ]
    },
    {
      "cell_type": "code",
      "metadata": {
        "id": "c2PLGuNlme0T"
      },
      "source": [
        "# Access data store\n",
        "data_store = pd.HDFStore('processed_data.h5')\n",
        "\n",
        "# Retrieve data using key\n",
        "match_df = data_store['preprocessed_df']\n",
        "data_store.close()"
      ],
      "execution_count": null,
      "outputs": []
    },
    {
      "cell_type": "code",
      "metadata": {
        "id": "zwDTKGZxolA7"
      },
      "source": [
        "frames = [match_df, match_flipped_df]\n",
        "\n",
        "final_df = pd.concat(frames)"
      ],
      "execution_count": 134,
      "outputs": []
    },
    {
      "cell_type": "code",
      "metadata": {
        "id": "vwzTAxPEotM7",
        "outputId": "91ac3586-9d51-4b79-bbb7-6b1e5c6ee109",
        "colab": {
          "base_uri": "https://localhost:8080/",
          "height": 309
        }
      },
      "source": [
        "final_df.head()"
      ],
      "execution_count": 135,
      "outputs": [
        {
          "output_type": "execute_result",
          "data": {
            "text/html": [
              "<div>\n",
              "<style scoped>\n",
              "    .dataframe tbody tr th:only-of-type {\n",
              "        vertical-align: middle;\n",
              "    }\n",
              "\n",
              "    .dataframe tbody tr th {\n",
              "        vertical-align: top;\n",
              "    }\n",
              "\n",
              "    .dataframe thead th {\n",
              "        text-align: right;\n",
              "    }\n",
              "</style>\n",
              "<table border=\"1\" class=\"dataframe\">\n",
              "  <thead>\n",
              "    <tr style=\"text-align: right;\">\n",
              "      <th></th>\n",
              "      <th>Date</th>\n",
              "      <th>Team_1</th>\n",
              "      <th>Team_2</th>\n",
              "      <th>Venue</th>\n",
              "      <th>MatchCode</th>\n",
              "      <th>GroundCode</th>\n",
              "      <th>TOSS</th>\n",
              "      <th>Score_1</th>\n",
              "      <th>Score_2</th>\n",
              "      <th>Winner</th>\n",
              "      <th>Winner_team</th>\n",
              "      <th>NRR_team1</th>\n",
              "      <th>NRR_team2</th>\n",
              "    </tr>\n",
              "  </thead>\n",
              "  <tbody>\n",
              "    <tr>\n",
              "      <th>0</th>\n",
              "      <td>2015-03-04</td>\n",
              "      <td>AFG</td>\n",
              "      <td>AUS</td>\n",
              "      <td>1</td>\n",
              "      <td>3773</td>\n",
              "      <td>65</td>\n",
              "      <td>1</td>\n",
              "      <td>142</td>\n",
              "      <td>417</td>\n",
              "      <td>AUS</td>\n",
              "      <td>2</td>\n",
              "      <td>-5.5</td>\n",
              "      <td>5.5</td>\n",
              "    </tr>\n",
              "    <tr>\n",
              "      <th>1</th>\n",
              "      <td>2012-08-25</td>\n",
              "      <td>AFG</td>\n",
              "      <td>AUS</td>\n",
              "      <td>2</td>\n",
              "      <td>3437</td>\n",
              "      <td>156</td>\n",
              "      <td>2</td>\n",
              "      <td>206</td>\n",
              "      <td>272</td>\n",
              "      <td>AUS</td>\n",
              "      <td>2</td>\n",
              "      <td>-1.32</td>\n",
              "      <td>1.32</td>\n",
              "    </tr>\n",
              "    <tr>\n",
              "      <th>2</th>\n",
              "      <td>2019-06-01</td>\n",
              "      <td>AFG</td>\n",
              "      <td>AUS</td>\n",
              "      <td>2</td>\n",
              "      <td>4306</td>\n",
              "      <td>149</td>\n",
              "      <td>1</td>\n",
              "      <td>207</td>\n",
              "      <td>209</td>\n",
              "      <td>AUS</td>\n",
              "      <td>2</td>\n",
              "      <td>-0.04</td>\n",
              "      <td>0.04</td>\n",
              "    </tr>\n",
              "    <tr>\n",
              "      <th>3</th>\n",
              "      <td>2014-03-01</td>\n",
              "      <td>AFG</td>\n",
              "      <td>BAN</td>\n",
              "      <td>1</td>\n",
              "      <td>3623</td>\n",
              "      <td>190</td>\n",
              "      <td>2</td>\n",
              "      <td>254</td>\n",
              "      <td>222</td>\n",
              "      <td>AFG</td>\n",
              "      <td>1</td>\n",
              "      <td>0.64</td>\n",
              "      <td>-0.64</td>\n",
              "    </tr>\n",
              "    <tr>\n",
              "      <th>4</th>\n",
              "      <td>2016-09-25</td>\n",
              "      <td>AFG</td>\n",
              "      <td>BAN</td>\n",
              "      <td>1</td>\n",
              "      <td>3936</td>\n",
              "      <td>198</td>\n",
              "      <td>2</td>\n",
              "      <td>258</td>\n",
              "      <td>265</td>\n",
              "      <td>BAN</td>\n",
              "      <td>2</td>\n",
              "      <td>-0.14</td>\n",
              "      <td>0.14</td>\n",
              "    </tr>\n",
              "  </tbody>\n",
              "</table>\n",
              "</div>"
            ],
            "text/plain": [
              "         Date Team_1 Team_2  Venue  ...  Winner  Winner_team NRR_team1  NRR_team2\n",
              "0  2015-03-04    AFG    AUS      1  ...     AUS            2      -5.5        5.5\n",
              "1  2012-08-25    AFG    AUS      2  ...     AUS            2     -1.32       1.32\n",
              "2  2019-06-01    AFG    AUS      2  ...     AUS            2     -0.04       0.04\n",
              "3  2014-03-01    AFG    BAN      1  ...     AFG            1      0.64      -0.64\n",
              "4  2016-09-25    AFG    BAN      1  ...     BAN            2     -0.14       0.14\n",
              "\n",
              "[5 rows x 13 columns]"
            ]
          },
          "metadata": {
            "tags": []
          },
          "execution_count": 135
        }
      ]
    },
    {
      "cell_type": "code",
      "metadata": {
        "id": "SZcKZ5MXov2D",
        "outputId": "2221d94a-444b-4acf-f9da-b415cbed312d",
        "colab": {
          "base_uri": "https://localhost:8080/"
        }
      },
      "source": [
        "len(final_df)"
      ],
      "execution_count": 136,
      "outputs": [
        {
          "output_type": "execute_result",
          "data": {
            "text/plain": [
              "7298"
            ]
          },
          "metadata": {
            "tags": []
          },
          "execution_count": 136
        }
      ]
    },
    {
      "cell_type": "code",
      "metadata": {
        "id": "p0ztHQ7no2ZJ",
        "outputId": "e800f109-5039-4bee-d04c-f2f809eaafac",
        "colab": {
          "base_uri": "https://localhost:8080/"
        }
      },
      "source": [
        "# Save the final dataframe\n",
        "data_store = pd.HDFStore('flipped_data.h5')\n",
        "\n",
        "data_store['flip_df'] = final_df\n",
        "data_store.close()"
      ],
      "execution_count": 137,
      "outputs": [
        {
          "output_type": "stream",
          "text": [
            "/usr/local/lib/python3.6/dist-packages/IPython/core/interactiveshell.py:2882: PerformanceWarning: \n",
            "your performance may suffer as PyTables will pickle object types that it cannot\n",
            "map directly to c-types [inferred_type->mixed-integer,key->block1_values] [items->Index(['Date', 'Team_1', 'Team_2', 'TOSS', 'Winner', 'Winner_team',\n",
            "       'NRR_team1', 'NRR_team2'],\n",
            "      dtype='object')]\n",
            "\n",
            "  exec(code_obj, self.user_global_ns, self.user_ns)\n"
          ],
          "name": "stderr"
        }
      ]
    },
    {
      "cell_type": "markdown",
      "metadata": {
        "id": "yn9n2tgvq7bo"
      },
      "source": [
        "####Flipped dataframe"
      ]
    },
    {
      "cell_type": "code",
      "metadata": {
        "id": "xThgDvwKpBKJ"
      },
      "source": [
        "# Access data store\n",
        "data_store = pd.HDFStore('flipped_data.h5')\n",
        "\n",
        "# Retrieve data using key\n",
        "flipped_df = data_store['flip_df']\n",
        "data_store.close()"
      ],
      "execution_count": 138,
      "outputs": []
    },
    {
      "cell_type": "code",
      "metadata": {
        "id": "zhQSN4qrpKqw",
        "outputId": "64d8f9cb-de87-448a-b2a9-7ddd5b9fad9f",
        "colab": {
          "base_uri": "https://localhost:8080/",
          "height": 309
        }
      },
      "source": [
        "flipped_df.head()"
      ],
      "execution_count": 139,
      "outputs": [
        {
          "output_type": "execute_result",
          "data": {
            "text/html": [
              "<div>\n",
              "<style scoped>\n",
              "    .dataframe tbody tr th:only-of-type {\n",
              "        vertical-align: middle;\n",
              "    }\n",
              "\n",
              "    .dataframe tbody tr th {\n",
              "        vertical-align: top;\n",
              "    }\n",
              "\n",
              "    .dataframe thead th {\n",
              "        text-align: right;\n",
              "    }\n",
              "</style>\n",
              "<table border=\"1\" class=\"dataframe\">\n",
              "  <thead>\n",
              "    <tr style=\"text-align: right;\">\n",
              "      <th></th>\n",
              "      <th>Date</th>\n",
              "      <th>Team_1</th>\n",
              "      <th>Team_2</th>\n",
              "      <th>Venue</th>\n",
              "      <th>MatchCode</th>\n",
              "      <th>GroundCode</th>\n",
              "      <th>TOSS</th>\n",
              "      <th>Score_1</th>\n",
              "      <th>Score_2</th>\n",
              "      <th>Winner</th>\n",
              "      <th>Winner_team</th>\n",
              "      <th>NRR_team1</th>\n",
              "      <th>NRR_team2</th>\n",
              "    </tr>\n",
              "  </thead>\n",
              "  <tbody>\n",
              "    <tr>\n",
              "      <th>0</th>\n",
              "      <td>2015-03-04</td>\n",
              "      <td>AFG</td>\n",
              "      <td>AUS</td>\n",
              "      <td>1</td>\n",
              "      <td>3773</td>\n",
              "      <td>65</td>\n",
              "      <td>1</td>\n",
              "      <td>142</td>\n",
              "      <td>417</td>\n",
              "      <td>AUS</td>\n",
              "      <td>2</td>\n",
              "      <td>-5.5</td>\n",
              "      <td>5.5</td>\n",
              "    </tr>\n",
              "    <tr>\n",
              "      <th>1</th>\n",
              "      <td>2012-08-25</td>\n",
              "      <td>AFG</td>\n",
              "      <td>AUS</td>\n",
              "      <td>2</td>\n",
              "      <td>3437</td>\n",
              "      <td>156</td>\n",
              "      <td>2</td>\n",
              "      <td>206</td>\n",
              "      <td>272</td>\n",
              "      <td>AUS</td>\n",
              "      <td>2</td>\n",
              "      <td>-1.32</td>\n",
              "      <td>1.32</td>\n",
              "    </tr>\n",
              "    <tr>\n",
              "      <th>2</th>\n",
              "      <td>2019-06-01</td>\n",
              "      <td>AFG</td>\n",
              "      <td>AUS</td>\n",
              "      <td>2</td>\n",
              "      <td>4306</td>\n",
              "      <td>149</td>\n",
              "      <td>1</td>\n",
              "      <td>207</td>\n",
              "      <td>209</td>\n",
              "      <td>AUS</td>\n",
              "      <td>2</td>\n",
              "      <td>-0.04</td>\n",
              "      <td>0.04</td>\n",
              "    </tr>\n",
              "    <tr>\n",
              "      <th>3</th>\n",
              "      <td>2014-03-01</td>\n",
              "      <td>AFG</td>\n",
              "      <td>BAN</td>\n",
              "      <td>1</td>\n",
              "      <td>3623</td>\n",
              "      <td>190</td>\n",
              "      <td>2</td>\n",
              "      <td>254</td>\n",
              "      <td>222</td>\n",
              "      <td>AFG</td>\n",
              "      <td>1</td>\n",
              "      <td>0.64</td>\n",
              "      <td>-0.64</td>\n",
              "    </tr>\n",
              "    <tr>\n",
              "      <th>4</th>\n",
              "      <td>2016-09-25</td>\n",
              "      <td>AFG</td>\n",
              "      <td>BAN</td>\n",
              "      <td>1</td>\n",
              "      <td>3936</td>\n",
              "      <td>198</td>\n",
              "      <td>2</td>\n",
              "      <td>258</td>\n",
              "      <td>265</td>\n",
              "      <td>BAN</td>\n",
              "      <td>2</td>\n",
              "      <td>-0.14</td>\n",
              "      <td>0.14</td>\n",
              "    </tr>\n",
              "  </tbody>\n",
              "</table>\n",
              "</div>"
            ],
            "text/plain": [
              "         Date Team_1 Team_2  Venue  ...  Winner  Winner_team NRR_team1  NRR_team2\n",
              "0  2015-03-04    AFG    AUS      1  ...     AUS            2      -5.5        5.5\n",
              "1  2012-08-25    AFG    AUS      2  ...     AUS            2     -1.32       1.32\n",
              "2  2019-06-01    AFG    AUS      2  ...     AUS            2     -0.04       0.04\n",
              "3  2014-03-01    AFG    BAN      1  ...     AFG            1      0.64      -0.64\n",
              "4  2016-09-25    AFG    BAN      1  ...     BAN            2     -0.14       0.14\n",
              "\n",
              "[5 rows x 13 columns]"
            ]
          },
          "metadata": {
            "tags": []
          },
          "execution_count": 139
        }
      ]
    },
    {
      "cell_type": "code",
      "metadata": {
        "id": "R76dK00OpXaX",
        "outputId": "3b37ae61-bc6a-45aa-ea4b-628a6a94765b",
        "colab": {
          "base_uri": "https://localhost:8080/"
        }
      },
      "source": [
        "len(flipped_df)"
      ],
      "execution_count": 140,
      "outputs": [
        {
          "output_type": "execute_result",
          "data": {
            "text/plain": [
              "7298"
            ]
          },
          "metadata": {
            "tags": []
          },
          "execution_count": 140
        }
      ]
    },
    {
      "cell_type": "markdown",
      "metadata": {
        "id": "VuFjL-Z7pZ-R"
      },
      "source": [
        "#Models using Flipped Data"
      ]
    },
    {
      "cell_type": "code",
      "metadata": {
        "id": "OXL4yHy_tM-H"
      },
      "source": [
        "enc = OneHotEncoder(handle_unknown='ignore')"
      ],
      "execution_count": 141,
      "outputs": []
    },
    {
      "cell_type": "code",
      "metadata": {
        "id": "cxH4atCltY04"
      },
      "source": [
        "enc_df = pd.DataFrame(enc.fit_transform(flipped_df[['Winner_team','TOSS']]).toarray())"
      ],
      "execution_count": 142,
      "outputs": []
    },
    {
      "cell_type": "code",
      "metadata": {
        "id": "01xxoyR6wRbi",
        "outputId": "ac626a89-551a-4d80-e4ca-2e7f158829d6",
        "colab": {
          "base_uri": "https://localhost:8080/",
          "height": 309
        }
      },
      "source": [
        "flipped_df = flipped_df.join(enc_df)\n",
        "flipped_df.head()"
      ],
      "execution_count": 143,
      "outputs": [
        {
          "output_type": "execute_result",
          "data": {
            "text/html": [
              "<div>\n",
              "<style scoped>\n",
              "    .dataframe tbody tr th:only-of-type {\n",
              "        vertical-align: middle;\n",
              "    }\n",
              "\n",
              "    .dataframe tbody tr th {\n",
              "        vertical-align: top;\n",
              "    }\n",
              "\n",
              "    .dataframe thead th {\n",
              "        text-align: right;\n",
              "    }\n",
              "</style>\n",
              "<table border=\"1\" class=\"dataframe\">\n",
              "  <thead>\n",
              "    <tr style=\"text-align: right;\">\n",
              "      <th></th>\n",
              "      <th>Date</th>\n",
              "      <th>Team_1</th>\n",
              "      <th>Team_2</th>\n",
              "      <th>Venue</th>\n",
              "      <th>MatchCode</th>\n",
              "      <th>GroundCode</th>\n",
              "      <th>TOSS</th>\n",
              "      <th>Score_1</th>\n",
              "      <th>Score_2</th>\n",
              "      <th>Winner</th>\n",
              "      <th>Winner_team</th>\n",
              "      <th>NRR_team1</th>\n",
              "      <th>NRR_team2</th>\n",
              "      <th>0</th>\n",
              "      <th>1</th>\n",
              "      <th>2</th>\n",
              "      <th>3</th>\n",
              "    </tr>\n",
              "  </thead>\n",
              "  <tbody>\n",
              "    <tr>\n",
              "      <th>0</th>\n",
              "      <td>2015-03-04</td>\n",
              "      <td>AFG</td>\n",
              "      <td>AUS</td>\n",
              "      <td>1</td>\n",
              "      <td>3773</td>\n",
              "      <td>65</td>\n",
              "      <td>1</td>\n",
              "      <td>142</td>\n",
              "      <td>417</td>\n",
              "      <td>AUS</td>\n",
              "      <td>2</td>\n",
              "      <td>-5.5</td>\n",
              "      <td>5.5</td>\n",
              "      <td>0.0</td>\n",
              "      <td>1.0</td>\n",
              "      <td>1.0</td>\n",
              "      <td>0.0</td>\n",
              "    </tr>\n",
              "    <tr>\n",
              "      <th>0</th>\n",
              "      <td>2015-03-04</td>\n",
              "      <td>AUS</td>\n",
              "      <td>AFG</td>\n",
              "      <td>2</td>\n",
              "      <td>3773</td>\n",
              "      <td>65</td>\n",
              "      <td>2</td>\n",
              "      <td>417</td>\n",
              "      <td>142</td>\n",
              "      <td>AUS</td>\n",
              "      <td>1</td>\n",
              "      <td>5.5</td>\n",
              "      <td>-5.5</td>\n",
              "      <td>0.0</td>\n",
              "      <td>1.0</td>\n",
              "      <td>1.0</td>\n",
              "      <td>0.0</td>\n",
              "    </tr>\n",
              "    <tr>\n",
              "      <th>1</th>\n",
              "      <td>2012-08-25</td>\n",
              "      <td>AFG</td>\n",
              "      <td>AUS</td>\n",
              "      <td>2</td>\n",
              "      <td>3437</td>\n",
              "      <td>156</td>\n",
              "      <td>2</td>\n",
              "      <td>206</td>\n",
              "      <td>272</td>\n",
              "      <td>AUS</td>\n",
              "      <td>2</td>\n",
              "      <td>-1.32</td>\n",
              "      <td>1.32</td>\n",
              "      <td>0.0</td>\n",
              "      <td>1.0</td>\n",
              "      <td>0.0</td>\n",
              "      <td>1.0</td>\n",
              "    </tr>\n",
              "    <tr>\n",
              "      <th>1</th>\n",
              "      <td>2012-08-25</td>\n",
              "      <td>AUS</td>\n",
              "      <td>AFG</td>\n",
              "      <td>1</td>\n",
              "      <td>3437</td>\n",
              "      <td>156</td>\n",
              "      <td>1</td>\n",
              "      <td>272</td>\n",
              "      <td>206</td>\n",
              "      <td>AUS</td>\n",
              "      <td>1</td>\n",
              "      <td>1.32</td>\n",
              "      <td>-1.32</td>\n",
              "      <td>0.0</td>\n",
              "      <td>1.0</td>\n",
              "      <td>0.0</td>\n",
              "      <td>1.0</td>\n",
              "    </tr>\n",
              "    <tr>\n",
              "      <th>2</th>\n",
              "      <td>2019-06-01</td>\n",
              "      <td>AFG</td>\n",
              "      <td>AUS</td>\n",
              "      <td>2</td>\n",
              "      <td>4306</td>\n",
              "      <td>149</td>\n",
              "      <td>1</td>\n",
              "      <td>207</td>\n",
              "      <td>209</td>\n",
              "      <td>AUS</td>\n",
              "      <td>2</td>\n",
              "      <td>-0.04</td>\n",
              "      <td>0.04</td>\n",
              "      <td>0.0</td>\n",
              "      <td>1.0</td>\n",
              "      <td>1.0</td>\n",
              "      <td>0.0</td>\n",
              "    </tr>\n",
              "  </tbody>\n",
              "</table>\n",
              "</div>"
            ],
            "text/plain": [
              "         Date Team_1 Team_2  Venue  MatchCode  ...  NRR_team2    0    1    2    3\n",
              "0  2015-03-04    AFG    AUS      1       3773  ...        5.5  0.0  1.0  1.0  0.0\n",
              "0  2015-03-04    AUS    AFG      2       3773  ...       -5.5  0.0  1.0  1.0  0.0\n",
              "1  2012-08-25    AFG    AUS      2       3437  ...       1.32  0.0  1.0  0.0  1.0\n",
              "1  2012-08-25    AUS    AFG      1       3437  ...      -1.32  0.0  1.0  0.0  1.0\n",
              "2  2019-06-01    AFG    AUS      2       4306  ...       0.04  0.0  1.0  1.0  0.0\n",
              "\n",
              "[5 rows x 17 columns]"
            ]
          },
          "metadata": {
            "tags": []
          },
          "execution_count": 143
        }
      ]
    },
    {
      "cell_type": "code",
      "metadata": {
        "id": "963-E5EnzKGZ"
      },
      "source": [
        "flipped_df.rename(columns = {0: 'Win1',1: 'Win2',2: 'Toss1',3: 'Toss2'}, inplace = True)"
      ],
      "execution_count": 144,
      "outputs": []
    },
    {
      "cell_type": "code",
      "metadata": {
        "id": "5yO9TCO48lnJ"
      },
      "source": [
        "labelencoder = LabelEncoder()\n",
        "\n",
        "flipped_df['Team_1Enc'] = labelencoder.fit_transform(flipped_df['Team_1'])\n",
        "flipped_df['Team_2Enc'] = labelencoder.fit_transform(flipped_df['Team_2'])"
      ],
      "execution_count": 145,
      "outputs": []
    },
    {
      "cell_type": "code",
      "metadata": {
        "id": "ZSGvLZw0zlqn",
        "outputId": "78176fde-153b-448e-9dd9-fefcbd82d4f1",
        "colab": {
          "base_uri": "https://localhost:8080/",
          "height": 309
        }
      },
      "source": [
        "flipped_df.head()"
      ],
      "execution_count": 146,
      "outputs": [
        {
          "output_type": "execute_result",
          "data": {
            "text/html": [
              "<div>\n",
              "<style scoped>\n",
              "    .dataframe tbody tr th:only-of-type {\n",
              "        vertical-align: middle;\n",
              "    }\n",
              "\n",
              "    .dataframe tbody tr th {\n",
              "        vertical-align: top;\n",
              "    }\n",
              "\n",
              "    .dataframe thead th {\n",
              "        text-align: right;\n",
              "    }\n",
              "</style>\n",
              "<table border=\"1\" class=\"dataframe\">\n",
              "  <thead>\n",
              "    <tr style=\"text-align: right;\">\n",
              "      <th></th>\n",
              "      <th>Date</th>\n",
              "      <th>Team_1</th>\n",
              "      <th>Team_2</th>\n",
              "      <th>Venue</th>\n",
              "      <th>MatchCode</th>\n",
              "      <th>GroundCode</th>\n",
              "      <th>TOSS</th>\n",
              "      <th>Score_1</th>\n",
              "      <th>Score_2</th>\n",
              "      <th>Winner</th>\n",
              "      <th>Winner_team</th>\n",
              "      <th>NRR_team1</th>\n",
              "      <th>NRR_team2</th>\n",
              "      <th>Win1</th>\n",
              "      <th>Win2</th>\n",
              "      <th>Toss1</th>\n",
              "      <th>Toss2</th>\n",
              "      <th>Team_1Enc</th>\n",
              "      <th>Team_2Enc</th>\n",
              "    </tr>\n",
              "  </thead>\n",
              "  <tbody>\n",
              "    <tr>\n",
              "      <th>0</th>\n",
              "      <td>2015-03-04</td>\n",
              "      <td>AFG</td>\n",
              "      <td>AUS</td>\n",
              "      <td>1</td>\n",
              "      <td>3773</td>\n",
              "      <td>65</td>\n",
              "      <td>1</td>\n",
              "      <td>142</td>\n",
              "      <td>417</td>\n",
              "      <td>AUS</td>\n",
              "      <td>2</td>\n",
              "      <td>-5.5</td>\n",
              "      <td>5.5</td>\n",
              "      <td>0.0</td>\n",
              "      <td>1.0</td>\n",
              "      <td>1.0</td>\n",
              "      <td>0.0</td>\n",
              "      <td>0</td>\n",
              "      <td>1</td>\n",
              "    </tr>\n",
              "    <tr>\n",
              "      <th>0</th>\n",
              "      <td>2015-03-04</td>\n",
              "      <td>AUS</td>\n",
              "      <td>AFG</td>\n",
              "      <td>2</td>\n",
              "      <td>3773</td>\n",
              "      <td>65</td>\n",
              "      <td>2</td>\n",
              "      <td>417</td>\n",
              "      <td>142</td>\n",
              "      <td>AUS</td>\n",
              "      <td>1</td>\n",
              "      <td>5.5</td>\n",
              "      <td>-5.5</td>\n",
              "      <td>0.0</td>\n",
              "      <td>1.0</td>\n",
              "      <td>1.0</td>\n",
              "      <td>0.0</td>\n",
              "      <td>1</td>\n",
              "      <td>0</td>\n",
              "    </tr>\n",
              "    <tr>\n",
              "      <th>1</th>\n",
              "      <td>2012-08-25</td>\n",
              "      <td>AFG</td>\n",
              "      <td>AUS</td>\n",
              "      <td>2</td>\n",
              "      <td>3437</td>\n",
              "      <td>156</td>\n",
              "      <td>2</td>\n",
              "      <td>206</td>\n",
              "      <td>272</td>\n",
              "      <td>AUS</td>\n",
              "      <td>2</td>\n",
              "      <td>-1.32</td>\n",
              "      <td>1.32</td>\n",
              "      <td>0.0</td>\n",
              "      <td>1.0</td>\n",
              "      <td>0.0</td>\n",
              "      <td>1.0</td>\n",
              "      <td>0</td>\n",
              "      <td>1</td>\n",
              "    </tr>\n",
              "    <tr>\n",
              "      <th>1</th>\n",
              "      <td>2012-08-25</td>\n",
              "      <td>AUS</td>\n",
              "      <td>AFG</td>\n",
              "      <td>1</td>\n",
              "      <td>3437</td>\n",
              "      <td>156</td>\n",
              "      <td>1</td>\n",
              "      <td>272</td>\n",
              "      <td>206</td>\n",
              "      <td>AUS</td>\n",
              "      <td>1</td>\n",
              "      <td>1.32</td>\n",
              "      <td>-1.32</td>\n",
              "      <td>0.0</td>\n",
              "      <td>1.0</td>\n",
              "      <td>0.0</td>\n",
              "      <td>1.0</td>\n",
              "      <td>1</td>\n",
              "      <td>0</td>\n",
              "    </tr>\n",
              "    <tr>\n",
              "      <th>2</th>\n",
              "      <td>2019-06-01</td>\n",
              "      <td>AFG</td>\n",
              "      <td>AUS</td>\n",
              "      <td>2</td>\n",
              "      <td>4306</td>\n",
              "      <td>149</td>\n",
              "      <td>1</td>\n",
              "      <td>207</td>\n",
              "      <td>209</td>\n",
              "      <td>AUS</td>\n",
              "      <td>2</td>\n",
              "      <td>-0.04</td>\n",
              "      <td>0.04</td>\n",
              "      <td>0.0</td>\n",
              "      <td>1.0</td>\n",
              "      <td>1.0</td>\n",
              "      <td>0.0</td>\n",
              "      <td>0</td>\n",
              "      <td>1</td>\n",
              "    </tr>\n",
              "  </tbody>\n",
              "</table>\n",
              "</div>"
            ],
            "text/plain": [
              "         Date Team_1 Team_2  Venue  ...  Toss1  Toss2 Team_1Enc  Team_2Enc\n",
              "0  2015-03-04    AFG    AUS      1  ...    1.0    0.0         0          1\n",
              "0  2015-03-04    AUS    AFG      2  ...    1.0    0.0         1          0\n",
              "1  2012-08-25    AFG    AUS      2  ...    0.0    1.0         0          1\n",
              "1  2012-08-25    AUS    AFG      1  ...    0.0    1.0         1          0\n",
              "2  2019-06-01    AFG    AUS      2  ...    1.0    0.0         0          1\n",
              "\n",
              "[5 rows x 19 columns]"
            ]
          },
          "metadata": {
            "tags": []
          },
          "execution_count": 146
        }
      ]
    },
    {
      "cell_type": "code",
      "metadata": {
        "id": "sOaZBhVMgnNG"
      },
      "source": [
        "X = flipped_df[['Date','Team_1Enc','Team_2Enc','Venue','GroundCode','TOSS','Toss1','Toss2']].copy()\n",
        "y = flipped_df[['Winner_team','Win1','Win2','Score_1','Score_2','NRR_team1','NRR_team2']].copy()"
      ],
      "execution_count": 166,
      "outputs": []
    },
    {
      "cell_type": "code",
      "metadata": {
        "id": "CKXzFgJqhKuG"
      },
      "source": [
        "# Test Train Split\n",
        "X_train, X_test, y_train, y_test = train_test_split(X, y, test_size = 1/5, random_state = 100)"
      ],
      "execution_count": 167,
      "outputs": []
    },
    {
      "cell_type": "code",
      "metadata": {
        "id": "kVzRqCN8hsfK",
        "outputId": "7c088d49-67cd-4f01-bfa5-39d6f6c58deb",
        "colab": {
          "base_uri": "https://localhost:8080/",
          "height": 202
        }
      },
      "source": [
        "X_train.head()"
      ],
      "execution_count": 168,
      "outputs": [
        {
          "output_type": "execute_result",
          "data": {
            "text/html": [
              "<div>\n",
              "<style scoped>\n",
              "    .dataframe tbody tr th:only-of-type {\n",
              "        vertical-align: middle;\n",
              "    }\n",
              "\n",
              "    .dataframe tbody tr th {\n",
              "        vertical-align: top;\n",
              "    }\n",
              "\n",
              "    .dataframe thead th {\n",
              "        text-align: right;\n",
              "    }\n",
              "</style>\n",
              "<table border=\"1\" class=\"dataframe\">\n",
              "  <thead>\n",
              "    <tr style=\"text-align: right;\">\n",
              "      <th></th>\n",
              "      <th>Date</th>\n",
              "      <th>Team_1Enc</th>\n",
              "      <th>Team_2Enc</th>\n",
              "      <th>Venue</th>\n",
              "      <th>GroundCode</th>\n",
              "      <th>TOSS</th>\n",
              "      <th>Toss1</th>\n",
              "      <th>Toss2</th>\n",
              "    </tr>\n",
              "  </thead>\n",
              "  <tbody>\n",
              "    <tr>\n",
              "      <th>1621</th>\n",
              "      <td>2020-02-09</td>\n",
              "      <td>3</td>\n",
              "      <td>10</td>\n",
              "      <td>1</td>\n",
              "      <td>66</td>\n",
              "      <td>1</td>\n",
              "      <td>1.0</td>\n",
              "      <td>0.0</td>\n",
              "    </tr>\n",
              "    <tr>\n",
              "      <th>1054</th>\n",
              "      <td>2010-07-20</td>\n",
              "      <td>2</td>\n",
              "      <td>7</td>\n",
              "      <td>2</td>\n",
              "      <td>203</td>\n",
              "      <td>2</td>\n",
              "      <td>0.0</td>\n",
              "      <td>1.0</td>\n",
              "    </tr>\n",
              "    <tr>\n",
              "      <th>2703</th>\n",
              "      <td>2018-11-07</td>\n",
              "      <td>8</td>\n",
              "      <td>9</td>\n",
              "      <td>2</td>\n",
              "      <td>192</td>\n",
              "      <td>1</td>\n",
              "      <td>1.0</td>\n",
              "      <td>0.0</td>\n",
              "    </tr>\n",
              "    <tr>\n",
              "      <th>1505</th>\n",
              "      <td>2001-06-17</td>\n",
              "      <td>3</td>\n",
              "      <td>9</td>\n",
              "      <td>0</td>\n",
              "      <td>27</td>\n",
              "      <td>2</td>\n",
              "      <td>0.0</td>\n",
              "      <td>1.0</td>\n",
              "    </tr>\n",
              "    <tr>\n",
              "      <th>1716</th>\n",
              "      <td>2007-07-04</td>\n",
              "      <td>13</td>\n",
              "      <td>3</td>\n",
              "      <td>0</td>\n",
              "      <td>19</td>\n",
              "      <td>2</td>\n",
              "      <td>1.0</td>\n",
              "      <td>0.0</td>\n",
              "    </tr>\n",
              "  </tbody>\n",
              "</table>\n",
              "</div>"
            ],
            "text/plain": [
              "            Date  Team_1Enc  Team_2Enc  Venue  GroundCode TOSS  Toss1  Toss2\n",
              "1621  2020-02-09          3         10      1          66    1    1.0    0.0\n",
              "1054  2010-07-20          2          7      2         203    2    0.0    1.0\n",
              "2703  2018-11-07          8          9      2         192    1    1.0    0.0\n",
              "1505  2001-06-17          3          9      0          27    2    0.0    1.0\n",
              "1716  2007-07-04         13          3      0          19    2    1.0    0.0"
            ]
          },
          "metadata": {
            "tags": []
          },
          "execution_count": 168
        }
      ]
    },
    {
      "cell_type": "code",
      "metadata": {
        "id": "XT38dbk7hui0",
        "outputId": "9b86cc23-5d19-4de3-dca0-8025632fa082",
        "colab": {
          "base_uri": "https://localhost:8080/",
          "height": 202
        }
      },
      "source": [
        "y_train.head()"
      ],
      "execution_count": 169,
      "outputs": [
        {
          "output_type": "execute_result",
          "data": {
            "text/html": [
              "<div>\n",
              "<style scoped>\n",
              "    .dataframe tbody tr th:only-of-type {\n",
              "        vertical-align: middle;\n",
              "    }\n",
              "\n",
              "    .dataframe tbody tr th {\n",
              "        vertical-align: top;\n",
              "    }\n",
              "\n",
              "    .dataframe thead th {\n",
              "        text-align: right;\n",
              "    }\n",
              "</style>\n",
              "<table border=\"1\" class=\"dataframe\">\n",
              "  <thead>\n",
              "    <tr style=\"text-align: right;\">\n",
              "      <th></th>\n",
              "      <th>Winner_team</th>\n",
              "      <th>Win1</th>\n",
              "      <th>Win2</th>\n",
              "      <th>Score_1</th>\n",
              "      <th>Score_2</th>\n",
              "      <th>NRR_team1</th>\n",
              "      <th>NRR_team2</th>\n",
              "    </tr>\n",
              "  </thead>\n",
              "  <tbody>\n",
              "    <tr>\n",
              "      <th>1621</th>\n",
              "      <td>1</td>\n",
              "      <td>1.0</td>\n",
              "      <td>0.0</td>\n",
              "      <td>257</td>\n",
              "      <td>256</td>\n",
              "      <td>0.02</td>\n",
              "      <td>-0.02</td>\n",
              "    </tr>\n",
              "    <tr>\n",
              "      <th>1054</th>\n",
              "      <td>2</td>\n",
              "      <td>0.0</td>\n",
              "      <td>1.0</td>\n",
              "      <td>199</td>\n",
              "      <td>200</td>\n",
              "      <td>-2.64983</td>\n",
              "      <td>2.64983</td>\n",
              "    </tr>\n",
              "    <tr>\n",
              "      <th>2703</th>\n",
              "      <td>1</td>\n",
              "      <td>1.0</td>\n",
              "      <td>0.0</td>\n",
              "      <td>266</td>\n",
              "      <td>219</td>\n",
              "      <td>0.94</td>\n",
              "      <td>-0.94</td>\n",
              "    </tr>\n",
              "    <tr>\n",
              "      <th>1505</th>\n",
              "      <td>1</td>\n",
              "      <td>1.0</td>\n",
              "      <td>0.0</td>\n",
              "      <td>156</td>\n",
              "      <td>153</td>\n",
              "      <td>0.06</td>\n",
              "      <td>-0.06</td>\n",
              "    </tr>\n",
              "    <tr>\n",
              "      <th>1716</th>\n",
              "      <td>1</td>\n",
              "      <td>0.0</td>\n",
              "      <td>1.0</td>\n",
              "      <td>278</td>\n",
              "      <td>217</td>\n",
              "      <td>2.02641</td>\n",
              "      <td>-2.02641</td>\n",
              "    </tr>\n",
              "  </tbody>\n",
              "</table>\n",
              "</div>"
            ],
            "text/plain": [
              "     Winner_team  Win1  Win2  Score_1  Score_2 NRR_team1 NRR_team2\n",
              "1621           1   1.0   0.0      257      256      0.02     -0.02\n",
              "1054           2   0.0   1.0      199      200  -2.64983   2.64983\n",
              "2703           1   1.0   0.0      266      219      0.94     -0.94\n",
              "1505           1   1.0   0.0      156      153      0.06     -0.06\n",
              "1716           1   0.0   1.0      278      217   2.02641  -2.02641"
            ]
          },
          "metadata": {
            "tags": []
          },
          "execution_count": 169
        }
      ]
    },
    {
      "cell_type": "markdown",
      "metadata": {
        "id": "-kB8Ruvqh8rp"
      },
      "source": [
        "##Training on Scores"
      ]
    },
    {
      "cell_type": "code",
      "metadata": {
        "id": "bSbz4wE-hxqf"
      },
      "source": [
        "def print_model_scores(model, data, y, predictors, target):\n",
        "    '''\n",
        "    A generic function to generate the performance report of the\n",
        "    model in question on the data passed to it\n",
        "    Args:\n",
        "        model: ML Model to be checked\n",
        "        data: data on which the model needs to pe trained\n",
        "        y: data containing the target variables\n",
        "        predictors: independent feature variable\n",
        "        target: target variable\n",
        "    '''\n",
        "    model.fit(data[predictors], y[target])\n",
        "    predictions = model.predict(data[predictors])\n",
        "    rms = sklearn.metrics.mean_squared_error(predictions,y[target])**0.5\n",
        "    print('RMS : %s' % '{0:.2%}'.format(rms))\n",
        "    r2 = sklearn.metrics.r2_score(predictions,y[target])\n",
        "    print('R2 : %s' % '{0:.2%}'.format(r2))\n",
        "    return np.asarray(predictions)"
      ],
      "execution_count": 170,
      "outputs": []
    },
    {
      "cell_type": "code",
      "metadata": {
        "id": "G4-2zQtFh12k"
      },
      "source": [
        "def winner_prediction(model, data, y, predictors,winner):\n",
        "  '''\n",
        "    A generic function to predict the winner for the model in question \n",
        "    \n",
        "    Args:\n",
        "        model: ML Model to be checked\n",
        "        data: data on which the model needs to be trained\n",
        "        y: data containing the target variables\n",
        "        predictors: independent feature variable\n",
        "        winner: winning team\n",
        "  '''\n",
        "  pred1 = print_model_scores(model, X_train, y_train,predictor_var, ['Score_1'])\n",
        "  pred2 = print_model_scores(model, X_train, y_train,predictor_var, ['Score_2'])\n",
        "\n",
        "  pred = pred1 - pred2\n",
        "\n",
        "  for i in range(len(pred)):\n",
        "    if ((pred[i])>0):\n",
        "      pred[i] = 1\n",
        "    else:\n",
        "      pred[i] = 2\n",
        "\n",
        "  print(\"Model Accuracy is: \")\n",
        "  print(sum(1 for x,y in zip(pred,winner) if x == y) / len(winner))"
      ],
      "execution_count": 171,
      "outputs": []
    },
    {
      "cell_type": "markdown",
      "metadata": {
        "id": "f9-YutibiKSe"
      },
      "source": [
        "##Model1 - Toss + GroundCode "
      ]
    },
    {
      "cell_type": "code",
      "metadata": {
        "id": "QpYpVQiZh6D3",
        "outputId": "0a9cc9aa-3748-442a-8ebb-6237083bd026",
        "colab": {
          "base_uri": "https://localhost:8080/"
        }
      },
      "source": [
        "winner = y_train['Winner_team']\n",
        "predictor_var = ['Team_1Enc','Team_2Enc', 'GroundCode','TOSS']\n",
        "model = RandomForestRegressor(n_estimators = 100, random_state = 0)\n",
        "winner_prediction(model, X_train, y_train,predictor_var, winner)"
      ],
      "execution_count": 172,
      "outputs": [
        {
          "output_type": "stream",
          "text": [
            "/usr/local/lib/python3.6/dist-packages/ipykernel_launcher.py:12: DataConversionWarning: A column-vector y was passed when a 1d array was expected. Please change the shape of y to (n_samples,), for example using ravel().\n",
            "  if sys.path[0] == '':\n"
          ],
          "name": "stderr"
        },
        {
          "output_type": "stream",
          "text": [
            "RMS : 3952.37%\n",
            "R2 : -5.16%\n"
          ],
          "name": "stdout"
        },
        {
          "output_type": "stream",
          "text": [
            "/usr/local/lib/python3.6/dist-packages/ipykernel_launcher.py:12: DataConversionWarning: A column-vector y was passed when a 1d array was expected. Please change the shape of y to (n_samples,), for example using ravel().\n",
            "  if sys.path[0] == '':\n"
          ],
          "name": "stderr"
        },
        {
          "output_type": "stream",
          "text": [
            "RMS : 3960.07%\n",
            "R2 : -6.83%\n",
            "Model Accuracy is: \n",
            "0.7261048304213772\n"
          ],
          "name": "stdout"
        }
      ]
    },
    {
      "cell_type": "code",
      "metadata": {
        "id": "eRG72jhGiH9l",
        "outputId": "0c856395-12f8-4eeb-b632-454124489b9c",
        "colab": {
          "base_uri": "https://localhost:8080/"
        }
      },
      "source": [
        "winner = y_train['Winner_team']\n",
        "predictor_var = ['Team_1Enc','Team_2Enc', 'GroundCode','TOSS']\n",
        "model = LinearRegression()\n",
        "winner_prediction(model, X_train, y_train,predictor_var, winner)"
      ],
      "execution_count": 173,
      "outputs": [
        {
          "output_type": "stream",
          "text": [
            "RMS : 6080.32%\n",
            "R2 : -23188.61%\n",
            "RMS : 6064.36%\n",
            "R2 : -20429.76%\n",
            "Model Accuracy is: \n",
            "0.5193559438163755\n"
          ],
          "name": "stdout"
        }
      ]
    },
    {
      "cell_type": "code",
      "metadata": {
        "id": "sddbJJN0iaoj",
        "outputId": "664cf4bc-ff33-409b-f962-5219fd83c5ea",
        "colab": {
          "base_uri": "https://localhost:8080/"
        }
      },
      "source": [
        "winner = y_train['Winner_team']\n",
        "predictor_var = ['Team_1Enc','Team_2Enc', 'GroundCode','TOSS']\n",
        "model = DecisionTreeRegressor()\n",
        "winner_prediction(model, X_train, y_train,predictor_var, winner)"
      ],
      "execution_count": 174,
      "outputs": [
        {
          "output_type": "stream",
          "text": [
            "RMS : 3632.85%\n",
            "R2 : 44.85%\n",
            "RMS : 3644.87%\n",
            "R2 : 43.87%\n",
            "Model Accuracy is: \n",
            "0.8189448441247003\n"
          ],
          "name": "stdout"
        }
      ]
    },
    {
      "cell_type": "code",
      "metadata": {
        "id": "o7EU6HMOidg7",
        "outputId": "ff8e9290-e499-4825-b486-9d23323a0114",
        "colab": {
          "base_uri": "https://localhost:8080/"
        }
      },
      "source": [
        "winner = y_train['Winner_team']\n",
        "predictor_var = ['Team_1Enc','Team_2Enc', 'GroundCode','TOSS']\n",
        "model = LassoCV()\n",
        "winner_prediction(model, X_train, y_train,predictor_var, winner)"
      ],
      "execution_count": 175,
      "outputs": [
        {
          "output_type": "stream",
          "text": [
            "RMS : 6082.79%\n",
            "R2 : -35965.70%\n"
          ],
          "name": "stdout"
        },
        {
          "output_type": "stream",
          "text": [
            "/usr/local/lib/python3.6/dist-packages/sklearn/linear_model/_coordinate_descent.py:1088: DataConversionWarning: A column-vector y was passed when a 1d array was expected. Please change the shape of y to (n_samples, ), for example using ravel().\n",
            "  y = column_or_1d(y, warn=True)\n",
            "/usr/local/lib/python3.6/dist-packages/sklearn/linear_model/_coordinate_descent.py:1088: DataConversionWarning: A column-vector y was passed when a 1d array was expected. Please change the shape of y to (n_samples, ), for example using ravel().\n",
            "  y = column_or_1d(y, warn=True)\n"
          ],
          "name": "stderr"
        },
        {
          "output_type": "stream",
          "text": [
            "RMS : 6065.55%\n",
            "R2 : -25259.06%\n",
            "Model Accuracy is: \n",
            "0.5320315176430285\n"
          ],
          "name": "stdout"
        }
      ]
    },
    {
      "cell_type": "markdown",
      "metadata": {
        "id": "R5RKIIYuihU1"
      },
      "source": [
        "##Model2 - Toss + GroundCode + Venue"
      ]
    },
    {
      "cell_type": "code",
      "metadata": {
        "id": "oRtjoInhim81",
        "outputId": "954b8475-dad9-4bc1-95ab-5c8bb36f898a",
        "colab": {
          "base_uri": "https://localhost:8080/"
        }
      },
      "source": [
        "winner = y_train['Winner_team']\n",
        "predictor_var = ['Team_1Enc','Team_2Enc', 'GroundCode','TOSS','Venue']\n",
        "model = RandomForestRegressor(n_estimators = 100, random_state = 0)\n",
        "winner_prediction(model, X_train, y_train,predictor_var, winner)"
      ],
      "execution_count": 176,
      "outputs": [
        {
          "output_type": "stream",
          "text": [
            "/usr/local/lib/python3.6/dist-packages/ipykernel_launcher.py:12: DataConversionWarning: A column-vector y was passed when a 1d array was expected. Please change the shape of y to (n_samples,), for example using ravel().\n",
            "  if sys.path[0] == '':\n"
          ],
          "name": "stderr"
        },
        {
          "output_type": "stream",
          "text": [
            "RMS : 3948.65%\n",
            "R2 : -5.18%\n"
          ],
          "name": "stdout"
        },
        {
          "output_type": "stream",
          "text": [
            "/usr/local/lib/python3.6/dist-packages/ipykernel_launcher.py:12: DataConversionWarning: A column-vector y was passed when a 1d array was expected. Please change the shape of y to (n_samples,), for example using ravel().\n",
            "  if sys.path[0] == '':\n"
          ],
          "name": "stderr"
        },
        {
          "output_type": "stream",
          "text": [
            "RMS : 3953.59%\n",
            "R2 : -6.52%\n",
            "Model Accuracy is: \n",
            "0.7303871188763275\n"
          ],
          "name": "stdout"
        }
      ]
    },
    {
      "cell_type": "code",
      "metadata": {
        "id": "dc6yotvJipdn",
        "outputId": "a3288ede-5983-445a-a946-f2d45768f9f9",
        "colab": {
          "base_uri": "https://localhost:8080/"
        }
      },
      "source": [
        "winner = y_train['Winner_team']\n",
        "predictor_var = ['Team_1Enc','Team_2Enc', 'GroundCode','TOSS','Venue']\n",
        "model = LinearRegression()\n",
        "winner_prediction(model, X_train, y_train,predictor_var, winner)"
      ],
      "execution_count": 177,
      "outputs": [
        {
          "output_type": "stream",
          "text": [
            "RMS : 6080.02%\n",
            "R2 : -22666.18%\n",
            "RMS : 6063.46%\n",
            "R2 : -19240.89%\n",
            "Model Accuracy is: \n",
            "0.5196985268927715\n"
          ],
          "name": "stdout"
        }
      ]
    },
    {
      "cell_type": "code",
      "metadata": {
        "id": "1LSdlFCtitNh",
        "outputId": "434676c0-b098-45a0-ea0d-6ff0a52e0473",
        "colab": {
          "base_uri": "https://localhost:8080/"
        }
      },
      "source": [
        "winner = y_train['Winner_team']\n",
        "predictor_var = ['Team_1Enc','Team_2Enc', 'GroundCode','TOSS','Venue']\n",
        "model = DecisionTreeRegressor()\n",
        "winner_prediction(model, X_train, y_train,predictor_var, winner)"
      ],
      "execution_count": 178,
      "outputs": [
        {
          "output_type": "stream",
          "text": [
            "RMS : 3632.66%\n",
            "R2 : 44.86%\n",
            "RMS : 3644.69%\n",
            "R2 : 43.88%\n",
            "Model Accuracy is: \n",
            "0.8192874272010963\n"
          ],
          "name": "stdout"
        }
      ]
    },
    {
      "cell_type": "code",
      "metadata": {
        "id": "jWebS9rzivsz",
        "outputId": "90e3cc7c-2096-4f01-9a20-40962230e822",
        "colab": {
          "base_uri": "https://localhost:8080/"
        }
      },
      "source": [
        "winner = y_train['Winner_team']\n",
        "predictor_var = ['Team_1Enc','Team_2Enc', 'GroundCode','TOSS','Venue']\n",
        "model = LassoCV()\n",
        "winner_prediction(model, X_train, y_train,predictor_var, winner)"
      ],
      "execution_count": 179,
      "outputs": [
        {
          "output_type": "stream",
          "text": [
            "/usr/local/lib/python3.6/dist-packages/sklearn/linear_model/_coordinate_descent.py:1088: DataConversionWarning: A column-vector y was passed when a 1d array was expected. Please change the shape of y to (n_samples, ), for example using ravel().\n",
            "  y = column_or_1d(y, warn=True)\n",
            "/usr/local/lib/python3.6/dist-packages/sklearn/linear_model/_coordinate_descent.py:1088: DataConversionWarning: A column-vector y was passed when a 1d array was expected. Please change the shape of y to (n_samples, ), for example using ravel().\n",
            "  y = column_or_1d(y, warn=True)\n"
          ],
          "name": "stderr"
        },
        {
          "output_type": "stream",
          "text": [
            "RMS : 6082.79%\n",
            "R2 : -35965.70%\n",
            "RMS : 6063.51%\n",
            "R2 : -20291.76%\n",
            "Model Accuracy is: \n",
            "0.5275779376498801\n"
          ],
          "name": "stdout"
        }
      ]
    },
    {
      "cell_type": "markdown",
      "metadata": {
        "id": "an_TPodciygX"
      },
      "source": [
        "##Training on NRR"
      ]
    },
    {
      "cell_type": "code",
      "metadata": {
        "id": "4-qTW5toi7Bd"
      },
      "source": [
        "def print_model_scores(model, data, y, predictors, target):\n",
        "    '''\n",
        "    A generic function to generate the performance report of the\n",
        "    model in question on the data passed to it using cross-validation\n",
        "    \n",
        "    Args:\n",
        "        model: ML Model to be checked\n",
        "        data: data on which the model needs to pe trained\n",
        "        predictors: independent feature variable\n",
        "        target: target variable\n",
        "    '''\n",
        "    model.fit(data[predictors], y[target])\n",
        "    predictions = model.predict(data[predictors])\n",
        "    #scores = cross_val_score(model, data[predictors], y[target], scoring=\"neg_mean_squared_error\", cv=5)\n",
        "    #print('Cross-Validation Score :{}'.format(np.sqrt(-scores)))\n",
        "    rms = sklearn.metrics.mean_squared_error(predictions,y[target])**0.5\n",
        "    print('RMS : %s' % '{0:.2%}'.format(rms))\n",
        "    #print(f\"Average RMSE: {np.sqrt(-scores).mean()}\")\n",
        "    r2 = sklearn.metrics.r2_score(predictions,y[target])\n",
        "    print('R2 : %s' % '{0:.2%}'.format(r2))\n",
        "    return np.asarray(predictions)"
      ],
      "execution_count": 180,
      "outputs": []
    },
    {
      "cell_type": "code",
      "metadata": {
        "id": "7UY41tPDjW3t"
      },
      "source": [
        "def winner_prediction(model, data, y, predictors,winner):\n",
        "    pred = print_model_scores(model, X_train, y_train,predictor_var, ['NRR_team1'])\n",
        "    \n",
        "    \n",
        "    for i in range(len(pred)):\n",
        "        if ((pred[i])>0):\n",
        "            pred[i] = 1\n",
        "        elif (pred[i]==0):\n",
        "            pred[i] = 0\n",
        "        else:\n",
        "            pred[i] = 2\n",
        "\n",
        "    print(\"Model Accuracy is: \")\n",
        "    print(sum(1 for x,y in zip(pred,winner) if x == y) / len(winner))"
      ],
      "execution_count": 181,
      "outputs": []
    },
    {
      "cell_type": "markdown",
      "metadata": {
        "id": "SuGES9wqjiQ1"
      },
      "source": [
        "##Model1 - Toss + GroundCode "
      ]
    },
    {
      "cell_type": "code",
      "metadata": {
        "id": "QB9AQfQtjiQ4",
        "outputId": "dbe15fa2-65b0-4f6b-d21b-bf954b790463",
        "colab": {
          "base_uri": "https://localhost:8080/"
        }
      },
      "source": [
        "winner = y_train['Winner_team']\n",
        "predictor_var = ['Team_1Enc','Team_2Enc', 'GroundCode','TOSS']\n",
        "model = RandomForestRegressor(n_estimators = 100, random_state = 0)\n",
        "winner_prediction(model, X_train, y_train,predictor_var, winner)"
      ],
      "execution_count": 182,
      "outputs": [
        {
          "output_type": "stream",
          "text": [
            "/usr/local/lib/python3.6/dist-packages/ipykernel_launcher.py:12: DataConversionWarning: A column-vector y was passed when a 1d array was expected. Please change the shape of y to (n_samples,), for example using ravel().\n",
            "  if sys.path[0] == '':\n"
          ],
          "name": "stderr"
        },
        {
          "output_type": "stream",
          "text": [
            "RMS : 273.58%\n",
            "R2 : -91.20%\n",
            "Model Accuracy is: \n",
            "0.7226789996574169\n"
          ],
          "name": "stdout"
        }
      ]
    },
    {
      "cell_type": "code",
      "metadata": {
        "id": "g1JVfwVJjiRG",
        "outputId": "873b8ab9-6e93-4e50-8e93-d2537f4fc1ac",
        "colab": {
          "base_uri": "https://localhost:8080/"
        }
      },
      "source": [
        "winner = y_train['Winner_team']\n",
        "predictor_var = ['Team_1Enc','Team_2Enc', 'GroundCode','TOSS']\n",
        "model = LinearRegression()\n",
        "winner_prediction(model, X_train, y_train,predictor_var, winner)"
      ],
      "execution_count": 183,
      "outputs": [
        {
          "output_type": "stream",
          "text": [
            "RMS : 360.78%\n",
            "R2 : -26519.84%\n",
            "Model Accuracy is: \n",
            "0.4725933538883179\n"
          ],
          "name": "stdout"
        }
      ]
    },
    {
      "cell_type": "code",
      "metadata": {
        "id": "NLT4JVD5jiRP",
        "outputId": "99a4319a-7a86-4089-87e1-1d75d4e5ca6b",
        "colab": {
          "base_uri": "https://localhost:8080/"
        }
      },
      "source": [
        "winner = y_train['Winner_team']\n",
        "predictor_var = ['Team_1Enc','Team_2Enc', 'GroundCode','TOSS']\n",
        "model = DecisionTreeRegressor()\n",
        "winner_prediction(model, X_train, y_train,predictor_var, winner)"
      ],
      "execution_count": 184,
      "outputs": [
        {
          "output_type": "stream",
          "text": [
            "RMS : 261.69%\n",
            "R2 : -10.15%\n",
            "Model Accuracy is: \n",
            "0.7959917780061665\n"
          ],
          "name": "stdout"
        }
      ]
    },
    {
      "cell_type": "code",
      "metadata": {
        "id": "LzCXS_CajiRZ",
        "outputId": "e1920cfa-b6b4-4d1b-fd75-6fae73a10431",
        "colab": {
          "base_uri": "https://localhost:8080/"
        }
      },
      "source": [
        "winner = y_train['Winner_team']\n",
        "predictor_var = ['Team_1Enc','Team_2Enc', 'GroundCode','TOSS']\n",
        "model = LassoCV()\n",
        "winner_prediction(model, X_train, y_train,predictor_var, winner)"
      ],
      "execution_count": 185,
      "outputs": [
        {
          "output_type": "stream",
          "text": [
            "RMS : 360.78%\n",
            "R2 : -26689.92%\n",
            "Model Accuracy is: \n",
            "0.4725933538883179\n"
          ],
          "name": "stdout"
        },
        {
          "output_type": "stream",
          "text": [
            "/usr/local/lib/python3.6/dist-packages/sklearn/linear_model/_coordinate_descent.py:1088: DataConversionWarning: A column-vector y was passed when a 1d array was expected. Please change the shape of y to (n_samples, ), for example using ravel().\n",
            "  y = column_or_1d(y, warn=True)\n"
          ],
          "name": "stderr"
        }
      ]
    },
    {
      "cell_type": "markdown",
      "metadata": {
        "id": "WxSiTdA2jiRo"
      },
      "source": [
        "##Model2 - Toss + GroundCode + Venue"
      ]
    },
    {
      "cell_type": "code",
      "metadata": {
        "id": "W0dyE_9ejiRq",
        "outputId": "ce889479-91ca-4969-c43b-b3b8eca99b07",
        "colab": {
          "base_uri": "https://localhost:8080/"
        }
      },
      "source": [
        "winner = y_train['Winner_team']\n",
        "predictor_var = ['Team_1Enc','Team_2Enc', 'GroundCode','TOSS','Venue']\n",
        "model = RandomForestRegressor(n_estimators = 100, random_state = 0)\n",
        "winner_prediction(model, X_train, y_train,predictor_var, winner)"
      ],
      "execution_count": 186,
      "outputs": [
        {
          "output_type": "stream",
          "text": [
            "/usr/local/lib/python3.6/dist-packages/ipykernel_launcher.py:12: DataConversionWarning: A column-vector y was passed when a 1d array was expected. Please change the shape of y to (n_samples,), for example using ravel().\n",
            "  if sys.path[0] == '':\n"
          ],
          "name": "stderr"
        },
        {
          "output_type": "stream",
          "text": [
            "RMS : 273.17%\n",
            "R2 : -89.29%\n",
            "Model Accuracy is: \n",
            "0.7273038711887633\n"
          ],
          "name": "stdout"
        }
      ]
    },
    {
      "cell_type": "code",
      "metadata": {
        "id": "uiuj9DpjjiRy",
        "outputId": "f5dc68ec-9de2-4966-ea6c-70e8c0cf9569",
        "colab": {
          "base_uri": "https://localhost:8080/"
        }
      },
      "source": [
        "winner = y_train['Winner_team']\n",
        "predictor_var = ['Team_1Enc','Team_2Enc', 'GroundCode','TOSS','Venue']\n",
        "model = LinearRegression()\n",
        "winner_prediction(model, X_train, y_train,predictor_var, winner)"
      ],
      "execution_count": 187,
      "outputs": [
        {
          "output_type": "stream",
          "text": [
            "RMS : 360.76%\n",
            "R2 : -25795.41%\n",
            "Model Accuracy is: \n",
            "0.47704693388146624\n"
          ],
          "name": "stdout"
        }
      ]
    },
    {
      "cell_type": "code",
      "metadata": {
        "id": "8B18eMlIjiR7",
        "outputId": "63acf4f8-4c8e-4b0e-ef30-3b31a5d7763b",
        "colab": {
          "base_uri": "https://localhost:8080/"
        }
      },
      "source": [
        "winner = y_train['Winner_team']\n",
        "predictor_var = ['Team_1Enc','Team_2Enc', 'GroundCode','TOSS','Venue']\n",
        "model = DecisionTreeRegressor()\n",
        "winner_prediction(model, X_train, y_train,predictor_var, winner)"
      ],
      "execution_count": 188,
      "outputs": [
        {
          "output_type": "stream",
          "text": [
            "RMS : 261.68%\n",
            "R2 : -10.14%\n",
            "Model Accuracy is: \n",
            "0.7963343610825625\n"
          ],
          "name": "stdout"
        }
      ]
    },
    {
      "cell_type": "code",
      "metadata": {
        "id": "BLP7ZytBjiSD",
        "outputId": "cb6fd8db-5534-4837-e68e-102d0eb19bd1",
        "colab": {
          "base_uri": "https://localhost:8080/"
        }
      },
      "source": [
        "winner = y_train['Winner_team']\n",
        "predictor_var = ['Team_1Enc','Team_2Enc', 'GroundCode','TOSS','Venue']\n",
        "model = LassoCV()\n",
        "winner_prediction(model, X_train, y_train,predictor_var, winner)"
      ],
      "execution_count": 189,
      "outputs": [
        {
          "output_type": "stream",
          "text": [
            "RMS : 360.88%\n",
            "R2 : -37471.64%\n",
            "Model Accuracy is: \n",
            "0.4681397738951696\n"
          ],
          "name": "stdout"
        },
        {
          "output_type": "stream",
          "text": [
            "/usr/local/lib/python3.6/dist-packages/sklearn/linear_model/_coordinate_descent.py:1088: DataConversionWarning: A column-vector y was passed when a 1d array was expected. Please change the shape of y to (n_samples, ), for example using ravel().\n",
            "  y = column_or_1d(y, warn=True)\n"
          ],
          "name": "stderr"
        }
      ]
    }
  ]
}