{
 "cells": [
  {
   "cell_type": "code",
   "execution_count": null,
   "metadata": {},
   "outputs": [],
   "source": [
    "import json \n",
    "import pandas as pd"
   ]
  },
  {
   "cell_type": "code",
   "execution_count": null,
   "metadata": {},
   "outputs": [],
   "source": [
    "import re"
   ]
  },
  {
   "cell_type": "code",
   "execution_count": null,
   "metadata": {},
   "outputs": [],
   "source": [
    "f = open('Data/scorecard.json',) \n",
    "data = json.load(f)   "
   ]
  },
  {
   "cell_type": "code",
   "execution_count": null,
   "metadata": {},
   "outputs": [],
   "source": [
    "type(data)"
   ]
  },
  {
   "cell_type": "code",
   "execution_count": null,
   "metadata": {},
   "outputs": [],
   "source": [
    "data_keys = list(data.keys())"
   ]
  },
  {
   "cell_type": "code",
   "execution_count": null,
   "metadata": {},
   "outputs": [],
   "source": [
    "len(data.keys())"
   ]
  },
  {
   "cell_type": "code",
   "execution_count": null,
   "metadata": {},
   "outputs": [],
   "source": [
    "players={}"
   ]
  },
  {
   "cell_type": "code",
   "execution_count": null,
   "metadata": {},
   "outputs": [],
   "source": [
    "for i in data_keys:\n",
    "    if(data[i]!=None):\n",
    "            for j in data[i]['BATTING1']:\n",
    "                players.setdefault(i,[]).append(j[0])\n",
    "            for k in data[i]['BATTING2']:\n",
    "                players.setdefault(i,[]).append(k[0])\n",
    "            for l in data[i]['BOWLING1']:\n",
    "                players.setdefault(i,[]).append(l[0])\n",
    "            for m in data[i]['BOWLING2']:\n",
    "                players.setdefault(i,[]).append(m[0])"
   ]
  },
  {
   "cell_type": "code",
   "execution_count": null,
   "metadata": {},
   "outputs": [],
   "source": [
    "players['1046']"
   ]
  },
  {
   "cell_type": "code",
   "execution_count": null,
   "metadata": {},
   "outputs": [],
   "source": [
    "match = pd.read_csv(\"Data/matches.csv\")"
   ]
  },
  {
   "cell_type": "code",
   "execution_count": null,
   "metadata": {},
   "outputs": [],
   "source": [
    "len(match)"
   ]
  },
  {
   "cell_type": "code",
   "execution_count": null,
   "metadata": {},
   "outputs": [],
   "source": [
    "len(match.MatchCode.unique())"
   ]
  },
  {
   "cell_type": "code",
   "execution_count": null,
   "metadata": {},
   "outputs": [],
   "source": [
    "see_patterns=[]"
   ]
  },
  {
   "cell_type": "code",
   "execution_count": null,
   "metadata": {},
   "outputs": [],
   "source": [
    "for i in data_keys:\n",
    "    if(data[i]!=None):\n",
    "            for j in data[i]['BATTING1']:\n",
    "                see_patterns.append(j[1])\n",
    "            for k in data[i]['BATTING2']:\n",
    "                see_patterns.append(j[1])"
   ]
  },
  {
   "cell_type": "code",
   "execution_count": null,
   "metadata": {
    "scrolled": false
   },
   "outputs": [],
   "source": [
    "see_patterns"
   ]
  },
  {
   "cell_type": "code",
   "execution_count": null,
   "metadata": {},
   "outputs": [],
   "source": []
  },
  {
   "cell_type": "markdown",
   "metadata": {},
   "source": [
    "### Getting Fielding Data (unmapped)"
   ]
  },
  {
   "cell_type": "code",
   "execution_count": null,
   "metadata": {},
   "outputs": [],
   "source": [
    "team1={}   # Match id: [(player id, dismissal)]"
   ]
  },
  {
   "cell_type": "code",
   "execution_count": null,
   "metadata": {},
   "outputs": [],
   "source": [
    "team2={}"
   ]
  },
  {
   "cell_type": "code",
   "execution_count": null,
   "metadata": {},
   "outputs": [],
   "source": [
    "data_keys = list(data.keys())"
   ]
  },
  {
   "cell_type": "code",
   "execution_count": null,
   "metadata": {},
   "outputs": [],
   "source": []
  },
  {
   "cell_type": "code",
   "execution_count": null,
   "metadata": {},
   "outputs": [],
   "source": [
    "for i in data_keys:\n",
    "        if(data[i]!=None):\n",
    "            for j in range(0,len(data[i]['BATTING1'])):\n",
    "                team2.setdefault(i,[]).append((j,data[i]['BATTING1'][j][1].lower()))\n",
    "            for k in range(0,len(data[i]['BATTING2'])):\n",
    "                team1.setdefault(i,[]).append((k,data[i]['BATTING2'][k][1].lower()))"
   ]
  },
  {
   "cell_type": "code",
   "execution_count": null,
   "metadata": {},
   "outputs": [],
   "source": [
    "len(team1)"
   ]
  },
  {
   "cell_type": "code",
   "execution_count": null,
   "metadata": {},
   "outputs": [],
   "source": [
    "len(team2)"
   ]
  },
  {
   "cell_type": "code",
   "execution_count": null,
   "metadata": {},
   "outputs": [],
   "source": [
    "team1_keys=team1.keys()\n",
    "team2_keys=team2.keys()"
   ]
  },
  {
   "cell_type": "code",
   "execution_count": null,
   "metadata": {},
   "outputs": [],
   "source": [
    "fielders={}"
   ]
  },
  {
   "cell_type": "code",
   "execution_count": null,
   "metadata": {},
   "outputs": [],
   "source": [
    "for i in team2_keys:\n",
    "    \n",
    "    for j in team2[i]:\n",
    "        search_in=j[1].replace('\\u2020','')\n",
    "        pattern_catch = re.search('^c\\s+',search_in)\n",
    "        pattern_st = re.search('^st\\s+',search_in)\n",
    "        \n",
    "        if pattern_catch:\n",
    "            \n",
    "            splitted = re.split('c\\s+|\\s+b\\s+',search_in)\n",
    "            catch_list = list(filter(None, splitted))\n",
    "            if (len(catch_list)<2):\n",
    "                catch_list.append(catch_list[0])\n",
    "            if (catch_list[0]=='&'):\n",
    "                catch_list[0]=catch_list[1]\n",
    "            fielders.setdefault(i,[]).append((j[0],{'c2':catch_list[0],'b2':catch_list[1]}))\n",
    "            \n",
    "            pattern_catch=None\n",
    "            \n",
    "        elif pattern_st:\n",
    "            splitted = re.split('st\\s+|\\s+b\\s+',search_in)\n",
    "            st_list = list(filter(None, splitted))\n",
    "            if (len(st_list)<2):\n",
    "                st_list.append(st_list[0])\n",
    "            if (st_list[0]=='&'):\n",
    "                st_list[0]=st_list[1]\n",
    "            fielders.setdefault(i,[]).append((j[0],{'st2':st_list[0],'b2':st_list[1]}))\n",
    "                \n",
    "            pattern_st=None"
   ]
  },
  {
   "cell_type": "code",
   "execution_count": null,
   "metadata": {},
   "outputs": [],
   "source": [
    "for i in team1_keys:\n",
    "    \n",
    "    for j in team1[i]:\n",
    "        search_in=j[1].replace('\\u2020','')\n",
    "        pattern_catch = re.search('^c\\s+',search_in)\n",
    "        pattern_st = re.search('^st\\s+',search_in)\n",
    "        \n",
    "        if pattern_catch:\n",
    "            \n",
    "            splitted = re.split('c\\s+|\\s+b\\s+',search_in)\n",
    "            catch_list = list(filter(None, splitted))\n",
    "            if (len(catch_list)<2):\n",
    "                catch_list.append(catch_list[0])\n",
    "            if (catch_list[0]=='&'):\n",
    "                catch_list[0]=catch_list[1]\n",
    "            fielders.setdefault(i,[]).append((j[0],{'c1':catch_list[0],'b1':catch_list[1]}))\n",
    "            \n",
    "            pattern_catch=None\n",
    "            \n",
    "        elif pattern_st:\n",
    "            splitted = re.split('st\\s+|\\s+b\\s+',search_in)\n",
    "            st_list = list(filter(None, splitted))\n",
    "            if (len(st_list)<2):\n",
    "                st_list.append(st_list[0])\n",
    "            if (st_list[0]=='&'):\n",
    "                st_list[0]=st_list[1]\n",
    "            fielders.setdefault(i,[]).append((j[0],{'st1':st_list[0],'b1':st_list[1]}))\n",
    "                \n",
    "            pattern_st=None"
   ]
  },
  {
   "cell_type": "code",
   "execution_count": null,
   "metadata": {},
   "outputs": [],
   "source": [
    "with open('fielder1.json', 'w') as fp:\n",
    "    json.dump(fielders, fp, indent = 4)"
   ]
  },
  {
   "cell_type": "code",
   "execution_count": null,
   "metadata": {},
   "outputs": [],
   "source": []
  },
  {
   "cell_type": "markdown",
   "metadata": {},
   "source": [
    "### Mapped"
   ]
  },
  {
   "cell_type": "code",
   "execution_count": null,
   "metadata": {},
   "outputs": [],
   "source": [
    "attr= pd.read_csv('Data/attributes.csv')"
   ]
  },
  {
   "cell_type": "code",
   "execution_count": null,
   "metadata": {},
   "outputs": [],
   "source": [
    "attr.head()"
   ]
  },
  {
   "cell_type": "code",
   "execution_count": null,
   "metadata": {},
   "outputs": [],
   "source": [
    "len(attr['Full Name'].unique())"
   ]
  },
  {
   "cell_type": "code",
   "execution_count": null,
   "metadata": {},
   "outputs": [],
   "source": [
    "len(attr)"
   ]
  },
  {
   "cell_type": "code",
   "execution_count": null,
   "metadata": {},
   "outputs": [],
   "source": [
    "attr['Full Name'].value_counts()"
   ]
  },
  {
   "cell_type": "code",
   "execution_count": null,
   "metadata": {},
   "outputs": [],
   "source": [
    "attr.columns = ['FullName','Born','Bats' ,'Bowls','Code']"
   ]
  },
  {
   "cell_type": "code",
   "execution_count": null,
   "metadata": {},
   "outputs": [],
   "source": [
    "attr['FullName']=attr['FullName'].str.lower()"
   ]
  },
  {
   "cell_type": "code",
   "execution_count": null,
   "metadata": {},
   "outputs": [],
   "source": []
  },
  {
   "cell_type": "code",
   "execution_count": null,
   "metadata": {},
   "outputs": [],
   "source": [
    "fielders={} # Match id : [(player id of player dismissed, c/st, b)]"
   ]
  },
  {
   "cell_type": "code",
   "execution_count": null,
   "metadata": {},
   "outputs": [],
   "source": [
    "data_keys = list(data.keys())"
   ]
  },
  {
   "cell_type": "code",
   "execution_count": null,
   "metadata": {},
   "outputs": [],
   "source": [
    "for i in data_keys:\n",
    "    \n",
    "    for j in data[i]:\n",
    "        search_in=j[1].replace('\\u2020','')\n",
    "        pattern_catch = re.search('^c\\s+',search_in)\n",
    "        pattern_st = re.search('^st\\s+',search_in)\n",
    "        \n",
    "        if pattern_catch:\n",
    "            \n",
    "            splitted = re.split('c\\s+|\\s+b\\s+',search_in)\n",
    "            catch_list = list(filter(None, splitted))\n",
    "            if (len(catch_list)<2):\n",
    "                catch_list.append(catch_list[0])\n",
    "            if (catch_list[0]=='&'):\n",
    "                catch_list[0]=catch_list[1]\n",
    "            c_id=attr[attr['FullName'].str.contains(catch_list[0].lower())]['PlayerId']\n",
    "            b_id=attr[attr['FullName'].str.contains(catch_list[1].lower())]['PlayerId']\n",
    "            \n",
    "            if (len(c_id)==1 and len(b_id)==1):\n",
    "                fielders.setdefault(i,[]).append((j[0],{'c':int(c_id.iloc[0]),'b':int(b_id.iloc[0])}))\n",
    "            else:\n",
    "                if(len(c_id)>1):\n",
    "                    id1=[pl for pl in c_id if pl in players[i]]\n",
    "                    if(len(id1)==1):\n",
    "                        catch_list[0]=id1\n",
    "                   \n",
    "                if(len(b_id)>1):\n",
    "                    id2=[pl for pl in b_id if pl in players[i]]\n",
    "                    if(len(id2)==1):\n",
    "                        catch_list[1]=id2\n",
    "                \n",
    "                if(len(c_id)==1):\n",
    "                    catch_list[0]=int(c_id.iloc[0])\n",
    "                \n",
    "                if(len(b_id)==1):\n",
    "                    catch_list[1]=int(b_id.iloc[0])\n",
    "                        \n",
    "            fielders.setdefault(i,[]).append((j[0],{'c2':catch_list[0],'b2':catch_list[1]}))\n",
    "            \n",
    "            pattern_catch=None\n",
    "            \n",
    "        elif pattern_st:\n",
    "            splitted = re.split('st\\s+|\\s+b\\s+',search_in)\n",
    "            st_list = list(filter(None, splitted))\n",
    "            if (len(st_list)<2):\n",
    "                st_list.append(st_list[0])\n",
    "            if (st_list[0]=='&'):\n",
    "                st_list[0]=st_list[1]\n",
    "            st_id=attr[attr['FullName'].str.contains(st_list[0].lower())]['PlayerId']\n",
    "            b1_id=attr[attr['FullName'].str.contains(st_list[1].lower())]['PlayerId']\n",
    "            \n",
    "            if (len(st_id)==1 and len(b1_id)==1):\n",
    "                fielders.setdefault(i,[]).append((j[0],{'st':int(st_id.iloc[0]),'b':int(b1_id.iloc[0])}))\n",
    "                \n",
    "            else:\n",
    "                if(len(st_id)>1):\n",
    "                    id1=[pl for pl in st_id if pl in players[i]]\n",
    "                    if(len(id1)==1):\n",
    "                        st_list[0]=id1\n",
    "                   \n",
    "                if(len(b1_id)>1):\n",
    "                    id2=[pl for pl in b1_id if pl in players[i]]\n",
    "                    if(len(id2)==1):\n",
    "                        st_list[1]=id2\n",
    "                \n",
    "                if(len(st_id)==1):\n",
    "                    st_list[0]=int(st_id.iloc[0])\n",
    "                \n",
    "                if(len(b1_id)==1):\n",
    "                    st_list[1]=int(b1_id.iloc[0])\n",
    "                        \n",
    "            fielders.setdefault(i,[]).append((j[0],{'st2':st_list[0],'b2':st_list[1]}))\n",
    "                \n",
    "            pattern_st=None"
   ]
  },
  {
   "cell_type": "code",
   "execution_count": null,
   "metadata": {},
   "outputs": [],
   "source": [
    "with open('fielders.json', 'w') as fp:\n",
    "    json.dump(fielders, fp,indent=4)"
   ]
  }
 ],
 "metadata": {
  "kernelspec": {
   "display_name": "Python 3",
   "language": "python",
   "name": "python3"
  },
  "language_info": {
   "codemirror_mode": {
    "name": "ipython",
    "version": 3
   },
   "file_extension": ".py",
   "mimetype": "text/x-python",
   "name": "python",
   "nbconvert_exporter": "python",
   "pygments_lexer": "ipython3",
   "version": "3.8.3"
  }
 },
 "nbformat": 4,
 "nbformat_minor": 4
}
